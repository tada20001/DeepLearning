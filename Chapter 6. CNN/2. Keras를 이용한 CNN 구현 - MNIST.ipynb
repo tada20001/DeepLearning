{
 "cells": [
  {
   "cell_type": "code",
   "execution_count": 1,
   "metadata": {},
   "outputs": [
    {
     "data": {
      "text/plain": [
       "((60000, 28, 28), (60000,))"
      ]
     },
     "execution_count": 1,
     "metadata": {},
     "output_type": "execute_result"
    }
   ],
   "source": [
    "import tensorflow as tf\n",
    "tf.logging.set_verbosity(tf.logging.ERROR)\n",
    "\n",
    "from keras.datasets import mnist\n",
    "from keras.utils import np_utils\n",
    "\n",
    "(X_train0, y_train0), (X_test0, y_test0) = mnist.load_data()\n",
    "X_train0.shape, y_train0.shape"
   ]
  },
  {
   "cell_type": "code",
   "execution_count": 2,
   "metadata": {},
   "outputs": [],
   "source": [
    "import numpy as np\n",
    "X_train = X_train0[:, :, :, np.newaxis].astype('float32') / 255.0\n",
    "X_test = X_test0[:, :, :, np.newaxis].astype('float32') / 255.0\n",
    "Y_train = np_utils.to_categorical(y_train0, 10)\n",
    "Y_test = np_utils.to_categorical(y_test0, 10)"
   ]
  },
  {
   "cell_type": "code",
   "execution_count": 3,
   "metadata": {},
   "outputs": [
    {
     "data": {
      "text/plain": [
       "((60000, 28, 28, 1), (60000, 10))"
      ]
     },
     "execution_count": 3,
     "metadata": {},
     "output_type": "execute_result"
    }
   ],
   "source": [
    "X_train.shape, Y_train.shape"
   ]
  },
  {
   "cell_type": "code",
   "execution_count": 4,
   "metadata": {},
   "outputs": [],
   "source": [
    "from keras.models import Sequential\n",
    "from keras.layers import Conv2D, MaxPool2D, Dense, Flatten, Dropout\n",
    "from keras.optimizers import Adadelta, Adam\n",
    "from keras.regularizers import l2"
   ]
  },
  {
   "cell_type": "code",
   "execution_count": 5,
   "metadata": {},
   "outputs": [],
   "source": [
    "model1 = Sequential()\n",
    "model1.add(Conv2D(filters=4, kernel_size=(5, 5), input_shape=(28, 28, 1), activation='relu', kernel_initializer='glorot_uniform'))\n",
    "model1.add(MaxPool2D())\n",
    "model1.add(Flatten())\n",
    "model1.add(Dense(10, activation='softmax', kernel_initializer='glorot_uniform'))\n",
    "\n",
    "np.random.seed(0)\n",
    "model1.compile(optimizer=Adadelta(), loss='categorical_crossentropy', metrics=['accuracy'])"
   ]
  },
  {
   "cell_type": "code",
   "execution_count": 6,
   "metadata": {},
   "outputs": [
    {
     "name": "stdout",
     "output_type": "stream",
     "text": [
      "Model: \"sequential_1\"\n",
      "_________________________________________________________________\n",
      "Layer (type)                 Output Shape              Param #   \n",
      "=================================================================\n",
      "conv2d_1 (Conv2D)            (None, 24, 24, 4)         104       \n",
      "_________________________________________________________________\n",
      "max_pooling2d_1 (MaxPooling2 (None, 12, 12, 4)         0         \n",
      "_________________________________________________________________\n",
      "flatten_1 (Flatten)          (None, 576)               0         \n",
      "_________________________________________________________________\n",
      "dense_1 (Dense)              (None, 10)                5770      \n",
      "=================================================================\n",
      "Total params: 5,874\n",
      "Trainable params: 5,874\n",
      "Non-trainable params: 0\n",
      "_________________________________________________________________\n"
     ]
    }
   ],
   "source": [
    "model1.summary()"
   ]
  },
  {
   "cell_type": "code",
   "execution_count": 7,
   "metadata": {},
   "outputs": [
    {
     "name": "stdout",
     "output_type": "stream",
     "text": [
      "Train on 60000 samples, validate on 10000 samples\n",
      "Epoch 1/10\n",
      " - 13s - loss: 0.8570 - acc: 0.7487 - val_loss: 0.3016 - val_acc: 0.9138\n",
      "Epoch 2/10\n",
      " - 12s - loss: 0.2476 - acc: 0.9290 - val_loss: 0.1939 - val_acc: 0.9436\n",
      "Epoch 3/10\n",
      " - 13s - loss: 0.1857 - acc: 0.9465 - val_loss: 0.1575 - val_acc: 0.9546\n",
      "Epoch 4/10\n",
      " - 13s - loss: 0.1567 - acc: 0.9549 - val_loss: 0.1335 - val_acc: 0.9622\n",
      "Epoch 5/10\n",
      " - 13s - loss: 0.1380 - acc: 0.9609 - val_loss: 0.1221 - val_acc: 0.9654\n",
      "Epoch 6/10\n",
      " - 13s - loss: 0.1259 - acc: 0.9640 - val_loss: 0.1129 - val_acc: 0.9677\n",
      "Epoch 7/10\n",
      " - 13s - loss: 0.1158 - acc: 0.9672 - val_loss: 0.1048 - val_acc: 0.9693\n",
      "Epoch 8/10\n",
      " - 13s - loss: 0.1082 - acc: 0.9693 - val_loss: 0.0993 - val_acc: 0.9696\n",
      "Epoch 9/10\n",
      " - 13s - loss: 0.1021 - acc: 0.9709 - val_loss: 0.0967 - val_acc: 0.9716\n",
      "Epoch 10/10\n",
      " - 13s - loss: 0.0970 - acc: 0.9722 - val_loss: 0.0911 - val_acc: 0.9727\n",
      "CPU times: user 5min 43s, sys: 18.7 s, total: 6min 2s\n",
      "Wall time: 2min 8s\n"
     ]
    }
   ],
   "source": [
    "%%time\n",
    "hist1 = model1.fit(X_train, Y_train, epochs=10, batch_size=600, validation_data=(X_test, Y_test), verbose=2)"
   ]
  },
  {
   "cell_type": "code",
   "execution_count": 10,
   "metadata": {},
   "outputs": [],
   "source": [
    "import warnings\n",
    "warnings.filterwarnings(action='ignore')\n",
    "\n",
    "import matplotlib.pylab as plt\n",
    "import matplotlib as mpl\n",
    "import matplotlib.font_manager as fm\n",
    "import seaborn as sns\n",
    "import numpy as np\n",
    "\n",
    "sns.set_style(\"whitegrid\")\n",
    "mpl.rcParams['axes.unicode_minus'] = False\n",
    "plt.rcParams['font.size'] = 12\n",
    "\n",
    "path = \"/Library/Fonts/NanumGothic.otf\"\n",
    "font_name = fm.FontProperties(fname=path, size=20).get_name()\n",
    "\n",
    "plt.rc('font', family=font_name)\n",
    "fm._rebuild()"
   ]
  },
  {
   "cell_type": "code",
   "execution_count": 11,
   "metadata": {},
   "outputs": [
    {
     "data": {
      "image/png": "[encoded data removed]",
      "text/plain": [
       "<Figure size 432x288 with 1 Axes>"
      ]
     },
     "metadata": {
      "needs_background": "light"
     },
     "output_type": "display_data"
    }
   ],
   "source": [
    "plt.plot(hist1.history['acc'], 'b-', label='training')\n",
    "plt.plot(hist1.history['val_acc'], 'r:', label='test')\n",
    "plt.legend()\n",
    "plt.show()"
   ]
  },
  {
   "cell_type": "markdown",
   "metadata": {},
   "source": [
    "test가 성능이 빠르게 수렴된다."
   ]
  },
  {
   "cell_type": "code",
   "execution_count": 15,
   "metadata": {},
   "outputs": [
    {
     "data": {
      "text/plain": [
       "((5, 5, 1, 4), (4,))"
      ]
     },
     "execution_count": 15,
     "metadata": {},
     "output_type": "execute_result"
    }
   ],
   "source": [
    "# conv kernel\n",
    "l1 = model1.layers[0]\n",
    "w1, b1 = l1.get_weights()\n",
    "w1.shape, b1.shape"
   ]
  },
  {
   "cell_type": "markdown",
   "metadata": {},
   "source": [
    "conv kernel 사이즈 : 5 x 5 x 1 x 4"
   ]
  },
  {
   "cell_type": "code",
   "execution_count": 17,
   "metadata": {},
   "outputs": [
    {
     "data": {
      "image/png": "[encoded data removed]",
      "text/plain": [
       "<Figure size 432x288 with 4 Axes>"
      ]
     },
     "metadata": {
      "needs_background": "light"
     },
     "output_type": "display_data"
    }
   ],
   "source": [
    "M = 4 # 필터 4개 출력\n",
    "for i in range(M):\n",
    "    plt.subplot(1, M, i+1)\n",
    "    plt.imshow(w1[:, :, 0, i], cmap=mpl.cm.bone)\n",
    "    plt.title(\"필터 {}\".format(i+1))\n",
    "    plt.grid(False)"
   ]
  },
  {
   "cell_type": "code",
   "execution_count": 18,
   "metadata": {},
   "outputs": [
    {
     "data": {
      "text/plain": [
       "[<keras.layers.convolutional.Conv2D at 0x64a2d0c18>,\n",
       " <keras.layers.pooling.MaxPooling2D at 0x64a11d2e8>,\n",
       " <keras.layers.core.Flatten at 0x64a2a47f0>,\n",
       " <keras.layers.core.Dense at 0x64a3029e8>]"
      ]
     },
     "execution_count": 18,
     "metadata": {},
     "output_type": "execute_result"
    }
   ],
   "source": [
    "model1.layers # 0 conv2D, 1 MaxPooling, 2 Flatten, 3 Dense"
   ]
  },
  {
   "cell_type": "code",
   "execution_count": 30,
   "metadata": {},
   "outputs": [],
   "source": [
    "import keras.backend as K\n",
    "\n",
    "f10 = K.function([model1.input], [model1.layers[0].output]) # input_size None, 28, 28, 1 and Conv2D\n",
    "f11 = K.function([model1.input], [model1.layers[1].output]) # MaxPooling\n",
    "f12 = K.function([model1.input], [model1.layers[2].output]) # flatten\n",
    "f13 = K.function([model1.input], [model1.layers[3].output]) # Dense"
   ]
  },
  {
   "cell_type": "code",
   "execution_count": 31,
   "metadata": {},
   "outputs": [
    {
     "data": {
      "text/plain": [
       "<tf.Tensor 'conv2d_1_input:0' shape=(?, 28, 28, 1) dtype=float32>"
      ]
     },
     "execution_count": 31,
     "metadata": {},
     "output_type": "execute_result"
    }
   ],
   "source": [
    "model1.input"
   ]
  },
  {
   "cell_type": "code",
   "execution_count": 51,
   "metadata": {},
   "outputs": [],
   "source": [
    "def visualize1(n):\n",
    "    x = X_train[n:n+1]\n",
    "    plt.figure(figsize=(8, 3))\n",
    "    for i in range(3):\n",
    "        plt.subplot(1, 3, i+1)\n",
    "        if i == 1:\n",
    "            plt.imshow(x[0, :, :, 0], cmap=mpl.cm.bone_r)\n",
    "            plt.xticks([]); plt.yticks([]); plt.grid(False)\n",
    "        else:\n",
    "            plt.imshow(np.zeros_like(x[0, :, :, 0]), cmap=mpl.cm.bone_r)\n",
    "            plt.axis('off')\n",
    "    plt.tight_layout()\n",
    "    plt.suptitle(\"입력 이미지\", y=1)\n",
    "    \n",
    "    z0 = f10([x])[0]  # kernel\n",
    "    plt.figure(figsize=(8, 2))\n",
    "    for i in range(4):\n",
    "        plt.subplot(1, 4, i+1)\n",
    "        plt.imshow(z0[0, :, :, i], cmap=mpl.cm.bone_r)\n",
    "        plt.xticks([]); plt.yticks([]); plt.grid(False)\n",
    "        plt.title(\"{}번 필터 통과 후\".format(i))\n",
    "    plt.tight_layout()\n",
    "    plt.suptitle(\"컨벌루션 필터 통과 후\", y=1.1)\n",
    "    \n",
    "    z1 = f11([x])[0] # MaxPooling layer\n",
    "    plt.figure(figsize=(8, 2))\n",
    "    for i in range(4):\n",
    "        plt.subplot(1, 4, i+1)\n",
    "        plt.imshow(z1[0, :, :, i], cmap=mpl.cm.bone_r)\n",
    "        plt.xticks([]); plt.yticks([]); plt.grid(False)\n",
    "        plt.title(\"{}번 맥스풀링 통과 후\".format(i))\n",
    "    plt.tight_layout()\n",
    "    plt.suptitle(\"맥스풀링 통과 후\", y=1.1)\n",
    "    \n",
    "    z2 = f12([x])[0] # Flatten layer 1개\n",
    "    plt.figure(figsize=(9, 1)) \n",
    "    plt.imshow(z2, aspect=10, cmap=mpl.cm.bone_r)\n",
    "    plt.xticks([]); plt.yticks([]); plt.grid(False)\n",
    "    plt.title(\"벡터화\")\n",
    "    \n",
    "    z3 = f13([x])[0] # output : softmax class 10\n",
    "    plt.figure(figsize=(9, 1))\n",
    "    plt.imshow(z3, cmap=mpl.cm.bone_r)\n",
    "    plt.xticks(range(10)); plt.yticks([]); plt.grid(False)\n",
    "    plt.title(\"10-클래스 분류 결과\")"
   ]
  },
  {
   "cell_type": "code",
   "execution_count": 52,
   "metadata": {},
   "outputs": [
    {
     "data": {
      "image/png": "[encoded data removed]",
      "text/plain": [
       "<Figure size 576x216 with 3 Axes>"
      ]
     },
     "metadata": {
      "needs_background": "light"
     },
     "output_type": "display_data"
    },
    {
     "data": {
      "image/png": "[encoded data removed]",
      "text/plain": [
       "<Figure size 576x144 with 4 Axes>"
      ]
     },
     "metadata": {},
     "output_type": "display_data"
    },
    {
     "data": {
      "image/png": "[encoded data removed]",
      "text/plain": [
       "<Figure size 576x144 with 4 Axes>"
      ]
     },
     "metadata": {},
     "output_type": "display_data"
    },
    {
     "data": {
      "image/png": "[encoded data removed]",
      "text/plain": [
       "<Figure size 648x72 with 1 Axes>"
      ]
     },
     "metadata": {},
     "output_type": "display_data"
    },
    {
     "data": {
      "image/png": "[encoded data removed]",
      "text/plain": [
       "<Figure size 648x72 with 1 Axes>"
      ]
     },
     "metadata": {
      "needs_background": "light"
     },
     "output_type": "display_data"
    }
   ],
   "source": [
    "visualize1(0)"
   ]
  },
  {
   "cell_type": "code",
   "execution_count": 53,
   "metadata": {},
   "outputs": [
    {
     "data": {
      "text/plain": [
       "5"
      ]
     },
     "execution_count": 53,
     "metadata": {},
     "output_type": "execute_result"
    }
   ],
   "source": [
    "y_train0[0]"
   ]
  },
  {
   "cell_type": "code",
   "execution_count": 54,
   "metadata": {},
   "outputs": [
    {
     "data": {
      "image/png": "[encoded data removed]",
      "text/plain": [
       "<Figure size 576x216 with 3 Axes>"
      ]
     },
     "metadata": {
      "needs_background": "light"
     },
     "output_type": "display_data"
    },
    {
     "data": {
      "image/png": "[encoded data removed]",
      "text/plain": [
       "<Figure size 576x144 with 4 Axes>"
      ]
     },
     "metadata": {},
     "output_type": "display_data"
    },
    {
     "data": {
      "image/png": "[encoded data removed]",
      "text/plain": [
       "<Figure size 576x144 with 4 Axes>"
      ]
     },
     "metadata": {},
     "output_type": "display_data"
    },
    {
     "data": {
      "image/png": "[encoded data removed]",
      "text/plain": [
       "<Figure size 648x72 with 1 Axes>"
      ]
     },
     "metadata": {},
     "output_type": "display_data"
    },
    {
     "data": {
      "image/png": "[encoded data removed]",
      "text/plain": [
       "<Figure size 648x72 with 1 Axes>"
      ]
     },
     "metadata": {
      "needs_background": "light"
     },
     "output_type": "display_data"
    }
   ],
   "source": [
    "visualize1(1)"
   ]
  },
  {
   "cell_type": "code",
   "execution_count": 56,
   "metadata": {},
   "outputs": [
    {
     "data": {
      "text/plain": [
       "0"
      ]
     },
     "execution_count": 56,
     "metadata": {},
     "output_type": "execute_result"
    }
   ],
   "source": [
    "y_train0[1]"
   ]
  },
  {
   "cell_type": "markdown",
   "metadata": {},
   "source": [
    "## 2 Convolution Layers"
   ]
  },
  {
   "cell_type": "code",
   "execution_count": 57,
   "metadata": {},
   "outputs": [],
   "source": [
    "np.random.seed(0)\n",
    "model2 = Sequential()\n",
    "model2.add(Conv2D(4, (5, 5), activation='relu', input_shape=(28, 28, 1), kernel_initializer='glorot_uniform'))\n",
    "model2.add(MaxPool2D())\n",
    "model2.add(Conv2D(4, (5, 5), activation='relu', kernel_initializer='glorot_uniform'))\n",
    "model2.add(MaxPool2D())\n",
    "model2.add(Flatten())\n",
    "model2.add(Dense(10, activation='softmax', kernel_initializer='glorot_uniform'))"
   ]
  },
  {
   "cell_type": "code",
   "execution_count": 58,
   "metadata": {},
   "outputs": [
    {
     "name": "stdout",
     "output_type": "stream",
     "text": [
      "Model: \"sequential_2\"\n",
      "_________________________________________________________________\n",
      "Layer (type)                 Output Shape              Param #   \n",
      "=================================================================\n",
      "conv2d_2 (Conv2D)            (None, 24, 24, 4)         104       \n",
      "_________________________________________________________________\n",
      "max_pooling2d_2 (MaxPooling2 (None, 12, 12, 4)         0         \n",
      "_________________________________________________________________\n",
      "conv2d_3 (Conv2D)            (None, 8, 8, 4)           404       \n",
      "_________________________________________________________________\n",
      "max_pooling2d_3 (MaxPooling2 (None, 4, 4, 4)           0         \n",
      "_________________________________________________________________\n",
      "flatten_2 (Flatten)          (None, 64)                0         \n",
      "_________________________________________________________________\n",
      "dense_2 (Dense)              (None, 10)                650       \n",
      "=================================================================\n",
      "Total params: 1,158\n",
      "Trainable params: 1,158\n",
      "Non-trainable params: 0\n",
      "_________________________________________________________________\n"
     ]
    }
   ],
   "source": [
    "model2.summary()"
   ]
  },
  {
   "cell_type": "code",
   "execution_count": 60,
   "metadata": {},
   "outputs": [],
   "source": [
    "model2.compile(loss='categorical_crossentropy', optimizer=Adadelta(), metrics=['accuracy'])"
   ]
  },
  {
   "cell_type": "code",
   "execution_count": 61,
   "metadata": {},
   "outputs": [
    {
     "name": "stdout",
     "output_type": "stream",
     "text": [
      "Train on 60000 samples, validate on 10000 samples\n",
      "Epoch 1/20\n",
      " - 16s - loss: 1.0248 - acc: 0.6604 - val_loss: 0.4348 - val_acc: 0.8598\n",
      "Epoch 2/20\n",
      " - 16s - loss: 0.3465 - acc: 0.8943 - val_loss: 0.2701 - val_acc: 0.9194\n",
      "Epoch 3/20\n",
      " - 16s - loss: 0.2665 - acc: 0.9192 - val_loss: 0.2223 - val_acc: 0.9323\n",
      "Epoch 4/20\n",
      " - 16s - loss: 0.2281 - acc: 0.9312 - val_loss: 0.1973 - val_acc: 0.9400\n",
      "Epoch 5/20\n",
      " - 16s - loss: 0.2018 - acc: 0.9393 - val_loss: 0.1785 - val_acc: 0.9470\n",
      "Epoch 6/20\n",
      " - 15s - loss: 0.1842 - acc: 0.9448 - val_loss: 0.1575 - val_acc: 0.9535\n",
      "Epoch 7/20\n",
      " - 16s - loss: 0.1694 - acc: 0.9491 - val_loss: 0.1481 - val_acc: 0.9564\n",
      "Epoch 8/20\n",
      " - 15s - loss: 0.1583 - acc: 0.9527 - val_loss: 0.1384 - val_acc: 0.9592\n",
      "Epoch 9/20\n",
      " - 15s - loss: 0.1480 - acc: 0.9560 - val_loss: 0.1285 - val_acc: 0.9625\n",
      "Epoch 10/20\n",
      " - 16s - loss: 0.1399 - acc: 0.9581 - val_loss: 0.1252 - val_acc: 0.9627\n",
      "Epoch 11/20\n",
      " - 15s - loss: 0.1338 - acc: 0.9602 - val_loss: 0.1158 - val_acc: 0.9655\n",
      "Epoch 12/20\n",
      " - 15s - loss: 0.1285 - acc: 0.9616 - val_loss: 0.1120 - val_acc: 0.9668\n",
      "Epoch 13/20\n",
      " - 15s - loss: 0.1238 - acc: 0.9630 - val_loss: 0.1065 - val_acc: 0.9675\n",
      "Epoch 14/20\n",
      " - 15s - loss: 0.1191 - acc: 0.9646 - val_loss: 0.1038 - val_acc: 0.9686\n",
      "Epoch 15/20\n",
      " - 15s - loss: 0.1148 - acc: 0.9652 - val_loss: 0.1011 - val_acc: 0.9696\n",
      "Epoch 16/20\n",
      " - 15s - loss: 0.1113 - acc: 0.9670 - val_loss: 0.1007 - val_acc: 0.9693\n",
      "Epoch 17/20\n",
      " - 15s - loss: 0.1078 - acc: 0.9675 - val_loss: 0.0951 - val_acc: 0.9710\n",
      "Epoch 18/20\n",
      " - 15s - loss: 0.1046 - acc: 0.9686 - val_loss: 0.0927 - val_acc: 0.9723\n",
      "Epoch 19/20\n",
      " - 15s - loss: 0.1024 - acc: 0.9691 - val_loss: 0.0927 - val_acc: 0.9721\n",
      "Epoch 20/20\n",
      " - 15s - loss: 0.1004 - acc: 0.9698 - val_loss: 0.0905 - val_acc: 0.9715\n",
      "CPU times: user 13min 25s, sys: 1min 9s, total: 14min 34s\n",
      "Wall time: 5min 11s\n"
     ]
    }
   ],
   "source": [
    "%%time\n",
    "hist2 = model2.fit(X_train, Y_train, epochs=20, batch_size=600, validation_data=(X_test, Y_test), verbose=2)"
   ]
  },
  {
   "cell_type": "code",
   "execution_count": 62,
   "metadata": {},
   "outputs": [
    {
     "data": {
      "image/png": "[encoded data removed]",
      "text/plain": [
       "<Figure size 432x288 with 1 Axes>"
      ]
     },
     "metadata": {
      "needs_background": "light"
     },
     "output_type": "display_data"
    }
   ],
   "source": [
    "plt.plot(hist2.history['acc'], 'b-', label='training')\n",
    "plt.plot(hist2.history['val_acc'], 'r:', label='test')\n",
    "plt.legend()\n",
    "plt.show()"
   ]
  },
  {
   "cell_type": "code",
   "execution_count": 63,
   "metadata": {},
   "outputs": [],
   "source": [
    "# 모델 저장\n",
    "model2.save('mnist_cnn21.hdf5')"
   ]
  },
  {
   "cell_type": "code",
   "execution_count": 64,
   "metadata": {},
   "outputs": [],
   "source": [
    "l21 = model2.layers[0]  # cov2D #1\n",
    "w21, b21 = l21.get_weights()"
   ]
  },
  {
   "cell_type": "code",
   "execution_count": 68,
   "metadata": {},
   "outputs": [
    {
     "data": {
      "image/png": "[encoded data removed]",
      "text/plain": [
       "<Figure size 432x288 with 4 Axes>"
      ]
     },
     "metadata": {
      "needs_background": "light"
     },
     "output_type": "display_data"
    }
   ],
   "source": [
    "# conv2D 첫번째 커널 4개 출력\n",
    "M = 4\n",
    "for i in range(M):\n",
    "    plt.subplot(1, M, i+1)\n",
    "    plt.imshow(w21[:, :, 0, i], cmap=mpl.cm.bone_r)\n",
    "    plt.grid(False)"
   ]
  },
  {
   "cell_type": "code",
   "execution_count": 66,
   "metadata": {},
   "outputs": [
    {
     "data": {
      "text/plain": [
       "(5, 5, 1, 4)"
      ]
     },
     "execution_count": 66,
     "metadata": {},
     "output_type": "execute_result"
    }
   ],
   "source": [
    "w21.shape"
   ]
  },
  {
   "cell_type": "code",
   "execution_count": 70,
   "metadata": {},
   "outputs": [],
   "source": [
    "l22 = model2.layers[2]  # Conv2D 2번째\n",
    "w22, b22 = l22.get_weights()"
   ]
  },
  {
   "cell_type": "code",
   "execution_count": 71,
   "metadata": {},
   "outputs": [
    {
     "data": {
      "image/png": "[encoded data removed]",
      "text/plain": [
       "<Figure size 432x288 with 4 Axes>"
      ]
     },
     "metadata": {
      "needs_background": "light"
     },
     "output_type": "display_data"
    }
   ],
   "source": [
    "M = 4\n",
    "for i in range(M):\n",
    "    plt.subplot(1, M, i+1)\n",
    "    plt.imshow(w22[:, :, 0, i], cmap=mpl.cm.bone_r)\n",
    "    plt.grid(False)"
   ]
  },
  {
   "cell_type": "code",
   "execution_count": 76,
   "metadata": {},
   "outputs": [],
   "source": [
    "import keras.backend as K\n",
    "\n",
    "f20 = K.function([model2.input], [model2.layers[0].output]) # conv\n",
    "f21 = K.function([model2.input], [model2.layers[1].output]) # MaxPool\n",
    "f22 = K.function([model2.input], [model2.layers[2].output]) # conv\n",
    "f23 = K.function([model2.input], [model2.layers[3].output]) # MaxPool\n",
    "f24 = K.function([model2.input], [model2.layers[4].output]) # flatten\n",
    "f25 = K.function([model2.input], [model2.layers[5].output]) # softmax 출력\n",
    "\n",
    "def visualize2(n):\n",
    "    x = X_train[n:n+1]\n",
    "    plt.figure(figsize=(8, 3))\n",
    "    for i in range(3):\n",
    "        plt.subplot(1, 3, i+1)\n",
    "        if i == 1:\n",
    "            plt.imshow(x[0, :, :, 0], cmap=mpl.cm.bone_r)\n",
    "            plt.xticks([]); plt.yticks([]); plt.grid(False)\n",
    "        else:\n",
    "            plt.imshow(np.zeros_like(x[0, :, :, 0]), cmap=mpl.cm.bone_r)\n",
    "            plt.axis('off')\n",
    "    plt.tight_layout()\n",
    "    plt.suptitle(\"입력 이미지\", y=1.1)\n",
    "    \n",
    "    z0 = f20([x])[0]\n",
    "    plt.figure(figsize=(8, 2))\n",
    "    for i in range(4):\n",
    "        plt.subplot(1, 4, i+1)\n",
    "        plt.imshow(z0[0, :, :, i], cmap=mpl.cm.bone_r)\n",
    "        plt.xticks([]); plt.yticks([]); plt.grid(False)\n",
    "        plt.title(\"{}번 필터 통과 후\".format(i))\n",
    "    plt.tight_layout()\n",
    "    plt.suptitle(\"1차 컨벌루션 필터 통과 후\", y=1.1)\n",
    "    \n",
    "    z1 = f21([x])[0]\n",
    "    plt.figure(figsize=(8, 2))\n",
    "    for i in range(4):\n",
    "        plt.subplot(1, 4, i+1)\n",
    "        plt.imshow(z1[0, :, :, i], cmap=mpl.cm.bone_r)\n",
    "        plt.xticks([]); plt.yticks([]); plt.grid(False)\n",
    "        plt.title('{}번 필터 통과 후'.format(i), y=1.1)\n",
    "    plt.tight_layout()\n",
    "    plt.suptitle(\"1차 맥스풀링 통과 후\", y=1.1)\n",
    "        \n",
    "    z2 = f22([x])[0]\n",
    "    plt.figure(figsize=(8, 2))\n",
    "    for i in range(4):\n",
    "        plt.subplot(1, 4, i+1)\n",
    "        plt.imshow(z2[0, :, :, i], cmap=mpl.cm.bone_r)\n",
    "        plt.xticks([]); plt.yticks([]); plt.grid(False)\n",
    "        plt.title('{}번 필터 통과 후'.format(i))\n",
    "    plt.tight_layout()\n",
    "    plt.suptitle(\"2차 컨벌루션 필터 통과 후\", y=1.1)\n",
    "    \n",
    "    z3 = f23([x])[0]\n",
    "    plt.figure(figsize=(8, 2))\n",
    "    for i in range(4):\n",
    "        plt.subplot(1, 4, i+1)\n",
    "        plt.imshow(z3[0, :, :, i], cmap=mpl.cm.bone_r)\n",
    "        plt.xticks([]); plt.yticks([]); plt.grid(False)\n",
    "        plt.title(\"{}번 필터 통과 후\".format(i))\n",
    "    plt.tight_layout()\n",
    "    plt.suptitle(\"2차 맥스풀링 통과 후\", y=1.1)\n",
    "    \n",
    "    z4 = f24([x])[0]\n",
    "    plt.figure(figsize=(9, 1))\n",
    "    plt.imshow(z4, aspect=1, cmap=mpl.cm.bone_r)\n",
    "    plt.xticks([]); plt.yticks([]); plt.grid(False)\n",
    "    plt.title(\"벡터화\")\n",
    "    \n",
    "    z5 = f25([x])[0]\n",
    "    plt.figure(figsize=(9, 1))\n",
    "    plt.imshow(z5, aspect=0.2, cmap=mpl.cm.bone_r)\n",
    "    plt.xticks(range(10)); plt.yticks([]); plt.grid(False)\n",
    "    plt.title(\"10-클래스 분류 결과\")"
   ]
  },
  {
   "cell_type": "code",
   "execution_count": 77,
   "metadata": {},
   "outputs": [
    {
     "data": {
      "image/png": "[encoded data removed]",
      "text/plain": [
       "<Figure size 576x216 with 3 Axes>"
      ]
     },
     "metadata": {
      "needs_background": "light"
     },
     "output_type": "display_data"
    },
    {
     "data": {
      "image/png": "[encoded data removed]",
      "text/plain": [
       "<Figure size 576x144 with 4 Axes>"
      ]
     },
     "metadata": {},
     "output_type": "display_data"
    },
    {
     "data": {
      "image/png": "[encoded data removed]",
      "text/plain": [
       "<Figure size 576x144 with 4 Axes>"
      ]
     },
     "metadata": {},
     "output_type": "display_data"
    },
    {
     "data": {
      "image/png": "[encoded data removed]",
      "text/plain": [
       "<Figure size 576x144 with 4 Axes>"
      ]
     },
     "metadata": {},
     "output_type": "display_data"
    },
    {
     "data": {
      "image/png": "[encoded data removed]",
      "text/plain": [
       "<Figure size 576x144 with 4 Axes>"
      ]
     },
     "metadata": {},
     "output_type": "display_data"
    },
    {
     "data": {
      "image/png": "[encoded data removed]",
      "text/plain": [
       "<Figure size 648x72 with 1 Axes>"
      ]
     },
     "metadata": {},
     "output_type": "display_data"
    },
    {
     "data": {
      "image/png": "[encoded data removed]",
      "text/plain": [
       "<Figure size 648x72 with 1 Axes>"
      ]
     },
     "metadata": {
      "needs_background": "light"
     },
     "output_type": "display_data"
    }
   ],
   "source": [
    "visualize2(0)"
   ]
  },
  {
   "cell_type": "code",
   "execution_count": 78,
   "metadata": {},
   "outputs": [
    {
     "data": {
      "text/plain": [
       "5"
      ]
     },
     "execution_count": 78,
     "metadata": {},
     "output_type": "execute_result"
    }
   ],
   "source": [
    "y_train0[0]"
   ]
  },
  {
   "cell_type": "code",
   "execution_count": null,
   "metadata": {},
   "outputs": [],
   "source": []
  }
 ],
 "metadata": {
  "kernelspec": {
   "display_name": "Python 3",
   "language": "python",
   "name": "python3"
  },
  "language_info": {
   "codemirror_mode": {
    "name": "ipython",
    "version": 3
   },
   "file_extension": ".py",
   "mimetype": "text/x-python",
   "name": "python",
   "nbconvert_exporter": "python",
   "pygments_lexer": "ipython3",
   "version": "3.7.3"
  }
 },
 "nbformat": 4,
 "nbformat_minor": 2
}
