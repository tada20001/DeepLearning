{
 "cells": [
  {
   "cell_type": "markdown",
   "metadata": {},
   "source": [
    "## 이미지 필터링\n",
    "\n",
    "신경망의 레이어 수가 많아질 수록 입력과 출력 사이의 비선형성을 잘 표현할 수 있지만 대신 찾아내야 할 파라미터의 수가 많아져서 현실적으로 최적화가 불가능하다. 이를 해결하기 위해 **이미지 입력의 경우 파라미터의 수를 대폭 줄이면서 특징을 찾아내는 방법이 CNN(Convolutional Neural Network) 모형이다.**\n",
    "\n",
    "* 파라미터 수를 줄이기 위해 전체 이미지가 아닌 **일부 영역의 값만 선형조합하여 특징을 찾아낸다.**\n",
    "* 어느 위치에 있는지 모르기 때문에 **영역을 이동시키면서(scanning) 특징을 찾는다.** 다만 이동하는 동안 특징 계산 가중치 값은 변하지 않는다.\n",
    "* 한 종류의 특징만 사용하지 않고 여러 종류의 특징을 찾는다.\n",
    "\n",
    "다음 그림은 기존의 Fully-Connected 구조 혹은 Dense Network라고 불리는 기존의 신경망 모형(NN)과 CNN 모형을 비교한 것이다. \n",
    "\n",
    "전체 이미지로부터  𝑖 번째 특징  𝜙_𝑖 를 구하려면 기존에는 입력 이미지의 전체 데이터 즉  𝑥_1 부터  𝑥_𝑁 을 모두 조합해야 한다.\n",
    "\n",
    "$$\\phi_i = \\sigma \\left( \\sum_{j=0}^{N^2-1} w[i,j] x[j] \\right)$$\n",
    "\n",
    "이 식에서  𝑤[𝑖,𝑗] 와  𝑥[𝑗] 는 지금까지  𝑤_𝑖𝑗 ,  𝑥_𝑗 로 쓰던 기호를 첨자가 잘 보이도록 표현법을 바꾼 것이다.\n",
    "\n",
    "하지만 CNN 모형에서는  𝐾×𝐾  영역만을 이용하여 특징  𝜙_𝑖𝑗 를 계산한다.\n",
    "\n",
    "$$\\phi_{ij} = \\sigma \\left( \\sum_{k_1=0}^{K-1}\\sum_{k_2=0}^{K-1} w[k_1, k_2] x[i-k_1, j-k_2] \\right)$$\n",
    "\n",
    "이 식에서는 입력 데이터를 1차원 벡터로 펼치지 않고 2차원인 행렬 형태 그대로 사용하므로  𝑥[⋅,⋅]  기호로 표현하였다.\n",
    "\n",
    "[그림] 이미지 필터링 : https://datascienceschool.net/upfiles/720a061df41f4a7ea62dbf05c5d3577a.png"
   ]
  },
  {
   "cell_type": "markdown",
   "metadata": {},
   "source": [
    "## 스캐닝과 패딩\n",
    "\n",
    "[그림] Valid Padding\n",
    ": https://datascienceschool.net/upfiles/43596c8a7251419a8254599e5214a415.png\n",
    ": https://datascienceschool.net/upfiles/e2dc8027d55f4984a6c6ce46ee60bba6.png\n",
    "\n",
    "\n",
    "## Feature Map\n",
    "\n",
    "* 만약 weight가 특정 이미지 패턴에 대해 a=1인 출력을 내도록 training 되었다면\n",
    "    * hidden layer는 feature가 존재하는 위치를 표시하는 지도(map)\n",
    "* 여기에서의 feature는 input data를 의미하는 것이 아니라 image 분류에 사용되는 input data의 특정한 pattern을 뜻함"
   ]
  },
  {
   "cell_type": "code",
   "execution_count": 4,
   "metadata": {},
   "outputs": [
    {
     "data": {
      "text/plain": [
       "array([[ 0.,  0.,  0.,  0.,  0.,  0.,  0.,  0.,  0.,  0.,  0.,  0.,  0.,\n",
       "         0.,  0.,  0.],\n",
       "       [ 0.,  0.,  0.,  0.,  0.,  0.,  0.,  0.,  0.,  0.,  0.,  0.,  0.,\n",
       "         0.,  0.,  0.],\n",
       "       [ 0.,  0., 15., 15., 15., 15., 15., 15., 15., 15., 15., 15., 15.,\n",
       "        15.,  0.,  0.],\n",
       "       [ 0.,  0., 15.,  0.,  0.,  0.,  0.,  0.,  0.,  0.,  0.,  0.,  0.,\n",
       "        15.,  0.,  0.],\n",
       "       [ 0.,  0., 15.,  0.,  0.,  0.,  0.,  0.,  0.,  0.,  0.,  0.,  0.,\n",
       "        15.,  0.,  0.],\n",
       "       [ 0.,  0., 15.,  0.,  0.,  0.,  0.,  0.,  0.,  0.,  0.,  0.,  0.,\n",
       "        15.,  0.,  0.],\n",
       "       [ 0.,  0., 15.,  0.,  0.,  0.,  0.,  0.,  0.,  0.,  0.,  0.,  0.,\n",
       "        15.,  0.,  0.],\n",
       "       [ 0.,  0., 15.,  0.,  0.,  0.,  0.,  0.,  0.,  0.,  0.,  0.,  0.,\n",
       "        15.,  0.,  0.],\n",
       "       [ 0.,  0., 15.,  0.,  0.,  0.,  0.,  0.,  0.,  0.,  0.,  0.,  0.,\n",
       "        15.,  0.,  0.],\n",
       "       [ 0.,  0., 15.,  0.,  0.,  0.,  0.,  0.,  0.,  0.,  0.,  0.,  0.,\n",
       "        15.,  0.,  0.],\n",
       "       [ 0.,  0., 15.,  0.,  0.,  0.,  0.,  0.,  0.,  0.,  0.,  0.,  0.,\n",
       "        15.,  0.,  0.],\n",
       "       [ 0.,  0., 15.,  0.,  0.,  0.,  0.,  0.,  0.,  0.,  0.,  0.,  0.,\n",
       "        15.,  0.,  0.],\n",
       "       [ 0.,  0., 15.,  0.,  0.,  0.,  0.,  0.,  0.,  0.,  0.,  0.,  0.,\n",
       "        15.,  0.,  0.],\n",
       "       [ 0.,  0., 15., 15., 15., 15., 15., 15., 15., 15., 15., 15., 15.,\n",
       "        15.,  0.,  0.],\n",
       "       [ 0.,  0.,  0.,  0.,  0.,  0.,  0.,  0.,  0.,  0.,  0.,  0.,  0.,\n",
       "         0.,  0.,  0.],\n",
       "       [ 0.,  0.,  0.,  0.,  0.,  0.,  0.,  0.,  0.,  0.,  0.,  0.,  0.,\n",
       "         0.,  0.,  0.]])"
      ]
     },
     "execution_count": 4,
     "metadata": {},
     "output_type": "execute_result"
    }
   ],
   "source": [
    "from scipy.ndimage.filters import convolve\n",
    "import numpy as np\n",
    "\n",
    "r1 = np.zeros(16)\n",
    "r2 = np.hstack([np.zeros(2), np.ones(12), np.zeros(2)]) # 0,0,1,1,1,1,1,1,1,1,1,1,1,1,0,0\n",
    "r3 = np.insert(np.insert(np.zeros(14), 2, 1), -2, 1) # 0, 0, 1, ..... 1, 0, 0\n",
    "x = 15 * np.vstack([r1, r1, r2, np.tile(r3, (10, 1)), r2, r1, r1])\n",
    "x"
   ]
  },
  {
   "cell_type": "code",
   "execution_count": 5,
   "metadata": {},
   "outputs": [
    {
     "data": {
      "text/plain": [
       "array([[ 0.5, -0.5],\n",
       "       [ 0.5, -0.5]])"
      ]
     },
     "execution_count": 5,
     "metadata": {},
     "output_type": "execute_result"
    }
   ],
   "source": [
    "k1 = np.zeros((2, 2))\n",
    "k1[:, 0] = 0.5  # 첫번째 열은 0.5\n",
    "k1[:, 1] = -0.5 # 두번째 열은 -0.5\n",
    "k1"
   ]
  },
  {
   "cell_type": "code",
   "execution_count": 22,
   "metadata": {},
   "outputs": [
    {
     "data": {
      "text/plain": [
       "array([[ 0.5,  0.5],\n",
       "       [-0.5, -0.5]])"
      ]
     },
     "execution_count": 22,
     "metadata": {},
     "output_type": "execute_result"
    }
   ],
   "source": [
    "k2 = np.zeros((2, 2))\n",
    "k2[0, :] = 0.5\n",
    "k2[1, :] = -0.5\n",
    "k2"
   ]
  },
  {
   "cell_type": "code",
   "execution_count": 24,
   "metadata": {},
   "outputs": [],
   "source": [
    "phi1 = np.maximum(0, convolve(x, k1))\n",
    "phi2 = np.maximum(0, convolve(x, k2))"
   ]
  },
  {
   "cell_type": "code",
   "execution_count": 25,
   "metadata": {},
   "outputs": [],
   "source": [
    "import warnings\n",
    "warnings.filterwarnings(action='ignore')\n",
    "\n",
    "import matplotlib.pylab as plt\n",
    "import matplotlib as mpl\n",
    "import matplotlib.font_manager as fm\n",
    "import seaborn as sns\n",
    "import numpy as np\n",
    "\n",
    "sns.set_style(\"whitegrid\")\n",
    "mpl.rcParams['axes.unicode_minus'] = False\n",
    "plt.rcParams['font.size'] = 12\n",
    "\n",
    "path = \"/Library/Fonts/NanumGothic.otf\"\n",
    "font_name = fm.FontProperties(fname=path, size=20).get_name()\n",
    "\n",
    "plt.rc('font', family=font_name)\n",
    "fm._rebuild()"
   ]
  },
  {
   "cell_type": "code",
   "execution_count": 26,
   "metadata": {},
   "outputs": [
    {
     "data": {
      "image/png": "[encoded data removed]",
      "text/plain": [
       "<Figure size 1080x720 with 5 Axes>"
      ]
     },
     "metadata": {},
     "output_type": "display_data"
    }
   ],
   "source": [
    "sns.set(font_scale=1)\n",
    "plt.figure(figsize=(15, 10))\n",
    "plt.subplot(231)\n",
    "sns.heatmap(x, cmap=mpl.cm.bone_r, annot=True, fmt='2.0f', cbar=False, xticklabels=False, yticklabels=False, annot_kws={\"size\":5})\n",
    "plt.title(\"original image\")\n",
    "plt.subplot(232)\n",
    "sns.heatmap(k1, cmap=mpl.cm.bone_r, annot=True, fmt='2.1f', cbar=False, xticklabels=False, yticklabels=False, annot_kws={\"size\": 5})\n",
    "plt.xlim(-8, 8)\n",
    "plt.ylim(-8, 8)\n",
    "plt.title('kernel 1')\n",
    "plt.subplot(233)\n",
    "sns.heatmap(k2, cmap=mpl.cm.bone_r, annot=True, fmt='2.1f', cbar=False, xticklabels=False, yticklabels=False, annot_kws={'size': 5})\n",
    "plt.xlim(-8, 8)\n",
    "plt.ylim(-8, 8)\n",
    "plt.title('kernel 2')\n",
    "plt.subplot(235)\n",
    "sns.heatmap(phi1, cmap=mpl.cm.bone_r, annot=True, fmt='2.0f', cbar=False, xticklabels=False, yticklabels=False, annot_kws={'size': 5})\n",
    "plt.title('feature map 1')\n",
    "plt.subplot(236)\n",
    "sns.heatmap(phi2, cmap=mpl.cm.bone_r, annot=True, fmt='2.0f', cbar=False, xticklabels=False, yticklabels=False, annot_kws={'size': 5})\n",
    "plt.title('feature map 2')\n",
    "plt.show()"
   ]
  },
  {
   "cell_type": "markdown",
   "metadata": {},
   "source": [
    "## Max Pooling\n",
    "* 일부 이미지를 생략하여 이미지 사이즈를 축소\n",
    "    * **영역내에서 가장 최대값 출력**\n",
    "    * 영역내에 이미지 패턴이 존재하는지의 여부의 정보만 남김\n",
    "    \n",
    "[그림] Max Pooling 연산 : https://datascienceschool.net/upfiles/89cb6a5751d34b68b1cda4234b2edcbb.png"
   ]
  },
  {
   "cell_type": "markdown",
   "metadata": {},
   "source": [
    "## Multiple Feature Maps\n",
    "\n",
    "* 하나의 공통 weight set은 한 종류의 image feature만 발견 가능\n",
    "* 따라서 복수의 feature map (weight set) 필요\n",
    "\n",
    "[그림] Mutiple Feature Map : https://datascienceschool.net/upfiles/7050b6f6afe04ce9855b2d54c530123a.png"
   ]
  },
  {
   "cell_type": "code",
   "execution_count": 28,
   "metadata": {},
   "outputs": [
    {
     "data": {
      "text/plain": [
       "576"
      ]
     },
     "execution_count": 28,
     "metadata": {},
     "output_type": "execute_result"
    }
   ],
   "source": [
    "12 * 12 * 4"
   ]
  },
  {
   "cell_type": "markdown",
   "metadata": {},
   "source": [
    "## Multi-Channel CNN\n",
    "\n",
    "* 컬러 이미지와 같이 입력 채널이 여러 개이거나, feature map을 입력으로 받는 다음 단계의 CNN 레이어\n",
    "* 각각의 채널에 대해 다른 이미지 필터를 하나의 세트로 사용하여 필터링한 결과를 합산\n",
    "\n",
    "[그림] Multi-Channel CNN : https://datascienceschool.net/upfiles/f1b66d8cbdf844e4986b82652b0162c5.png"
   ]
  },
  {
   "cell_type": "markdown",
   "metadata": {},
   "source": [
    "## Demo\n",
    "* http://cs.stanford.edu/people/karpathy/convnetjs/demo/cifar10.html"
   ]
  },
  {
   "cell_type": "code",
   "execution_count": null,
   "metadata": {},
   "outputs": [],
   "source": []
  }
 ],
 "metadata": {
  "kernelspec": {
   "display_name": "Python 3",
   "language": "python",
   "name": "python3"
  },
  "language_info": {
   "codemirror_mode": {
    "name": "ipython",
    "version": 3
   },
   "file_extension": ".py",
   "mimetype": "text/x-python",
   "name": "python",
   "nbconvert_exporter": "python",
   "pygments_lexer": "ipython3",
   "version": "3.7.3"
  }
 },
 "nbformat": 4,
 "nbformat_minor": 2
}
