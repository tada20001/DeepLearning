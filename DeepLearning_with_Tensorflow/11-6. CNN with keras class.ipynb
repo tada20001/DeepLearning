{
 "cells": [
  {
   "cell_type": "code",
   "execution_count": 1,
   "metadata": {},
   "outputs": [
    {
     "name": "stderr",
     "output_type": "stream",
     "text": [
      "Using TensorFlow backend.\n"
     ]
    },
    {
     "data": {
      "text/plain": [
       "'2.2.5'"
      ]
     },
     "execution_count": 1,
     "metadata": {},
     "output_type": "execute_result"
    }
   ],
   "source": [
    "import keras\n",
    "keras.__version__"
   ]
  },
  {
   "cell_type": "markdown",
   "metadata": {},
   "source": [
    "### Keras를 이용한 CNN 구현 - MNIST"
   ]
  },
  {
   "cell_type": "code",
   "execution_count": 3,
   "metadata": {},
   "outputs": [
    {
     "name": "stdout",
     "output_type": "stream",
     "text": [
      "(60000, 28, 28) (60000,) (10000, 28, 28) (10000,)\n",
      "(60000, 28, 28, 1) (60000, 10) (10000, 28, 28, 1) (10000, 10)\n"
     ]
    }
   ],
   "source": [
    "import tensorflow as tf\n",
    "tf.logging.set_verbosity(tf.logging.ERROR)  # warning 출력 방지\n",
    "\n",
    "from keras.datasets import mnist\n",
    "from keras.utils import np_utils\n",
    "import numpy as np\n",
    "\n",
    "(X_train0, y_train0), (X_test0, y_test0) = mnist.load_data()\n",
    "print(X_train0.shape, y_train0.shape, X_test0.shape, y_test0.shape)\n",
    "X_train = X_train0[:, :, :, np.newaxis].astype('float32') / 255.0\n",
    "X_test = X_test0[:, :, :, np.newaxis].astype('float32') / 255.0\n",
    "Y_train = np_utils.to_categorical(y_train0, 10)\n",
    "Y_test = np_utils.to_categorical(y_test0, 10)\n",
    "print(X_train.shape, Y_train.shape, X_test.shape, Y_test.shape)"
   ]
  },
  {
   "cell_type": "code",
   "execution_count": 4,
   "metadata": {},
   "outputs": [],
   "source": [
    "from keras.models import Sequential\n",
    "from keras.layers import Conv2D, MaxPool2D, Flatten, Dense, Dropout\n",
    "from keras.optimizers import Adam, Adadelta\n",
    "from keras.regularizers import l2  # weight가 너무 커지지 않도록 일반화"
   ]
  },
  {
   "cell_type": "code",
   "execution_count": 7,
   "metadata": {},
   "outputs": [],
   "source": [
    "model1 = Sequential() # 모형 클래스 객체 생성\n",
    "\n",
    "# conv layer #1 and pooling # 1\n",
    "model1.add(Conv2D(filters=32, kernel_size=(3, 3), input_shape=(28, 28, 1), activation=tf.nn.relu, padding=\"SAME\"))\n",
    "# conv1 = tf.keras.layers.Conv2D(filters=32, kernel_size=[3, 3], padding=\"SAME\", activation=tf.nn.relu)(X_img)와 동일\n",
    "model1.add(MaxPool2D(pool_size=[2, 2], padding='SAME', strides=2))\n",
    "# pool1 = tf.keras.layers.MaxPool2D(pool_size=[2, 2], padding=\"SAME\", strides=2)(conv1)\n",
    "model1.add(Dropout(rate=0.3))\n",
    "# dropout1 = tf.keras.layers.Dropout(rate=0.3)(pool1)\n",
    "\n",
    "# conv layer #2 and pooling #2\n",
    "model1.add(Conv2D(filters=64, kernel_size=(3, 3), input_shape=(14, 14, 32), activation=tf.nn.relu, padding=\"SAME\"))\n",
    "model1.add(MaxPool2D(pool_size=[2, 2], padding=\"SAME\", strides=2))\n",
    "model1.add(Dropout(rate=0.3))\n",
    "\n",
    "# conv layer #3 and pooling #3\n",
    "model1.add(Conv2D(filters=128, kernel_size=(3, 3), input_shape=(7, 7, 64), activation=tf.nn.relu, padding=\"SAME\"))\n",
    "model1.add(MaxPool2D(pool_size=[2, 2], padding=\"SAME\", strides=2))\n",
    "model1.add(Dropout(rate=0.3))\n",
    "\n",
    "# Dense Layer with Relu (input img 4, 4, 1, 128)\n",
    "model1.add(Flatten())\n",
    "# flat = tf.reshape(dropout3, [-1, 4 * 4 * 128])\n",
    "model1.add(Dense(units=625, activation=tf.nn.relu))\n",
    "# dense4 = tf.keras.layers.Dense(units=625, activation=tf.nn.relu)(flat)\n",
    "model1.add(Dropout(rate=0.5))        \n",
    "# dropout4 = tf.keras.layers.Dropout(rate=0.5)(dense4)\n",
    "\n",
    "# hypothesis\n",
    "model1.add(Dense(units=10, activation=tf.nn.softmax, kernel_initializer=\"glorot_uniform\"))"
   ]
  },
  {
   "cell_type": "code",
   "execution_count": 9,
   "metadata": {},
   "outputs": [],
   "source": [
    "np.random.seed(0)\n",
    "model1.compile(loss=\"categorical_crossentropy\", metrics=['accuracy'], optimizer=Adam())"
   ]
  },
  {
   "cell_type": "code",
   "execution_count": 10,
   "metadata": {},
   "outputs": [
    {
     "name": "stdout",
     "output_type": "stream",
     "text": [
      "Model: \"sequential_3\"\n",
      "_________________________________________________________________\n",
      "Layer (type)                 Output Shape              Param #   \n",
      "=================================================================\n",
      "conv2d_3 (Conv2D)            (None, 28, 28, 32)        320       \n",
      "_________________________________________________________________\n",
      "max_pooling2d_2 (MaxPooling2 (None, 14, 14, 32)        0         \n",
      "_________________________________________________________________\n",
      "dropout_2 (Dropout)          (None, 14, 14, 32)        0         \n",
      "_________________________________________________________________\n",
      "conv2d_4 (Conv2D)            (None, 14, 14, 64)        18496     \n",
      "_________________________________________________________________\n",
      "max_pooling2d_3 (MaxPooling2 (None, 7, 7, 64)          0         \n",
      "_________________________________________________________________\n",
      "dropout_3 (Dropout)          (None, 7, 7, 64)          0         \n",
      "_________________________________________________________________\n",
      "conv2d_5 (Conv2D)            (None, 7, 7, 128)         73856     \n",
      "_________________________________________________________________\n",
      "max_pooling2d_4 (MaxPooling2 (None, 4, 4, 128)         0         \n",
      "_________________________________________________________________\n",
      "dropout_4 (Dropout)          (None, 4, 4, 128)         0         \n",
      "_________________________________________________________________\n",
      "flatten_1 (Flatten)          (None, 2048)              0         \n",
      "_________________________________________________________________\n",
      "dense_1 (Dense)              (None, 625)               1280625   \n",
      "_________________________________________________________________\n",
      "dropout_5 (Dropout)          (None, 625)               0         \n",
      "_________________________________________________________________\n",
      "dense_2 (Dense)              (None, 10)                6260      \n",
      "=================================================================\n",
      "Total params: 1,379,557\n",
      "Trainable params: 1,379,557\n",
      "Non-trainable params: 0\n",
      "_________________________________________________________________\n"
     ]
    }
   ],
   "source": [
    "model1.summary()"
   ]
  },
  {
   "cell_type": "markdown",
   "metadata": {},
   "source": [
    "### Train the model"
   ]
  },
  {
   "cell_type": "code",
   "execution_count": 12,
   "metadata": {},
   "outputs": [
    {
     "name": "stdout",
     "output_type": "stream",
     "text": [
      "Train on 60000 samples, validate on 10000 samples\n",
      "Epoch 1/15\n",
      " - 144s - loss: 0.2719 - acc: 0.9098 - val_loss: 0.0488 - val_acc: 0.9842\n",
      "Epoch 2/15\n",
      " - 140s - loss: 0.0851 - acc: 0.9730 - val_loss: 0.0310 - val_acc: 0.9894\n",
      "Epoch 3/15\n",
      " - 140s - loss: 0.0642 - acc: 0.9799 - val_loss: 0.0269 - val_acc: 0.9911\n",
      "Epoch 4/15\n",
      " - 141s - loss: 0.0556 - acc: 0.9825 - val_loss: 0.0249 - val_acc: 0.9916\n",
      "Epoch 5/15\n",
      " - 142s - loss: 0.0500 - acc: 0.9841 - val_loss: 0.0258 - val_acc: 0.9919\n",
      "Epoch 6/15\n",
      " - 141s - loss: 0.0434 - acc: 0.9861 - val_loss: 0.0187 - val_acc: 0.9934\n",
      "Epoch 7/15\n",
      " - 141s - loss: 0.0401 - acc: 0.9874 - val_loss: 0.0212 - val_acc: 0.9932\n",
      "Epoch 8/15\n",
      " - 141s - loss: 0.0385 - acc: 0.9880 - val_loss: 0.0191 - val_acc: 0.9938\n",
      "Epoch 9/15\n",
      " - 139s - loss: 0.0362 - acc: 0.9884 - val_loss: 0.0211 - val_acc: 0.9932\n",
      "Epoch 10/15\n",
      " - 134s - loss: 0.0327 - acc: 0.9893 - val_loss: 0.0188 - val_acc: 0.9944\n",
      "Epoch 11/15\n",
      " - 153s - loss: 0.0312 - acc: 0.9901 - val_loss: 0.0184 - val_acc: 0.9942\n",
      "Epoch 12/15\n",
      " - 134s - loss: 0.0309 - acc: 0.9900 - val_loss: 0.0195 - val_acc: 0.9938\n",
      "Epoch 13/15\n",
      " - 139s - loss: 0.0285 - acc: 0.9908 - val_loss: 0.0195 - val_acc: 0.9945\n",
      "Epoch 14/15\n",
      " - 136s - loss: 0.0285 - acc: 0.9913 - val_loss: 0.0190 - val_acc: 0.9940\n",
      "Epoch 15/15\n",
      " - 137s - loss: 0.0278 - acc: 0.9907 - val_loss: 0.0193 - val_acc: 0.9942\n",
      "CPU times: user 1h 8min 44s, sys: 17min 22s, total: 1h 26min 6s\n",
      "Wall time: 35min 4s\n"
     ]
    }
   ],
   "source": [
    "%%time\n",
    "hist1 = model1.fit(X_train, Y_train, epochs=15, batch_size=100, validation_data=(X_test, Y_test), verbose=2)"
   ]
  },
  {
   "cell_type": "code",
   "execution_count": 13,
   "metadata": {},
   "outputs": [],
   "source": [
    "import warnings\n",
    "warnings.filterwarnings(action='ignore')\n",
    "\n",
    "import matplotlib.pylab as plt\n",
    "import matplotlib as mpl\n",
    "import matplotlib.font_manager as fm\n",
    "import seaborn as sns\n",
    "import numpy as np\n",
    "\n",
    "sns.set_style(\"whitegrid\")\n",
    "mpl.rcParams['axes.unicode_minus'] = False\n",
    "plt.rcParams['font.size'] = 12\n",
    "\n",
    "path = \"/Library/Fonts/NanumGothic.otf\"\n",
    "font_name = fm.FontProperties(fname=path, size=20).get_name()\n",
    "\n",
    "plt.rc('font', family=font_name)\n",
    "fm._rebuild()"
   ]
  },
  {
   "cell_type": "code",
   "execution_count": 14,
   "metadata": {},
   "outputs": [
    {
     "data": {
      "image/png": "[encoded data removed]",
      "text/plain": [
       "<Figure size 432x288 with 1 Axes>"
      ]
     },
     "metadata": {
      "needs_background": "light"
     },
     "output_type": "display_data"
    }
   ],
   "source": [
    "plt.plot(hist1.history['acc'], 'b-', label=\"training\")\n",
    "plt.plot(hist1.history['val_acc'], 'r:', label='test')\n",
    "plt.legend()\n",
    "plt.show()"
   ]
  },
  {
   "cell_type": "code",
   "execution_count": 17,
   "metadata": {},
   "outputs": [
    {
     "data": {
      "text/plain": [
       "((3, 3, 1, 32), (32,))"
      ]
     },
     "execution_count": 17,
     "metadata": {},
     "output_type": "execute_result"
    }
   ],
   "source": [
    "l1 = model1.layers[0]\n",
    "w1, b1 = l1.get_weights() # filters of layer 1\n",
    "w1.shape, b1.shape"
   ]
  },
  {
   "cell_type": "code",
   "execution_count": 21,
   "metadata": {
    "scrolled": true
   },
   "outputs": [
    {
     "data": {
      "image/png": "[encoded data removed]",
      "text/plain": [
       "<Figure size 720x720 with 31 Axes>"
      ]
     },
     "metadata": {
      "needs_background": "light"
     },
     "output_type": "display_data"
    }
   ],
   "source": [
    "M = 32\n",
    "plt.figure(figsize=(10, 10))\n",
    "for i in range(M):\n",
    "    plt.subplot(8, 4, i + 1)\n",
    "    plt.imshow(w1[:, :, 0, i], cmap=mpl.cm.bone)\n",
    "    plt.title(\"필터 {}\".format(i+1))\n",
    "    plt.tight_layout()\n",
    "    plt.grid(False)"
   ]
  },
  {
   "cell_type": "code",
   "execution_count": null,
   "metadata": {},
   "outputs": [],
   "source": []
  }
 ],
 "metadata": {
  "kernelspec": {
   "display_name": "Python 3",
   "language": "python",
   "name": "python3"
  },
  "language_info": {
   "codemirror_mode": {
    "name": "ipython",
    "version": 3
   },
   "file_extension": ".py",
   "mimetype": "text/x-python",
   "name": "python",
   "nbconvert_exporter": "python",
   "pygments_lexer": "ipython3",
   "version": "3.7.3"
  }
 },
 "nbformat": 4,
 "nbformat_minor": 2
}
