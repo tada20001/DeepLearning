{
 "cells": [
  {
   "cell_type": "markdown",
   "metadata": {},
   "source": [
    "### Tensorboard 5 steps \n",
    "\n",
    "* step 1. \n",
    "\n",
    "    **그래프에서 로그하고자 하는 텐서를 결정**\n",
    "\n",
    "    * w2_hist = tf.summary.histogram(\"weight2\", W2)\n",
    "\n",
    "    * cost_sum = tf.summary.scalar(\"cost\", cost)\n",
    "$$$$\n",
    "* step 2. \n",
    "\n",
    "    **모든 summaries를 합친다**\n",
    "\n",
    "    * summary = tf.summary.merge_all() $$$$\n",
    "\n",
    "* step 3. \n",
    "\n",
    "    **writer를 만들어 그래프를 추가한다.**\n",
    "\n",
    "    * writer = tf.summary.FileWriter('./logs')\n",
    "\n",
    "    * writer.add_graph(sess.graph) $$$$\n",
    "\n",
    "* step 4. \n",
    "\n",
    "    **합친 summaries와 add_summary를 실행한다.**\n",
    "\n",
    "    * s, _ = sess.run([summary, optimizer], feed_dict=feed_dict)\n",
    "\n",
    "    * writer.add_summary(s, global_step=global_step)$$$$\n",
    "\n",
    "* step 5. \n",
    "    \n",
    "    **Tensorboard를 런치**\n",
    "\n",
    "    * tensorboard --logdir=./logs"
   ]
  },
  {
   "cell_type": "markdown",
   "metadata": {},
   "source": [
    "### Step 1\n",
    "### Scalar tensors\n",
    "\n",
    "* scalar 값을 도출할 때에는 tf.summary.scalar( ) 사용"
   ]
  },
  {
   "cell_type": "raw",
   "metadata": {},
   "source": [
    "cost_summ = tf.summary.scalar('cost', cost)"
   ]
  },
  {
   "cell_type": "markdown",
   "metadata": {},
   "source": [
    "### multi-dimensional tensors\n",
    "* 여러개 값을 도출할 때에는 histogram 을 사용"
   ]
  },
  {
   "cell_type": "raw",
   "metadata": {},
   "source": [
    "W2 = tf.Variable(tf.random_normal([2, 1]), name='weight2')\n",
    "b2 = tf.Variable(tf.random_normal([1]), name='bias2')\n",
    "hypothesis = tf.sigmoid(tf.matmul(layer1, W2) + b2)\n",
    "\n",
    "w2_hist = tf.summary.histogram(\"weight2\", W2)\n",
    "b2_hist = tf.summary.histogram(\"bias2\", b2)\n",
    "hypothesis_hist = tf.summary.histogram(\"hypothesis\", hypothesis)"
   ]
  },
  {
   "cell_type": "markdown",
   "metadata": {},
   "source": [
    "### 그래프를 보고 싶을 때\n",
    "\n",
    "* 그래프를 볼때 한꺼번에 보면 잘 안보이기 때문에, tf.name_scope( ) 를 이용하여 계층별로 아래와 같이 layer1, layer2 별로 정리할 수 있다."
   ]
  },
  {
   "cell_type": "raw",
   "metadata": {},
   "source": [
    "with tf.name_scope('layer1') as scope:\n",
    "    W1 = tf.Variable(tf.random_normal([2, 2]), name=\"weight1\")\n",
    "    b1 = tf.Variable(tf.random_normal([2]), name='bias1')\n",
    "    layer1 = tf.sigmoid(tf.matmul(X, W1) + b1)\n",
    "    \n",
    "    w1_hist = tf.summary.histogram(\"weights1\", W1)\n",
    "    b1_hist = tf.summary.histogram(\"biases1\", b1)\n",
    "    layer1_hist = tf.summary.histogram(\"layer1\", layer1)\n",
    "    \n",
    "    \n",
    "with tf.name_scope('layer2') as scope:\n",
    "    W2 = tf.Variable(tf.random_normal([2, 1]), name='weight2')\n",
    "    b2 = tf.Variable(tf.random_normal([1]), name='bias2')\n",
    "    hypothesis = tf.sigmoid(tf.matmul(layer1, W2) + b2)\n",
    "    \n",
    "    w2_hist = tf.summary.histogram(\"weights2\", W2)\n",
    "    b2_hist = tf.summary.histogram(\"biases2\", b2)\n",
    "    layer2_hist = tf.summary.histogram('hypothesis', hypothesis)"
   ]
  },
  {
   "cell_type": "markdown",
   "metadata": {},
   "source": [
    "### Step 2 : 세션을 만든 후 Summaries 합치기, writer 만들기"
   ]
  },
  {
   "cell_type": "raw",
   "metadata": {},
   "source": [
    "# summary\n",
    "summary = tf.summary.merge_all()\n",
    "\n",
    "# initialize\n",
    "sess = tf.Session()\n",
    "sess.run(tf.global_variables_initializer())\n",
    "\n",
    "# Create summary writer\n",
    "writer = tf.summary.FileWriter(TB_SUMMARY_DIR)\n",
    "writer.add_graph(sess.graph)  # Add graph in the tensorboard"
   ]
  },
  {
   "cell_type": "markdown",
   "metadata": {},
   "source": [
    "### Step 3 : 실행"
   ]
  },
  {
   "cell_type": "raw",
   "metadata": {},
   "source": [
    "s, _ = sess.run([summary, optimizer], feed_dict=feed_dict)\n",
    "writer.add_summary(s, global_step=global_step)\n",
    "global_step += 1"
   ]
  },
  {
   "cell_type": "markdown",
   "metadata": {},
   "source": [
    "### Step 4 : Launch Tensorboard(local)"
   ]
  },
  {
   "cell_type": "raw",
   "metadata": {},
   "source": [
    "writer = tf.summary.FileWriter(\"./logs/xor_logs\")"
   ]
  },
  {
   "cell_type": "raw",
   "metadata": {},
   "source": [
    "$ tensorboard -logdir=./logs/xor_logs\n",
    "\n",
    "Starting TensorBoard b'41' on port 6006\n",
    "(You can navigate to http://127.0.0.1:6006)"
   ]
  },
  {
   "cell_type": "markdown",
   "metadata": {},
   "source": [
    "#### (remote server) remote에서 실행할 때는..."
   ]
  },
  {
   "cell_type": "raw",
   "metadata": {},
   "source": [
    "ssh -L local_port:127.0.0.1:remote_port username@server.com\n",
    "\n",
    "ex)\n",
    "local> $ ssh -L 7007:121.0.0.0:6006 username@server.com\n",
    "server> $ tensorboard -logdir=./logs/xor_logs\n",
    "\n",
    "(You can navigate to http://127.0.0.1:7007)"
   ]
  },
  {
   "cell_type": "markdown",
   "metadata": {},
   "source": [
    "### (multiple runs) 옵션을 달리해서 비교하고 싶을 때\n",
    "\n",
    "ex) learning_rate=0.1 VS learning_rate=0.01\n",
    "\n"
   ]
  },
  {
   "cell_type": "raw",
   "metadata": {},
   "source": [
    "$ tensorboard -logdir=./logs/xor_logs (옵션별로 각각 디렉토리를 만듦)\n",
    "\n",
    "train = tf.train.GradientDescentOptimizer(learning_rate=0.1).minimize(cost)\n",
    "...\n",
    "writer = tf.summary.FileWriter(\"./logs/xor_logs\")"
   ]
  },
  {
   "cell_type": "raw",
   "metadata": {},
   "source": [
    "$ tensorboard -logdir=./logs/xor_logs_r0_01\n",
    "\n",
    "train = tf.train.GradientDescentOptimizer(learning_rate=0.01).minimize(cost)\n",
    "...\n",
    "writer = tf.summary.FileWriter(\"./logs/xor_logs_r0_01\")\n",
    "\n",
    "\n",
    "tensorboard -logdir=./logs (실행할 때는 상위 디렉토리를 설정)"
   ]
  },
  {
   "cell_type": "code",
   "execution_count": null,
   "metadata": {},
   "outputs": [],
   "source": []
  }
 ],
 "metadata": {
  "kernelspec": {
   "display_name": "Python 3",
   "language": "python",
   "name": "python3"
  },
  "language_info": {
   "codemirror_mode": {
    "name": "ipython",
    "version": 3
   },
   "file_extension": ".py",
   "mimetype": "text/x-python",
   "name": "python",
   "nbconvert_exporter": "python",
   "pygments_lexer": "ipython3",
   "version": "3.7.3"
  }
 },
 "nbformat": 4,
 "nbformat_minor": 2
}
