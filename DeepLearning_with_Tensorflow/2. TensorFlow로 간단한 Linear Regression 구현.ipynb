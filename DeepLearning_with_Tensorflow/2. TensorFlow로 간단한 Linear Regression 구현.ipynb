{
 "cells": [
  {
   "cell_type": "markdown",
   "metadata": {},
   "source": [
    "## 간단한 Linear Regression 만들기\n",
    "\n",
    "#### 1. 모형 만들기\n",
    "주어진 데이터를 통해 선형모형(가설) 만들기\n",
    "$$ H(x) = Wx + b $$\n",
    "\n",
    "#### 2. Cost Function \n",
    "비용함수 만들기 : 예측값과 실제 값을 토대로 비용함수 만들기\n",
    "#### 3. Minimize \n",
    "training. 비용함수를 가장 최소화하는 과정\n",
    "#### 4. W, b 구하기\n",
    "위의 과정을 통해 비용함수를 최소화하는 W, b를 구하는 것이 최종 학습목표이다."
   ]
  },
  {
   "cell_type": "code",
   "execution_count": 1,
   "metadata": {},
   "outputs": [],
   "source": [
    "import tensorflow as tf"
   ]
  },
  {
   "cell_type": "markdown",
   "metadata": {},
   "source": [
    "1. 먼저 그래프를 빌드한다(노드 정의)\n"
   ]
  },
  {
   "cell_type": "code",
   "execution_count": 2,
   "metadata": {},
   "outputs": [
    {
     "name": "stdout",
     "output_type": "stream",
     "text": [
      "WARNING:tensorflow:From /Users/imjunghee/anaconda3/lib/python3.7/site-packages/tensorflow/python/framework/op_def_library.py:263: colocate_with (from tensorflow.python.framework.ops) is deprecated and will be removed in a future version.\n",
      "Instructions for updating:\n",
      "Colocations handled automatically by placer.\n"
     ]
    }
   ],
   "source": [
    "# 학습데이터\n",
    "X_train = [1, 2, 3]\n",
    "y_train = [1, 2, 3]\n",
    "\n",
    "# w, b 변수 정의: 텐서플로우에서 Variable은 텐서플로어에서 자체적으로 값을 변경시키는 변수로 일반 변수개념과는 다름\n",
    "W = tf.Variable(tf.random_normal([1]), name='weight')\n",
    "b = tf.Variable(tf.random_normal([1]), name='bias')\n",
    "\n",
    "hypothesis = X_train * W + b"
   ]
  },
  {
   "cell_type": "code",
   "execution_count": 3,
   "metadata": {},
   "outputs": [],
   "source": [
    "# cost function 정의\n",
    "cost = tf.reduce_mean(tf.square(hypothesis - y_train))"
   ]
  },
  {
   "cell_type": "markdown",
   "metadata": {},
   "source": [
    "2. 비용함수 최소화하는 연산과 이를 반영한 트레이닝 연산 그래프 빌드"
   ]
  },
  {
   "cell_type": "code",
   "execution_count": 4,
   "metadata": {},
   "outputs": [],
   "source": [
    "# GradientDescent을 이용한 최소화\n",
    "optimizer = tf.train.GradientDescentOptimizer(learning_rate=0.01)\n",
    "train = optimizer.minimize(cost)"
   ]
  },
  {
   "cell_type": "markdown",
   "metadata": {},
   "source": [
    "3. 실행 및 모수 업데이트"
   ]
  },
  {
   "cell_type": "code",
   "execution_count": 5,
   "metadata": {},
   "outputs": [
    {
     "name": "stdout",
     "output_type": "stream",
     "text": [
      "0 3.86431 [0.40727964] [-0.71984106]\n",
      "20 0.054122552 [1.0887114] [-0.39850217]\n",
      "40 0.017824976 [1.1467754] [-0.35239768]\n",
      "60 0.015904875 [1.1458032] [-0.3332296]\n",
      "80 0.0144424895 [1.1395152] [-0.31732088]\n",
      "100 0.013116881 [1.1330123] [-0.30238438]\n",
      "120 0.011912958 [1.1267664] [-0.2881712]\n",
      "140 0.010819539 [1.1208091] [-0.27462798]\n",
      "160 0.009826477 [1.1151317] [-0.26172143]\n",
      "180 0.00892456 [1.109721] [-0.24942149]\n",
      "200 0.008105434 [1.1045644] [-0.23769955]\n",
      "220 0.0073614693 [1.0996503] [-0.22652854]\n",
      "240 0.006685817 [1.0949671] [-0.21588252]\n",
      "260 0.0060721603 [1.0905039] [-0.20573683]\n",
      "280 0.005514832 [1.0862505] [-0.19606787]\n",
      "300 0.0050086533 [1.0821971] [-0.18685338]\n",
      "320 0.0045489324 [1.0783341] [-0.17807187]\n",
      "340 0.0041314214 [1.0746527] [-0.1697031]\n",
      "360 0.0037522211 [1.0711442] [-0.16172768]\n",
      "380 0.0034078232 [1.0678008] [-0.15412708]\n",
      "400 0.0030950445 [1.0646144] [-0.14688367]\n",
      "420 0.0028109578 [1.0615777] [-0.1399807]\n",
      "440 0.0025529573 [1.0586838] [-0.13340205]\n",
      "460 0.0023186414 [1.0559258] [-0.12713264]\n",
      "480 0.002105827 [1.0532975] [-0.12115785]\n",
      "500 0.0019125408 [1.0507927] [-0.11546387]\n",
      "520 0.0017369994 [1.0484056] [-0.11003748]\n",
      "540 0.00157758 [1.0461308] [-0.10486615]\n",
      "560 0.0014327756 [1.0439628] [-0.09993783]\n",
      "580 0.0013012757 [1.0418968] [-0.09524115]\n",
      "600 0.0011818343 [1.0399275] [-0.09076507]\n",
      "620 0.0010733587 [1.0380511] [-0.08649939]\n",
      "640 0.0009748389 [1.0362629] [-0.08243419]\n",
      "660 0.0008853632 [1.0345587] [-0.07856008]\n",
      "680 0.00080410234 [1.0329345] [-0.07486802]\n",
      "700 0.0007303024 [1.0313869] [-0.07134947]\n",
      "720 0.0006632704 [1.0299116] [-0.0679964]\n",
      "740 0.0006023948 [1.028506] [-0.06480081]\n",
      "760 0.0005471039 [1.0271664] [-0.06175545]\n",
      "780 0.0004968893 [1.0258895] [-0.05885313]\n",
      "800 0.00045128027 [1.0246729] [-0.05608724]\n",
      "820 0.0004098604 [1.0235133] [-0.05345132]\n",
      "840 0.00037224137 [1.0224084] [-0.05093932]\n",
      "860 0.00033807624 [1.0213552] [-0.04854539]\n",
      "880 0.0003070475 [1.0203518] [-0.04626397]\n",
      "900 0.00027886443 [1.0193949] [-0.04408967]\n",
      "920 0.00025326735 [1.0184835] [-0.04201754]\n",
      "940 0.00023002067 [1.0176148] [-0.0400428]\n",
      "960 0.00020890993 [1.016787] [-0.03816089]\n",
      "980 0.00018973458 [1.0159981] [-0.03636746]\n",
      "1000 0.00017231949 [1.0152463] [-0.03465829]\n",
      "1020 0.00015650257 [1.0145297] [-0.03302949]\n",
      "1040 0.00014213925 [1.0138469] [-0.03147725]\n",
      "1060 0.00012909224 [1.013196] [-0.02999786]\n",
      "1080 0.00011724263 [1.0125759] [-0.028588]\n",
      "1100 0.00010648175 [1.0119848] [-0.02724441]\n",
      "1120 9.670838e-05 [1.0114217] [-0.02596405]\n",
      "1140 8.783338e-05 [1.0108849] [-0.02474388]\n",
      "1160 7.9771016e-05 [1.0103734] [-0.02358104]\n",
      "1180 7.244875e-05 [1.0098858] [-0.0224728]\n",
      "1200 6.579903e-05 [1.0094212] [-0.02141664]\n",
      "1220 5.9759983e-05 [1.0089784] [-0.02041011]\n",
      "1240 5.4274948e-05 [1.0085565] [-0.01945087]\n",
      "1260 4.929308e-05 [1.0081544] [-0.01853676]\n",
      "1280 4.4769444e-05 [1.0077711] [-0.01766561]\n",
      "1300 4.0659917e-05 [1.0074059] [-0.01683538]\n",
      "1320 3.692816e-05 [1.0070579] [-0.01604418]\n",
      "1340 3.3537945e-05 [1.0067261] [-0.01529018]\n",
      "1360 3.0459574e-05 [1.00641] [-0.01457159]\n",
      "1380 2.7665066e-05 [1.0061089] [-0.01388677]\n",
      "1400 2.5125546e-05 [1.0058217] [-0.01323418]\n",
      "1420 2.2819135e-05 [1.0055482] [-0.01261223]\n",
      "1440 2.0724752e-05 [1.0052875] [-0.01201956]\n",
      "1460 1.8822668e-05 [1.005039] [-0.01145472]\n",
      "1480 1.7095403e-05 [1.0048022] [-0.01091643]\n",
      "1500 1.5526559e-05 [1.0045764] [-0.01040343]\n",
      "1520 1.410142e-05 [1.0043614] [-0.00991448]\n",
      "1540 1.2807475e-05 [1.0041566] [-0.00944859]\n",
      "1560 1.16323135e-05 [1.0039612] [-0.00900463]\n",
      "1580 1.0563985e-05 [1.003775] [-0.00858142]\n",
      "1600 9.594204e-06 [1.0035976] [-0.00817814]\n",
      "1620 8.714211e-06 [1.0034286] [-0.00779383]\n",
      "1640 7.914318e-06 [1.0032674] [-0.00742758]\n",
      "1660 7.1883223e-06 [1.0031139] [-0.0070785]\n",
      "1680 6.5283443e-06 [1.0029676] [-0.00674587]\n",
      "1700 5.9289196e-06 [1.0028281] [-0.00642885]\n",
      "1720 5.385277e-06 [1.0026952] [-0.00612676]\n",
      "1740 4.890666e-06 [1.0025686] [-0.00583887]\n",
      "1760 4.441995e-06 [1.0024478] [-0.00556448]\n",
      "1780 4.034487e-06 [1.0023329] [-0.00530301]\n",
      "1800 3.664265e-06 [1.0022233] [-0.00505385]\n",
      "1820 3.3280357e-06 [1.0021188] [-0.00481638]\n",
      "1840 3.0224403e-06 [1.0020193] [-0.00459008]\n",
      "1860 2.744892e-06 [1.0019244] [-0.0043744]\n",
      "1880 2.493255e-06 [1.001834] [-0.0041689]\n",
      "1900 2.2644738e-06 [1.0017478] [-0.00397301]\n",
      "1920 2.0568827e-06 [1.0016657] [-0.00378639]\n",
      "1940 1.8681721e-06 [1.0015875] [-0.0036085]\n",
      "1960 1.6965546e-06 [1.0015128] [-0.00343897]\n",
      "1980 1.540924e-06 [1.001442] [-0.00327744]\n",
      "2000 1.3995627e-06 [1.0013741] [-0.0031235]\n"
     ]
    }
   ],
   "source": [
    "# Launch the graph in a session\n",
    "sess = tf.Session()\n",
    "\n",
    "# Initializes global variables in the graph\n",
    "sess.run(tf.global_variables_initializer())\n",
    "\n",
    "# fit the line\n",
    "for step in range(2001):\n",
    "    sess.run(train)\n",
    "    if step % 20 == 0:\n",
    "        print(step, sess.run(cost), sess.run(W), sess.run(b))"
   ]
  },
  {
   "cell_type": "markdown",
   "metadata": {},
   "source": [
    "## Placeholder 사용"
   ]
  },
  {
   "cell_type": "code",
   "execution_count": 6,
   "metadata": {},
   "outputs": [
    {
     "name": "stdout",
     "output_type": "stream",
     "text": [
      "WARNING:tensorflow:From /Users/imjunghee/anaconda3/lib/python3.7/site-packages/tensorflow/python/ops/math_ops.py:3066: to_int32 (from tensorflow.python.ops.math_ops) is deprecated and will be removed in a future version.\n",
      "Instructions for updating:\n",
      "Use tf.cast instead.\n",
      "0 22.09879 [0.7388375] [-1.7557975]\n",
      "20 1.0699391 [1.6647314] [-1.3170487]\n",
      "40 0.93401355 [1.6253023] [-1.1576173]\n",
      "60 0.8156813 [1.5843693] [-1.0097591]\n",
      "80 0.7123405 [1.5460986] [-0.8715892]\n",
      "100 0.6220921 [1.5103341] [-0.7424682]\n",
      "120 0.54327786 [1.4769119] [-0.6218036]\n",
      "140 0.47444838 [1.4456786] [-0.50904125]\n",
      "160 0.41433963 [1.4164908] [-0.40366393]\n",
      "180 0.36184573 [1.3892144] [-0.3051877]\n",
      "200 0.31600258 [1.3637245] [-0.21316095]\n",
      "220 0.27596742 [1.3399038] [-0.12716098]\n",
      "240 0.24100438 [1.3176433] [-0.04679319]\n",
      "260 0.21047087 [1.2968405] [0.02831123]\n",
      "280 0.1838058 [1.2774003] [0.09849698]\n",
      "300 0.16051905 [1.2592331] [0.16408613]\n",
      "320 0.14018235 [1.2422557] [0.2253799]\n",
      "340 0.122422315 [1.2263901] [0.28265947]\n",
      "360 0.10691239 [1.2115637] [0.3361877]\n",
      "380 0.0933674 [1.1977082] [0.3862104]\n",
      "400 0.081538394 [1.1847601] [0.43295705]\n",
      "420 0.07120807 [1.1726601] [0.47664228]\n",
      "440 0.0621865 [1.1613524] [0.5174664]\n",
      "460 0.054307975 [1.1507853] [0.555617]\n",
      "480 0.047427587 [1.1409103] [0.59126914]\n",
      "500 0.041418865 [1.1316819] [0.6245863]\n",
      "520 0.03617142 [1.123058] [0.6557214]\n",
      "540 0.03158876 [1.1149988] [0.68481755]\n",
      "560 0.02758668 [1.1074674] [0.7120083]\n",
      "580 0.024091661 [1.1004293] [0.7374183]\n",
      "600 0.021039415 [1.0938522] [0.761164]\n",
      "620 0.018373873 [1.0877056] [0.78335464]\n",
      "640 0.016046066 [1.0819618] [0.80409193]\n",
      "660 0.014013132 [1.076594] [0.8234712]\n",
      "680 0.012237743 [1.0715777] [0.8415813]\n",
      "700 0.010687339 [1.0668901] [0.85850537]\n",
      "720 0.009333311 [1.0625094] [0.874321]\n",
      "740 0.008150877 [1.0584157] [0.88910085]\n",
      "760 0.0071182125 [1.05459] [0.9029128]\n",
      "780 0.00621638 [1.0510148] [0.91582024]\n",
      "800 0.005428814 [1.0476738] [0.9278823]\n",
      "820 0.0047410084 [1.0445516] [0.9391545]\n",
      "840 0.004140375 [1.0416338] [0.94968843]\n",
      "860 0.0036158152 [1.0389072] [0.95953244]\n",
      "880 0.0031577237 [1.0363592] [0.96873176]\n",
      "900 0.002757657 [1.033978] [0.97732866]\n",
      "920 0.0024082777 [1.0317527] [0.98536247]\n",
      "940 0.002103164 [1.0296732] [0.99287033]\n",
      "960 0.00183671 [1.0277297] [0.9998863]\n",
      "980 0.001604018 [1.0259138] [1.0064428]\n",
      "1000 0.0014007881 [1.0242168] [1.01257]\n",
      "1020 0.0012233239 [1.0226307] [1.018296]\n",
      "1040 0.0010683371 [1.0211486] [1.0236468]\n",
      "1060 0.0009329937 [1.0197636] [1.0286471]\n",
      "1080 0.0008147884 [1.0184692] [1.0333201]\n",
      "1100 0.0007115593 [1.0172597] [1.0376868]\n",
      "1120 0.0006214164 [1.0161294] [1.0417676]\n",
      "1140 0.00054269104 [1.0150731] [1.0455812]\n",
      "1160 0.00047394 [1.014086] [1.049145]\n",
      "1180 0.00041389064 [1.0131634] [1.0524756]\n",
      "1200 0.00036145624 [1.0123014] [1.0555879]\n",
      "1220 0.00031566268 [1.011496] [1.0584962]\n",
      "1240 0.00027567233 [1.010743] [1.0612142]\n",
      "1260 0.00024074761 [1.0100393] [1.0637544]\n",
      "1280 0.00021024533 [1.0093818] [1.0661283]\n",
      "1300 0.00018360853 [1.0087675] [1.0683465]\n",
      "1320 0.00016034368 [1.0081931] [1.0704199]\n",
      "1340 0.00014003011 [1.0076566] [1.0723573]\n",
      "1360 0.00012228717 [1.0071551] [1.0741676]\n",
      "1380 0.00010679517 [1.0066866] [1.0758593]\n",
      "1400 9.3265044e-05 [1.0062487] [1.0774403]\n",
      "1420 8.14505e-05 [1.0058395] [1.0789175]\n",
      "1440 7.113082e-05 [1.0054572] [1.0802982]\n",
      "1460 6.211974e-05 [1.0050997] [1.0815885]\n",
      "1480 5.4249744e-05 [1.0047656] [1.0827943]\n",
      "1500 4.7376525e-05 [1.0044535] [1.0839212]\n",
      "1520 4.1376134e-05 [1.004162] [1.084974]\n",
      "1540 3.6131853e-05 [1.0038894] [1.0859581]\n",
      "1560 3.1554468e-05 [1.0036347] [1.0868776]\n",
      "1580 2.755769e-05 [1.0033966] [1.087737]\n",
      "1600 2.4066025e-05 [1.0031742] [1.08854]\n",
      "1620 2.1018166e-05 [1.0029663] [1.0892905]\n",
      "1640 1.8352299e-05 [1.002772] [1.0899926]\n",
      "1660 1.6026781e-05 [1.0025903] [1.090648]\n",
      "1680 1.39963495e-05 [1.0024207] [1.0912606]\n",
      "1700 1.222321e-05 [1.0022621] [1.0918329]\n",
      "1720 1.0674312e-05 [1.002114] [1.0923678]\n",
      "1740 9.3217905e-06 [1.0019755] [1.0928676]\n",
      "1760 8.140611e-06 [1.0018461] [1.0933349]\n",
      "1780 7.1090994e-06 [1.0017253] [1.0937712]\n",
      "1800 6.2091685e-06 [1.0016123] [1.094179]\n",
      "1820 5.4227153e-06 [1.0015068] [1.0945601]\n",
      "1840 4.735649e-06 [1.0014081] [1.0949166]\n",
      "1860 4.1357853e-06 [1.0013158] [1.0952494]\n",
      "1880 3.6116853e-06 [1.0012298] [1.0955604]\n",
      "1900 3.1543902e-06 [1.0011492] [1.0958511]\n",
      "1920 2.7548103e-06 [1.001074] [1.0961226]\n",
      "1940 2.4062065e-06 [1.0010036] [1.0963764]\n",
      "1960 2.1013975e-06 [1.0009379] [1.0966136]\n",
      "1980 1.8351682e-06 [1.0008767] [1.0968354]\n",
      "2000 1.602689e-06 [1.0008192] [1.0970426]\n"
     ]
    }
   ],
   "source": [
    "import tensorflow as tf\n",
    "# 1. 변수 및 플레이스 홀더 정의\n",
    "W = tf.Variable(tf.random_normal([1]), name='weight')\n",
    "b = tf.Variable(tf.random_normal([1]), name='bias')\n",
    "\n",
    "X = tf.placeholder(tf.float32)\n",
    "Y = tf.placeholder(tf.float32)\n",
    "\n",
    "# 2. 가설(모형) 정의\n",
    "hypothesis = X * W + b\n",
    "\n",
    "# 3. 코스트 함수 정의\n",
    "cost = tf.reduce_mean(tf.square(hypothesis - Y))\n",
    "\n",
    "# 4. 코스트 최소화를 위한 트레이닝 : Gradient descent algorithm 사용\n",
    "optimizer = tf.train.GradientDescentOptimizer(learning_rate=0.01)\n",
    "train = optimizer.minimize(cost)\n",
    "\n",
    "# 5. 세션 시작\n",
    "sess = tf.Session()\n",
    "sess.run(tf.global_variables_initializer())\n",
    "\n",
    "# 6. 위의 그래프 실행\n",
    "X_train = [1, 2, 3, 4, 5]\n",
    "y_train = [2.1, 3.1, 4.1, 5.1, 6.1]\n",
    "\n",
    "costs = []\n",
    "Ws = []\n",
    "bs = []\n",
    "for step in range(2001):\n",
    "    cost_val, W_val, b_val, _ = sess.run([cost, W, b, train], feed_dict={X: X_train, Y: y_train})\n",
    "    costs.append(cost_val)\n",
    "    Ws.append(W_val)\n",
    "    bs.append(b_val)\n",
    "    if step % 20 == 0:\n",
    "        print(step, cost_val, W_val, b_val)"
   ]
  },
  {
   "cell_type": "markdown",
   "metadata": {},
   "source": [
    "    step 2000에 도달하면 코스트는 거의 제로에 수렴되고, weight는 1, bias는 1.1에 가까워진다.\n",
    "    \n",
    "    즉,\n",
    "$$H(x) = 1 * X + 1.1$$"
   ]
  },
  {
   "cell_type": "code",
   "execution_count": 7,
   "metadata": {},
   "outputs": [
    {
     "name": "stdout",
     "output_type": "stream",
     "text": [
      "[6.1011386]\n"
     ]
    }
   ],
   "source": [
    "## Test the model\n",
    "\n",
    "print(sess.run(hypothesis, feed_dict={X: [5]}))"
   ]
  },
  {
   "cell_type": "code",
   "execution_count": 8,
   "metadata": {},
   "outputs": [
    {
     "name": "stdout",
     "output_type": "stream",
     "text": [
      "[3.5990906]\n"
     ]
    }
   ],
   "source": [
    "print(sess.run(hypothesis, feed_dict={X: [2.5]}))"
   ]
  },
  {
   "cell_type": "code",
   "execution_count": 9,
   "metadata": {},
   "outputs": [
    {
     "name": "stdout",
     "output_type": "stream",
     "text": [
      "[2.5982714 4.59991  ]\n"
     ]
    }
   ],
   "source": [
    "print(sess.run(hypothesis, feed_dict={X: [1.5, 3.5]}))"
   ]
  },
  {
   "cell_type": "code",
   "execution_count": 10,
   "metadata": {},
   "outputs": [],
   "source": [
    "# w vs cost plotting\n",
    "import warnings\n",
    "warnings.filterwarnings(action='ignore')\n",
    "\n",
    "import matplotlib.pylab as plt\n",
    "import matplotlib as mpl\n",
    "import matplotlib.font_manager as fm\n",
    "import seaborn as sns\n",
    "import numpy as np\n",
    "\n",
    "sns.set_style(\"whitegrid\")\n",
    "mpl.rcParams['axes.unicode_minus'] = False\n",
    "plt.rcParams['font.size'] = 12\n",
    "\n",
    "path = \"/Library/Fonts/NanumGothic.otf\"\n",
    "font_name = fm.FontProperties(fname=path, size=20).get_name()\n",
    "\n",
    "plt.rc('font', family=font_name)\n",
    "fm._rebuild()"
   ]
  },
  {
   "cell_type": "code",
   "execution_count": 11,
   "metadata": {},
   "outputs": [
    {
     "data": {
      "image/png": "[encoded data removed]",
      "text/plain": [
       "<Figure size 432x288 with 1 Axes>"
      ]
     },
     "metadata": {
      "needs_background": "light"
     },
     "output_type": "display_data"
    }
   ],
   "source": [
    "plt.scatter(Ws, costs, c='red', s=50, marker='o', edgecolor='k')\n",
    "plt.xlabel(\"W\")\n",
    "plt.ylabel(\"Cost\")\n",
    "plt.title(\"W 최소값 1.0로 수렴하게 하는 gradient descent algorithm\")\n",
    "plt.show()"
   ]
  },
  {
   "cell_type": "code",
   "execution_count": 13,
   "metadata": {},
   "outputs": [
    {
     "data": {
      "image/png": "[encoded data removed]",
      "text/plain": [
       "<Figure size 432x288 with 1 Axes>"
      ]
     },
     "metadata": {
      "needs_background": "light"
     },
     "output_type": "display_data"
    }
   ],
   "source": [
    "plt.scatter(bs, costs, c='red', s=50, marker='o', edgecolor='k')\n",
    "plt.xlabel(\"b\")\n",
    "plt.ylabel(\"Cost\")\n",
    "plt.title(\"b 최소값 1.1로 수렴하게 하는 gradient descent algorithm\")\n",
    "plt.show()"
   ]
  },
  {
   "cell_type": "code",
   "execution_count": null,
   "metadata": {},
   "outputs": [],
   "source": []
  }
 ],
 "metadata": {
  "kernelspec": {
   "display_name": "Python 3",
   "language": "python",
   "name": "python3"
  },
  "language_info": {
   "codemirror_mode": {
    "name": "ipython",
    "version": 3
   },
   "file_extension": ".py",
   "mimetype": "text/x-python",
   "name": "python",
   "nbconvert_exporter": "python",
   "pygments_lexer": "ipython3",
   "version": "3.7.3"
  }
 },
 "nbformat": 4,
 "nbformat_minor": 2
}
