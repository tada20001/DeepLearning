{
 "cells": [
  {
   "cell_type": "code",
   "execution_count": 2,
   "metadata": {},
   "outputs": [
    {
     "name": "stdout",
     "output_type": "stream",
     "text": [
      "Extracting MNIST_data/train-images-idx3-ubyte.gz\n",
      "Extracting MNIST_data/train-labels-idx1-ubyte.gz\n",
      "Extracting MNIST_data/t10k-images-idx3-ubyte.gz\n",
      "Extracting MNIST_data/t10k-labels-idx1-ubyte.gz\n"
     ]
    }
   ],
   "source": [
    "import tensorflow as tf\n",
    "from tensorflow.examples.tutorials.mnist import input_data\n",
    "import numpy as np\n",
    "\n",
    "tf.set_random_seed(777)\n",
    "mnist = input_data.read_data_sets(\"MNIST_data/\", one_hot=True)"
   ]
  },
  {
   "cell_type": "code",
   "execution_count": 3,
   "metadata": {},
   "outputs": [],
   "source": [
    "class Model:\n",
    "    def __init__(self, sess, name):\n",
    "        self.sess = sess\n",
    "        self.name = name\n",
    "        self._build_net()\n",
    "        \n",
    "    def _build_net(self):\n",
    "        with tf.variable_scope(self.name):\n",
    "            # dropout(keep_prob) rate 0.7~0.5 on training, but should be 1\n",
    "            # for testing\n",
    "            self.training = tf.placeholder(tf.bool)\n",
    "            \n",
    "            # input placeholders\n",
    "            self.X = tf.placeholder(tf.float32, shape=[None, 28*28])\n",
    "            \n",
    "            # img 28 x 28 x 1, input layer\n",
    "            X_img = tf.reshape(self.X, [-1, 28, 28, 1])\n",
    "            self.Y = tf.placeholder(tf.float32, shape=[None, 10])\n",
    "            \n",
    "            # Convolutional layer #1 and Pooling layer # 1 (input img ?, 28, 28, 1)\n",
    "            conv1 = tf.layers.conv2d(inputs=X_img, filters=32, kernel_size=[3, 3], padding=\"SAME\", activation=tf.nn.relu)\n",
    "            pool1 = tf.layers.max_pooling2d(inputs=conv1, pool_size=[2, 2], padding=\"SAME\", strides=2)\n",
    "            dropout1 = tf.layers.dropout(inputs=pool1, rate=0.3, training=self.training)\n",
    "            \n",
    "            # convolutional layer #2 and Pooling layer #2 (input img 14, 14, 1, 32)\n",
    "            conv2 = tf.layers.conv2d(inputs=dropout1, filters=64, kernel_size=[3, 3], padding=\"SAME\", activation=tf.nn.relu)\n",
    "            pool2 = tf.layers.max_pooling2d(inputs=conv2, pool_size=[2, 2], padding=\"SAME\", strides=2)\n",
    "            dropout2 = tf.layers.dropout(inputs=pool2, rate=0.3, training=self.training)\n",
    "            \n",
    "            # convolutional layer #3 and Pooling layer #3 (input img 7, 7, 1, 64)\n",
    "            conv3 = tf.layers.conv2d(inputs=dropout2, filters=128, kernel_size=[3, 3], padding=\"SAME\", activation=tf.nn.relu)\n",
    "            pool3 = tf.layers.max_pooling2d(inputs=conv3, pool_size=[2, 2], padding=\"SAME\", strides=2)\n",
    "            dropout3 = tf.layers.dropout(inputs=pool3, rate=0.3, training=self.training)\n",
    "            \n",
    "            # Dense Layer with Relu (input img 4, 4, 1, 128)\n",
    "            flat = tf.reshape(dropout3, [-1, 4 * 4 * 128])\n",
    "            dense4 = tf.layers.dense(inputs=flat, units=625, activation=tf.nn.relu)\n",
    "            dropout4 = tf.layers.dropout(inputs=dense4, rate=0.5, training=self.training)\n",
    "            \n",
    "        # Logits(no activation) layer: L5 Final FC 625 inputs -> 10 outputs\n",
    "        self.logits = tf.layers.dense(inputs=dropout4, units=10)\n",
    "            \n",
    "            \n",
    "        # define cost/loss and optimizer\n",
    "        self.cost = tf.reduce_mean(tf.nn.softmax_cross_entropy_with_logits_v2(logits=self.logits, labels=self.Y))\n",
    "        self.optimizer = tf.train.AdamOptimizer(learning_rate=learning_rate).minimize(self.cost)\n",
    "            \n",
    "        correct_prediction = tf.equal(tf.argmax(self.logits, 1), tf.argmax(self.Y, 1))\n",
    "        self.accuracy = tf.reduce_mean(tf.cast(correct_prediction, dtype=tf.float32))\n",
    "            \n",
    "    def predict(self, x_test, training=False):\n",
    "        return self.sess.run(self.logits, feed_dict={self.X: x_test, self.training: training})\n",
    "        \n",
    "    def get_accuracy(self, x_test, y_test, training=False):\n",
    "        return self.sess.run(self.accuracy, feed_dict={self.X: x_test, self.Y: y_test, self.training:training})\n",
    "        \n",
    "    def train(self, x_train, y_train, training=True):\n",
    "        return self.sess.run([self.cost, self.optimizer], feed_dict={self.X: x_train, self.Y: y_train, self.training: training})"
   ]
  },
  {
   "cell_type": "code",
   "execution_count": 4,
   "metadata": {},
   "outputs": [
    {
     "name": "stdout",
     "output_type": "stream",
     "text": [
      "WARNING:tensorflow:From <ipython-input-3-6846c2259280>:21: conv2d (from tensorflow.python.layers.convolutional) is deprecated and will be removed in a future version.\n",
      "Instructions for updating:\n",
      "Use keras.layers.conv2d instead.\n",
      "WARNING:tensorflow:From /Users/imjunghee/anaconda3/lib/python3.7/site-packages/tensorflow/python/framework/op_def_library.py:263: colocate_with (from tensorflow.python.framework.ops) is deprecated and will be removed in a future version.\n",
      "Instructions for updating:\n",
      "Colocations handled automatically by placer.\n",
      "WARNING:tensorflow:From <ipython-input-3-6846c2259280>:22: max_pooling2d (from tensorflow.python.layers.pooling) is deprecated and will be removed in a future version.\n",
      "Instructions for updating:\n",
      "Use keras.layers.max_pooling2d instead.\n",
      "WARNING:tensorflow:From <ipython-input-3-6846c2259280>:23: dropout (from tensorflow.python.layers.core) is deprecated and will be removed in a future version.\n",
      "Instructions for updating:\n",
      "Use keras.layers.dropout instead.\n",
      "WARNING:tensorflow:From /Users/imjunghee/anaconda3/lib/python3.7/site-packages/tensorflow/python/keras/layers/core.py:143: calling dropout (from tensorflow.python.ops.nn_ops) with keep_prob is deprecated and will be removed in a future version.\n",
      "Instructions for updating:\n",
      "Please use `rate` instead of `keep_prob`. Rate should be set to `rate = 1 - keep_prob`.\n",
      "WARNING:tensorflow:From <ipython-input-3-6846c2259280>:37: dense (from tensorflow.python.layers.core) is deprecated and will be removed in a future version.\n",
      "Instructions for updating:\n",
      "Use keras.layers.dense instead.\n",
      "Learning Started!\n",
      "Epoch: 0001 Cost: 0.292316119\n",
      "Epoch: 0002 Cost: 0.092085041\n",
      "Epoch: 0003 Cost: 0.067789306\n",
      "Epoch: 0004 Cost: 0.056765077\n",
      "Epoch: 0005 Cost: 0.049974664\n",
      "Epoch: 0006 Cost: 0.046826896\n",
      "Epoch: 0007 Cost: 0.040395696\n",
      "Epoch: 0008 Cost: 0.040456974\n",
      "Epoch: 0009 Cost: 0.035972636\n",
      "Epoch: 0010 Cost: 0.033343539\n",
      "Epoch: 0011 Cost: 0.031386594\n",
      "Epoch: 0012 Cost: 0.031871886\n",
      "Epoch: 0013 Cost: 0.027765510\n",
      "Epoch: 0014 Cost: 0.028236290\n",
      "Epoch: 0015 Cost: 0.028185746\n",
      "Learning Finished!\n"
     ]
    }
   ],
   "source": [
    "# parameters\n",
    "batch_size = 100\n",
    "num_epochs = 15\n",
    "learning_rate = 0.001\n",
    "num_iterations = int(mnist.train.num_examples / batch_size)\n",
    "\n",
    "# initialize \n",
    "sess = tf.Session()\n",
    "m1 = Model(sess, 'm1')\n",
    "sess.run(tf.global_variables_initializer())\n",
    "\n",
    "print(\"Learning Started!\")\n",
    "\n",
    "# train the model\n",
    "for epoch in range(num_epochs):\n",
    "    avg_cost = 0\n",
    "    \n",
    "    for i in range(num_iterations):\n",
    "        batch_xs, batch_ys = mnist.train.next_batch(batch_size)\n",
    "        c, _ = m1.train(batch_xs, batch_ys)\n",
    "        avg_cost += c / num_iterations\n",
    "        \n",
    "    print(\"Epoch:\", \"%04d\" % (epoch+1), \"Cost:\", \"%.9f\" % (avg_cost))\n",
    "\n",
    "print('Learning Finished!')"
   ]
  },
  {
   "cell_type": "code",
   "execution_count": 5,
   "metadata": {},
   "outputs": [
    {
     "name": "stdout",
     "output_type": "stream",
     "text": [
      "Accuracy 0.9943\n"
     ]
    }
   ],
   "source": [
    "# Accuracy\n",
    "print(\"Accuracy\", m1.get_accuracy(mnist.test.images, mnist.test.labels))"
   ]
  },
  {
   "cell_type": "code",
   "execution_count": null,
   "metadata": {},
   "outputs": [],
   "source": []
  }
 ],
 "metadata": {
  "kernelspec": {
   "display_name": "Python 3",
   "language": "python",
   "name": "python3"
  },
  "language_info": {
   "codemirror_mode": {
    "name": "ipython",
    "version": 3
   },
   "file_extension": ".py",
   "mimetype": "text/x-python",
   "name": "python",
   "nbconvert_exporter": "python",
   "pygments_lexer": "ipython3",
   "version": "3.7.3"
  }
 },
 "nbformat": 4,
 "nbformat_minor": 2
}
