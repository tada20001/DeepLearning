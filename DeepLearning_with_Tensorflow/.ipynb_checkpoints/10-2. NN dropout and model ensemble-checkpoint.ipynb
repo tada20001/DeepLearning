{
 "cells": [
  {
   "cell_type": "markdown",
   "metadata": {},
   "source": [
    "### Overfitting 문제 \n",
    "* 학습데이터를 가지고 성능을 구하면 거의 100% 나오는 모델을 만들면 테스트용에서는 성능이 떨어진다.\n",
    "* 이러한 경우를 overfitting이 되었다고 하고, 이 문제는 layer를 많이 만들면 자주 발생한다.\n",
    "\n",
    "### Solutions for overfitting\n",
    "* More training data\n",
    "* Reduce the number of features  : 딥러닝에 있어서는 굳이 feature의 수를 줄일 필요는 없다.\n",
    "* Regularization : weight가 너무 큰 숫자를 갖지 않게 하는 일반화 사용. cost 함수에 weight 각각 원소들을 곱한 것이 최저가 되게 만든다. L2 regularization\n",
    "\n",
    "$$ L_2reg = cost + \\lambda\\sum W^2$$\n",
    "\n",
    "    l2reg = 0.001 * tf.reduce_sum(tf.square(W))\n",
    "\n",
    "* l2reg는 NN에서 자주 사용한다."
   ]
  },
  {
   "cell_type": "markdown",
   "metadata": {},
   "source": [
    "### Dropout \n",
    "* overfitting을 방지하기 위한 가장 간단한 방법\n",
    "* 모든 뉴런들을 연결하는 것이 아니라, 몇개씩 선택해서 나머지는 끊어버린다. (랜덤하게 어떤 뉴런들을 제로로 만든다)\n",
    "\n",
    "#### Dropout 구현"
   ]
  },
  {
   "cell_type": "raw",
   "metadata": {},
   "source": [
    "dropout_rate = tf.placeholder(\"float\")\n",
    "_L1 = tf.nn.relu(tf.add(tf.matmul(X, W1), B1))\n",
    "L1 = tf.nn.dropout(_L1, dropout_rate)\n",
    "\n",
    "# Train\n",
    "sess.run(optimizer, feed_dict={X: batch_xs, Y: batch_ys, dropout_rate: 0.7})\n",
    "\n",
    "# Evalution\n",
    "print(\"Accuracy:\", accuracy.eval(X:mnist.test.images, Y: mnist.test.labes, dropout_rate: 1))"
   ]
  },
  {
   "cell_type": "markdown",
   "metadata": {},
   "source": [
    "### Ensemble\n",
    "\n",
    "* 데이터를 training할 때, 예를 들어 똑같은 형태의 뉴럴 네트워크 모델을 만들어 각각 학습을 시킨다. 각각의 내용을 합쳐서 결과를 만들어낸다(combiner). 이러한 과정을 통해 예측을 하는데 이 방법을 ensemble이라고 한다.\n",
    "* 이 방법을 사용하면 실제로 2~4, 5%까지 성능이 향상된다."
   ]
  },
  {
   "cell_type": "code",
   "execution_count": null,
   "metadata": {},
   "outputs": [],
   "source": []
  }
 ],
 "metadata": {
  "kernelspec": {
   "display_name": "Python 3",
   "language": "python",
   "name": "python3"
  },
  "language_info": {
   "codemirror_mode": {
    "name": "ipython",
    "version": 3
   },
   "file_extension": ".py",
   "mimetype": "text/x-python",
   "name": "python",
   "nbconvert_exporter": "python",
   "pygments_lexer": "ipython3",
   "version": "3.7.3"
  }
 },
 "nbformat": 4,
 "nbformat_minor": 2
}
