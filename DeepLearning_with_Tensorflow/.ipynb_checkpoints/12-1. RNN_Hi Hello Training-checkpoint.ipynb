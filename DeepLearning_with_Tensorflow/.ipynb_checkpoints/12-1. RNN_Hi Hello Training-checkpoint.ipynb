{
 "cells": [
  {
   "cell_type": "code",
   "execution_count": 1,
   "metadata": {},
   "outputs": [],
   "source": [
    "import tensorflow as tf\n",
    "import numpy as np\n",
    "import pprint as pp\n",
    "\n",
    "tf.logging.set_verbosity(tf.logging.ERROR)\n",
    "tf.set_random_seed(777)"
   ]
  },
  {
   "cell_type": "code",
   "execution_count": 3,
   "metadata": {},
   "outputs": [
    {
     "name": "stdout",
     "output_type": "stream",
     "text": [
      "array([[[1., 0., 0., 0., 0.],\n",
      "        [0., 0., 1., 0., 0.],\n",
      "        [1., 0., 0., 0., 0.],\n",
      "        [0., 1., 0., 0., 0.],\n",
      "        [0., 0., 0., 1., 0.],\n",
      "        [0., 0., 0., 1., 0.],\n",
      "        [0., 0., 0., 0., 1.]]], dtype=float32)\n"
     ]
    }
   ],
   "source": [
    "input_data = list(set('hihello'))\n",
    "\n",
    "h = [1, 0, 0, 0, 0]\n",
    "e = [0, 1, 0, 0, 0]\n",
    "i = [0, 0, 1, 0, 0]\n",
    "l = [0, 0, 0, 1, 0]\n",
    "o = [0, 0, 0, 0, 1]\n",
    "\n",
    "# h:0, e:1, i:2, l:3, o:4 --> one-hot encoding\n",
    "\n",
    "x_data = np.array([[h, i, h, e, l, l, o]], dtype=np.float32)\n",
    "pp.pprint(x_data)"
   ]
  },
  {
   "cell_type": "code",
   "execution_count": 4,
   "metadata": {},
   "outputs": [],
   "source": [
    "sequence_length = 7\n",
    "hidden_size = 5  # one-hot으로 나와야 하기 때문에 5(h, e, i, l, o)\n",
    "batch_size = 1  # 한줄만 입력하기 때문에 batch_size = 1\n",
    "\n",
    "# rnn_cell은 GRUCell(rnn_size) 사용 가능\n",
    "# cell = tf.contrib.rnn.GRUCell(num_units=hidden_size)\n",
    "cell = tf.contrib.rnn.BasicLSTMCell(num_units=hidden_size)\n",
    "\n",
    "outputs, _states = tf.nn.dynamic_rnn(cell, x_data, dtype=tf.float32)"
   ]
  },
  {
   "cell_type": "code",
   "execution_count": 5,
   "metadata": {},
   "outputs": [
    {
     "name": "stdout",
     "output_type": "stream",
     "text": [
      "array([[[-0.00820011, -0.12516846, -0.00109155, -0.08578427,\n",
      "         -0.02479585],\n",
      "        [-0.09453642, -0.14250152, -0.02844694, -0.13483033,\n",
      "          0.04651831],\n",
      "        [-0.07265618, -0.2996451 , -0.01728353, -0.2039874 ,\n",
      "         -0.01324248],\n",
      "        [ 0.01648019, -0.17692621, -0.05124753, -0.1765648 ,\n",
      "         -0.04826915],\n",
      "        [ 0.00338528, -0.06204902, -0.09092198, -0.08830062,\n",
      "         -0.02259476],\n",
      "        [ 0.00506152,  0.08547659, -0.13553241,  0.01971849,\n",
      "          0.02411455],\n",
      "        [ 0.06973629,  0.05258247, -0.02265765, -0.1168239 ,\n",
      "          0.10626922]]], dtype=float32)\n",
      "Tensor(\"rnn/transpose_1:0\", shape=(1, 7, 5), dtype=float32)\n"
     ]
    }
   ],
   "source": [
    "sess = tf.Session()\n",
    "sess.run(tf.global_variables_initializer())\n",
    "pp.pprint(outputs.eval(session=sess))\n",
    "print(outputs)"
   ]
  },
  {
   "cell_type": "code",
   "execution_count": 28,
   "metadata": {},
   "outputs": [
    {
     "data": {
      "text/plain": [
       "[[0, 1, 0, 2, 3, 3]]"
      ]
     },
     "execution_count": 28,
     "metadata": {},
     "output_type": "execute_result"
    }
   ],
   "source": [
    "idx2char = ['h', 'i', 'e', 'l', 'o']\n",
    "char_list = {}\n",
    "for idx, char in enumerate(idx2char):\n",
    "    char_list[char] = idx\n",
    "char = 'hihell'\n",
    "x_data = [[int(char_list[c]) for c in char]]\n",
    "x_data"
   ]
  },
  {
   "cell_type": "code",
   "execution_count": 29,
   "metadata": {},
   "outputs": [
    {
     "data": {
      "text/plain": [
       "[[1, 0, 2, 3, 3, 4]]"
      ]
     },
     "execution_count": 29,
     "metadata": {},
     "output_type": "execute_result"
    }
   ],
   "source": [
    "y_char = 'ihello'\n",
    "y_data = [[int(char_list[c]) for c in y_char]]\n",
    "y_data"
   ]
  },
  {
   "cell_type": "code",
   "execution_count": 52,
   "metadata": {},
   "outputs": [
    {
     "name": "stdout",
     "output_type": "stream",
     "text": [
      "Tensor(\"one_hot:0\", shape=(1, 6, 5), dtype=float32)\n",
      "Tensor(\"Placeholder:0\", shape=(1, 6, 5), dtype=float32)\n"
     ]
    }
   ],
   "source": [
    "tf.reset_default_graph()\n",
    "sequence_length = len(y_data[0])\n",
    "hidden_size = len(idx2char) # input dim\n",
    "batch_size = 1\n",
    "\n",
    "x_one_hot = [[[1, 0, 0, 0, 0],   # h 0\n",
    "              [0, 1, 0, 0, 0],   # i 1\n",
    "              [1, 0, 0, 0, 0],   # h 0\n",
    "              [0, 0, 1, 0, 0],   # e 2\n",
    "              [0, 0, 0, 1, 0],   # l 3\n",
    "              [0, 0, 0, 1, 0]]]  # l 3\n",
    "\n",
    "X = tf.placeholder(tf.float32, shape=[1, sequence_length, hidden_size]) # X_one_hot\n",
    "Y = tf.placeholder(tf.int32, shape=[None, sequence_length])  # Y label\n",
    "\n",
    "cell = tf.contrib.rnn.BasicLSTMCell(num_units=hidden_size, state_is_tuple=True)\n",
    "initial_state = cell.zero_state(batch_size, tf.float32)\n",
    "outputs, _states = tf.nn.dynamic_rnn(cell, X, initial_state=initial_state, dtype=tf.float32)\n",
    "print(X_one_hot)\n",
    "print(X)"
   ]
  },
  {
   "cell_type": "code",
   "execution_count": 53,
   "metadata": {},
   "outputs": [],
   "source": [
    "# cost/loss function\n",
    "weights = tf.ones([batch_size, sequence_length], dtype=tf.float32)\n",
    "\n",
    "sequence_loss = tf.contrib.seq2seq.sequence_loss(logits=outputs, targets=Y, weights=weights)\n",
    "loss = tf.reduce_mean(sequence_loss)  # 각 sequence의 loss를 평균한 값\n",
    "train = tf.train.AdamOptimizer(learning_rate=0.1).minimize(loss)"
   ]
  },
  {
   "cell_type": "code",
   "execution_count": 60,
   "metadata": {},
   "outputs": [
    {
     "name": "stdout",
     "output_type": "stream",
     "text": [
      "0 loss: 1.597315073 prediction: [[2 3 3 3 3 4]] true Y: [[1, 0, 2, 3, 3, 4]]\n",
      "\tPrediction str: ellllo\n",
      "20 loss: 0.807377219 prediction: [[1 0 2 3 3 3]] true Y: [[1, 0, 2, 3, 3, 4]]\n",
      "\tPrediction str: ihelll\n",
      "40 loss: 0.701444507 prediction: [[1 0 2 3 3 4]] true Y: [[1, 0, 2, 3, 3, 4]]\n",
      "\tPrediction str: ihello\n",
      "60 loss: 0.666903913 prediction: [[1 0 2 3 3 4]] true Y: [[1, 0, 2, 3, 3, 4]]\n",
      "\tPrediction str: ihello\n",
      "80 loss: 0.656582236 prediction: [[1 0 2 3 3 4]] true Y: [[1, 0, 2, 3, 3, 4]]\n",
      "\tPrediction str: ihello\n",
      "100 loss: 0.652033687 prediction: [[1 0 2 3 3 4]] true Y: [[1, 0, 2, 3, 3, 4]]\n",
      "\tPrediction str: ihello\n",
      "120 loss: 0.649236679 prediction: [[1 0 2 3 3 4]] true Y: [[1, 0, 2, 3, 3, 4]]\n",
      "\tPrediction str: ihello\n",
      "140 loss: 0.647223413 prediction: [[1 0 2 3 3 4]] true Y: [[1, 0, 2, 3, 3, 4]]\n",
      "\tPrediction str: ihello\n",
      "160 loss: 0.645661414 prediction: [[1 0 2 3 3 4]] true Y: [[1, 0, 2, 3, 3, 4]]\n",
      "\tPrediction str: ihello\n",
      "180 loss: 0.644396424 prediction: [[1 0 2 3 3 4]] true Y: [[1, 0, 2, 3, 3, 4]]\n",
      "\tPrediction str: ihello\n",
      "200 loss: 0.643341660 prediction: [[1 0 2 3 3 4]] true Y: [[1, 0, 2, 3, 3, 4]]\n",
      "\tPrediction str: ihello\n",
      "220 loss: 0.642454803 prediction: [[1 0 2 3 3 4]] true Y: [[1, 0, 2, 3, 3, 4]]\n",
      "\tPrediction str: ihello\n",
      "240 loss: 0.641694307 prediction: [[1 0 2 3 3 4]] true Y: [[1, 0, 2, 3, 3, 4]]\n",
      "\tPrediction str: ihello\n",
      "260 loss: 0.641023159 prediction: [[1 0 2 3 3 4]] true Y: [[1, 0, 2, 3, 3, 4]]\n",
      "\tPrediction str: ihello\n",
      "280 loss: 0.640434861 prediction: [[1 0 2 3 3 4]] true Y: [[1, 0, 2, 3, 3, 4]]\n",
      "\tPrediction str: ihello\n",
      "300 loss: 0.639905512 prediction: [[1 0 2 3 3 4]] true Y: [[1, 0, 2, 3, 3, 4]]\n",
      "\tPrediction str: ihello\n",
      "320 loss: 0.639425755 prediction: [[1 0 2 3 3 4]] true Y: [[1, 0, 2, 3, 3, 4]]\n",
      "\tPrediction str: ihello\n",
      "340 loss: 0.638986468 prediction: [[1 0 2 3 3 4]] true Y: [[1, 0, 2, 3, 3, 4]]\n",
      "\tPrediction str: ihello\n",
      "360 loss: 0.638580918 prediction: [[1 0 2 3 3 4]] true Y: [[1, 0, 2, 3, 3, 4]]\n",
      "\tPrediction str: ihello\n",
      "380 loss: 0.638205409 prediction: [[1 0 2 3 3 4]] true Y: [[1, 0, 2, 3, 3, 4]]\n",
      "\tPrediction str: ihello\n",
      "400 loss: 0.637861490 prediction: [[1 0 2 3 3 4]] true Y: [[1, 0, 2, 3, 3, 4]]\n",
      "\tPrediction str: ihello\n",
      "420 loss: 0.637547135 prediction: [[1 0 2 3 3 4]] true Y: [[1, 0, 2, 3, 3, 4]]\n",
      "\tPrediction str: ihello\n",
      "440 loss: 0.637254715 prediction: [[1 0 2 3 3 4]] true Y: [[1, 0, 2, 3, 3, 4]]\n",
      "\tPrediction str: ihello\n",
      "460 loss: 0.636980534 prediction: [[1 0 2 3 3 4]] true Y: [[1, 0, 2, 3, 3, 4]]\n",
      "\tPrediction str: ihello\n",
      "480 loss: 0.636722684 prediction: [[1 0 2 3 3 4]] true Y: [[1, 0, 2, 3, 3, 4]]\n",
      "\tPrediction str: ihello\n",
      "500 loss: 0.636479557 prediction: [[1 0 2 3 3 4]] true Y: [[1, 0, 2, 3, 3, 4]]\n",
      "\tPrediction str: ihello\n",
      "520 loss: 0.636249483 prediction: [[1 0 2 3 3 4]] true Y: [[1, 0, 2, 3, 3, 4]]\n",
      "\tPrediction str: ihello\n",
      "540 loss: 0.636031389 prediction: [[1 0 2 3 3 4]] true Y: [[1, 0, 2, 3, 3, 4]]\n",
      "\tPrediction str: ihello\n",
      "560 loss: 0.635874927 prediction: [[1 0 2 3 3 4]] true Y: [[1, 0, 2, 3, 3, 4]]\n",
      "\tPrediction str: ihello\n",
      "580 loss: 0.635633469 prediction: [[1 0 2 3 3 4]] true Y: [[1, 0, 2, 3, 3, 4]]\n",
      "\tPrediction str: ihello\n",
      "600 loss: 0.635443091 prediction: [[1 0 2 3 3 4]] true Y: [[1, 0, 2, 3, 3, 4]]\n",
      "\tPrediction str: ihello\n",
      "620 loss: 0.635263920 prediction: [[1 0 2 3 3 4]] true Y: [[1, 0, 2, 3, 3, 4]]\n",
      "\tPrediction str: ihello\n",
      "640 loss: 0.635093272 prediction: [[1 0 2 3 3 4]] true Y: [[1, 0, 2, 3, 3, 4]]\n",
      "\tPrediction str: ihello\n",
      "660 loss: 0.634929657 prediction: [[1 0 2 3 3 4]] true Y: [[1, 0, 2, 3, 3, 4]]\n",
      "\tPrediction str: ihello\n",
      "680 loss: 0.634772360 prediction: [[1 0 2 3 3 4]] true Y: [[1, 0, 2, 3, 3, 4]]\n",
      "\tPrediction str: ihello\n",
      "700 loss: 0.634621024 prediction: [[1 0 2 3 3 4]] true Y: [[1, 0, 2, 3, 3, 4]]\n",
      "\tPrediction str: ihello\n",
      "720 loss: 0.634475231 prediction: [[1 0 2 3 3 4]] true Y: [[1, 0, 2, 3, 3, 4]]\n",
      "\tPrediction str: ihello\n",
      "740 loss: 0.634334624 prediction: [[1 0 2 3 3 4]] true Y: [[1, 0, 2, 3, 3, 4]]\n",
      "\tPrediction str: ihello\n",
      "760 loss: 0.634198844 prediction: [[1 0 2 3 3 4]] true Y: [[1, 0, 2, 3, 3, 4]]\n",
      "\tPrediction str: ihello\n",
      "780 loss: 0.634067655 prediction: [[1 0 2 3 3 4]] true Y: [[1, 0, 2, 3, 3, 4]]\n",
      "\tPrediction str: ihello\n",
      "800 loss: 0.633940578 prediction: [[1 0 2 3 3 4]] true Y: [[1, 0, 2, 3, 3, 4]]\n",
      "\tPrediction str: ihello\n",
      "820 loss: 0.633817673 prediction: [[1 0 2 3 3 4]] true Y: [[1, 0, 2, 3, 3, 4]]\n",
      "\tPrediction str: ihello\n",
      "840 loss: 0.633698583 prediction: [[1 0 2 3 3 4]] true Y: [[1, 0, 2, 3, 3, 4]]\n",
      "\tPrediction str: ihello\n",
      "860 loss: 0.633583009 prediction: [[1 0 2 3 3 4]] true Y: [[1, 0, 2, 3, 3, 4]]\n",
      "\tPrediction str: ihello\n",
      "880 loss: 0.633471012 prediction: [[1 0 2 3 3 4]] true Y: [[1, 0, 2, 3, 3, 4]]\n",
      "\tPrediction str: ihello\n",
      "900 loss: 0.633362234 prediction: [[1 0 2 3 3 4]] true Y: [[1, 0, 2, 3, 3, 4]]\n",
      "\tPrediction str: ihello\n",
      "920 loss: 0.633256555 prediction: [[1 0 2 3 3 4]] true Y: [[1, 0, 2, 3, 3, 4]]\n",
      "\tPrediction str: ihello\n",
      "940 loss: 0.633153856 prediction: [[1 0 2 3 3 4]] true Y: [[1, 0, 2, 3, 3, 4]]\n",
      "\tPrediction str: ihello\n",
      "960 loss: 0.633054018 prediction: [[1 0 2 3 3 4]] true Y: [[1, 0, 2, 3, 3, 4]]\n",
      "\tPrediction str: ihello\n",
      "980 loss: 0.632956982 prediction: [[1 0 2 3 3 4]] true Y: [[1, 0, 2, 3, 3, 4]]\n",
      "\tPrediction str: ihello\n",
      "1000 loss: 0.632862508 prediction: [[1 0 2 3 3 4]] true Y: [[1, 0, 2, 3, 3, 4]]\n",
      "\tPrediction str: ihello\n",
      "1020 loss: 0.632770538 prediction: [[1 0 2 3 3 4]] true Y: [[1, 0, 2, 3, 3, 4]]\n",
      "\tPrediction str: ihello\n",
      "1040 loss: 0.632680953 prediction: [[1 0 2 3 3 4]] true Y: [[1, 0, 2, 3, 3, 4]]\n",
      "\tPrediction str: ihello\n",
      "1060 loss: 0.632593811 prediction: [[1 0 2 3 3 4]] true Y: [[1, 0, 2, 3, 3, 4]]\n",
      "\tPrediction str: ihello\n",
      "1080 loss: 0.632508814 prediction: [[1 0 2 3 3 4]] true Y: [[1, 0, 2, 3, 3, 4]]\n",
      "\tPrediction str: ihello\n",
      "1100 loss: 0.632426023 prediction: [[1 0 2 3 3 4]] true Y: [[1, 0, 2, 3, 3, 4]]\n",
      "\tPrediction str: ihello\n",
      "1120 loss: 0.632345319 prediction: [[1 0 2 3 3 4]] true Y: [[1, 0, 2, 3, 3, 4]]\n",
      "\tPrediction str: ihello\n",
      "1140 loss: 0.632266641 prediction: [[1 0 2 3 3 4]] true Y: [[1, 0, 2, 3, 3, 4]]\n",
      "\tPrediction str: ihello\n",
      "1160 loss: 0.632189810 prediction: [[1 0 2 3 3 4]] true Y: [[1, 0, 2, 3, 3, 4]]\n",
      "\tPrediction str: ihello\n",
      "1180 loss: 0.632114887 prediction: [[1 0 2 3 3 4]] true Y: [[1, 0, 2, 3, 3, 4]]\n",
      "\tPrediction str: ihello\n",
      "1200 loss: 0.632041812 prediction: [[1 0 2 3 3 4]] true Y: [[1, 0, 2, 3, 3, 4]]\n",
      "\tPrediction str: ihello\n",
      "1220 loss: 0.631970406 prediction: [[1 0 2 3 3 4]] true Y: [[1, 0, 2, 3, 3, 4]]\n",
      "\tPrediction str: ihello\n",
      "1240 loss: 0.631900668 prediction: [[1 0 2 3 3 4]] true Y: [[1, 0, 2, 3, 3, 4]]\n",
      "\tPrediction str: ihello\n",
      "1260 loss: 0.631832600 prediction: [[1 0 2 3 3 4]] true Y: [[1, 0, 2, 3, 3, 4]]\n",
      "\tPrediction str: ihello\n",
      "1280 loss: 0.631766200 prediction: [[1 0 2 3 3 4]] true Y: [[1, 0, 2, 3, 3, 4]]\n",
      "\tPrediction str: ihello\n",
      "1300 loss: 0.631701231 prediction: [[1 0 2 3 3 4]] true Y: [[1, 0, 2, 3, 3, 4]]\n",
      "\tPrediction str: ihello\n",
      "1320 loss: 0.631637752 prediction: [[1 0 2 3 3 4]] true Y: [[1, 0, 2, 3, 3, 4]]\n",
      "\tPrediction str: ihello\n",
      "1340 loss: 0.631575704 prediction: [[1 0 2 3 3 4]] true Y: [[1, 0, 2, 3, 3, 4]]\n",
      "\tPrediction str: ihello\n",
      "1360 loss: 0.631515026 prediction: [[1 0 2 3 3 4]] true Y: [[1, 0, 2, 3, 3, 4]]\n",
      "\tPrediction str: ihello\n",
      "1380 loss: 0.631455660 prediction: [[1 0 2 3 3 4]] true Y: [[1, 0, 2, 3, 3, 4]]\n",
      "\tPrediction str: ihello\n",
      "1400 loss: 0.631397724 prediction: [[1 0 2 3 3 4]] true Y: [[1, 0, 2, 3, 3, 4]]\n",
      "\tPrediction str: ihello\n",
      "1420 loss: 0.631340861 prediction: [[1 0 2 3 3 4]] true Y: [[1, 0, 2, 3, 3, 4]]\n",
      "\tPrediction str: ihello\n",
      "1440 loss: 0.631285310 prediction: [[1 0 2 3 3 4]] true Y: [[1, 0, 2, 3, 3, 4]]\n",
      "\tPrediction str: ihello\n",
      "1460 loss: 0.631230950 prediction: [[1 0 2 3 3 4]] true Y: [[1, 0, 2, 3, 3, 4]]\n",
      "\tPrediction str: ihello\n",
      "1480 loss: 0.631177604 prediction: [[1 0 2 3 3 4]] true Y: [[1, 0, 2, 3, 3, 4]]\n",
      "\tPrediction str: ihello\n",
      "1500 loss: 0.631125391 prediction: [[1 0 2 3 3 4]] true Y: [[1, 0, 2, 3, 3, 4]]\n",
      "\tPrediction str: ihello\n",
      "1520 loss: 0.631074309 prediction: [[1 0 2 3 3 4]] true Y: [[1, 0, 2, 3, 3, 4]]\n",
      "\tPrediction str: ihello\n",
      "1540 loss: 0.631024241 prediction: [[1 0 2 3 3 4]] true Y: [[1, 0, 2, 3, 3, 4]]\n",
      "\tPrediction str: ihello\n",
      "1560 loss: 0.630975187 prediction: [[1 0 2 3 3 4]] true Y: [[1, 0, 2, 3, 3, 4]]\n",
      "\tPrediction str: ihello\n",
      "1580 loss: 0.630927026 prediction: [[1 0 2 3 3 4]] true Y: [[1, 0, 2, 3, 3, 4]]\n",
      "\tPrediction str: ihello\n",
      "1600 loss: 0.630879939 prediction: [[1 0 2 3 3 4]] true Y: [[1, 0, 2, 3, 3, 4]]\n",
      "\tPrediction str: ihello\n"
     ]
    },
    {
     "name": "stdout",
     "output_type": "stream",
     "text": [
      "1620 loss: 0.630833566 prediction: [[1 0 2 3 3 4]] true Y: [[1, 0, 2, 3, 3, 4]]\n",
      "\tPrediction str: ihello\n",
      "1640 loss: 0.630788267 prediction: [[1 0 2 3 3 4]] true Y: [[1, 0, 2, 3, 3, 4]]\n",
      "\tPrediction str: ihello\n",
      "1660 loss: 0.630743742 prediction: [[1 0 2 3 3 4]] true Y: [[1, 0, 2, 3, 3, 4]]\n",
      "\tPrediction str: ihello\n",
      "1680 loss: 0.630699992 prediction: [[1 0 2 3 3 4]] true Y: [[1, 0, 2, 3, 3, 4]]\n",
      "\tPrediction str: ihello\n",
      "1700 loss: 0.630657077 prediction: [[1 0 2 3 3 4]] true Y: [[1, 0, 2, 3, 3, 4]]\n",
      "\tPrediction str: ihello\n",
      "1720 loss: 0.630615056 prediction: [[1 0 2 3 3 4]] true Y: [[1, 0, 2, 3, 3, 4]]\n",
      "\tPrediction str: ihello\n",
      "1740 loss: 0.630573630 prediction: [[1 0 2 3 3 4]] true Y: [[1, 0, 2, 3, 3, 4]]\n",
      "\tPrediction str: ihello\n",
      "1760 loss: 0.630533099 prediction: [[1 0 2 3 3 4]] true Y: [[1, 0, 2, 3, 3, 4]]\n",
      "\tPrediction str: ihello\n",
      "1780 loss: 0.630493164 prediction: [[1 0 2 3 3 4]] true Y: [[1, 0, 2, 3, 3, 4]]\n",
      "\tPrediction str: ihello\n",
      "1800 loss: 0.630453944 prediction: [[1 0 2 3 3 4]] true Y: [[1, 0, 2, 3, 3, 4]]\n",
      "\tPrediction str: ihello\n",
      "1820 loss: 0.630415440 prediction: [[1 0 2 3 3 4]] true Y: [[1, 0, 2, 3, 3, 4]]\n",
      "\tPrediction str: ihello\n",
      "1840 loss: 0.630377591 prediction: [[1 0 2 3 3 4]] true Y: [[1, 0, 2, 3, 3, 4]]\n",
      "\tPrediction str: ihello\n",
      "1860 loss: 0.630340397 prediction: [[1 0 2 3 3 4]] true Y: [[1, 0, 2, 3, 3, 4]]\n",
      "\tPrediction str: ihello\n",
      "1880 loss: 0.630303741 prediction: [[1 0 2 3 3 4]] true Y: [[1, 0, 2, 3, 3, 4]]\n",
      "\tPrediction str: ihello\n",
      "1900 loss: 0.630267739 prediction: [[1 0 2 3 3 4]] true Y: [[1, 0, 2, 3, 3, 4]]\n",
      "\tPrediction str: ihello\n",
      "1920 loss: 0.630232275 prediction: [[1 0 2 3 3 4]] true Y: [[1, 0, 2, 3, 3, 4]]\n",
      "\tPrediction str: ihello\n",
      "1940 loss: 0.630197525 prediction: [[1 0 2 3 3 4]] true Y: [[1, 0, 2, 3, 3, 4]]\n",
      "\tPrediction str: ihello\n",
      "1960 loss: 0.630163074 prediction: [[1 0 2 3 3 4]] true Y: [[1, 0, 2, 3, 3, 4]]\n",
      "\tPrediction str: ihello\n",
      "1980 loss: 0.630129397 prediction: [[1 0 2 3 3 4]] true Y: [[1, 0, 2, 3, 3, 4]]\n",
      "\tPrediction str: ihello\n"
     ]
    }
   ],
   "source": [
    "prediction = tf.argmax(outputs, axis=2) # one-hot을 label 값으로 변환\n",
    "\n",
    "sess = tf.Session()\n",
    "sess.run(tf.global_variables_initializer())\n",
    "\n",
    "# training the model\n",
    "for i in range(2000):\n",
    "    cost_val, _ = sess.run([loss, train], feed_dict={X: x_one_hot, Y: y_data})\n",
    "    result = sess.run(prediction, feed_dict={X: x_one_hot})\n",
    "    \n",
    "    if i % 20 == 0:\n",
    "        print(i, \"loss:\", \"%.9f\" % cost_val, \"prediction:\", result, \"true Y:\", y_data)\n",
    "    \n",
    "        # print char using idc\n",
    "        result_str = [idx2char[c] for c in np.squeeze(result)] # result를 1차원으로 축소하여 문자열 리스트 만들기\n",
    "        print(\"\\tPrediction str:\", \"\".join(result_str)) # 예측한 라벨을 문자열로 출력"
   ]
  },
  {
   "cell_type": "markdown",
   "metadata": {},
   "source": [
    "'hihell'를 입력했더니 예측값으로 ihello를 도출하였고, 코스트 값은 0.63이다."
   ]
  },
  {
   "cell_type": "code",
   "execution_count": null,
   "metadata": {},
   "outputs": [],
   "source": []
  }
 ],
 "metadata": {
  "kernelspec": {
   "display_name": "Python 3",
   "language": "python",
   "name": "python3"
  },
  "language_info": {
   "codemirror_mode": {
    "name": "ipython",
    "version": 3
   },
   "file_extension": ".py",
   "mimetype": "text/x-python",
   "name": "python",
   "nbconvert_exporter": "python",
   "pygments_lexer": "ipython3",
   "version": "3.7.3"
  }
 },
 "nbformat": 4,
 "nbformat_minor": 2
}
