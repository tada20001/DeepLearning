{
 "cells": [
  {
   "cell_type": "markdown",
   "metadata": {},
   "source": [
    "### 서로 다른 길이의 sequence data\n",
    "* 각각의 sequece 길이를 설정하도록 한다. 예를 들어 sequence_length = [5, 2, 3]로 하여 5개, 2개, 3개 길이의 sequence 길이를 동시에 설정한다.\n",
    "* 이렇게 하면 각각의 sequence 값에 맞게 loss를 도출하게 되어 loss가 헷갈리지 않게 한다."
   ]
  },
  {
   "cell_type": "raw",
   "metadata": {},
   "source": [
    "# 3 batches\n",
    "sequence_length = [5, 3, 4]\n",
    "\n",
    "hidden_size = 2\n",
    "cell = rnn.BasicLSTMCell(num_units=hidden_size, state_is_tuple=True)\n",
    "\n",
    "outputs, _states = tf.nn.dynamic_rnn(cell, x_data, sequence_length = [5, 3, 4], dtype=tf.float32)  # sequence 길이 설정"
   ]
  },
  {
   "cell_type": "code",
   "execution_count": 1,
   "metadata": {},
   "outputs": [],
   "source": [
    "import tensorflow as tf\n",
    "import numpy as np\n",
    "tf.logging.set_verbosity(tf.logging.ERROR)"
   ]
  },
  {
   "cell_type": "code",
   "execution_count": 8,
   "metadata": {},
   "outputs": [
    {
     "data": {
      "text/plain": [
       "array([[[0., 1., 0., 0.],\n",
       "        [0., 0., 1., 0.],\n",
       "        [0., 0., 0., 1.],\n",
       "        [0., 0., 0., 1.],\n",
       "        [1., 0., 0., 0.]],\n",
       "\n",
       "       [[0., 0., 1., 0.],\n",
       "        [1., 0., 0., 0.],\n",
       "        [0., 0., 0., 1.],\n",
       "        [0., 0., 0., 1.],\n",
       "        [0., 0., 0., 1.]],\n",
       "\n",
       "       [[0., 0., 0., 1.],\n",
       "        [0., 0., 0., 1.],\n",
       "        [0., 0., 1., 0.],\n",
       "        [0., 0., 1., 0.],\n",
       "        [0., 0., 0., 1.]]], dtype=float32)"
      ]
     },
     "execution_count": 8,
     "metadata": {},
     "output_type": "execute_result"
    }
   ],
   "source": [
    "x1 = 'hello'\n",
    "x2 = 'eolll'\n",
    "x3 = 'lleel'\n",
    "\n",
    "char_set = list(set(x1+x2+x3))\n",
    "x1 = np.array([[[0, 1, 0, 0], [0, 0, 1, 0], [0, 0, 0, 1], [0, 0, 0, 1], [1, 0, 0, 0]]], dtype=np.float32)\n",
    "x2 = np.array([[[0, 0, 1, 0], [1, 0, 0, 0], [0, 0, 0, 1], [0, 0, 0, 1], [0, 0, 0, 1]]], dtype=np.float32)\n",
    "x3 = np.array([[[0, 0, 0, 1], [0, 0, 0, 1], [0, 0, 1, 0], [0, 0, 1, 0], [0, 0, 0, 1]]], dtype=np.float32)\n",
    "x_data = np.concatenate([x1, x2, x3])\n",
    "x_data"
   ]
  },
  {
   "cell_type": "code",
   "execution_count": 9,
   "metadata": {},
   "outputs": [],
   "source": [
    "hidden_size = 2\n",
    "cell = tf.contrib.rnn.BasicLSTMCell(num_units=hidden_size, state_is_tuple=True)\n",
    "outputs, _states = tf.nn.dynamic_rnn(cell, x_data, sequence_length=[5, 3, 4], dtype=tf.float32)"
   ]
  },
  {
   "cell_type": "code",
   "execution_count": 10,
   "metadata": {},
   "outputs": [
    {
     "name": "stdout",
     "output_type": "stream",
     "text": [
      "[[[-0.03177577 -0.1804322 ]\n",
      "  [ 0.15937477  0.06946025]\n",
      "  [ 0.15725057 -0.04207944]\n",
      "  [ 0.16370966 -0.10333051]\n",
      "  [ 0.04722901 -0.18456548]]\n",
      "\n",
      " [[ 0.15863954  0.14926852]\n",
      "  [ 0.02501552 -0.05144911]\n",
      "  [ 0.08344221 -0.09089602]\n",
      "  [ 0.          0.        ]\n",
      "  [ 0.          0.        ]]\n",
      "\n",
      " [[ 0.05251541 -0.06838664]\n",
      "  [ 0.09547035 -0.11317241]\n",
      "  [ 0.21715055  0.07810248]\n",
      "  [ 0.26302814  0.19251536]\n",
      "  [ 0.          0.        ]]]\n"
     ]
    }
   ],
   "source": [
    "sess = tf.Session()\n",
    "sess.run(tf.global_variables_initializer())\n",
    "print(outputs.eval(session=sess))"
   ]
  },
  {
   "cell_type": "code",
   "execution_count": null,
   "metadata": {},
   "outputs": [],
   "source": []
  }
 ],
 "metadata": {
  "kernelspec": {
   "display_name": "Python 3",
   "language": "python",
   "name": "python3"
  },
  "language_info": {
   "codemirror_mode": {
    "name": "ipython",
    "version": 3
   },
   "file_extension": ".py",
   "mimetype": "text/x-python",
   "name": "python",
   "nbconvert_exporter": "python",
   "pygments_lexer": "ipython3",
   "version": "3.7.3"
  }
 },
 "nbformat": 4,
 "nbformat_minor": 2
}
