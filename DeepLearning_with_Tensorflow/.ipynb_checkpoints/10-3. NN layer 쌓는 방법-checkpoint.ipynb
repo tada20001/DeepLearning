{
 "cells": [
  {
   "cell_type": "markdown",
   "metadata": {},
   "source": [
    "### Feedforward neural network\n",
    "\n",
    "* 뉴런을 여러 layer로 쌓아가는 것을 feedforward neural network라고 한다.\n",
    "\n",
    "### Fast forward\n",
    "아래의 방법으로 3% 이내로 성능을 향상시킬 수 있다."
   ]
  },
  {
   "cell_type": "raw",
   "metadata": {},
   "source": [
    "\n",
    "x -- (neuron) --- (neuron) --- (neuron) --- (neuron) ---- (neuron) ---- (neuron) ---- Y_hat\n",
    "              |                         |            |                             |\n",
    "              ---------------------------             -----------------------------\n"
   ]
  },
  {
   "cell_type": "markdown",
   "metadata": {},
   "source": [
    "### Split & merge\n",
    "\n",
    "[그림] https://t1.daumcdn.net/cfile/tistory/99F8DC335AB841C115\n",
    "\n",
    "\n",
    "* 이 중 하나의 방법이 convolutional Neural Network(CNN)이다.\n",
    "\n",
    "[그림] https://encrypted-tbn0.gstatic.com/images?q=tbn:ANd9GcR5XR-L4xOjwAP77SAUtYmgih0uELFEv9bmrVr9bfzLbOqxcRcQvw"
   ]
  },
  {
   "cell_type": "markdown",
   "metadata": {},
   "source": [
    "### Recurrent network\n",
    "\n",
    "* 앞으로 layer를 쌓는 것뿐만 아니라 옆으로도 layer를 쌓는 방법. 이 방법을 RNN(Recurrent Neural Network)이라고 한다.\n",
    "\n",
    "[그림] https://encrypted-tbn0.gstatic.com/images?q=tbn:ANd9GcS6LvUCtZ1CRLgCUYrolYkCx4IC7fLloqoHhHs6mRLwenLi1zefwQ"
   ]
  },
  {
   "cell_type": "code",
   "execution_count": null,
   "metadata": {},
   "outputs": [],
   "source": []
  }
 ],
 "metadata": {
  "kernelspec": {
   "display_name": "Python 3",
   "language": "python",
   "name": "python3"
  },
  "language_info": {
   "codemirror_mode": {
    "name": "ipython",
    "version": 3
   },
   "file_extension": ".py",
   "mimetype": "text/x-python",
   "name": "python",
   "nbconvert_exporter": "python",
   "pygments_lexer": "ipython3",
   "version": "3.7.3"
  }
 },
 "nbformat": 4,
 "nbformat_minor": 2
}
