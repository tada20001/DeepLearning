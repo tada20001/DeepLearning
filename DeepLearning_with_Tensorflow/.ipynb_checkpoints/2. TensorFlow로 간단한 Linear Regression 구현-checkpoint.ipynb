{
 "cells": [
  {
   "cell_type": "markdown",
   "metadata": {},
   "source": [
    "## 간단한 Linear Regression 만들기\n",
    "\n",
    "#### 1. 모형 만들기\n",
    "주어진 데이터를 통해 선형모형(가설) 만들기\n",
    "$$ H(x) = Wx + b $$\n",
    "\n",
    "#### 2. Cost Function \n",
    "비용함수 만들기 : 예측값과 실제 값을 토대로 비용함수 만들기\n",
    "#### 3. Minimize \n",
    "training. 비용함수를 가장 최소화하는 과정\n",
    "#### 4. W, b 구하기\n",
    "위의 과정을 통해 비용함수를 최소화하는 W, b를 구하는 것이 최종 학습목표이다."
   ]
  },
  {
   "cell_type": "code",
   "execution_count": 1,
   "metadata": {},
   "outputs": [],
   "source": [
    "import tensorflow as tf"
   ]
  },
  {
   "cell_type": "markdown",
   "metadata": {},
   "source": [
    "1. 먼저 그래프를 빌드한다(노드 정의)\n"
   ]
  },
  {
   "cell_type": "code",
   "execution_count": 2,
   "metadata": {},
   "outputs": [
    {
     "name": "stdout",
     "output_type": "stream",
     "text": [
      "WARNING:tensorflow:From /Users/imjunghee/anaconda3/lib/python3.7/site-packages/tensorflow/python/framework/op_def_library.py:263: colocate_with (from tensorflow.python.framework.ops) is deprecated and will be removed in a future version.\n",
      "Instructions for updating:\n",
      "Colocations handled automatically by placer.\n"
     ]
    }
   ],
   "source": [
    "# 학습데이터\n",
    "X_train = [1, 2, 3]\n",
    "y_train = [1, 2, 3]\n",
    "\n",
    "# w, b 변수 정의: 텐서플로우에서 Variable은 텐서플로어에서 자체적으로 값을 변경시키는 변수로 일반 변수개념과는 다름\n",
    "W = tf.Variable(tf.random_normal([1]), name='weight')\n",
    "b = tf.Variable(tf.random_normal([1]), name='bias')\n",
    "\n",
    "hypothesis = X_train * W + b"
   ]
  },
  {
   "cell_type": "code",
   "execution_count": 3,
   "metadata": {},
   "outputs": [],
   "source": [
    "# cost function 정의\n",
    "cost = tf.reduce_mean(tf.square(hypothesis - y_train))"
   ]
  },
  {
   "cell_type": "markdown",
   "metadata": {},
   "source": [
    "2. 비용함수 최소화하는 연산과 이를 반영한 트레이닝 연산 그래프 빌드"
   ]
  },
  {
   "cell_type": "code",
   "execution_count": 4,
   "metadata": {},
   "outputs": [],
   "source": [
    "# GradientDescent을 이용한 최소화\n",
    "optimizer = tf.train.GradientDescentOptimizer(learning_rate=0.01)\n",
    "train = optimizer.minimize(cost)"
   ]
  },
  {
   "cell_type": "markdown",
   "metadata": {},
   "source": [
    "3. 실행 및 모수 업데이트"
   ]
  },
  {
   "cell_type": "code",
   "execution_count": 5,
   "metadata": {},
   "outputs": [
    {
     "name": "stdout",
     "output_type": "stream",
     "text": [
      "0 21.122213 [-0.90986884] [-0.503511]\n",
      "20 0.20177126 [0.71171045] [0.19400357]\n",
      "40 0.011149612 [0.8711182] [0.24904977]\n",
      "60 0.008565855 [0.89106375] [0.24345492]\n",
      "80 0.0077655106 [0.89750576] [0.23259515]\n",
      "100 0.0070526283 [0.9024486] [0.2217194]\n",
      "120 0.0064053074 [0.9070451] [0.21130468]\n",
      "140 0.0058174073 [0.9114148] [0.20137465]\n",
      "160 0.005283464 [0.91557807] [0.19191083]\n",
      "180 0.0047985245 [0.9195456] [0.18289177]\n",
      "200 0.004358097 [0.9233267] [0.17429656]\n",
      "220 0.0039580963 [0.92692995] [0.16610529]\n",
      "240 0.003594803 [0.9303641] [0.15829894]\n",
      "260 0.0032648623 [0.93363667] [0.15085945]\n",
      "280 0.0029651967 [0.93675554] [0.14376955]\n",
      "300 0.0026930391 [0.9397278] [0.13701291]\n",
      "320 0.002445861 [0.9425603] [0.13057382]\n",
      "340 0.0022213755 [0.94525975] [0.12443734]\n",
      "360 0.002017487 [0.94783235] [0.11858924]\n",
      "380 0.00183231 [0.9502841] [0.11301599]\n",
      "400 0.0016641342 [0.9526205] [0.10770465]\n",
      "420 0.0015113931 [0.9548472] [0.10264294]\n",
      "440 0.0013726711 [0.95696926] [0.09781908]\n",
      "460 0.0012466857 [0.95899147] [0.09322195]\n",
      "480 0.0011322569 [0.9609188] [0.08884087]\n",
      "500 0.0010283364 [0.96275544] [0.08466566]\n",
      "520 0.00093394984 [0.9645058] [0.08068669]\n",
      "540 0.0008482284 [0.9661739] [0.07689472]\n",
      "560 0.0007703709 [0.96776354] [0.07328097]\n",
      "580 0.0006996664 [0.96927845] [0.06983709]\n",
      "600 0.00063544797 [0.9707224] [0.06655502]\n",
      "620 0.0005771246 [0.9720983] [0.06342717]\n",
      "640 0.0005241559 [0.9734096] [0.06044632]\n",
      "660 0.0004760445 [0.9746592] [0.05760556]\n",
      "680 0.0004323539 [0.9758501] [0.05489833]\n",
      "700 0.00039266745 [0.97698504] [0.05231832]\n",
      "720 0.00035662833 [0.9780667] [0.04985956]\n",
      "740 0.0003238965 [0.97909737] [0.04751638]\n",
      "760 0.00029416956 [0.9800797] [0.04528334]\n",
      "780 0.00026716883 [0.9810159] [0.0431552]\n",
      "800 0.00024264805 [0.9819081] [0.04112707]\n",
      "820 0.00022037597 [0.9827584] [0.03919425]\n",
      "840 0.00020014949 [0.98356867] [0.03735227]\n",
      "860 0.0001817784 [0.9843409] [0.03559684]\n",
      "880 0.00016509501 [0.98507684] [0.03392391]\n",
      "900 0.00014994119 [0.98577815] [0.03232959]\n",
      "920 0.00013617917 [0.98644656] [0.03081021]\n",
      "940 0.00012367983 [0.9870835] [0.02936225]\n",
      "960 0.00011232754 [0.98769057] [0.02798231]\n",
      "980 0.00010201676 [0.988269] [0.02666724]\n",
      "1000 9.265557e-05 [0.98882025] [0.02541402]\n",
      "1020 8.415034e-05 [0.98934567] [0.02421971]\n",
      "1040 7.64269e-05 [0.9898464] [0.02308146]\n",
      "1060 6.941151e-05 [0.9903237] [0.02199666]\n",
      "1080 6.304006e-05 [0.99077845] [0.02096288]\n",
      "1100 5.7255384e-05 [0.9912118] [0.01997768]\n",
      "1120 5.1999643e-05 [0.99162483] [0.01903878]\n",
      "1140 4.722674e-05 [0.99201846] [0.018144]\n",
      "1160 4.2891934e-05 [0.9923935] [0.01729129]\n",
      "1180 3.8955157e-05 [0.992751] [0.01647867]\n",
      "1200 3.5379664e-05 [0.99309164] [0.01570425]\n",
      "1220 3.2132582e-05 [0.9934163] [0.01496621]\n",
      "1240 2.918332e-05 [0.9937258] [0.01426286]\n",
      "1260 2.6504684e-05 [0.9940206] [0.01359256]\n",
      "1280 2.4072018e-05 [0.99430156] [0.01295378]\n",
      "1300 2.186249e-05 [0.9945694] [0.01234502]\n",
      "1320 1.9856345e-05 [0.9948246] [0.01176486]\n",
      "1340 1.803394e-05 [0.9950678] [0.01121198]\n",
      "1360 1.637876e-05 [0.9952996] [0.01068506]\n",
      "1380 1.4875525e-05 [0.99552053] [0.01018291]\n",
      "1400 1.3509707e-05 [0.99573106] [0.00970434]\n",
      "1420 1.2269896e-05 [0.9959316] [0.00924827]\n",
      "1440 1.1143699e-05 [0.99612284] [0.00881365]\n",
      "1460 1.0121089e-05 [0.996305] [0.00839948]\n",
      "1480 9.192111e-06 [0.9964787] [0.00800476]\n",
      "1500 8.348486e-06 [0.9966442] [0.00762857]\n",
      "1520 7.582296e-06 [0.99680185] [0.00727007]\n",
      "1540 6.8861937e-06 [0.9969522] [0.00692842]\n",
      "1560 6.254333e-06 [0.9970954] [0.0066028]\n",
      "1580 5.680244e-06 [0.9972319] [0.0062925]\n",
      "1600 5.159185e-06 [0.997362] [0.00599677]\n",
      "1620 4.6854343e-06 [0.997486] [0.00571495]\n",
      "1640 4.255419e-06 [0.99760413] [0.00544638]\n",
      "1660 3.864817e-06 [0.9977167] [0.00519042]\n",
      "1680 3.510133e-06 [0.997824] [0.00494649]\n",
      "1700 3.1879633e-06 [0.9979263] [0.00471403]\n",
      "1720 2.895333e-06 [0.99802375] [0.00449249]\n",
      "1740 2.629565e-06 [0.9981166] [0.00428137]\n",
      "1760 2.3883001e-06 [0.9982051] [0.00408017]\n",
      "1780 2.1692595e-06 [0.99828947] [0.00388843]\n",
      "1800 1.9699298e-06 [0.9983698] [0.00370571]\n",
      "1820 1.7892415e-06 [0.99844646] [0.00353155]\n",
      "1840 1.6250655e-06 [0.9985194] [0.00336561]\n",
      "1860 1.4759984e-06 [0.998589] [0.00320747]\n",
      "1880 1.3404292e-06 [0.9986553] [0.00305673]\n",
      "1900 1.2174565e-06 [0.9987185] [0.00291309]\n",
      "1920 1.1057411e-06 [0.99877876] [0.0027762]\n",
      "1940 1.0042394e-06 [0.9988361] [0.00264574]\n",
      "1960 9.1204225e-07 [0.9988908] [0.00252142]\n",
      "1980 8.2828115e-07 [0.9989429] [0.00240294]\n",
      "2000 7.5240723e-07 [0.9989926] [0.00229002]\n"
     ]
    }
   ],
   "source": [
    "# Launch the graph in a session\n",
    "sess = tf.Session()\n",
    "\n",
    "# Initializes global variables in the graph\n",
    "sess.run(tf.global_variables_initializer())\n",
    "\n",
    "# fit the line\n",
    "for step in range(2001):\n",
    "    sess.run(train)\n",
    "    if step % 20 == 0:\n",
    "        print(step, sess.run(cost), sess.run(W), sess.run(b))"
   ]
  },
  {
   "cell_type": "markdown",
   "metadata": {},
   "source": [
    "## Placeholder 사용"
   ]
  },
  {
   "cell_type": "code",
   "execution_count": 11,
   "metadata": {},
   "outputs": [
    {
     "name": "stdout",
     "output_type": "stream",
     "text": [
      "0 4.406671 [1.7642592] [0.03428594]\n",
      "20 0.22533803 [1.3090557] [-0.00814014]\n",
      "40 0.19671541 [1.2869854] [0.063926]\n",
      "60 0.17179303 [1.2681823] [0.131777]\n",
      "80 0.15002815 [1.2506188] [0.19518664]\n",
      "100 0.13102071 [1.2342055] [0.2544436]\n",
      "120 0.11442129 [1.2188672] [0.30981976]\n",
      "140 0.09992494 [1.2045335] [0.36156934]\n",
      "160 0.08726527 [1.1911384] [0.40992978]\n",
      "180 0.07620936 [1.1786206] [0.45512298]\n",
      "200 0.06655424 [1.1669226] [0.49735653]\n",
      "220 0.0581223 [1.1559907] [0.5368241]\n",
      "240 0.050758637 [1.1457747] [0.5737069]\n",
      "260 0.044327933 [1.1362278] [0.60817415]\n",
      "280 0.038711883 [1.1273062] [0.6403842]\n",
      "300 0.03380739 [1.1189687] [0.6704848]\n",
      "320 0.029524222 [1.1111774] [0.6986141]\n",
      "340 0.025783757 [1.1038963] [0.72490114]\n",
      "360 0.022517135 [1.097092] [0.74946684]\n",
      "380 0.019664368 [1.0907334] [0.77242345]\n",
      "400 0.017173065 [1.0847913] [0.79387665]\n",
      "420 0.014997354 [1.0792382] [0.81392485]\n",
      "440 0.013097296 [1.0740489] [0.8326602]\n",
      "460 0.01143798 [1.0691993] [0.8501684]\n",
      "480 0.009988854 [1.0646673] [0.86653006]\n",
      "500 0.008723369 [1.0604323] [0.8818202]\n",
      "520 0.0076181516 [1.0564744] [0.89610904]\n",
      "540 0.006653006 [1.052776] [0.909462]\n",
      "560 0.00581011 [1.0493195] [0.9219406]\n",
      "580 0.0050740046 [1.0460895] [0.933602]\n",
      "600 0.004431156 [1.043071] [0.94449955]\n",
      "620 0.0038697615 [1.0402504] [0.9546834]\n",
      "640 0.003379482 [1.0376143] [0.9642003]\n",
      "660 0.0029513363 [1.0351509] [0.9730939]\n",
      "680 0.0025774234 [1.0328488] [0.9814052]\n",
      "700 0.0022508875 [1.0306976] [0.989172]\n",
      "720 0.0019657225 [1.0286871] [0.9964302]\n",
      "740 0.0017166676 [1.0268084] [1.003213]\n",
      "760 0.0014991766 [1.0250527] [1.0095519]\n",
      "780 0.0013092399 [1.0234119] [1.0154754]\n",
      "800 0.0011433832 [1.0218787] [1.0210108]\n",
      "820 0.0009985112 [1.0204457] [1.026184]\n",
      "840 0.0008720097 [1.0191067] [1.0310183]\n",
      "860 0.00076153193 [1.0178554] [1.035536]\n",
      "880 0.0006650536 [1.0166861] [1.0397577]\n",
      "900 0.000580795 [1.0155933] [1.0437031]\n",
      "920 0.0005072127 [1.014572] [1.0473901]\n",
      "940 0.00044295174 [1.0136178] [1.0508355]\n",
      "960 0.00038683327 [1.012726] [1.0540552]\n",
      "980 0.00033782318 [1.0118924] [1.0570643]\n",
      "1000 0.0002950263 [1.0111138] [1.0598761]\n",
      "1020 0.00025764477 [1.0103859] [1.0625038]\n",
      "1040 0.00022500308 [1.0097055] [1.0649596]\n",
      "1060 0.00019650038 [1.0090699] [1.0672544]\n",
      "1080 0.0001716005 [1.0084759] [1.0693992]\n",
      "1100 0.00014985852 [1.0079209] [1.0714034]\n",
      "1120 0.00013087348 [1.0074021] [1.0732762]\n",
      "1140 0.000114291615 [1.0069172] [1.0750264]\n",
      "1160 9.981256e-05 [1.0064642] [1.0766618]\n",
      "1180 8.7168206e-05 [1.0060409] [1.0781903]\n",
      "1200 7.612243e-05 [1.0056453] [1.0796186]\n",
      "1220 6.647956e-05 [1.0052756] [1.0809534]\n",
      "1240 5.8056226e-05 [1.00493] [1.0822008]\n",
      "1260 5.070248e-05 [1.0046072] [1.0833664]\n",
      "1280 4.427808e-05 [1.0043055] [1.0844556]\n",
      "1300 3.8669306e-05 [1.0040236] [1.0854735]\n",
      "1320 3.3770088e-05 [1.0037601] [1.086425]\n",
      "1340 2.949256e-05 [1.0035138] [1.0873139]\n",
      "1360 2.575591e-05 [1.0032836] [1.0881448]\n",
      "1380 2.2491928e-05 [1.0030687] [1.0889211]\n",
      "1400 1.9641815e-05 [1.0028676] [1.089647]\n",
      "1420 1.7151815e-05 [1.0026797] [1.0903254]\n",
      "1440 1.4978812e-05 [1.0025042] [1.090959]\n",
      "1460 1.3080423e-05 [1.0023402] [1.0915511]\n",
      "1480 1.1423634e-05 [1.002187] [1.0921044]\n",
      "1500 9.976741e-06 [1.0020437] [1.0926214]\n",
      "1520 8.712283e-06 [1.0019099] [1.0931047]\n",
      "1540 7.6086517e-06 [1.0017848] [1.0935563]\n",
      "1560 6.645344e-06 [1.0016679] [1.0939782]\n",
      "1580 5.802758e-06 [1.0015587] [1.0943726]\n",
      "1600 5.0679523e-06 [1.0014566] [1.0947411]\n",
      "1620 4.425449e-06 [1.0013613] [1.0950856]\n",
      "1640 3.8652042e-06 [1.0012722] [1.0954075]\n",
      "1660 3.3756369e-06 [1.0011888] [1.0957081]\n",
      "1680 2.9478701e-06 [1.0011109] [1.0959891]\n",
      "1700 2.5745753e-06 [1.0010382] [1.0962517]\n",
      "1720 2.248556e-06 [1.0009702] [1.096497]\n",
      "1740 1.963762e-06 [1.0009068] [1.0967263]\n",
      "1760 1.7150242e-06 [1.0008475] [1.0969408]\n",
      "1780 1.4975445e-06 [1.0007919] [1.097141]\n",
      "1800 1.308173e-06 [1.0007402] [1.0973282]\n",
      "1820 1.1426415e-06 [1.0006917] [1.0975028]\n",
      "1840 9.97883e-07 [1.0006464] [1.0976663]\n",
      "1860 8.715786e-07 [1.0006042] [1.0978191]\n",
      "1880 7.6109023e-07 [1.0005646] [1.0979619]\n",
      "1900 6.648177e-07 [1.0005277] [1.0980952]\n",
      "1920 5.806727e-07 [1.0004932] [1.0982199]\n",
      "1940 5.071858e-07 [1.0004609] [1.0983362]\n",
      "1960 4.428059e-07 [1.0004307] [1.0984452]\n",
      "1980 3.8688182e-07 [1.0004025] [1.0985469]\n",
      "2000 3.379743e-07 [1.0003761] [1.0986419]\n"
     ]
    }
   ],
   "source": [
    "import tensorflow as tf\n",
    "# 1. 변수 및 플레이스 홀더 정의\n",
    "W = tf.Variable(tf.random_normal([1]), name='weight')\n",
    "b = tf.Variable(tf.random_normal([1]), name='bias')\n",
    "\n",
    "X = tf.placeholder(tf.float32)\n",
    "Y = tf.placeholder(tf.float32)\n",
    "\n",
    "# 2. 가설(모형) 정의\n",
    "hypothesis = X * W + b\n",
    "\n",
    "# 3. 코스트 함수 정의\n",
    "cost = tf.reduce_mean(tf.square(hypothesis - Y))\n",
    "\n",
    "# 4. 코스트 최소화를 위한 트레이닝 : Gradient descent algorithm 사용\n",
    "optimizer = tf.train.GradientDescentOptimizer(learning_rate=0.01)\n",
    "train = optimizer.minimize(cost)\n",
    "\n",
    "# 5. 세션 시작\n",
    "sess = tf.Session()\n",
    "sess.run(tf.global_variables_initializer())\n",
    "\n",
    "# 6. 위의 그래프 실행\n",
    "X_train = [1, 2, 3, 4, 5]\n",
    "y_train = [2.1, 3.1, 4.1, 5.1, 6.1]\n",
    "\n",
    "costs = []\n",
    "Ws = []\n",
    "for step in range(2001):\n",
    "    cost_val, W_val, b_val, _ = sess.run([cost, W, b, train], feed_dict={X: X_train, Y: y_train})\n",
    "    costs.append(cost_val)\n",
    "    Ws.append(W_val)\n",
    "    if step % 20 == 0:\n",
    "        print(step, cost_val, W_val, b_val)"
   ]
  },
  {
   "cell_type": "markdown",
   "metadata": {},
   "source": [
    "    step 2000에 도달하면 코스트는 거의 제로에 수렴되고, weight는 1, bias는 1.1에 가까워진다.\n",
    "    \n",
    "    즉,\n",
    "$$H(x) = 1 * X + 1.1$$"
   ]
  },
  {
   "cell_type": "code",
   "execution_count": 7,
   "metadata": {},
   "outputs": [
    {
     "name": "stdout",
     "output_type": "stream",
     "text": [
      "[6.0998282]\n"
     ]
    }
   ],
   "source": [
    "## Test the model\n",
    "\n",
    "print(sess.run(hypothesis, feed_dict={X: [5]}))"
   ]
  },
  {
   "cell_type": "code",
   "execution_count": 8,
   "metadata": {},
   "outputs": [
    {
     "name": "stdout",
     "output_type": "stream",
     "text": [
      "[3.6001363]\n"
     ]
    }
   ],
   "source": [
    "print(sess.run(hypothesis, feed_dict={X: [2.5]}))"
   ]
  },
  {
   "cell_type": "code",
   "execution_count": 9,
   "metadata": {},
   "outputs": [
    {
     "name": "stdout",
     "output_type": "stream",
     "text": [
      "[2.6002593 4.6000133]\n"
     ]
    }
   ],
   "source": [
    "print(sess.run(hypothesis, feed_dict={X: [1.5, 3.5]}))"
   ]
  },
  {
   "cell_type": "code",
   "execution_count": 10,
   "metadata": {},
   "outputs": [],
   "source": [
    "# w vs cost plotting\n",
    "import warnings\n",
    "warnings.filterwarnings(action='ignore')\n",
    "\n",
    "import matplotlib.pylab as plt\n",
    "import matplotlib as mpl\n",
    "import matplotlib.font_manager as fm\n",
    "import seaborn as sns\n",
    "import numpy as np\n",
    "\n",
    "sns.set_style(\"whitegrid\")\n",
    "mpl.rcParams['axes.unicode_minus'] = False\n",
    "plt.rcParams['font.size'] = 12\n",
    "\n",
    "path = \"/Library/Fonts/NanumGothic.otf\"\n",
    "font_name = fm.FontProperties(fname=path, size=20).get_name()\n",
    "\n",
    "plt.rc('font', family=font_name)\n",
    "fm._rebuild()"
   ]
  },
  {
   "cell_type": "code",
   "execution_count": 20,
   "metadata": {},
   "outputs": [
    {
     "data": {
      "image/png": "[encoded data removed]",
      "text/plain": [
       "<Figure size 432x288 with 1 Axes>"
      ]
     },
     "metadata": {
      "needs_background": "light"
     },
     "output_type": "display_data"
    }
   ],
   "source": [
    "plt.scatter(Ws, costs, c='red', s=50, marker='o', edgecolor='k')\n",
    "plt.xlabel(\"W\")\n",
    "plt.ylabel(\"Cost\")\n",
    "plt.show()"
   ]
  },
  {
   "cell_type": "markdown",
   "metadata": {},
   "source": []
  }
 ],
 "metadata": {
  "kernelspec": {
   "display_name": "Python 3",
   "language": "python",
   "name": "python3"
  },
  "language_info": {
   "codemirror_mode": {
    "name": "ipython",
    "version": 3
   },
   "file_extension": ".py",
   "mimetype": "text/x-python",
   "name": "python",
   "nbconvert_exporter": "python",
   "pygments_lexer": "ipython3",
   "version": "3.7.3"
  }
 },
 "nbformat": 4,
 "nbformat_minor": 2
}
