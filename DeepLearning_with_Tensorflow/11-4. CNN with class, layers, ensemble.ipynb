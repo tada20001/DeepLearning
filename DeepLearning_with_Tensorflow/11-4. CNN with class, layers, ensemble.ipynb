{
 "cells": [
  {
   "cell_type": "code",
   "execution_count": 2,
   "metadata": {},
   "outputs": [
    {
     "name": "stdout",
     "output_type": "stream",
     "text": [
      "Extracting MNIST_data/train-images-idx3-ubyte.gz\n",
      "Extracting MNIST_data/train-labels-idx1-ubyte.gz\n",
      "Extracting MNIST_data/t10k-images-idx3-ubyte.gz\n",
      "Extracting MNIST_data/t10k-labels-idx1-ubyte.gz\n"
     ]
    }
   ],
   "source": [
    "import tensorflow as tf\n",
    "from tensorflow.examples.tutorials.mnist import input_data\n",
    "import numpy as np\n",
    "import matplotlib.pylab as plt\n",
    "%matplotlib inline\n",
    "\n",
    "mnist = input_data.read_data_sets(\"MNIST_data/\", one_hot=True)\n",
    "tf.set_random_seed(777)"
   ]
  },
  {
   "cell_type": "code",
   "execution_count": 3,
   "metadata": {},
   "outputs": [],
   "source": [
    "# parameters\n",
    "learning_rate = 0.001\n",
    "num_epochs = 20\n",
    "batch_size = 100\n",
    "num_iterations = int(mnist.train.num_examples / batch_size)\n",
    "\n",
    "class Model:\n",
    "    def __init__(self, sess, name):\n",
    "        self.sess = sess\n",
    "        self.name = name\n",
    "        self._build_net()\n",
    "        \n",
    "    def _build_net(self):\n",
    "        with tf.variable_scope(self.name):\n",
    "            # for testing\n",
    "            self.training = tf.placeholder(tf.bool)\n",
    "            \n",
    "            # input placeholders\n",
    "            self.X = tf.placeholder(tf.float32, [None, 28*28])\n",
    "            # img 28 x 28 x 1(white/black)\n",
    "            X_img = tf.reshape(self.X, [-1, 28, 28, 1])\n",
    "            self.Y = tf.placeholder(tf.float32, [None, 10])\n",
    "            \n",
    "            # convolutional layer #1\n",
    "            conv1 = tf.layers.conv2d(inputs=X_img, filters=32, kernel_size=[3, 3], padding=\"SAME\", activation=tf.nn.relu)\n",
    "            \n",
    "            # pooling layer #1\n",
    "            pool1 = tf.layers.max_pooling2d(inputs=conv1, pool_size=[2, 2], padding=\"SAME\", strides=2)\n",
    "            dropout1 = tf.layers.dropout(inputs=pool1, rate=0.3, training=self.training)\n",
    "            \n",
    "            # convolutional layer #2 and pooling layer #2\n",
    "            conv2 = tf.layers.conv2d(inputs=dropout1, filters=64, kernel_size=[3, 3], padding=\"SAME\", activation=tf.nn.relu)            \n",
    "            pool2 = tf.layers.max_pooling2d(inputs=conv2, pool_size=[2, 2], padding=\"SAME\", strides=2)\n",
    "            dropout2 = tf.layers.dropout(inputs=pool2, rate=0.3, training=self.training)\n",
    "            \n",
    "            # convolutional layer #3 and pooling layer #3\n",
    "            conv3 = tf.layers.conv2d(inputs=dropout2, filters=128, kernel_size=[3, 3], padding=\"SAME\", activation=tf.nn.relu)\n",
    "            pool3 = tf.layers.max_pooling2d(inputs=conv3, pool_size=[2, 2], padding=\"SAME\", strides=2)\n",
    "            dropout3 = tf.layers.dropout(inputs=pool3, rate=0.3, training=self.training)\n",
    "            \n",
    "            dropout3_size = dropout3.shape\n",
    "            print(dropout3_size)\n",
    "            \n",
    "            # Dense layer with Relu\n",
    "            flat = tf.reshape(dropout3, [-1, 128 * 4 * 4])\n",
    "            dense4 = tf.layers.dense(inputs=flat, units=625, activation=tf.nn.relu)\n",
    "            dropout4 = tf.layers.dropout(inputs=dense4, rate=0.5, training=self.training)\n",
    "            \n",
    "            # logits (no activation) layer: L5 Final FC 625 inputs -> 10 inputs\n",
    "            self.logits = tf.layers.dense(inputs=dropout4, units=10)\n",
    "            \n",
    "        # define cost/loss and optimizer\n",
    "        self.cost = tf.reduce_mean(tf.nn.softmax_cross_entropy_with_logits_v2(logits=self.logits, labels=self.Y))\n",
    "        self.optimizer = tf.train.AdamOptimizer(learning_rate=learning_rate).minimize(self.cost)\n",
    "        \n",
    "        correct_prediction = tf.equal(tf.argmax(self.logits, 1), tf.argmax(self.Y, 1))\n",
    "        self.accuracy = tf.reduce_mean(tf.cast(correct_prediction, dtype=tf.float32))\n",
    "        \n",
    "    def predict(self, x_test, training=False):\n",
    "        return self.sess.run(self.logits, feed_dict={self.X: x_test, self.training: training})\n",
    "    \n",
    "    def get_accuracy(self, x_test, y_test, training=False):\n",
    "        return self.sess.run(self.accuracy, feed_dict={self.X: x_test, self.Y: y_test, self.training: training})\n",
    "    \n",
    "    def train(self, x_train, y_train, training=True):\n",
    "        return self.sess.run([self.cost, self.optimizer], feed_dict={self.X: x_train, self.Y: y_train, self.training: training})"
   ]
  },
  {
   "cell_type": "code",
   "execution_count": 4,
   "metadata": {},
   "outputs": [
    {
     "name": "stdout",
     "output_type": "stream",
     "text": [
      "WARNING:tensorflow:From <ipython-input-3-074632923054>:25: conv2d (from tensorflow.python.layers.convolutional) is deprecated and will be removed in a future version.\n",
      "Instructions for updating:\n",
      "Use keras.layers.conv2d instead.\n",
      "WARNING:tensorflow:From /Users/imjunghee/anaconda3/lib/python3.7/site-packages/tensorflow/python/framework/op_def_library.py:263: colocate_with (from tensorflow.python.framework.ops) is deprecated and will be removed in a future version.\n",
      "Instructions for updating:\n",
      "Colocations handled automatically by placer.\n",
      "WARNING:tensorflow:From <ipython-input-3-074632923054>:28: max_pooling2d (from tensorflow.python.layers.pooling) is deprecated and will be removed in a future version.\n",
      "Instructions for updating:\n",
      "Use keras.layers.max_pooling2d instead.\n",
      "WARNING:tensorflow:From <ipython-input-3-074632923054>:29: dropout (from tensorflow.python.layers.core) is deprecated and will be removed in a future version.\n",
      "Instructions for updating:\n",
      "Use keras.layers.dropout instead.\n",
      "WARNING:tensorflow:From /Users/imjunghee/anaconda3/lib/python3.7/site-packages/tensorflow/python/keras/layers/core.py:143: calling dropout (from tensorflow.python.ops.nn_ops) with keep_prob is deprecated and will be removed in a future version.\n",
      "Instructions for updating:\n",
      "Please use `rate` instead of `keep_prob`. Rate should be set to `rate = 1 - keep_prob`.\n",
      "(?, 4, 4, 128)\n",
      "WARNING:tensorflow:From <ipython-input-3-074632923054>:46: dense (from tensorflow.python.layers.core) is deprecated and will be removed in a future version.\n",
      "Instructions for updating:\n",
      "Use keras.layers.dense instead.\n",
      "(?, 4, 4, 128)\n"
     ]
    },
    {
     "data": {
      "text/plain": [
       "[<__main__.Model at 0x104ceb908>, <__main__.Model at 0x1a3655f3c8>]"
      ]
     },
     "execution_count": 4,
     "metadata": {},
     "output_type": "execute_result"
    }
   ],
   "source": [
    "# initialize\n",
    "sess = tf.Session()\n",
    "\n",
    "models = []\n",
    "num_models = 2\n",
    "\n",
    "# generate models\n",
    "for m in range(num_models):\n",
    "    models.append(Model(sess, 'model' + str(m)))\n",
    "models"
   ]
  },
  {
   "cell_type": "code",
   "execution_count": 6,
   "metadata": {},
   "outputs": [
    {
     "name": "stdout",
     "output_type": "stream",
     "text": [
      "Learning Started!\n",
      "Epoch: 0001 Cost: [0.28105694 0.28110329]\n",
      "Epoch: 0002 Cost: [0.08787663 0.08527374]\n",
      "Epoch: 0003 Cost: [0.06512525 0.06564341]\n",
      "Epoch: 0004 Cost: [0.05413894 0.05501973]\n",
      "Epoch: 0005 Cost: [0.04911405 0.04804505]\n",
      "Epoch: 0006 Cost: [0.04438059 0.04338993]\n",
      "Epoch: 0007 Cost: [0.04155274 0.04128129]\n",
      "Epoch: 0008 Cost: [0.03777087 0.03621759]\n",
      "Epoch: 0009 Cost: [0.03688554 0.03445644]\n",
      "Epoch: 0010 Cost: [0.03437085 0.03368921]\n",
      "Epoch: 0011 Cost: [0.03261593 0.03046601]\n",
      "Epoch: 0012 Cost: [0.03021749 0.03129431]\n",
      "Epoch: 0013 Cost: [0.02848003 0.02714292]\n",
      "Epoch: 0014 Cost: [0.02806505 0.02715264]\n",
      "Epoch: 0015 Cost: [0.02631869 0.02528819]\n",
      "Epoch: 0016 Cost: [0.02732981 0.02636327]\n",
      "Epoch: 0017 Cost: [0.02506679 0.02466565]\n",
      "Epoch: 0018 Cost: [0.02734283 0.02391823]\n",
      "Epoch: 0019 Cost: [0.02280169 0.0214892 ]\n",
      "Epoch: 0020 Cost: [0.02367655 0.02199571]\n",
      "Learning Finished!\n"
     ]
    }
   ],
   "source": [
    "sess.run(tf.global_variables_initializer())\n",
    "\n",
    "print(\"Learning Started!\")\n",
    "#train the model\n",
    "for epoch in range(num_epochs):\n",
    "    avg_cost_list = np.zeros(num_models)\n",
    "    \n",
    "    for i in range(num_iterations):\n",
    "        batch_xs, batch_ys = mnist.train.next_batch(batch_size)\n",
    "        \n",
    "        # train each model\n",
    "        for m_idx, m in enumerate(models):\n",
    "            c, _ = m.train(batch_xs, batch_ys)\n",
    "            avg_cost_list[m_idx] += c / num_iterations\n",
    "            \n",
    "    print(\"Epoch:\", \"%04d\" % (epoch + 1), \"Cost:\", avg_cost_list)\n",
    "    \n",
    "print(\"Learning Finished!\")\n",
    "    "
   ]
  },
  {
   "cell_type": "code",
   "execution_count": 11,
   "metadata": {},
   "outputs": [
    {
     "name": "stdout",
     "output_type": "stream",
     "text": [
      "0 Accuracy: 0.9948\n",
      "(10000, 10)\n",
      "1 Accuracy: 0.9942\n",
      "(10000, 10)\n"
     ]
    }
   ],
   "source": [
    "# Test the model and check accuracy\n",
    "# ensemble prediction\n",
    "test_size = len(mnist.test.labels)\n",
    "predictions = np.zeros([test_size, 10])\n",
    "\n",
    "for m_idx, m in enumerate(models):\n",
    "    print(m_idx, 'Accuracy:', m.get_accuracy(mnist.test.images, mnist.test.labels))\n",
    "    p = m.predict(mnist.test.images)\n",
    "    print(p.shape)\n",
    "    predictions += p # test_size 10000개에 대해 10개 라벨별 확률을 각각 더함. 그리고 아래에서 각 test 샘플별로 최대 값(라벨)을 구함"
   ]
  },
  {
   "cell_type": "code",
   "execution_count": 10,
   "metadata": {},
   "outputs": [
    {
     "data": {
      "text/plain": [
       "(10000, 10)"
      ]
     },
     "execution_count": 10,
     "metadata": {},
     "output_type": "execute_result"
    }
   ],
   "source": [
    "predictions.shape"
   ]
  },
  {
   "cell_type": "code",
   "execution_count": 12,
   "metadata": {},
   "outputs": [
    {
     "name": "stdout",
     "output_type": "stream",
     "text": [
      "Ensemble accuracy: 0.9953\n"
     ]
    }
   ],
   "source": [
    "ensemble_correct_prediction = tf.equal(tf.argmax(predictions, 1), tf.argmax(mnist.test.labels, 1))\n",
    "ensemble_accuracy = tf.reduce_mean(tf.cast(ensemble_correct_prediction, dtype=tf.float32))\n",
    "print(\"Ensemble accuracy:\", sess.run(ensemble_accuracy))"
   ]
  },
  {
   "cell_type": "markdown",
   "metadata": {},
   "source": [
    "일반적으로 위와 같이 각각의 모델의 정확도보다 ensemble 모델의 정확도가 높게 나온다. 즉, 성능이 향상된다고 할 수 있다."
   ]
  },
  {
   "cell_type": "code",
   "execution_count": null,
   "metadata": {},
   "outputs": [],
   "source": []
  }
 ],
 "metadata": {
  "kernelspec": {
   "display_name": "Python 3",
   "language": "python",
   "name": "python3"
  },
  "language_info": {
   "codemirror_mode": {
    "name": "ipython",
    "version": 3
   },
   "file_extension": ".py",
   "mimetype": "text/x-python",
   "name": "python",
   "nbconvert_exporter": "python",
   "pygments_lexer": "ipython3",
   "version": "3.7.3"
  }
 },
 "nbformat": 4,
 "nbformat_minor": 2
}
