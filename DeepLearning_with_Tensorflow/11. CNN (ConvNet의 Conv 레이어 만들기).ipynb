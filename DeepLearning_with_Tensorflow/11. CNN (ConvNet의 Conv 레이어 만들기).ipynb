{
 "cells": [
  {
   "cell_type": "markdown",
   "metadata": {},
   "source": [
    "### Convolution Neural Network \n",
    "\n",
    "* 고양이가 어떤 한부분의 그림에 대해서만 반응한다는 아이디에 착안하여, 이와 비슷하게 레이어를 만들어 보자는 것이 CNN이다.\n",
    "* 이미지를 입력하는 layer를 CONV이고 다음에 RELU를 넣고, 이것을 한번 더 추가하여 Pooling을 수행한다. 이 과정을 여러번 반복하여 마지막으로 Fully Connected NN을 구성하여 labeling하는 softmax classifier를 실행한다.\n",
    "\n",
    "$$이미지(input) - CONV-RELU-CONV-RELU-- POOL -CONV-RELU-CONV-RELU-- POOL -CONV-RELU-CONV-RELU-- POOL -- FC$$"
   ]
  },
  {
   "cell_type": "markdown",
   "metadata": {},
   "source": [
    "### 하나의 Convolution layer를 만드는 방법\n",
    "* Start with an image (width x height x depth). \n",
    "\n",
    "ex) 32 x 32 x 3 image\n",
    "\n",
    "* 전체의 이미지를 하나의 입력으로 받지 않고, 일부분만 처리한다. 여기에서 일부분만 처리하는 것을 filter라고 한다. filter의 크기는 임의로 정한다.\n",
    "* filter는 궁극적으로 하나의 값(one number) 을 만들어낸다.\n",
    "\n",
    "ex) filter size = 5 x 5 x 3\n",
    "\n",
    "* filter로부터 하나의 값을 만들어내는 방법은 다음과 같다. \n",
    "\n",
    "ex) x1 w1 + x2 w2 + x3 w3 + x4 w4 + x5 w5 + b\n",
    "$$ W x + b, ReLU(Wx + b)$$ \n",
    "\n",
    "* 같은 filter를 이용해 그림의 다른 부분도 스크리닝하면서 숫자를 구한다. 다만 이 숫자가 몇개인지를 알아야만 weight 갯수, 다음으로 어떻게 넘길 것인가를 설계할 수 있게 된다.\n",
    "\n",
    "\n",
    "* **숫자의 갯수를 알아내는 방법은..**\n",
    "\n",
    "ex) 7 x 7 input, 3 x 3 filter\n",
    "\n",
    "    * 한 칸씩 움직인다면(stride = 1), 5 x 5 output이 된다.\n",
    "\n",
    "    * 만약 stride = 2라고 한다면 3 x 3 output이 된다.\n",
    "    \n",
    "    그림 사이즈 N, filter 사이즈 F 라고 한다면,\n",
    "    \n",
    "$$output\\; size = (N - F) \\;/\\; stride + 1$$\n",
    "\n",
    "\n",
    "* **일반적으로 padding 개념을 사용한다.** 이미지 둘레에 0 pad를 추가한다. 그 이유 중 하나는 그림의 사이즈를 급격하게 작아지는 것을 막는 것이고, 두번째는 모서리(border)부분을 모델에 알려주고 싶은 것이다.\n",
    "\n",
    "ex) 위의 예에서 pad = 1을 주게 되면, 그림 사이즈가 N + 2 가 되므로 (7 + 2 - 3) / 1 + 1 = 7 x 7 output 이 된다.\n",
    "\n",
    "* padding을 사용해서 원래 입력의 이미지와 출력의 이미지 사이즈가 같아지게 만들어주는 것을 일반적으로 많이 사용하고 있다."
   ]
  },
  {
   "cell_type": "markdown",
   "metadata": {},
   "source": [
    "### 다른 필터를 만든다\n",
    "\n",
    "* 다른 셋의 weight에 해당하는 필터를 만든다. 이것을 두개만 하는 것이 아니라 예를 들어 6개를 만든다. 각각의 필터는 weight 값이 다르기 때문에 값이 다르다.\n",
    "* 위의 사례를 들면, 아웃풋 전체 사이즈는 (7 X 7 X 6)가 된다. "
   ]
  },
  {
   "cell_type": "markdown",
   "metadata": {},
   "source": [
    "### Max Pooling \n",
    "\n",
    "* pooling은 간단히 말하면 sampling이다. \n",
    "* 위에서 만든 convolution layers 중 하나를 뽑아 내어 사이즈를 작게 하는데 이것을 sampling 이라고 한다.\n",
    "* 한 layer씩 pooling하고 다시 쌓는다.\n",
    "\n",
    "* **쌓는 방법**\n",
    "\n",
    "예를 들어 4 x 4 slice가 있다고 하자.  여기에 2 x 2 filter와 stride = 2이가 주어졌을 때 2 X 2 필터의 셀 중 가장 큰 값을 선택한다. "
   ]
  },
  {
   "cell_type": "markdown",
   "metadata": {},
   "source": [
    "### Fully Connected Layer(FC layer)"
   ]
  },
  {
   "cell_type": "code",
   "execution_count": null,
   "metadata": {},
   "outputs": [],
   "source": []
  }
 ],
 "metadata": {
  "kernelspec": {
   "display_name": "Python 3",
   "language": "python",
   "name": "python3"
  },
  "language_info": {
   "codemirror_mode": {
    "name": "ipython",
    "version": 3
   },
   "file_extension": ".py",
   "mimetype": "text/x-python",
   "name": "python",
   "nbconvert_exporter": "python",
   "pygments_lexer": "ipython3",
   "version": "3.7.3"
  }
 },
 "nbformat": 4,
 "nbformat_minor": 2
}
