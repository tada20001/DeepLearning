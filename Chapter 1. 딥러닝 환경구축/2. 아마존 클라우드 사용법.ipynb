{
 "cells": [
  {
   "cell_type": "markdown",
   "metadata": {},
   "source": [
    "대부분의 딥러닝 모형은 GPU가 없어도 동작을 하지만 모형이 복잡할수록 학습속도가 느려진다. 딥러닝 모형을 빠르게 학습시키기 위해서는 GPU가 필요하다. 그러나 GPU는 가격이 비싸고 설치와 사용환경 설정도 어렵다. 그러나 아마존 클라우드 서비스를 사용하면 미리 설치된 GPU를 저렴한 가격에 바로 사용할 수 있다. 여기에서는 아마존 클라우드 서비스에서 GPU를 사용하는 기본적인 방법을 설명한다.\n",
    "\n",
    "우선 아마존 클라우드 서비스와 관련된 기본적인 용어를 소개한다.\n",
    "\n",
    "+ AWS(Amazon Web Service): 아마존이 제공하는 클라우드 컴퓨팅 서비스.\n",
    "+ EC2(Elastic Compute Cloud): AWS에서 제공하는 클라우드 컴퓨팅 서비스. 인스턴스(instance)라는 가상 컴퓨터를 사용할 수 있다.\n",
    "+ AMI(Amazon Machine Image): 운영체제와 소프트웨어가 미리 설치되어 있는 EC2 인스턴스의 이미지\n",
    "\n",
    "AWS는 인스턴스를 사용한 시간만큼만 요금을 지불하므로 학습용으로 적당하다. 본 내용을 학습하려면 AWS에 가입을 해야 한다. 가입을 위한 자세한 사항은 AWS 홈페이지를 참조한다. AWS를 사용할 때는 보안을 위해 반드시 MFA(Multi Factor Authentication) 설정을 해두기를 권장한다."
   ]
  },
  {
   "cell_type": "markdown",
   "metadata": {},
   "source": [
    "## Deep Learning AMI 사용법\n",
    "\n",
    "DLAMI(AWS Deep Learning AMI)는 AWS에서 제공하는 딥러닝용 AMI이다. DLAMI에는 최신 버전의 Apache MXNet, Caffe, Caffe2, Chainer, CNTK, Keras, PyTorch, TensorFlow, Theano 패키지가 설치되어 있고 각각 별도의 conda 환경으로 구성되어 사용자가 선택하여 사용할 수 있다.\n",
    "\n",
    "DMAMI를 사용하려면 AWS 콘솔을 통해 EC2 인스턴스를 만들어야 한다. 홈페이지에서 로그인 한 후 서비스 메뉴에서 \"EC2\"를 선택한다.\n",
    "\n",
    "[그림] EC2 검색화면 : https://datascienceschool.net/upfiles/4c35a5dc6e214ba8a2f6ee8aabdc62a7.png"
   ]
  },
  {
   "cell_type": "markdown",
   "metadata": {},
   "source": [
    "다음과 같은 화면이 나올 것이다. 다음으로 박스 표시 안의 \"인스턴스\" 메뉴를 클릭한다.\n",
    "\n",
    "[그림] https://datascienceschool.net/upfiles/6cff8fddab5446e68563d9e755a7003b.png\n",
    "\n",
    "다음으로 \"인스턴스 시작\" 버튼을 클릭한다.\n",
    "\n",
    "[그림] https://datascienceschool.net/upfiles/9492c0a1d5f74233b02c3f6bdf22b48f.png\n",
    "\n",
    "AMI 선택 화면에서 사이드바 메뉴의 \"AWS Marketplace\"를 클릭하고 DLAMI를 검색한다.\n",
    "\n",
    "[그림] https://datascienceschool.net/upfiles/438c960afcfd4c75b04c0ef1051eba7b.png\n",
    "\n",
    "나열된 이미지 중에서 \"Deep Learnin AMI(Ubuntu)\"를 선택한다.\n",
    "\n",
    "[그림] https://datascienceschool.net/upfiles/cb998e6dc79e49a4ad5ab9c729d0f985.png"
   ]
  },
  {
   "cell_type": "markdown",
   "metadata": {},
   "source": [
    "다음으로 인스턴스 유형을 선택한다. GPU가 지원되는 인스턴스 유형만 보고 싶다면, 필터링 기준을 \"GPU compute\"로 설정한다. 범용 GPU 지원 인스턴스 유형으로는 p2 인스턴스나 p3 인스턴스가 있다. 여기서는 P3.2xlarge를 선택한다. P3.2xlarge는 NVIDIA Tesla V100 GPU를 1개 포함하는 인스턴스이다.\n",
    "\n",
    "[그림] 인스턴스 유형 선택 화면: https://datascienceschool.net/upfiles/25064f8b55a842b3b85afd3aaedbbe08.png\n",
    "\n",
    "인스턴스 유형을 선택한 뒤 일단 모든 것을 기본 설정으로 두고 \"시작\"을 클릭하여 인스턴스를 가동한다.\n",
    "\n",
    "[그림] 인스턴스 시작 검토\n",
    "\n",
    "\n",
    "\n",
    "인스턴스를 가동한 후에는 키페어(key pair)를 선택하는 화면이 나온다. \n",
    "\n",
    "키페어는 여러분의 노트북에서 원격으로 인스턴스를 접속할 때 필요한 암호파일로 pem 확장자를 가진다. 처음 AWS를 사용한다면 키페어를 생성하고 기존에 사용하던 키페어 파일이 있다면 이를 선택한 뒤 인스턴스 시작을 클릭한다. 인스턴스 상태가 \"pending\"에서 \"running\"이 되면 인스턴스를 사용할 수 있다. 새로 키페어를 생성하면 다운로드 받았다면 다음 명령으로 키파일의 권한을 바꿔야 한다."
   ]
  },
  {
   "cell_type": "raw",
   "metadata": {},
   "source": [
    "$ chmod 400 my_keypair.pem"
   ]
  },
  {
   "cell_type": "markdown",
   "metadata": {},
   "source": [
    "[그림] https://datascienceschool.net/upfiles/dbd95582600a4b10b16df8294017e08b.png\n",
    "\n",
    "\n",
    "인스턴스가 가동을 시작하면 ssh(secure shell)를 사용하여 인스턴스에 접속할 수 있다. 이 때 5.8 박스표시 안의 IPv4 퍼블릭IP를 를 알고 있어야 한다. 또한 방금 만들었던 키페어 파일도 필요하다."
   ]
  },
  {
   "cell_type": "markdown",
   "metadata": {},
   "source": [
    "## 맥 OS X에서 인스턴스 접속\n",
    "\n",
    "맥 OS X에서는 다음 명령으로 인스턴스에 접속할 수 있다."
   ]
  },
  {
   "cell_type": "raw",
   "metadata": {},
   "source": [
    "$ ssh -i my_keypair.pem ubuntu@퍼블릭IP"
   ]
  },
  {
   "cell_type": "markdown",
   "metadata": {},
   "source": [
    "비밀번호를 묻는 프롬프트가 나오면 키페어 파일을 만들 때 지정한 비밀번호를 입력한다.\n",
    "\n",
    "[그림] 인스턴스 접속 : https://datascienceschool.net/upfiles/a4e88dbf72aa4400b6ec51c9964b6ccf.png"
   ]
  },
  {
   "cell_type": "markdown",
   "metadata": {},
   "source": [
    "## 윈도우에서 인스턴스 접속\n",
    "\n",
    "[참고] https://datascienceschool.net/view-notebook/a6e840e0c0274fcda7b9cac9e49f1735/"
   ]
  },
  {
   "cell_type": "markdown",
   "metadata": {},
   "source": [
    "## conda 환경 사용법\n",
    "\n",
    "[참고] https://datascienceschool.net/view-notebook/a6e840e0c0274fcda7b9cac9e49f1735/"
   ]
  },
  {
   "cell_type": "code",
   "execution_count": null,
   "metadata": {},
   "outputs": [],
   "source": []
  }
 ],
 "metadata": {
  "kernelspec": {
   "display_name": "Python 3",
   "language": "python",
   "name": "python3"
  },
  "language_info": {
   "codemirror_mode": {
    "name": "ipython",
    "version": 3
   },
   "file_extension": ".py",
   "mimetype": "text/x-python",
   "name": "python",
   "nbconvert_exporter": "python",
   "pygments_lexer": "ipython3",
   "version": "3.7.3"
  }
 },
 "nbformat": 4,
 "nbformat_minor": 2
}
