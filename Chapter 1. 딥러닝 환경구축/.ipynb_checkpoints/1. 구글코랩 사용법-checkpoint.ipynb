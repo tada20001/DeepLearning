{
 "cells": [
  {
   "cell_type": "markdown",
   "metadata": {},
   "source": [
    "구글 colaboratory 서비스, 줄여서 코랩(colab)이라고 부르는 웹 서비스는 주피터 노트북을 구글 서버에서 가동시키고 사용자가 마음대로 사용할 수 있도록 무료로 제공한다. 이 서비스를 이용하려면 구글 지메일(gmail) 계정을 가지고 있어야 한다. 지메일 계정이 있다면 다음과 같이 코랩을 사용할 수 있다.\n",
    "\n",
    "#### 코랩 노트북은 다음과 같은 장점이 있다.\n",
    "\n",
    "(1) 별도의 파이썬 설치 없이 웹 브라우저 만을 이용해 주피터 노트북과 같은 작업을 할 수 있다.\n",
    "\n",
    "(2) 다른 사용자들과 공유가 쉬워 연구 및 교육용으로 많이 사용된다.\n",
    "\n",
    "(3) Tensorflow, keras, matplotlib, scikit-learn, pandas 등 데이터 분석에 많이 사용되는 패키지들이 미리 설치되어 있다.\n",
    "\n",
    "(4) 무료로 GPU를 사용할 수 있다.\n",
    "\n",
    "(5) 구글 독스나 구글 스프레드시트 등과 같은 식으로 공유와 편집이 가능하다. 만약 두 명 이상의 사람이 동시에 같은 파일을 수정 하더라도 변경사항이 모든 사람에게 즉시 표시된다."
   ]
  },
  {
   "cell_type": "markdown",
   "metadata": {},
   "source": [
    "## 구글 코랩 시작하기\n",
    "\n",
    "구글 코랩을 사용하려면 지메일 계정이 필요하다. 지메일 계정이 있으면 로그인을 하고 지메일 계정이 없다면 다음 웹사이트에서 지메일을 만든 다음에 로그인한다.\n",
    "\n",
    "+ https://www.google.com/gmail/\n",
    "\n",
    "로그인을 한 후에는 웹 브라우저를 열고 다음 웹 페이지 주소로 접속한다.\n",
    "\n",
    "+ http://colab.research.google.com\n",
    "\n",
    "그러면 다음 그림과 같은 시작 페이지가 나온다.\n",
    "\n",
    "[그림] 코랩 환영 이미지 https://datascienceschool.net/upfiles/b78bdafbaca24f1bb83a96b8a60a5b8c.png"
   ]
  },
  {
   "cell_type": "markdown",
   "metadata": {},
   "source": [
    "메뉴에서 ‘파일’ > ‘새 Python 3 노트’ 명령을 선택하거나 다이얼로그 아래의 \"새 PYTHON 3 노트\" 버튼을 누르면 다음 그림처럼 새 노트북을 사용할 수 있다. 사용법은 주피터 노트북과 같다.\n",
    "\n",
    "[그림] 새코랩 노트북 : https://datascienceschool.net/upfiles/9977a6f92649434c83441ea2d9d77c6b.png"
   ]
  },
  {
   "cell_type": "markdown",
   "metadata": {},
   "source": [
    "앞으로 나올 코드 예제를 실행할 때 주피터 노트북과 구글 코랩 중에서 아무거나 사용해도 된다."
   ]
  },
  {
   "cell_type": "markdown",
   "metadata": {},
   "source": [
    "## 환경 살펴보기\n",
    "\n",
    "운영체제나 하드웨어 그리고 설치된 파이썬 사양은 다음과 같이 확인할 수 있다."
   ]
  },
  {
   "cell_type": "raw",
   "metadata": {},
   "source": [
    "# OS\n",
    "!cat /etc/issue.net"
   ]
  },
  {
   "cell_type": "raw",
   "metadata": {},
   "source": [
    "# CPU 사양\n",
    "!head /proc/cpuinfo"
   ]
  },
  {
   "cell_type": "raw",
   "metadata": {},
   "source": [
    "# 메모리 사양\n",
    "!head -n 3 /proc/meminfo"
   ]
  },
  {
   "cell_type": "raw",
   "metadata": {},
   "source": [
    "# 디스크 사양\n",
    "!df -h"
   ]
  },
  {
   "cell_type": "raw",
   "metadata": {},
   "source": [
    "!python --version"
   ]
  },
  {
   "cell_type": "markdown",
   "metadata": {},
   "source": [
    "## GPU 사용하기\n",
    "\n",
    "#### Colab에서 GPU를 사용하기 위해서는 런타임 유형을 변경해야 한다. \n",
    "\n",
    "Colab 화면 상단의 툴바에서 \"런타임\" > \"런타임 유형 변경\" > \"하드웨어 가속기\" 설정을 None 에서 GPU로 변경한다. (TPU로도 변경이 가능하다.)\n",
    "\n",
    "[그림] 코랩 런타임 유형 설정 : https://datascienceschool.net/upfiles/82c048bc2ac243268b0000d4dc276587.png"
   ]
  },
  {
   "cell_type": "markdown",
   "metadata": {},
   "source": [
    "런타임 유형을 GPU로 변경한 이후에는 !nvidia-smi 명령어로 GPU 사양을 확인 할 수 있다."
   ]
  },
  {
   "cell_type": "raw",
   "metadata": {},
   "source": [
    "!nvidia-smi"
   ]
  },
  {
   "cell_type": "markdown",
   "metadata": {},
   "source": [
    "## 구글 드라이브 연동\n",
    "\n",
    "콜랩에 구글드라이브를 연결하면 구글 드라이브에서 데이터 파일을 열거나 저장할 수도 있다. 코랩을 실행 중인 상태에서 다음 코드를 실행하면 구글 드라이브를 /content/drive/라는 이름으로 드라이브로 코랩에 마운트(mount)시킨다."
   ]
  },
  {
   "cell_type": "raw",
   "metadata": {},
   "source": [
    "from google.colab import drive\n",
    "drive.mount('/content/drive')"
   ]
  },
  {
   "cell_type": "markdown",
   "metadata": {},
   "source": [
    "이미 연결된 상태이면 위와 같은 결과가 나오지만 만약 처음 연결하는 경우라면 다음 그림과 같이 구글 드라이브의 권한을 요청한다.\n",
    "\n",
    "알려주는 URL 링크를 클릭하여 구글에 로그인하면 비밀키 문자열을 알려준다.\n",
    "\n",
    "이 비밀키 문자열을 복사하여 코랩에 있는 네모 입력칸에 붙여넣으면 구들 드라이브와 연결된다.\n",
    "\n",
    "연결되면 다음과 같이 배시 셸 명령어로 폴더를 확인할 수 있다."
   ]
  },
  {
   "cell_type": "raw",
   "metadata": {},
   "source": [
    "!ls '/content/drive/'"
   ]
  },
  {
   "cell_type": "markdown",
   "metadata": {},
   "source": [
    "이 드라이브에는 구글 드라이브가 My Drive라는 이름의 폴더로 마운트되어 있다. 시험삼아 이 폴더 아래에 test_colab이라는 폴더를 만들자."
   ]
  },
  {
   "cell_type": "raw",
   "metadata": {},
   "source": [
    "!mkdir -p '/content/drive/My Drive/test_colab'\n",
    "!ls -Fcal '/content/drive/My Drive/test_colab'"
   ]
  },
  {
   "cell_type": "markdown",
   "metadata": {},
   "source": [
    "폴더가 만들어졌으면 다음 코드로 이 테스트 폴더 안에 df.csv 라는 이름의 데이터 파일을 만들어 보자"
   ]
  },
  {
   "cell_type": "raw",
   "metadata": {},
   "source": [
    "import numpy as np\n",
    "import pandas as pd\n",
    "\n",
    "df = pd.DataFrame(np.random.rand(10, 5))\n",
    "df.to_csv(\"/content/drive/My Drive/test_colab/df.csv\")"
   ]
  },
  {
   "cell_type": "markdown",
   "metadata": {},
   "source": [
    "데이터 파일이 만들어진 것을 확인할 수 있다. 확인이 끝나면 필요없는 데이터 파일은 지운다."
   ]
  },
  {
   "cell_type": "raw",
   "metadata": {},
   "source": [
    "# 파일 확인\n",
    "!ls -Fcal '/content/drive/My Drive/test_colab'"
   ]
  },
  {
   "cell_type": "raw",
   "metadata": {},
   "source": [
    "# 지우기\n",
    "!rm -rf \"/content/drive/My Drive/test_colab/df.csv\""
   ]
  },
  {
   "cell_type": "markdown",
   "metadata": {},
   "source": [
    "## 구글 드라이브에서 주피터 노트북 사용하기\n",
    "\n",
    "주피터 노트북 파일을 구글 드라이브에 업로드 해 놓으면 콜랩에서 연동하여 사용할 수 있다. 구글 드라이브에서 .ipynb 파일을 열때 연결할 앱으로 \"Collaboratory\"를 선택하면 구글 코랩에서 열린다."
   ]
  },
  {
   "cell_type": "code",
   "execution_count": null,
   "metadata": {},
   "outputs": [],
   "source": []
  }
 ],
 "metadata": {
  "kernelspec": {
   "display_name": "Python 3",
   "language": "python",
   "name": "python3"
  },
  "language_info": {
   "codemirror_mode": {
    "name": "ipython",
    "version": 3
   },
   "file_extension": ".py",
   "mimetype": "text/x-python",
   "name": "python",
   "nbconvert_exporter": "python",
   "pygments_lexer": "ipython3",
   "version": "3.7.3"
  }
 },
 "nbformat": 4,
 "nbformat_minor": 2
}
