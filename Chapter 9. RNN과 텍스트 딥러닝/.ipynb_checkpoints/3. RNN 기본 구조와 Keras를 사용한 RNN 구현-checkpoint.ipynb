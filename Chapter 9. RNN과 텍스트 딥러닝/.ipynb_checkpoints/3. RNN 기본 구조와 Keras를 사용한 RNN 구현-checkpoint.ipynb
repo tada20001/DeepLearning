{
 "cells": [
  {
   "cell_type": "markdown",
   "metadata": {},
   "source": [
    "신경망을 사용하여 문장(sentence)이나 시계열(time series) 데이터와 같은 순서열(sequence)를 예측하는 문제를 푸는 경우, 예측하고자 하는 값이 과거의 데이터에 의존하게 하려면 시퀀스를 나타내는 벡터의 크기를 증가시켜야 한다. 예를 들어 10,000개의 단어로 구성된 단어장을 사용하는 언어 모형에서 과거 100개 단어의 순서열에 대해 출력을 예측하려면 1,000,000 차원의 입력 벡터가 필요하다.\n",
    "\n",
    "RNN(Recurrent Neural Network)는 뉴런의 상태(state)를 저장하고 이를 다음 스텝에서의 입력으로 사용함으로써 긴 순서열에 대해서도 예측을 할 수 있는 신경망 구조이다. 여기에서는 RNN의 기본 구조와 Keras 파이썬 패키지에서 지원하는 RNN 구현 방법에 대해 알아본다.\n",
    "\n",
    "## RNN의 기본 구조\n",
    "\n",
    "일반적인 feedforward 신경망 구조는 다음과 같이 출력 벡터 𝑦 가 입력  𝑥 벡터와 신경망 가중치 행렬 𝑈 의 곱에 activation 함수를 적용한 결과로 나타난다.\n",
    "\n",
    "$$\\sigma ( U x )$$\n",
    " \n",
    "이 식에서  𝜎 는 activation 함수를 뜻한다.\n",
    "\n",
    "하나의 은닉층(hidden layer)을 가지는 MLP(Multi-Layer Perceptron)의 경우에는 다음과 같이 표현할 수 있다.\n",
    "\n",
    "$$h = \\sigma(U x)$$\n",
    "\n",
    "$$o = \\sigma(V h)$$\n",
    "\n",
    "이 식에서  ℎ 는 은닉층 벡터,  𝑜 은 출력 벡터,  𝑈 는 입력으로부터 은닉층까지의 가중치 행렬,  𝑉 는 은닉층으로부터 츨력까지의 가중치 행렬이다.\n",
    "\n",
    "RNN에서는 출력 벡터  𝑜  이외에도 상태 벡터  𝑠 를 출력한다. 상태 벡터는 일종의 은닉층 벡터와 비슷하지만 입력  𝑥  뿐 아니라 바로 전단계의 상태 벡터 값에도 의존한다. 출력 벡터는 상태 벡터의 값에 의존한다.\n",
    "\n",
    "$$s_t = \\sigma(Ux_t + Ws_{t-1})$$\n",
    "\n",
    "$$o_t = \\sigma(Vs_t)$$\n",
    "\n",
    "여기에서 첨자  𝑡 는 순서열의 순서를 나타낸다. RNN은 시간 스텝에 따라 연결해서 펼쳐 놓으면 무한개의 은닉층을 가진 MLP와 유사한 효과가 있다. 그림으로 나타내면 다음과 같다.\n",
    "\n",
    "[그림] RNN : https://datascienceschool.net/upfiles/ddcf04d0d77541dda8d52a45533de743.png\n",
    "\n",
    "다만 MLP와 달리 상태 벡터의 변환 행렬이 고정되어 있다.(가중치가 모두 동일하다)\n",
    "\n",
    "## 순서열 예측\n",
    "\n",
    "RNN이 기존 신경망과 가장 다른 점은 순서열을 처리할 수 있다는 점이다. RNN에 입력 벡터 순서열  𝑥_1, 𝑥_2, …, 𝑥_𝑛 을 차례대로 입력하면 상태 순서열  𝑠_1, 𝑠_2, …, 𝑠_𝑛 이 내부적으로 생성되고 출력으로는 출력 순서열  𝑜_1, 𝑜_2, …, 𝑜_𝑛 이 나온다.\n",
    "\n",
    "만약 원하는 결과가 출력 순서열  𝑜_1, 𝑜_2, …, 𝑜_𝑛 이 target 순서열  𝑦_1, 𝑦_2, …, 𝑦_𝑛 과 같아지는 것이라면 입력 순서열 길이와 출력 순서열 길이가 같은 특수한 경우의 sequnce-to-sequence (many-to-many) 예측 문제가 되고 순서열의 마지막 출력 𝑜_𝑛  값이  𝑦_𝑛 값과 같아지는 것만 목표라면 단순한 sequence to value (many-to-one) 문제가 된다.\n",
    "\n",
    "[그림] RNN 예측의 종류 : https://datascienceschool.net/upfiles/09b89247a6ce4c90bd58bd047e2b9c7e.png"
   ]
  },
  {
   "cell_type": "markdown",
   "metadata": {},
   "source": [
    "## Back-Propagation Through Time (BPTT)\n",
    "\n",
    "RNN은 시간에 따라 펼쳐 놓으면 구조가 MLP(다계층 퍼셉트론: Multi-Layer Perception)와 유사하기 때문에 Back-Propagation 방법으로 gradient를 계산할 수 있다. 다만 실제로 여러 개의 은닉층이 있는 것이 아니라 시간 차원에서 존재하기 때문에 Back-Propagation Through Time (BPTT) 방법이라고 한다.\n",
    "\n",
    "## Keras를 사용한 RNN 구현\n",
    "\n",
    "파이썬용 신경망 패키지인 Keras를 사용해서 RNN을 구현해 보자. Keras 는 theano 나 tensorflow 를 사용하여 신경망을 구현해 줄 수 있도록 하는 고수준 라이브러리다.\n",
    "\n",
    "Keras는 다양한 형태의 신경망 구조를 블럭 형태로 제공하고 있으며 SimpleRNN, LSTM, GRU 와 같은 RNN 구조도 제공한다. Keras에서 제공하는 RNN 에 대한 자세한 내용은 다음을 참조한다.\n",
    "\n",
    "* https://keras.io/layers/recurrent/\n",
    "\n",
    "### 시계열 예측 문제\n",
    "\n",
    "풀어야 할 문제는 다음과 같은 사인파형 시계열을 입력으로 다음 스텝의 출력을 예측하는 단순한 시계열 예측 문제이다."
   ]
  },
  {
   "cell_type": "code",
   "execution_count": 1,
   "metadata": {},
   "outputs": [],
   "source": [
    "import warnings\n",
    "warnings.filterwarnings(action='ignore')\n",
    "\n",
    "import matplotlib.pylab as plt\n",
    "import matplotlib as mpl\n",
    "import matplotlib.font_manager as fm\n",
    "import seaborn as sns\n",
    "import numpy as np\n",
    "\n",
    "sns.set_style(\"whitegrid\")\n",
    "mpl.rcParams['axes.unicode_minus'] = False\n",
    "plt.rcParams['font.size'] = 12\n",
    "\n",
    "path = \"/Library/Fonts/NanumGothic.otf\"\n",
    "font_name = fm.FontProperties(fname=path, size=20).get_name()\n",
    "\n",
    "plt.rc('font', family=font_name)\n",
    "fm._rebuild()"
   ]
  },
  {
   "cell_type": "code",
   "execution_count": 2,
   "metadata": {},
   "outputs": [
    {
     "data": {
      "image/png": "[encoded data removed]",
      "text/plain": [
       "<Figure size 432x288 with 1 Axes>"
      ]
     },
     "metadata": {
      "needs_background": "light"
     },
     "output_type": "display_data"
    }
   ],
   "source": [
    "s = np.sin(2 * np.pi * 0.125 * np.arange(20))\n",
    "plt.plot(s, 'ro-')\n",
    "plt.xlim(-0.5, 20.5)\n",
    "plt.ylim(-1.1, 1.1)\n",
    "plt.show()"
   ]
  },
  {
   "cell_type": "markdown",
   "metadata": {},
   "source": [
    "이 시계열 자료에서 입력 순서열과 target 값을 만든다. 입력 순서열은 3 스텝 크기의 순서열을 사용하고 target으로는 그 다음 시간 스텝의 값을 사용한다. 즉, 3개의 순서열을 입력한 다음 마지막 출력값이 target과 일치하게 만드는 sequence-to-value (many-to-one) 문제를 풀어보도록 한다.\n",
    "\n",
    "Keras 에서 RNN 을 사용하려면 입력 데이터는 (nb_samples, timesteps, input_dim) 크기를 가지는 ndim=3인 3차원 텐서(tensor) 형태이어야 한다.\n",
    "\n",
    "* nb_samples: 자료의 수\n",
    "* timesteps: 순서열의 길이\n",
    "* input_dim: x 벡터의 크기\n",
    "\n",
    "여기에서는 단일 시계열이므로 input_dim = 1 이고 3 스텝 크기의 순서열을 사용하므로 timesteps = 3 이며 자료의 수는 18 개이다.\n",
    "\n",
    "다음 코드와 같이 원래의 시계열 벡터를 Toeplitz 행렬 형태로 변환하여 3차원 텐서를 만든다."
   ]
  },
  {
   "cell_type": "code",
   "execution_count": 3,
   "metadata": {},
   "outputs": [
    {
     "data": {
      "text/plain": [
       "array([[ 0.00000000e+00,  7.07106781e-01,  1.00000000e+00],\n",
       "       [ 7.07106781e-01,  1.00000000e+00,  7.07106781e-01],\n",
       "       [ 1.00000000e+00,  7.07106781e-01,  1.22464680e-16],\n",
       "       [ 7.07106781e-01,  1.22464680e-16, -7.07106781e-01],\n",
       "       [ 1.22464680e-16, -7.07106781e-01, -1.00000000e+00]])"
      ]
     },
     "execution_count": 3,
     "metadata": {},
     "output_type": "execute_result"
    }
   ],
   "source": [
    "from scipy.linalg import toeplitz\n",
    "\n",
    "S = np.fliplr(toeplitz(np.r_[s[-1], np.zeros(s.shape[0] - 2)], s[::-1]))\n",
    "S[:5, :3]"
   ]
  },
  {
   "cell_type": "code",
   "execution_count": 4,
   "metadata": {},
   "outputs": [
    {
     "data": {
      "text/plain": [
       "((20,), (19, 20))"
      ]
     },
     "execution_count": 4,
     "metadata": {},
     "output_type": "execute_result"
    }
   ],
   "source": [
    "s.shape, S.shape"
   ]
  },
  {
   "cell_type": "code",
   "execution_count": 5,
   "metadata": {},
   "outputs": [
    {
     "data": {
      "text/plain": [
       "0.7071067811865486"
      ]
     },
     "execution_count": 5,
     "metadata": {},
     "output_type": "execute_result"
    }
   ],
   "source": [
    "s[-1]"
   ]
  },
  {
   "cell_type": "code",
   "execution_count": 6,
   "metadata": {},
   "outputs": [
    {
     "data": {
      "text/plain": [
       "((18, 3, 1), (18,))"
      ]
     },
     "execution_count": 6,
     "metadata": {},
     "output_type": "execute_result"
    }
   ],
   "source": [
    "X_train = S[:-1, :3][:, :, np.newaxis]\n",
    "Y_train = S[:-1, 3]\n",
    "X_train.shape, Y_train.shape"
   ]
  },
  {
   "cell_type": "code",
   "execution_count": 8,
   "metadata": {},
   "outputs": [
    {
     "data": {
      "text/plain": [
       "array([[ 0.00000000e+00,  7.07106781e-01,  1.00000000e+00],\n",
       "       [ 7.07106781e-01,  1.00000000e+00,  7.07106781e-01],\n",
       "       [ 1.00000000e+00,  7.07106781e-01,  1.22464680e-16],\n",
       "       [ 7.07106781e-01,  1.22464680e-16, -7.07106781e-01],\n",
       "       [ 1.22464680e-16, -7.07106781e-01, -1.00000000e+00],\n",
       "       [-7.07106781e-01, -1.00000000e+00, -7.07106781e-01],\n",
       "       [-1.00000000e+00, -7.07106781e-01, -2.44929360e-16],\n",
       "       [-7.07106781e-01, -2.44929360e-16,  7.07106781e-01],\n",
       "       [-2.44929360e-16,  7.07106781e-01,  1.00000000e+00],\n",
       "       [ 7.07106781e-01,  1.00000000e+00,  7.07106781e-01],\n",
       "       [ 1.00000000e+00,  7.07106781e-01,  3.67394040e-16],\n",
       "       [ 7.07106781e-01,  3.67394040e-16, -7.07106781e-01],\n",
       "       [ 3.67394040e-16, -7.07106781e-01, -1.00000000e+00],\n",
       "       [-7.07106781e-01, -1.00000000e+00, -7.07106781e-01],\n",
       "       [-1.00000000e+00, -7.07106781e-01, -4.89858720e-16],\n",
       "       [-7.07106781e-01, -4.89858720e-16,  7.07106781e-01],\n",
       "       [-4.89858720e-16,  7.07106781e-01,  1.00000000e+00],\n",
       "       [ 7.07106781e-01,  1.00000000e+00,  7.07106781e-01]])"
      ]
     },
     "execution_count": 8,
     "metadata": {},
     "output_type": "execute_result"
    }
   ],
   "source": [
    "S[:-1, :3]"
   ]
  },
  {
   "cell_type": "code",
   "execution_count": 10,
   "metadata": {},
   "outputs": [
    {
     "data": {
      "text/plain": [
       "array([ 7.07106781e-01,  1.22464680e-16, -7.07106781e-01, -1.00000000e+00,\n",
       "       -7.07106781e-01, -2.44929360e-16,  7.07106781e-01,  1.00000000e+00,\n",
       "        7.07106781e-01,  3.67394040e-16, -7.07106781e-01, -1.00000000e+00,\n",
       "       -7.07106781e-01, -4.89858720e-16,  7.07106781e-01,  1.00000000e+00,\n",
       "        7.07106781e-01,  0.00000000e+00])"
      ]
     },
     "execution_count": 10,
     "metadata": {},
     "output_type": "execute_result"
    }
   ],
   "source": [
    "S[:-1, 3]"
   ]
  },
  {
   "cell_type": "code",
   "execution_count": 12,
   "metadata": {},
   "outputs": [
    {
     "data": {
      "text/plain": [
       "array([[[ 0.00000000e+00],\n",
       "        [ 7.07106781e-01],\n",
       "        [ 1.00000000e+00]],\n",
       "\n",
       "       [[ 7.07106781e-01],\n",
       "        [ 1.00000000e+00],\n",
       "        [ 7.07106781e-01]],\n",
       "\n",
       "       [[ 1.00000000e+00],\n",
       "        [ 7.07106781e-01],\n",
       "        [ 1.22464680e-16]],\n",
       "\n",
       "       [[ 7.07106781e-01],\n",
       "        [ 1.22464680e-16],\n",
       "        [-7.07106781e-01]]])"
      ]
     },
     "execution_count": 12,
     "metadata": {},
     "output_type": "execute_result"
    }
   ],
   "source": [
    "X_train[:4]"
   ]
  },
  {
   "cell_type": "code",
   "execution_count": 13,
   "metadata": {},
   "outputs": [
    {
     "data": {
      "text/plain": [
       "array([ 7.07106781e-01,  1.22464680e-16, -7.07106781e-01, -1.00000000e+00])"
      ]
     },
     "execution_count": 13,
     "metadata": {},
     "output_type": "execute_result"
    }
   ],
   "source": [
    "Y_train[:4]"
   ]
  },
  {
   "cell_type": "code",
   "execution_count": 14,
   "metadata": {},
   "outputs": [
    {
     "data": {
      "image/png": "[encoded data removed]",
      "text/plain": [
       "<Figure size 432x288 with 2 Axes>"
      ]
     },
     "metadata": {
      "needs_background": "light"
     },
     "output_type": "display_data"
    }
   ],
   "source": [
    "plt.subplot(211)\n",
    "plt.plot([0, 1, 2], X_train[0].flatten(), 'bo-', label='input sequence')\n",
    "plt.plot([3], Y_train[0], 'ro', label='target')\n",
    "plt.xlim(-0.5, 4.5)\n",
    "plt.ylim(-1.1, 1.1)\n",
    "plt.legend()\n",
    "plt.title(\"First sample sequence\")\n",
    "plt.subplot(212)\n",
    "plt.plot([1, 2, 3], X_train[1].flatten(), 'bo-', label='input_sequence')\n",
    "plt.plot([4], Y_train[1], 'ro', label='target')\n",
    "plt.xlim(-0.5, 4.5)\n",
    "plt.ylim(-1.1, 1.1)\n",
    "plt.legend()\n",
    "plt.title(\"Second sample sequence\")\n",
    "plt.tight_layout()\n",
    "plt.show()"
   ]
  },
  {
   "cell_type": "markdown",
   "metadata": {},
   "source": [
    "## Keras의 SimpleRNN 클래스\n",
    "\n",
    "Keras에서 신경망 모형은 다음과 같은 순서로 만든다.\n",
    "\n",
    "* Sequential 클래스 객체인 모형을 생성한다.\n",
    "* add 메서드로 다양한 레이어를 추가한다.\n",
    "* compile 메서드로 목적함수 및 최적화 방법을 지정한다.\n",
    "* fit 메서드로 가중치를 계산한다.\n",
    "\n",
    "우선 가장 단순한 신경망 구조인 SimpleRNN 클래스를 사용하는 방법은 다음 코드와 같다.\n",
    "\n",
    "여기에서는 SimpleRNN 클래스 객체로 10개의 뉴런을 가지는 RNN 층을 만든다. 첫번째 인수로는 뉴런의 크기, input_dim 인수로는 벡터의 크기, input_length 인수로는 순서열의 길이를 입력한다.\n",
    "\n",
    "그 다음으로 SimpleRNN 클래스 객체에서 나오는 10개의 출력값을 하나로 묶어 실수 값을 출력으로 만들기 위해 Dense 클래스 객체를 추가하였다.\n",
    "\n",
    "손실 함수로는 mean-squred-error를, 최적화 방법으로는 단순한 stochastic gradient descent 방법을 사용한다."
   ]
  },
  {
   "cell_type": "code",
   "execution_count": 15,
   "metadata": {},
   "outputs": [
    {
     "name": "stdout",
     "output_type": "stream",
     "text": [
      "WARNING:tensorflow:From /Users/imjunghee/anaconda3/lib/python3.7/site-packages/tensorflow/python/framework/op_def_library.py:263: colocate_with (from tensorflow.python.framework.ops) is deprecated and will be removed in a future version.\n",
      "Instructions for updating:\n",
      "Colocations handled automatically by placer.\n"
     ]
    }
   ],
   "source": [
    "from keras.models import Sequential\n",
    "from keras.layers import SimpleRNN, Dense\n",
    "\n",
    "np.random.seed(0)\n",
    "model = Sequential()\n",
    "model.add(SimpleRNN(10, input_shape=(3, 1)))\n",
    "model.add(Dense(1, activation='linear'))\n",
    "model.compile(loss='mse', optimizer='sgd')"
   ]
  },
  {
   "cell_type": "markdown",
   "metadata": {},
   "source": [
    "일단 학습을 시키기 이전에 나오는 출력을 살펴보자."
   ]
  },
  {
   "cell_type": "code",
   "execution_count": 16,
   "metadata": {},
   "outputs": [
    {
     "data": {
      "image/png": "[encoded data removed]",
      "text/plain": [
       "<Figure size 432x288 with 1 Axes>"
      ]
     },
     "metadata": {
      "needs_background": "light"
     },
     "output_type": "display_data"
    }
   ],
   "source": [
    "# 학습전 모델 예측 값\n",
    "plt.plot(Y_train, 'ro-', label='target')\n",
    "plt.plot(model.predict(X_train[:, :, :]), 'bs-', label='output')\n",
    "plt.xlim(-0.5, 20.5)\n",
    "plt.ylim(-1.1, 1.1)\n",
    "plt.legend()\n",
    "plt.title(\"Before training\")\n",
    "plt.show()"
   ]
  },
  {
   "cell_type": "markdown",
   "metadata": {},
   "source": [
    "fit 메서드로 학습을 한다."
   ]
  },
  {
   "cell_type": "code",
   "execution_count": 17,
   "metadata": {},
   "outputs": [
    {
     "name": "stdout",
     "output_type": "stream",
     "text": [
      "WARNING:tensorflow:From /Users/imjunghee/anaconda3/lib/python3.7/site-packages/tensorflow/python/ops/math_ops.py:3066: to_int32 (from tensorflow.python.ops.math_ops) is deprecated and will be removed in a future version.\n",
      "Instructions for updating:\n",
      "Use tf.cast instead.\n",
      "Epoch 1/100\n",
      " - 0s - loss: 1.3777\n",
      "Epoch 2/100\n",
      " - 0s - loss: 1.3081\n",
      "Epoch 3/100\n",
      " - 0s - loss: 1.2435\n",
      "Epoch 4/100\n",
      " - 0s - loss: 1.1836\n",
      "Epoch 5/100\n",
      " - 0s - loss: 1.1277\n",
      "Epoch 6/100\n",
      " - 0s - loss: 1.0756\n",
      "Epoch 7/100\n",
      " - 0s - loss: 1.0269\n",
      "Epoch 8/100\n",
      " - 0s - loss: 0.9813\n",
      "Epoch 9/100\n",
      " - 0s - loss: 0.9385\n",
      "Epoch 10/100\n",
      " - 0s - loss: 0.8983\n",
      "Epoch 11/100\n",
      " - 0s - loss: 0.8604\n",
      "Epoch 12/100\n",
      " - 0s - loss: 0.8246\n",
      "Epoch 13/100\n",
      " - 0s - loss: 0.7908\n",
      "Epoch 14/100\n",
      " - 0s - loss: 0.7588\n",
      "Epoch 15/100\n",
      " - 0s - loss: 0.7285\n",
      "Epoch 16/100\n",
      " - 0s - loss: 0.6998\n",
      "Epoch 17/100\n",
      " - 0s - loss: 0.6724\n",
      "Epoch 18/100\n",
      " - 0s - loss: 0.6464\n",
      "Epoch 19/100\n",
      " - 0s - loss: 0.6217\n",
      "Epoch 20/100\n",
      " - 0s - loss: 0.5980\n",
      "Epoch 21/100\n",
      " - 0s - loss: 0.5755\n",
      "Epoch 22/100\n",
      " - 0s - loss: 0.5539\n",
      "Epoch 23/100\n",
      " - 0s - loss: 0.5333\n",
      "Epoch 24/100\n",
      " - 0s - loss: 0.5135\n",
      "Epoch 25/100\n",
      " - 0s - loss: 0.4946\n",
      "Epoch 26/100\n",
      " - 0s - loss: 0.4764\n",
      "Epoch 27/100\n",
      " - 0s - loss: 0.4589\n",
      "Epoch 28/100\n",
      " - 0s - loss: 0.4422\n",
      "Epoch 29/100\n",
      " - 0s - loss: 0.4260\n",
      "Epoch 30/100\n",
      " - 0s - loss: 0.4105\n",
      "Epoch 31/100\n",
      " - 0s - loss: 0.3956\n",
      "Epoch 32/100\n",
      " - 0s - loss: 0.3812\n",
      "Epoch 33/100\n",
      " - 0s - loss: 0.3674\n",
      "Epoch 34/100\n",
      " - 0s - loss: 0.3540\n",
      "Epoch 35/100\n",
      " - 0s - loss: 0.3411\n",
      "Epoch 36/100\n",
      " - 0s - loss: 0.3287\n",
      "Epoch 37/100\n",
      " - 0s - loss: 0.3167\n",
      "Epoch 38/100\n",
      " - 0s - loss: 0.3051\n",
      "Epoch 39/100\n",
      " - 0s - loss: 0.2939\n",
      "Epoch 40/100\n",
      " - 0s - loss: 0.2831\n",
      "Epoch 41/100\n",
      " - 0s - loss: 0.2727\n",
      "Epoch 42/100\n",
      " - 0s - loss: 0.2626\n",
      "Epoch 43/100\n",
      " - 0s - loss: 0.2529\n",
      "Epoch 44/100\n",
      " - 0s - loss: 0.2435\n",
      "Epoch 45/100\n",
      " - 0s - loss: 0.2344\n",
      "Epoch 46/100\n",
      " - 0s - loss: 0.2256\n",
      "Epoch 47/100\n",
      " - 0s - loss: 0.2171\n",
      "Epoch 48/100\n",
      " - 0s - loss: 0.2089\n",
      "Epoch 49/100\n",
      " - 0s - loss: 0.2010\n",
      "Epoch 50/100\n",
      " - 0s - loss: 0.1933\n",
      "Epoch 51/100\n",
      " - 0s - loss: 0.1859\n",
      "Epoch 52/100\n",
      " - 0s - loss: 0.1788\n",
      "Epoch 53/100\n",
      " - 0s - loss: 0.1719\n",
      "Epoch 54/100\n",
      " - 0s - loss: 0.1653\n",
      "Epoch 55/100\n",
      " - 0s - loss: 0.1588\n",
      "Epoch 56/100\n",
      " - 0s - loss: 0.1526\n",
      "Epoch 57/100\n",
      " - 0s - loss: 0.1466\n",
      "Epoch 58/100\n",
      " - 0s - loss: 0.1409\n",
      "Epoch 59/100\n",
      " - 0s - loss: 0.1353\n",
      "Epoch 60/100\n",
      " - 0s - loss: 0.1299\n",
      "Epoch 61/100\n",
      " - 0s - loss: 0.1247\n",
      "Epoch 62/100\n",
      " - 0s - loss: 0.1197\n",
      "Epoch 63/100\n",
      " - 0s - loss: 0.1149\n",
      "Epoch 64/100\n",
      " - 0s - loss: 0.1103\n",
      "Epoch 65/100\n",
      " - 0s - loss: 0.1058\n",
      "Epoch 66/100\n",
      " - 0s - loss: 0.1015\n",
      "Epoch 67/100\n",
      " - 0s - loss: 0.0974\n",
      "Epoch 68/100\n",
      " - 0s - loss: 0.0934\n",
      "Epoch 69/100\n",
      " - 0s - loss: 0.0895\n",
      "Epoch 70/100\n",
      " - 0s - loss: 0.0858\n",
      "Epoch 71/100\n",
      " - 0s - loss: 0.0823\n",
      "Epoch 72/100\n",
      " - 0s - loss: 0.0789\n",
      "Epoch 73/100\n",
      " - 0s - loss: 0.0756\n",
      "Epoch 74/100\n",
      " - 0s - loss: 0.0725\n",
      "Epoch 75/100\n",
      " - 0s - loss: 0.0694\n",
      "Epoch 76/100\n",
      " - 0s - loss: 0.0665\n",
      "Epoch 77/100\n",
      " - 0s - loss: 0.0637\n",
      "Epoch 78/100\n",
      " - 0s - loss: 0.0611\n",
      "Epoch 79/100\n",
      " - 0s - loss: 0.0585\n",
      "Epoch 80/100\n",
      " - 0s - loss: 0.0560\n",
      "Epoch 81/100\n",
      " - 0s - loss: 0.0537\n",
      "Epoch 82/100\n",
      " - 0s - loss: 0.0514\n",
      "Epoch 83/100\n",
      " - 0s - loss: 0.0493\n",
      "Epoch 84/100\n",
      " - 0s - loss: 0.0472\n",
      "Epoch 85/100\n",
      " - 0s - loss: 0.0452\n",
      "Epoch 86/100\n",
      " - 0s - loss: 0.0433\n",
      "Epoch 87/100\n",
      " - 0s - loss: 0.0415\n",
      "Epoch 88/100\n",
      " - 0s - loss: 0.0397\n",
      "Epoch 89/100\n",
      " - 0s - loss: 0.0380\n",
      "Epoch 90/100\n",
      " - 0s - loss: 0.0364\n",
      "Epoch 91/100\n",
      " - 0s - loss: 0.0349\n",
      "Epoch 92/100\n",
      " - 0s - loss: 0.0335\n",
      "Epoch 93/100\n",
      " - 0s - loss: 0.0321\n",
      "Epoch 94/100\n",
      " - 0s - loss: 0.0307\n",
      "Epoch 95/100\n",
      " - 0s - loss: 0.0294\n",
      "Epoch 96/100\n",
      " - 0s - loss: 0.0282\n",
      "Epoch 97/100\n",
      " - 0s - loss: 0.0271\n",
      "Epoch 98/100\n",
      " - 0s - loss: 0.0259\n",
      "Epoch 99/100\n",
      " - 0s - loss: 0.0249\n",
      "Epoch 100/100\n",
      " - 0s - loss: 0.0239\n"
     ]
    }
   ],
   "source": [
    "history = model.fit(X_train, Y_train, epochs=100, verbose=2)"
   ]
  },
  {
   "cell_type": "code",
   "execution_count": 18,
   "metadata": {},
   "outputs": [
    {
     "data": {
      "image/png": "[encoded data removed]",
      "text/plain": [
       "<Figure size 432x288 with 1 Axes>"
      ]
     },
     "metadata": {
      "needs_background": "light"
     },
     "output_type": "display_data"
    }
   ],
   "source": [
    "plt.plot(history.history['loss'])\n",
    "plt.title(\"Loss\")\n",
    "plt.show()"
   ]
  },
  {
   "cell_type": "markdown",
   "metadata": {},
   "source": [
    "학습을 마친 후의 출력은 다음과 같다."
   ]
  },
  {
   "cell_type": "code",
   "execution_count": 20,
   "metadata": {},
   "outputs": [
    {
     "data": {
      "image/png": "[encoded data removed]",
      "text/plain": [
       "<Figure size 432x288 with 1 Axes>"
      ]
     },
     "metadata": {
      "needs_background": "light"
     },
     "output_type": "display_data"
    }
   ],
   "source": [
    "plt.plot(Y_train, 'ro-', label='target')\n",
    "plt.plot(model.predict(X_train[:, :, :]), 'bs-', label='output')\n",
    "plt.xlim(-0.5, 20.5)\n",
    "plt.ylim(-1.1, 1.1)\n",
    "plt.legend()\n",
    "plt.title(\"After training\")\n",
    "plt.show()"
   ]
  },
  {
   "cell_type": "markdown",
   "metadata": {},
   "source": [
    "**SimpleRNN 클래스 생성시 return_sequences 인수를 True 로 하면 출력 순서열 중 마지막 값만 출력하는 것이 아니라 전체 순서열을 3차원 텐서 형태로 출력하므로 sequence-to-sequence 문제로 풀 수 있다.** 다만 입력 순서열과 출력 순서열의 크기는 같아야 한다.\n",
    "\n",
    "다만 이 경우에는 다음에 오는 Dense 클래스 객체를 TimeDistributed wrapper를 사용하여 3차원 텐서 입력을 받을 수 있게 확장해 주어야 한다."
   ]
  },
  {
   "cell_type": "code",
   "execution_count": 21,
   "metadata": {},
   "outputs": [],
   "source": [
    "from keras.layers import TimeDistributed\n",
    "\n",
    "model2 = Sequential()\n",
    "model2.add(SimpleRNN(10, return_sequences=True, input_shape=(3, 1)))\n",
    "model2.add(TimeDistributed(Dense(1, activation='linear')))\n",
    "model2.compile(loss='mse', optimizer='sgd')"
   ]
  },
  {
   "cell_type": "markdown",
   "metadata": {},
   "source": [
    "이 번에는 출력값도 3개짜리 순서열로 한다."
   ]
  },
  {
   "cell_type": "code",
   "execution_count": 22,
   "metadata": {},
   "outputs": [
    {
     "data": {
      "text/plain": [
       "((16, 3, 1), (16, 3, 1))"
      ]
     },
     "execution_count": 22,
     "metadata": {},
     "output_type": "execute_result"
    }
   ],
   "source": [
    "X_train2 = S[:-3, 0:3][:, :, np.newaxis]\n",
    "Y_train2 = S[:-3, 3:6][:, :, np.newaxis]\n",
    "X_train2.shape, Y_train2.shape"
   ]
  },
  {
   "cell_type": "code",
   "execution_count": 23,
   "metadata": {},
   "outputs": [
    {
     "data": {
      "text/plain": [
       "array([[[ 0.00000000e+00],\n",
       "        [ 7.07106781e-01],\n",
       "        [ 1.00000000e+00]],\n",
       "\n",
       "       [[ 7.07106781e-01],\n",
       "        [ 1.00000000e+00],\n",
       "        [ 7.07106781e-01]],\n",
       "\n",
       "       [[ 1.00000000e+00],\n",
       "        [ 7.07106781e-01],\n",
       "        [ 1.22464680e-16]],\n",
       "\n",
       "       [[ 7.07106781e-01],\n",
       "        [ 1.22464680e-16],\n",
       "        [-7.07106781e-01]]])"
      ]
     },
     "execution_count": 23,
     "metadata": {},
     "output_type": "execute_result"
    }
   ],
   "source": [
    "X_train2[:4]"
   ]
  },
  {
   "cell_type": "code",
   "execution_count": 24,
   "metadata": {},
   "outputs": [
    {
     "data": {
      "text/plain": [
       "array([[[ 7.07106781e-01],\n",
       "        [ 1.22464680e-16],\n",
       "        [-7.07106781e-01]],\n",
       "\n",
       "       [[ 1.22464680e-16],\n",
       "        [-7.07106781e-01],\n",
       "        [-1.00000000e+00]],\n",
       "\n",
       "       [[-7.07106781e-01],\n",
       "        [-1.00000000e+00],\n",
       "        [-7.07106781e-01]],\n",
       "\n",
       "       [[-1.00000000e+00],\n",
       "        [-7.07106781e-01],\n",
       "        [-2.44929360e-16]]])"
      ]
     },
     "execution_count": 24,
     "metadata": {},
     "output_type": "execute_result"
    }
   ],
   "source": [
    "Y_train2[:4]"
   ]
  },
  {
   "cell_type": "code",
   "execution_count": 26,
   "metadata": {},
   "outputs": [
    {
     "data": {
      "image/png": "[encoded data removed]",
      "text/plain": [
       "<Figure size 432x288 with 2 Axes>"
      ]
     },
     "metadata": {
      "needs_background": "light"
     },
     "output_type": "display_data"
    }
   ],
   "source": [
    "plt.subplot(211)\n",
    "plt.plot([0, 1, 2], X_train2[0].flatten(), 'bo-', label='input sequence')\n",
    "plt.plot([3, 4, 5], Y_train2[0].flatten(), 'ro-', label='target sequence')\n",
    "plt.xlim(-0.5, 6.5)\n",
    "plt.ylim(-1.1, 1.1)\n",
    "plt.legend()\n",
    "plt.title(\"First sample sequence\")\n",
    "plt.subplot(212)\n",
    "plt.plot([1, 2, 3], X_train2[1].flatten(), 'bo-', label='input sequence')\n",
    "plt.plot([4, 5, 6], Y_train2[1].flatten(), 'ro-', label='target sequence')\n",
    "plt.xlim(-0.5, 6.5)\n",
    "plt.ylim(-1.1, 1.1)\n",
    "plt.legend()\n",
    "plt.title(\"Second sample sequence\")\n",
    "plt.tight_layout()\n",
    "plt.suptitle(\"Before training\", y=1.1)\n",
    "plt.show()"
   ]
  },
  {
   "cell_type": "code",
   "execution_count": 27,
   "metadata": {},
   "outputs": [
    {
     "name": "stdout",
     "output_type": "stream",
     "text": [
      "Epoch 1/100\n",
      " - 0s - loss: 0.2155\n",
      "Epoch 2/100\n",
      " - 0s - loss: 0.2116\n",
      "Epoch 3/100\n",
      " - 0s - loss: 0.2079\n",
      "Epoch 4/100\n",
      " - 0s - loss: 0.2043\n",
      "Epoch 5/100\n",
      " - 0s - loss: 0.2009\n",
      "Epoch 6/100\n",
      " - 0s - loss: 0.1977\n",
      "Epoch 7/100\n",
      " - 0s - loss: 0.1945\n",
      "Epoch 8/100\n",
      " - 0s - loss: 0.1915\n",
      "Epoch 9/100\n",
      " - 0s - loss: 0.1886\n",
      "Epoch 10/100\n",
      " - 0s - loss: 0.1858\n",
      "Epoch 11/100\n",
      " - 0s - loss: 0.1832\n",
      "Epoch 12/100\n",
      " - 0s - loss: 0.1806\n",
      "Epoch 13/100\n",
      " - 0s - loss: 0.1781\n",
      "Epoch 14/100\n",
      " - 0s - loss: 0.1758\n",
      "Epoch 15/100\n",
      " - 0s - loss: 0.1735\n",
      "Epoch 16/100\n",
      " - 0s - loss: 0.1713\n",
      "Epoch 17/100\n",
      " - 0s - loss: 0.1692\n",
      "Epoch 18/100\n",
      " - 0s - loss: 0.1672\n",
      "Epoch 19/100\n",
      " - 0s - loss: 0.1653\n",
      "Epoch 20/100\n",
      " - 0s - loss: 0.1634\n",
      "Epoch 21/100\n",
      " - 0s - loss: 0.1616\n",
      "Epoch 22/100\n",
      " - 0s - loss: 0.1599\n",
      "Epoch 23/100\n",
      " - 0s - loss: 0.1582\n",
      "Epoch 24/100\n",
      " - 0s - loss: 0.1566\n",
      "Epoch 25/100\n",
      " - 0s - loss: 0.1550\n",
      "Epoch 26/100\n",
      " - 0s - loss: 0.1535\n",
      "Epoch 27/100\n",
      " - 0s - loss: 0.1521\n",
      "Epoch 28/100\n",
      " - 0s - loss: 0.1507\n",
      "Epoch 29/100\n",
      " - 0s - loss: 0.1494\n",
      "Epoch 30/100\n",
      " - 0s - loss: 0.1481\n",
      "Epoch 31/100\n",
      " - 0s - loss: 0.1469\n",
      "Epoch 32/100\n",
      " - 0s - loss: 0.1457\n",
      "Epoch 33/100\n",
      " - 0s - loss: 0.1445\n",
      "Epoch 34/100\n",
      " - 0s - loss: 0.1434\n",
      "Epoch 35/100\n",
      " - 0s - loss: 0.1423\n",
      "Epoch 36/100\n",
      " - 0s - loss: 0.1413\n",
      "Epoch 37/100\n",
      " - 0s - loss: 0.1403\n",
      "Epoch 38/100\n",
      " - 0s - loss: 0.1393\n",
      "Epoch 39/100\n",
      " - 0s - loss: 0.1384\n",
      "Epoch 40/100\n",
      " - 0s - loss: 0.1375\n",
      "Epoch 41/100\n",
      " - 0s - loss: 0.1366\n",
      "Epoch 42/100\n",
      " - 0s - loss: 0.1358\n",
      "Epoch 43/100\n",
      " - 0s - loss: 0.1350\n",
      "Epoch 44/100\n",
      " - 0s - loss: 0.1342\n",
      "Epoch 45/100\n",
      " - 0s - loss: 0.1335\n",
      "Epoch 46/100\n",
      " - 0s - loss: 0.1327\n",
      "Epoch 47/100\n",
      " - 0s - loss: 0.1320\n",
      "Epoch 48/100\n",
      " - 0s - loss: 0.1314\n",
      "Epoch 49/100\n",
      " - 0s - loss: 0.1307\n",
      "Epoch 50/100\n",
      " - 0s - loss: 0.1301\n",
      "Epoch 51/100\n",
      " - 0s - loss: 0.1295\n",
      "Epoch 52/100\n",
      " - 0s - loss: 0.1289\n",
      "Epoch 53/100\n",
      " - 0s - loss: 0.1283\n",
      "Epoch 54/100\n",
      " - 0s - loss: 0.1277\n",
      "Epoch 55/100\n",
      " - 0s - loss: 0.1272\n",
      "Epoch 56/100\n",
      " - 0s - loss: 0.1267\n",
      "Epoch 57/100\n",
      " - 0s - loss: 0.1262\n",
      "Epoch 58/100\n",
      " - 0s - loss: 0.1257\n",
      "Epoch 59/100\n",
      " - 0s - loss: 0.1253\n",
      "Epoch 60/100\n",
      " - 0s - loss: 0.1248\n",
      "Epoch 61/100\n",
      " - 0s - loss: 0.1244\n",
      "Epoch 62/100\n",
      " - 0s - loss: 0.1239\n",
      "Epoch 63/100\n",
      " - 0s - loss: 0.1235\n",
      "Epoch 64/100\n",
      " - 0s - loss: 0.1232\n",
      "Epoch 65/100\n",
      " - 0s - loss: 0.1228\n",
      "Epoch 66/100\n",
      " - 0s - loss: 0.1224\n",
      "Epoch 67/100\n",
      " - 0s - loss: 0.1220\n",
      "Epoch 68/100\n",
      " - 0s - loss: 0.1217\n",
      "Epoch 69/100\n",
      " - 0s - loss: 0.1214\n",
      "Epoch 70/100\n",
      " - 0s - loss: 0.1211\n",
      "Epoch 71/100\n",
      " - 0s - loss: 0.1207\n",
      "Epoch 72/100\n",
      " - 0s - loss: 0.1204\n",
      "Epoch 73/100\n",
      " - 0s - loss: 0.1201\n",
      "Epoch 74/100\n",
      " - 0s - loss: 0.1199\n",
      "Epoch 75/100\n",
      " - 0s - loss: 0.1196\n",
      "Epoch 76/100\n",
      " - 0s - loss: 0.1193\n",
      "Epoch 77/100\n",
      " - 0s - loss: 0.1191\n",
      "Epoch 78/100\n",
      " - 0s - loss: 0.1188\n",
      "Epoch 79/100\n",
      " - 0s - loss: 0.1186\n",
      "Epoch 80/100\n",
      " - 0s - loss: 0.1184\n",
      "Epoch 81/100\n",
      " - 0s - loss: 0.1181\n",
      "Epoch 82/100\n",
      " - 0s - loss: 0.1179\n",
      "Epoch 83/100\n",
      " - 0s - loss: 0.1177\n",
      "Epoch 84/100\n",
      " - 0s - loss: 0.1175\n",
      "Epoch 85/100\n",
      " - 0s - loss: 0.1173\n",
      "Epoch 86/100\n",
      " - 0s - loss: 0.1171\n",
      "Epoch 87/100\n",
      " - 0s - loss: 0.1169\n",
      "Epoch 88/100\n",
      " - 0s - loss: 0.1168\n",
      "Epoch 89/100\n",
      " - 0s - loss: 0.1166\n",
      "Epoch 90/100\n",
      " - 0s - loss: 0.1164\n",
      "Epoch 91/100\n",
      " - 0s - loss: 0.1163\n",
      "Epoch 92/100\n",
      " - 0s - loss: 0.1161\n",
      "Epoch 93/100\n",
      " - 0s - loss: 0.1160\n",
      "Epoch 94/100\n",
      " - 0s - loss: 0.1158\n",
      "Epoch 95/100\n",
      " - 0s - loss: 0.1157\n",
      "Epoch 96/100\n",
      " - 0s - loss: 0.1155\n",
      "Epoch 97/100\n",
      " - 0s - loss: 0.1154\n",
      "Epoch 98/100\n",
      " - 0s - loss: 0.1153\n",
      "Epoch 99/100\n",
      " - 0s - loss: 0.1151\n",
      "Epoch 100/100\n",
      " - 0s - loss: 0.1150\n"
     ]
    }
   ],
   "source": [
    "history2 = model2.fit(X_train2, Y_train2, epochs=100, verbose=2)"
   ]
  },
  {
   "cell_type": "code",
   "execution_count": 28,
   "metadata": {},
   "outputs": [
    {
     "data": {
      "image/png": "[encoded data removed]",
      "text/plain": [
       "<Figure size 432x288 with 1 Axes>"
      ]
     },
     "metadata": {
      "needs_background": "light"
     },
     "output_type": "display_data"
    }
   ],
   "source": [
    "plt.plot(history2.history['loss'])\n",
    "plt.title(\"Loss\")\n",
    "plt.show()"
   ]
  },
  {
   "cell_type": "markdown",
   "metadata": {},
   "source": [
    "학습 결과는 다음과 같다."
   ]
  },
  {
   "cell_type": "code",
   "execution_count": 34,
   "metadata": {},
   "outputs": [
    {
     "data": {
      "image/png": "[encoded data removed]",
      "text/plain": [
       "<Figure size 432x288 with 2 Axes>"
      ]
     },
     "metadata": {
      "needs_background": "light"
     },
     "output_type": "display_data"
    }
   ],
   "source": [
    "plt.subplot(211)\n",
    "plt.plot([1, 2, 3], X_train2[1].flatten(), 'bo-', label='input sequence')\n",
    "plt.plot([4, 5, 6], Y_train2[1].flatten(), 'ro-', label='target sequence')\n",
    "plt.plot([4, 5, 6], model2.predict(X_train2[1:2, :, :]).flatten(), 'gs-', label='output sequence')\n",
    "plt.xlim(-0.5, 7.5)\n",
    "plt.ylim(-1.1, 1.1)\n",
    "plt.legend()\n",
    "plt.title(\"Second sample sequence\")\n",
    "plt.subplot(212)\n",
    "plt.plot([2, 3, 4], X_train2[2].flatten(), 'bo-', label='input sequence')\n",
    "plt.plot([5, 6, 7], Y_train2[2].flatten(), 'ro-', label='target sequence')\n",
    "plt.plot([5, 6, 7], model2.predict(X_train2[2:3, :, :]).flatten(), 'gs-', label='output sequence')\n",
    "plt.xlim(-0.5, 7.5)\n",
    "plt.ylim(-1.1, 1.1)\n",
    "plt.legend()\n",
    "plt.title(\"Third sample sequence\")\n",
    "plt.tight_layout()\n",
    "plt.suptitle(\"After training\", y=1.05)\n",
    "plt.show()"
   ]
  },
  {
   "cell_type": "code",
   "execution_count": null,
   "metadata": {},
   "outputs": [],
   "source": []
  }
 ],
 "metadata": {
  "kernelspec": {
   "display_name": "Python 3",
   "language": "python",
   "name": "python3"
  },
  "language_info": {
   "codemirror_mode": {
    "name": "ipython",
    "version": 3
   },
   "file_extension": ".py",
   "mimetype": "text/x-python",
   "name": "python",
   "nbconvert_exporter": "python",
   "pygments_lexer": "ipython3",
   "version": "3.7.3"
  }
 },
 "nbformat": 4,
 "nbformat_minor": 2
}
