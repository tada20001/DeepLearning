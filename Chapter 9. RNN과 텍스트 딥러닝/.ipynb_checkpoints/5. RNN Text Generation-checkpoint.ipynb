{
 "cells": [
  {
   "cell_type": "code",
   "execution_count": 1,
   "metadata": {},
   "outputs": [],
   "source": [
    "from keras.models import Sequential\n",
    "from keras.layers import Dense, Embedding, LSTM, Dropout\n",
    "from keras.optimizers import *\n",
    "from keras.utils import np_utils\n",
    "from keras.preprocessing import sequence\n",
    "from keras.preprocessing.text import Tokenizer\n",
    "\n",
    "from nltk.tokenize import sent_tokenize\n",
    "from konlpy.corpus import kolaw\n",
    "from konlpy.tag import Okt # instead of Twitter"
   ]
  },
  {
   "cell_type": "markdown",
   "metadata": {},
   "source": [
    "## Corpus"
   ]
  },
  {
   "cell_type": "code",
   "execution_count": 2,
   "metadata": {},
   "outputs": [],
   "source": [
    "c = kolaw.open('constitution.txt').read()"
   ]
  },
  {
   "cell_type": "code",
   "execution_count": 3,
   "metadata": {},
   "outputs": [
    {
     "data": {
      "text/plain": [
       "'제2조 ① 대한민국의 국민이 되는 요건은 법률로 정한다.'"
      ]
     },
     "execution_count": 3,
     "metadata": {},
     "output_type": "execute_result"
    }
   ],
   "source": [
    "sentents = [s for s in sent_tokenize(c)]\n",
    "sentents[3]"
   ]
  },
  {
   "cell_type": "markdown",
   "metadata": {},
   "source": [
    "## Preprocessing"
   ]
  },
  {
   "cell_type": "code",
   "execution_count": 4,
   "metadata": {},
   "outputs": [
    {
     "name": "stderr",
     "output_type": "stream",
     "text": [
      "/Users/imjunghee/anaconda3/lib/python3.7/site-packages/jpype/_core.py:210: UserWarning: \n",
      "-------------------------------------------------------------------------------\n",
      "Deprecated: convertStrings was not specified when starting the JVM. The default\n",
      "behavior in JPype will be False starting in JPype 0.8. The recommended setting\n",
      "for new code is convertStrings=False.  The legacy value of True was assumed for\n",
      "this session. If you are a user of an application that reported this warning,\n",
      "please file a ticket with the developer.\n",
      "-------------------------------------------------------------------------------\n",
      "\n",
      "  \"\"\")\n"
     ]
    }
   ],
   "source": [
    "okt = Okt()\n",
    "doc0 = [\" \".join([\"\".join(w) for w, t in okt.pos(s) \n",
    "                  if t not in ['Number', \"Foreign\"] and w not in[\"제\", \"조\"]]) for s in sent_tokenize(c)] # number, foreign 품사, 제, 조 단어 제외"
   ]
  },
  {
   "cell_type": "code",
   "execution_count": 5,
   "metadata": {},
   "outputs": [
    {
     "data": {
      "text/plain": [
       "357"
      ]
     },
     "execution_count": 5,
     "metadata": {},
     "output_type": "execute_result"
    }
   ],
   "source": [
    "len(doc0)"
   ]
  },
  {
   "cell_type": "code",
   "execution_count": 6,
   "metadata": {},
   "outputs": [
    {
     "data": {
      "text/plain": [
       "'대한민국 의 국민 이 되는 요건 은 법률 로 정 한다 .'"
      ]
     },
     "execution_count": 6,
     "metadata": {},
     "output_type": "execute_result"
    }
   ],
   "source": [
    "doc0[3]"
   ]
  },
  {
   "cell_type": "code",
   "execution_count": 9,
   "metadata": {},
   "outputs": [],
   "source": [
    "tokenizer = Tokenizer()\n",
    "tokenizer.fit_on_texts(doc0)\n",
    "doc = [l for l in tokenizer.texts_to_sequences(doc0) if len(l) > 1]  # 문장 길이 2이상만 추출하여 labeling"
   ]
  },
  {
   "cell_type": "code",
   "execution_count": 10,
   "metadata": {},
   "outputs": [
    {
     "data": {
      "text/plain": [
       "[102, 1, 22, 5, 111, 653, 4, 9, 24, 13, 6]"
      ]
     },
     "execution_count": 10,
     "metadata": {},
     "output_type": "execute_result"
    }
   ],
   "source": [
    "doc[3]"
   ]
  },
  {
   "cell_type": "code",
   "execution_count": 11,
   "metadata": {},
   "outputs": [],
   "source": [
    "maxlen = max([len(x) - 1 for x in doc]) # 각 문장 길이의 - 1\n",
    "vocab_size = len(tokenizer.word_index) + 1 # tokenizer.word_index(단어장) 길이 + 1"
   ]
  },
  {
   "cell_type": "code",
   "execution_count": 13,
   "metadata": {},
   "outputs": [
    {
     "data": {
      "text/plain": [
       "(187, 1165)"
      ]
     },
     "execution_count": 13,
     "metadata": {},
     "output_type": "execute_result"
    }
   ],
   "source": [
    "maxlen, vocab_size"
   ]
  },
  {
   "cell_type": "markdown",
   "metadata": {},
   "source": [
    "## Data Generation"
   ]
  },
  {
   "cell_type": "code",
   "execution_count": 14,
   "metadata": {},
   "outputs": [],
   "source": [
    "def generate_data(X, maxlen, vocab_size):\n",
    "    for sentence in X:\n",
    "        inputs = []  # X\n",
    "        targets = []  # Y\n",
    "        \n",
    "        for i in range(1, len(sentence)): # 단어수\n",
    "            inputs.append(sentence[0:i])  # 1~단어수까지 문장 크기별로 단계적으로 input 데이터 생성\n",
    "            targets.append(sentence[i])  # 마지막 단어로 단계적으로 target 데이터 생성 \n",
    "        y = np_utils.to_categorical(targets, vocab_size)\n",
    "        inputs_sequence = sequence.pad_sequences(inputs, maxlen=maxlen)\n",
    "        yield (inputs_sequence, y)"
   ]
  },
  {
   "cell_type": "code",
   "execution_count": 15,
   "metadata": {},
   "outputs": [
    {
     "name": "stdout",
     "output_type": "stream",
     "text": [
      "i 0\n",
      "x (187, 187) \n",
      " [[  0   0   0 ...   0   0 102]\n",
      " [  0   0   0 ...   0 102  28]\n",
      " [  0   0   0 ... 102  28 602]\n",
      " ...\n",
      " [  0   0 102 ... 647 155   2]\n",
      " [  0 102  28 ... 155   2  20]\n",
      " [102  28 602 ...   2  20 180]]\n",
      "y (187, 1165) \n",
      " [[0. 0. 0. ... 0. 0. 0.]\n",
      " [0. 0. 0. ... 0. 0. 0.]\n",
      " [0. 0. 0. ... 0. 0. 0.]\n",
      " ...\n",
      " [0. 0. 0. ... 0. 0. 0.]\n",
      " [0. 0. 0. ... 0. 0. 0.]\n",
      " [0. 0. 0. ... 0. 0. 0.]]\n",
      "i 1\n",
      "x (6, 187) \n",
      " [[  0   0   0 ...   0   0  45]\n",
      " [  0   0   0 ...   0  45 439]\n",
      " [  0   0   0 ...  45 439 648]\n",
      " [  0   0   0 ... 439 648 102]\n",
      " [  0   0   0 ... 648 102   4]\n",
      " [  0   0   0 ... 102   4 649]]\n",
      "y (6, 1165) \n",
      " [[0. 0. 0. ... 0. 0. 0.]\n",
      " [0. 0. 0. ... 0. 0. 0.]\n",
      " [0. 0. 0. ... 0. 0. 0.]\n",
      " [0. 0. 0. ... 0. 0. 0.]\n",
      " [0. 0. 0. ... 0. 0. 0.]\n",
      " [0. 0. 0. ... 0. 0. 0.]]\n",
      "i 2\n",
      "x (12, 187) \n",
      " [[  0   0   0 ...   0   0 102]\n",
      " [  0   0   0 ...   0 102   1]\n",
      " [  0   0   0 ... 102   1 440]\n",
      " ...\n",
      " [  0   0   0 ...  34 651   4]\n",
      " [  0   0   0 ... 651   4  22]\n",
      " [  0   0   0 ...   4  22 331]]\n",
      "y (12, 1165) \n",
      " [[0. 1. 0. ... 0. 0. 0.]\n",
      " [0. 0. 0. ... 0. 0. 0.]\n",
      " [0. 0. 0. ... 0. 0. 0.]\n",
      " ...\n",
      " [0. 0. 0. ... 0. 0. 0.]\n",
      " [0. 0. 0. ... 0. 0. 0.]\n",
      " [0. 0. 0. ... 0. 0. 0.]]\n"
     ]
    }
   ],
   "source": [
    "for i, (x, y) in enumerate(generate_data(doc, maxlen, vocab_size)):\n",
    "    print(\"i\", i)\n",
    "    print(\"x\", x.shape, \"\\n\", x)\n",
    "    print(\"y\", y.shape, \"\\n\", y)\n",
    "    if i > 1:\n",
    "        break"
   ]
  },
  {
   "cell_type": "code",
   "execution_count": 16,
   "metadata": {},
   "outputs": [],
   "source": [
    "X = []\n",
    "Y = []\n",
    "for x, y in generate_data(doc, maxlen, vocab_size):\n",
    "    X.append(x)\n",
    "    Y.append(y)\n",
    "    \n",
    "import numpy as np\n",
    "X = np.concatenate(X)\n",
    "Y = np.concatenate(Y)"
   ]
  },
  {
   "cell_type": "code",
   "execution_count": 18,
   "metadata": {},
   "outputs": [
    {
     "data": {
      "text/plain": [
       "((6917, 187), (6917, 1165))"
      ]
     },
     "execution_count": 18,
     "metadata": {},
     "output_type": "execute_result"
    }
   ],
   "source": [
    "X.shape, Y.shape"
   ]
  },
  {
   "cell_type": "code",
   "execution_count": 19,
   "metadata": {},
   "outputs": [
    {
     "name": "stdout",
     "output_type": "stream",
     "text": [
      "WARNING:tensorflow:From /Users/imjunghee/anaconda3/lib/python3.7/site-packages/tensorflow/python/framework/op_def_library.py:263: colocate_with (from tensorflow.python.framework.ops) is deprecated and will be removed in a future version.\n",
      "Instructions for updating:\n",
      "Colocations handled automatically by placer.\n",
      "WARNING:tensorflow:From /Users/imjunghee/anaconda3/lib/python3.7/site-packages/keras/backend/tensorflow_backend.py:3733: calling dropout (from tensorflow.python.ops.nn_ops) with keep_prob is deprecated and will be removed in a future version.\n",
      "Instructions for updating:\n",
      "Please use `rate` instead of `keep_prob`. Rate should be set to `rate = 1 - keep_prob`.\n"
     ]
    }
   ],
   "source": [
    "model = Sequential()\n",
    "model.add(Embedding(vocab_size, 100, input_length=maxlen))\n",
    "model.add(LSTM(100, return_sequences=False))\n",
    "model.add(Dropout(0.5))\n",
    "model.add(Dense(vocab_size, activation='softmax'))"
   ]
  },
  {
   "cell_type": "code",
   "execution_count": 20,
   "metadata": {},
   "outputs": [
    {
     "name": "stdout",
     "output_type": "stream",
     "text": [
      "Model: \"sequential_1\"\n",
      "_________________________________________________________________\n",
      "Layer (type)                 Output Shape              Param #   \n",
      "=================================================================\n",
      "embedding_1 (Embedding)      (None, 187, 100)          116500    \n",
      "_________________________________________________________________\n",
      "lstm_1 (LSTM)                (None, 100)               80400     \n",
      "_________________________________________________________________\n",
      "dropout_1 (Dropout)          (None, 100)               0         \n",
      "_________________________________________________________________\n",
      "dense_1 (Dense)              (None, 1165)              117665    \n",
      "=================================================================\n",
      "Total params: 314,565\n",
      "Trainable params: 314,565\n",
      "Non-trainable params: 0\n",
      "_________________________________________________________________\n"
     ]
    }
   ],
   "source": [
    "model.summary()"
   ]
  },
  {
   "cell_type": "markdown",
   "metadata": {},
   "source": [
    "## Training"
   ]
  },
  {
   "cell_type": "code",
   "execution_count": 21,
   "metadata": {},
   "outputs": [],
   "source": [
    "model.compile(loss='categorical_crossentropy', optimizer=RMSprop(), metrics=['accuracy'])"
   ]
  },
  {
   "cell_type": "code",
   "execution_count": 22,
   "metadata": {},
   "outputs": [
    {
     "name": "stdout",
     "output_type": "stream",
     "text": [
      "WARNING:tensorflow:From /Users/imjunghee/anaconda3/lib/python3.7/site-packages/tensorflow/python/ops/math_ops.py:3066: to_int32 (from tensorflow.python.ops.math_ops) is deprecated and will be removed in a future version.\n",
      "Instructions for updating:\n",
      "Use tf.cast instead.\n",
      "Epoch 1/500\n",
      " - 22s - loss: 6.6906 - acc: 0.0263\n",
      "Epoch 2/500\n",
      " - 21s - loss: 5.8557 - acc: 0.0418\n",
      "Epoch 3/500\n",
      " - 22s - loss: 5.7551 - acc: 0.0458\n",
      "Epoch 4/500\n",
      " - 22s - loss: 5.7318 - acc: 0.0476\n",
      "Epoch 5/500\n",
      " - 21s - loss: 5.7151 - acc: 0.0503\n",
      "Epoch 6/500\n",
      " - 22s - loss: 5.7016 - acc: 0.0473\n",
      "Epoch 7/500\n",
      " - 21s - loss: 5.6751 - acc: 0.0487\n",
      "Epoch 8/500\n",
      " - 22s - loss: 5.6424 - acc: 0.0486\n",
      "Epoch 9/500\n",
      " - 22s - loss: 5.6144 - acc: 0.0496\n",
      "Epoch 10/500\n",
      " - 22s - loss: 5.5854 - acc: 0.0474\n",
      "Epoch 11/500\n",
      " - 21s - loss: 5.5336 - acc: 0.0510\n",
      "Epoch 12/500\n",
      " - 21s - loss: 5.4964 - acc: 0.0510\n",
      "Epoch 13/500\n",
      " - 21s - loss: 5.4652 - acc: 0.0515\n",
      "Epoch 14/500\n",
      " - 21s - loss: 5.4268 - acc: 0.0505\n",
      "Epoch 15/500\n",
      " - 21s - loss: 5.3914 - acc: 0.0518\n",
      "Epoch 16/500\n",
      " - 21s - loss: 5.3381 - acc: 0.0531\n",
      "Epoch 17/500\n",
      " - 21s - loss: 5.3042 - acc: 0.0581\n",
      "Epoch 18/500\n",
      " - 21s - loss: 5.2615 - acc: 0.0653\n",
      "Epoch 19/500\n",
      " - 21s - loss: 5.2241 - acc: 0.0694\n",
      "Epoch 20/500\n",
      " - 21s - loss: 5.1816 - acc: 0.0768\n",
      "Epoch 21/500\n",
      " - 21s - loss: 5.1389 - acc: 0.0765\n",
      "Epoch 22/500\n",
      " - 21s - loss: 5.0939 - acc: 0.0817\n",
      "Epoch 23/500\n",
      " - 21s - loss: 5.0547 - acc: 0.0820\n",
      "Epoch 24/500\n",
      " - 21s - loss: 5.0272 - acc: 0.0840\n",
      "Epoch 25/500\n",
      " - 21s - loss: 4.9827 - acc: 0.0899\n",
      "Epoch 26/500\n",
      " - 21s - loss: 4.9536 - acc: 0.0922\n",
      "Epoch 27/500\n",
      " - 21s - loss: 4.9137 - acc: 0.0979\n",
      "Epoch 28/500\n",
      " - 21s - loss: 4.8922 - acc: 0.0982\n",
      "Epoch 29/500\n",
      " - 21s - loss: 4.8614 - acc: 0.1074\n",
      "Epoch 30/500\n",
      " - 21s - loss: 4.8249 - acc: 0.1067\n",
      "Epoch 31/500\n",
      " - 21s - loss: 4.8045 - acc: 0.1138\n",
      "Epoch 32/500\n",
      " - 21s - loss: 4.7644 - acc: 0.1174\n",
      "Epoch 33/500\n",
      " - 21s - loss: 4.7369 - acc: 0.1269\n",
      "Epoch 34/500\n",
      " - 21s - loss: 4.7026 - acc: 0.1281\n",
      "Epoch 35/500\n",
      " - 21s - loss: 4.6779 - acc: 0.1340\n",
      "Epoch 36/500\n",
      " - 21s - loss: 4.6451 - acc: 0.1355\n",
      "Epoch 37/500\n",
      " - 21s - loss: 4.6117 - acc: 0.1414\n",
      "Epoch 38/500\n",
      " - 21s - loss: 4.5738 - acc: 0.1499\n",
      "Epoch 39/500\n",
      " - 22s - loss: 4.5470 - acc: 0.1518\n",
      "Epoch 40/500\n",
      " - 24s - loss: 4.5204 - acc: 0.1508\n",
      "Epoch 41/500\n",
      " - 24s - loss: 4.4893 - acc: 0.1625\n",
      "Epoch 42/500\n",
      " - 26s - loss: 4.4506 - acc: 0.1704\n",
      "Epoch 43/500\n",
      " - 24s - loss: 4.4158 - acc: 0.1729\n",
      "Epoch 44/500\n",
      " - 20s - loss: 4.3908 - acc: 0.1748\n",
      "Epoch 45/500\n",
      " - 20s - loss: 4.3659 - acc: 0.1830\n",
      "Epoch 46/500\n",
      " - 20s - loss: 4.3366 - acc: 0.1832\n",
      "Epoch 47/500\n",
      " - 20s - loss: 4.2954 - acc: 0.1911\n",
      "Epoch 48/500\n",
      " - 20s - loss: 4.2783 - acc: 0.1920\n",
      "Epoch 49/500\n",
      " - 20s - loss: 4.2389 - acc: 0.1981\n",
      "Epoch 50/500\n",
      " - 20s - loss: 4.2145 - acc: 0.2002\n",
      "Epoch 51/500\n",
      " - 20s - loss: 4.1844 - acc: 0.2066\n",
      "Epoch 52/500\n",
      " - 20s - loss: 4.1603 - acc: 0.2106\n",
      "Epoch 53/500\n",
      " - 20s - loss: 4.1321 - acc: 0.2118\n",
      "Epoch 54/500\n",
      " - 20s - loss: 4.1043 - acc: 0.2140\n",
      "Epoch 55/500\n",
      " - 21s - loss: 4.0773 - acc: 0.2192\n",
      "Epoch 56/500\n",
      " - 21s - loss: 4.0518 - acc: 0.2229\n",
      "Epoch 57/500\n",
      " - 20s - loss: 4.0306 - acc: 0.2284\n",
      "Epoch 58/500\n",
      " - 20s - loss: 3.9961 - acc: 0.2287\n",
      "Epoch 59/500\n",
      " - 20s - loss: 3.9840 - acc: 0.2277\n",
      "Epoch 60/500\n",
      " - 20s - loss: 3.9476 - acc: 0.2398\n",
      "Epoch 61/500\n",
      " - 20s - loss: 3.9203 - acc: 0.2387\n",
      "Epoch 62/500\n",
      " - 20s - loss: 3.8862 - acc: 0.2436\n",
      "Epoch 63/500\n",
      " - 20s - loss: 3.8756 - acc: 0.2426\n",
      "Epoch 64/500\n",
      " - 20s - loss: 3.8444 - acc: 0.2498\n",
      "Epoch 65/500\n",
      " - 22s - loss: 3.8278 - acc: 0.2521\n",
      "Epoch 66/500\n",
      " - 20s - loss: 3.7916 - acc: 0.2617\n",
      "Epoch 67/500\n",
      " - 20s - loss: 3.7676 - acc: 0.2608\n",
      "Epoch 68/500\n",
      " - 21s - loss: 3.7413 - acc: 0.2623\n",
      "Epoch 69/500\n",
      " - 20s - loss: 3.7170 - acc: 0.2676\n",
      "Epoch 70/500\n",
      " - 21s - loss: 3.7015 - acc: 0.2683\n",
      "Epoch 71/500\n",
      " - 20s - loss: 3.6756 - acc: 0.2711\n",
      "Epoch 72/500\n",
      " - 20s - loss: 3.6411 - acc: 0.2779\n",
      "Epoch 73/500\n",
      " - 20s - loss: 3.6219 - acc: 0.2766\n",
      "Epoch 74/500\n",
      " - 20s - loss: 3.6137 - acc: 0.2821\n",
      "Epoch 75/500\n",
      " - 20s - loss: 3.5727 - acc: 0.2896\n",
      "Epoch 76/500\n",
      " - 20s - loss: 3.5562 - acc: 0.2906\n",
      "Epoch 77/500\n",
      " - 20s - loss: 3.5384 - acc: 0.2941\n",
      "Epoch 78/500\n",
      " - 20s - loss: 3.5173 - acc: 0.2915\n",
      "Epoch 79/500\n",
      " - 21s - loss: 3.4882 - acc: 0.2943\n",
      "Epoch 80/500\n",
      " - 20s - loss: 3.4584 - acc: 0.2959\n",
      "Epoch 81/500\n",
      " - 21s - loss: 3.4393 - acc: 0.3032\n",
      "Epoch 82/500\n",
      " - 20s - loss: 3.4141 - acc: 0.3056\n",
      "Epoch 83/500\n",
      " - 20s - loss: 3.3988 - acc: 0.3069\n",
      "Epoch 84/500\n",
      " - 20s - loss: 3.3690 - acc: 0.3116\n",
      "Epoch 85/500\n",
      " - 20s - loss: 3.3563 - acc: 0.3160\n",
      "Epoch 86/500\n",
      " - 20s - loss: 3.3267 - acc: 0.3186\n",
      "Epoch 87/500\n",
      " - 21s - loss: 3.3123 - acc: 0.3196\n",
      "Epoch 88/500\n",
      " - 21s - loss: 3.2871 - acc: 0.3231\n",
      "Epoch 89/500\n",
      " - 20s - loss: 3.2734 - acc: 0.3280\n",
      "Epoch 90/500\n",
      " - 20s - loss: 3.2398 - acc: 0.3347\n",
      "Epoch 91/500\n",
      " - 20s - loss: 3.2321 - acc: 0.3309\n",
      "Epoch 92/500\n",
      " - 20s - loss: 3.2071 - acc: 0.3329\n",
      "Epoch 93/500\n",
      " - 20s - loss: 3.1815 - acc: 0.3416\n",
      "Epoch 94/500\n",
      " - 21s - loss: 3.1586 - acc: 0.3418\n",
      "Epoch 95/500\n",
      " - 21s - loss: 3.1451 - acc: 0.3468\n",
      "Epoch 96/500\n",
      " - 20s - loss: 3.1323 - acc: 0.3471\n",
      "Epoch 97/500\n",
      " - 20s - loss: 3.0965 - acc: 0.3549\n",
      "Epoch 98/500\n",
      " - 20s - loss: 3.0990 - acc: 0.3528\n",
      "Epoch 99/500\n",
      " - 20s - loss: 3.0703 - acc: 0.3538\n",
      "Epoch 100/500\n",
      " - 20s - loss: 3.0471 - acc: 0.3620\n",
      "Epoch 101/500\n",
      " - 20s - loss: 3.0232 - acc: 0.3611\n",
      "Epoch 102/500\n",
      " - 20s - loss: 3.0166 - acc: 0.3650\n",
      "Epoch 103/500\n",
      " - 21s - loss: 3.0027 - acc: 0.3635\n",
      "Epoch 104/500\n",
      " - 21s - loss: 2.9705 - acc: 0.3731\n",
      "Epoch 105/500\n",
      " - 20s - loss: 2.9690 - acc: 0.3697\n",
      "Epoch 106/500\n",
      " - 20s - loss: 2.9421 - acc: 0.3721\n",
      "Epoch 107/500\n",
      " - 20s - loss: 2.9167 - acc: 0.3796\n",
      "Epoch 108/500\n",
      " - 20s - loss: 2.8997 - acc: 0.3837\n",
      "Epoch 109/500\n",
      " - 20s - loss: 2.8928 - acc: 0.3869\n",
      "Epoch 110/500\n",
      " - 21s - loss: 2.8705 - acc: 0.3864\n",
      "Epoch 111/500\n",
      " - 20s - loss: 2.8626 - acc: 0.3857\n",
      "Epoch 112/500\n",
      " - 21s - loss: 2.8345 - acc: 0.3889\n",
      "Epoch 113/500\n",
      " - 20s - loss: 2.8123 - acc: 0.3924\n",
      "Epoch 114/500\n",
      " - 20s - loss: 2.8031 - acc: 0.3992\n",
      "Epoch 115/500\n",
      " - 20s - loss: 2.7875 - acc: 0.3970\n",
      "Epoch 116/500\n",
      " - 20s - loss: 2.7740 - acc: 0.4028\n",
      "Epoch 117/500\n",
      " - 20s - loss: 2.7536 - acc: 0.4051\n",
      "Epoch 118/500\n",
      " - 20s - loss: 2.7475 - acc: 0.4049\n",
      "Epoch 119/500\n",
      " - 20s - loss: 2.7221 - acc: 0.4107\n",
      "Epoch 120/500\n",
      " - 21s - loss: 2.7103 - acc: 0.4133\n",
      "Epoch 121/500\n",
      " - 20s - loss: 2.6893 - acc: 0.4162\n",
      "Epoch 122/500\n",
      " - 20s - loss: 2.6774 - acc: 0.4146\n",
      "Epoch 123/500\n",
      " - 20s - loss: 2.6598 - acc: 0.4178\n",
      "Epoch 124/500\n",
      " - 20s - loss: 2.6497 - acc: 0.4187\n",
      "Epoch 125/500\n",
      " - 20s - loss: 2.6188 - acc: 0.4274\n",
      "Epoch 126/500\n",
      " - 20s - loss: 2.6147 - acc: 0.4308\n",
      "Epoch 127/500\n",
      " - 21s - loss: 2.5985 - acc: 0.4324\n",
      "Epoch 128/500\n",
      " - 20s - loss: 2.5803 - acc: 0.4368\n",
      "Epoch 129/500\n",
      " - 20s - loss: 2.5768 - acc: 0.4327\n",
      "Epoch 130/500\n",
      " - 20s - loss: 2.5627 - acc: 0.4327\n",
      "Epoch 131/500\n",
      " - 20s - loss: 2.5375 - acc: 0.4464\n",
      "Epoch 132/500\n",
      " - 20s - loss: 2.5300 - acc: 0.4391\n",
      "Epoch 133/500\n",
      " - 20s - loss: 2.5004 - acc: 0.4509\n",
      "Epoch 134/500\n",
      " - 20s - loss: 2.4931 - acc: 0.4508\n",
      "Epoch 135/500\n",
      " - 20s - loss: 2.4715 - acc: 0.4531\n",
      "Epoch 136/500\n",
      " - 21s - loss: 2.4740 - acc: 0.4548\n",
      "Epoch 137/500\n",
      " - 20s - loss: 2.4492 - acc: 0.4644\n",
      "Epoch 138/500\n",
      " - 20s - loss: 2.4358 - acc: 0.4577\n",
      "Epoch 139/500\n",
      " - 20s - loss: 2.4248 - acc: 0.4606\n",
      "Epoch 140/500\n",
      " - 20s - loss: 2.4154 - acc: 0.4626\n",
      "Epoch 141/500\n",
      " - 21s - loss: 2.4076 - acc: 0.4647\n",
      "Epoch 142/500\n",
      " - 20s - loss: 2.3915 - acc: 0.4700\n",
      "Epoch 143/500\n",
      " - 20s - loss: 2.3892 - acc: 0.4691\n",
      "Epoch 144/500\n",
      " - 20s - loss: 2.3593 - acc: 0.4739\n",
      "Epoch 145/500\n",
      " - 21s - loss: 2.3532 - acc: 0.4803\n",
      "Epoch 146/500\n",
      " - 21s - loss: 2.3431 - acc: 0.4769\n",
      "Epoch 147/500\n",
      " - 21s - loss: 2.3330 - acc: 0.4756\n",
      "Epoch 148/500\n",
      " - 21s - loss: 2.3138 - acc: 0.4803\n",
      "Epoch 149/500\n",
      " - 21s - loss: 2.2949 - acc: 0.4910\n",
      "Epoch 150/500\n",
      " - 20s - loss: 2.2834 - acc: 0.4894\n",
      "Epoch 151/500\n",
      " - 21s - loss: 2.2617 - acc: 0.4921\n",
      "Epoch 152/500\n",
      " - 20s - loss: 2.2596 - acc: 0.4970\n",
      "Epoch 153/500\n",
      " - 21s - loss: 2.2658 - acc: 0.4904\n",
      "Epoch 154/500\n",
      " - 21s - loss: 2.2495 - acc: 0.4936\n",
      "Epoch 155/500\n",
      " - 20s - loss: 2.2209 - acc: 0.5022\n",
      "Epoch 156/500\n",
      " - 21s - loss: 2.2151 - acc: 0.5037\n",
      "Epoch 157/500\n",
      " - 21s - loss: 2.2048 - acc: 0.5017\n",
      "Epoch 158/500\n",
      " - 20s - loss: 2.1893 - acc: 0.5126\n",
      "Epoch 159/500\n",
      " - 21s - loss: 2.1821 - acc: 0.5077\n",
      "Epoch 160/500\n",
      " - 20s - loss: 2.1661 - acc: 0.5073\n",
      "Epoch 161/500\n",
      " - 21s - loss: 2.1610 - acc: 0.5231\n"
     ]
    },
    {
     "name": "stdout",
     "output_type": "stream",
     "text": [
      "Epoch 162/500\n",
      " - 20s - loss: 2.1351 - acc: 0.5210\n",
      "Epoch 163/500\n",
      " - 21s - loss: 2.1333 - acc: 0.5103\n",
      "Epoch 164/500\n",
      " - 20s - loss: 2.1092 - acc: 0.5264\n",
      "Epoch 165/500\n",
      " - 21s - loss: 2.1132 - acc: 0.5213\n",
      "Epoch 166/500\n",
      " - 20s - loss: 2.0891 - acc: 0.5330\n",
      "Epoch 167/500\n",
      " - 20s - loss: 2.0759 - acc: 0.5249\n",
      "Epoch 168/500\n",
      " - 20s - loss: 2.0799 - acc: 0.5260\n",
      "Epoch 169/500\n",
      " - 20s - loss: 2.0645 - acc: 0.5296\n",
      "Epoch 170/500\n",
      " - 20s - loss: 2.0686 - acc: 0.5275\n",
      "Epoch 171/500\n",
      " - 20s - loss: 2.0294 - acc: 0.5401\n",
      "Epoch 172/500\n",
      " - 20s - loss: 2.0254 - acc: 0.5400\n",
      "Epoch 173/500\n",
      " - 20s - loss: 2.0227 - acc: 0.5395\n",
      "Epoch 174/500\n",
      " - 20s - loss: 2.0173 - acc: 0.5445\n",
      "Epoch 175/500\n",
      " - 20s - loss: 2.0082 - acc: 0.5403\n",
      "Epoch 176/500\n",
      " - 20s - loss: 1.9912 - acc: 0.5440\n",
      "Epoch 177/500\n",
      " - 21s - loss: 1.9888 - acc: 0.5458\n",
      "Epoch 178/500\n",
      " - 21s - loss: 1.9843 - acc: 0.5508\n",
      "Epoch 179/500\n",
      " - 20s - loss: 1.9711 - acc: 0.5466\n",
      "Epoch 180/500\n",
      " - 20s - loss: 1.9501 - acc: 0.5540\n",
      "Epoch 181/500\n",
      " - 21s - loss: 1.9469 - acc: 0.5602\n",
      "Epoch 182/500\n",
      " - 21s - loss: 1.9417 - acc: 0.5530\n",
      "Epoch 183/500\n",
      " - 20s - loss: 1.9297 - acc: 0.5604\n",
      "Epoch 184/500\n",
      " - 20s - loss: 1.9174 - acc: 0.5553\n",
      "Epoch 185/500\n",
      " - 21s - loss: 1.9048 - acc: 0.5602\n",
      "Epoch 186/500\n",
      " - 21s - loss: 1.8920 - acc: 0.5660\n",
      "Epoch 187/500\n",
      " - 21s - loss: 1.8754 - acc: 0.5696\n",
      "Epoch 188/500\n",
      " - 21s - loss: 1.8923 - acc: 0.5637\n",
      "Epoch 189/500\n",
      " - 21s - loss: 1.8684 - acc: 0.5656\n",
      "Epoch 190/500\n",
      " - 20s - loss: 1.8618 - acc: 0.5747\n",
      "Epoch 191/500\n",
      " - 20s - loss: 1.8494 - acc: 0.5699\n",
      "Epoch 192/500\n",
      " - 20s - loss: 1.8294 - acc: 0.5836\n",
      "Epoch 193/500\n",
      " - 21s - loss: 1.8321 - acc: 0.5818\n",
      "Epoch 194/500\n",
      " - 21s - loss: 1.8329 - acc: 0.5807\n",
      "Epoch 195/500\n",
      " - 21s - loss: 1.8278 - acc: 0.5813\n",
      "Epoch 196/500\n",
      " - 21s - loss: 1.8111 - acc: 0.5861\n",
      "Epoch 197/500\n",
      " - 21s - loss: 1.8134 - acc: 0.5828\n",
      "Epoch 198/500\n",
      " - 21s - loss: 1.7984 - acc: 0.5880\n",
      "Epoch 199/500\n",
      " - 21s - loss: 1.7961 - acc: 0.5833\n",
      "Epoch 200/500\n",
      " - 21s - loss: 1.7767 - acc: 0.5890\n",
      "Epoch 201/500\n",
      " - 20s - loss: 1.7740 - acc: 0.5926\n",
      "Epoch 202/500\n",
      " - 21s - loss: 1.7669 - acc: 0.5907\n",
      "Epoch 203/500\n",
      " - 20s - loss: 1.7399 - acc: 0.5994\n",
      "Epoch 204/500\n",
      " - 20s - loss: 1.7323 - acc: 0.6016\n",
      "Epoch 205/500\n",
      " - 20s - loss: 1.7326 - acc: 0.5992\n",
      "Epoch 206/500\n",
      " - 20s - loss: 1.7257 - acc: 0.6020\n",
      "Epoch 207/500\n",
      " - 20s - loss: 1.7324 - acc: 0.5968\n",
      "Epoch 208/500\n",
      " - 20s - loss: 1.7009 - acc: 0.6021\n",
      "Epoch 209/500\n",
      " - 20s - loss: 1.7117 - acc: 0.6026\n",
      "Epoch 210/500\n",
      " - 20s - loss: 1.6978 - acc: 0.6043\n",
      "Epoch 211/500\n",
      " - 20s - loss: 1.6901 - acc: 0.6078\n",
      "Epoch 212/500\n",
      " - 21s - loss: 1.6702 - acc: 0.6125\n",
      "Epoch 213/500\n",
      " - 20s - loss: 1.6744 - acc: 0.6072\n",
      "Epoch 214/500\n",
      " - 21s - loss: 1.6592 - acc: 0.6157\n",
      "Epoch 215/500\n",
      " - 21s - loss: 1.6659 - acc: 0.6152\n",
      "Epoch 216/500\n",
      " - 20s - loss: 1.6287 - acc: 0.6217\n",
      "Epoch 217/500\n",
      " - 21s - loss: 1.6389 - acc: 0.6153\n",
      "Epoch 218/500\n",
      " - 20s - loss: 1.6448 - acc: 0.6165\n",
      "Epoch 219/500\n",
      " - 21s - loss: 1.6321 - acc: 0.6280\n",
      "Epoch 220/500\n",
      " - 21s - loss: 1.6068 - acc: 0.6257\n",
      "Epoch 221/500\n",
      " - 21s - loss: 1.6053 - acc: 0.6273\n",
      "Epoch 222/500\n",
      " - 20s - loss: 1.5973 - acc: 0.6254\n",
      "Epoch 223/500\n",
      " - 21s - loss: 1.6133 - acc: 0.6238\n",
      "Epoch 224/500\n",
      " - 21s - loss: 1.5784 - acc: 0.6332\n",
      "Epoch 225/500\n",
      " - 21s - loss: 1.5808 - acc: 0.6326\n",
      "Epoch 226/500\n",
      " - 21s - loss: 1.5789 - acc: 0.6368\n",
      "Epoch 227/500\n",
      " - 20s - loss: 1.5727 - acc: 0.6312\n",
      "Epoch 228/500\n",
      " - 21s - loss: 1.5717 - acc: 0.6299\n",
      "Epoch 229/500\n",
      " - 21s - loss: 1.5665 - acc: 0.6316\n",
      "Epoch 230/500\n",
      " - 21s - loss: 1.5581 - acc: 0.6400\n",
      "Epoch 231/500\n",
      " - 21s - loss: 1.5434 - acc: 0.6394\n",
      "Epoch 232/500\n",
      " - 21s - loss: 1.5131 - acc: 0.6497\n",
      "Epoch 233/500\n",
      " - 21s - loss: 1.5223 - acc: 0.6494\n",
      "Epoch 234/500\n",
      " - 21s - loss: 1.5242 - acc: 0.6444\n",
      "Epoch 235/500\n",
      " - 21s - loss: 1.5240 - acc: 0.6454\n",
      "Epoch 236/500\n",
      " - 20s - loss: 1.5099 - acc: 0.6461\n",
      "Epoch 237/500\n",
      " - 20s - loss: 1.4940 - acc: 0.6465\n",
      "Epoch 238/500\n",
      " - 20s - loss: 1.4833 - acc: 0.6507\n",
      "Epoch 239/500\n",
      " - 22s - loss: 1.5015 - acc: 0.6501\n",
      "Epoch 240/500\n",
      " - 21s - loss: 1.4734 - acc: 0.6587\n",
      "Epoch 241/500\n",
      " - 20s - loss: 1.4626 - acc: 0.6530\n",
      "Epoch 242/500\n",
      " - 20s - loss: 1.4687 - acc: 0.6603\n",
      "Epoch 243/500\n",
      " - 21s - loss: 1.4712 - acc: 0.6535\n",
      "Epoch 244/500\n",
      " - 21s - loss: 1.4469 - acc: 0.6634\n",
      "Epoch 245/500\n",
      " - 21s - loss: 1.4601 - acc: 0.6569\n",
      "Epoch 246/500\n",
      " - 21s - loss: 1.4467 - acc: 0.6627\n",
      "Epoch 247/500\n",
      " - 21s - loss: 1.4155 - acc: 0.6708\n",
      "Epoch 248/500\n",
      " - 20s - loss: 1.4366 - acc: 0.6642\n",
      "Epoch 249/500\n",
      " - 21s - loss: 1.4442 - acc: 0.6588\n",
      "Epoch 250/500\n",
      " - 21s - loss: 1.4274 - acc: 0.6671\n",
      "Epoch 251/500\n",
      " - 20s - loss: 1.4373 - acc: 0.6646\n",
      "Epoch 252/500\n",
      " - 21s - loss: 1.4115 - acc: 0.6702\n",
      "Epoch 253/500\n",
      " - 21s - loss: 1.3958 - acc: 0.6676\n",
      "Epoch 254/500\n",
      " - 21s - loss: 1.3987 - acc: 0.6692\n",
      "Epoch 255/500\n",
      " - 21s - loss: 1.4058 - acc: 0.6712\n",
      "Epoch 256/500\n",
      " - 21s - loss: 1.4000 - acc: 0.6766\n",
      "Epoch 257/500\n",
      " - 20s - loss: 1.3900 - acc: 0.6756\n",
      "Epoch 258/500\n",
      " - 21s - loss: 1.3678 - acc: 0.6772\n",
      "Epoch 259/500\n",
      " - 21s - loss: 1.3769 - acc: 0.6702\n",
      "Epoch 260/500\n",
      " - 21s - loss: 1.3745 - acc: 0.6689\n",
      "Epoch 261/500\n",
      " - 21s - loss: 1.3638 - acc: 0.6818\n",
      "Epoch 262/500\n",
      " - 21s - loss: 1.3572 - acc: 0.6835\n",
      "Epoch 263/500\n",
      " - 21s - loss: 1.3557 - acc: 0.6799\n",
      "Epoch 264/500\n",
      " - 21s - loss: 1.3550 - acc: 0.6821\n",
      "Epoch 265/500\n",
      " - 21s - loss: 1.3373 - acc: 0.6883\n",
      "Epoch 266/500\n",
      " - 21s - loss: 1.3372 - acc: 0.6798\n",
      "Epoch 267/500\n",
      " - 21s - loss: 1.3221 - acc: 0.6906\n",
      "Epoch 268/500\n",
      " - 20s - loss: 1.3284 - acc: 0.6913\n",
      "Epoch 269/500\n",
      " - 21s - loss: 1.3209 - acc: 0.6884\n",
      "Epoch 270/500\n",
      " - 20s - loss: 1.3254 - acc: 0.6860\n",
      "Epoch 271/500\n",
      " - 21s - loss: 1.3072 - acc: 0.6937\n",
      "Epoch 272/500\n",
      " - 20s - loss: 1.3121 - acc: 0.6887\n",
      "Epoch 273/500\n",
      " - 21s - loss: 1.3075 - acc: 0.6929\n",
      "Epoch 274/500\n",
      " - 21s - loss: 1.2934 - acc: 0.6883\n",
      "Epoch 275/500\n",
      " - 21s - loss: 1.2846 - acc: 0.7015\n",
      "Epoch 276/500\n",
      " - 21s - loss: 1.2958 - acc: 0.6889\n",
      "Epoch 277/500\n",
      " - 20s - loss: 1.2717 - acc: 0.6987\n",
      "Epoch 278/500\n",
      " - 20s - loss: 1.2753 - acc: 0.6945\n",
      "Epoch 279/500\n",
      " - 21s - loss: 1.2645 - acc: 0.7026\n",
      "Epoch 280/500\n",
      " - 20s - loss: 1.2643 - acc: 0.6989\n",
      "Epoch 281/500\n",
      " - 21s - loss: 1.2590 - acc: 0.6996\n",
      "Epoch 282/500\n",
      " - 21s - loss: 1.2511 - acc: 0.7059\n",
      "Epoch 283/500\n",
      " - 21s - loss: 1.2563 - acc: 0.6981\n",
      "Epoch 284/500\n",
      " - 20s - loss: 1.2646 - acc: 0.6971\n",
      "Epoch 285/500\n",
      " - 21s - loss: 1.2572 - acc: 0.7025\n",
      "Epoch 286/500\n",
      " - 21s - loss: 1.2404 - acc: 0.7052\n",
      "Epoch 287/500\n",
      " - 21s - loss: 1.2413 - acc: 0.7067\n",
      "Epoch 288/500\n",
      " - 21s - loss: 1.2419 - acc: 0.7049\n",
      "Epoch 289/500\n",
      " - 21s - loss: 1.2280 - acc: 0.7072\n",
      "Epoch 290/500\n",
      " - 21s - loss: 1.2172 - acc: 0.7091\n",
      "Epoch 291/500\n",
      " - 20s - loss: 1.1928 - acc: 0.7195\n",
      "Epoch 292/500\n",
      " - 20s - loss: 1.2181 - acc: 0.7106\n",
      "Epoch 293/500\n",
      " - 21s - loss: 1.2095 - acc: 0.7139\n",
      "Epoch 294/500\n",
      " - 21s - loss: 1.2103 - acc: 0.7149\n",
      "Epoch 295/500\n",
      " - 22s - loss: 1.1987 - acc: 0.7168\n",
      "Epoch 296/500\n",
      " - 24s - loss: 1.1926 - acc: 0.7164\n",
      "Epoch 297/500\n",
      " - 22s - loss: 1.1852 - acc: 0.7256\n",
      "Epoch 298/500\n",
      " - 22s - loss: 1.1800 - acc: 0.7188\n",
      "Epoch 299/500\n",
      " - 21s - loss: 1.1668 - acc: 0.7224\n",
      "Epoch 300/500\n",
      " - 22s - loss: 1.1681 - acc: 0.7260\n",
      "Epoch 301/500\n",
      " - 21s - loss: 1.1725 - acc: 0.7210\n",
      "Epoch 302/500\n",
      " - 21s - loss: 1.1650 - acc: 0.7191\n",
      "Epoch 303/500\n",
      " - 21s - loss: 1.1674 - acc: 0.7203\n",
      "Epoch 304/500\n",
      " - 21s - loss: 1.1495 - acc: 0.7272\n",
      "Epoch 305/500\n",
      " - 21s - loss: 1.1550 - acc: 0.7320\n",
      "Epoch 306/500\n",
      " - 21s - loss: 1.1499 - acc: 0.7253\n",
      "Epoch 307/500\n",
      " - 21s - loss: 1.1661 - acc: 0.7208\n",
      "Epoch 308/500\n",
      " - 21s - loss: 1.1545 - acc: 0.7284\n",
      "Epoch 309/500\n",
      " - 21s - loss: 1.1364 - acc: 0.7317\n",
      "Epoch 310/500\n",
      " - 21s - loss: 1.1376 - acc: 0.7295\n",
      "Epoch 311/500\n",
      " - 21s - loss: 1.1323 - acc: 0.7311\n",
      "Epoch 312/500\n",
      " - 21s - loss: 1.1362 - acc: 0.7270\n",
      "Epoch 313/500\n",
      " - 21s - loss: 1.1294 - acc: 0.7265\n",
      "Epoch 314/500\n",
      " - 21s - loss: 1.1160 - acc: 0.7356\n",
      "Epoch 315/500\n",
      " - 21s - loss: 1.1201 - acc: 0.7333\n",
      "Epoch 316/500\n",
      " - 21s - loss: 1.1268 - acc: 0.7315\n",
      "Epoch 317/500\n",
      " - 21s - loss: 1.1142 - acc: 0.7338\n",
      "Epoch 318/500\n",
      " - 21s - loss: 1.1107 - acc: 0.7370\n",
      "Epoch 319/500\n",
      " - 21s - loss: 1.1044 - acc: 0.7362\n",
      "Epoch 320/500\n",
      " - 21s - loss: 1.1025 - acc: 0.7370\n",
      "Epoch 321/500\n",
      " - 21s - loss: 1.0978 - acc: 0.7362\n",
      "Epoch 322/500\n",
      " - 21s - loss: 1.1049 - acc: 0.7320\n",
      "Epoch 323/500\n",
      " - 21s - loss: 1.0862 - acc: 0.7377\n",
      "Epoch 324/500\n",
      " - 22s - loss: 1.0805 - acc: 0.7385\n",
      "Epoch 325/500\n",
      " - 21s - loss: 1.0798 - acc: 0.7430\n"
     ]
    },
    {
     "name": "stdout",
     "output_type": "stream",
     "text": [
      "Epoch 326/500\n",
      " - 21s - loss: 1.0861 - acc: 0.7463\n",
      "Epoch 327/500\n",
      " - 21s - loss: 1.0671 - acc: 0.7464\n",
      "Epoch 328/500\n",
      " - 21s - loss: 1.0571 - acc: 0.7474\n",
      "Epoch 329/500\n",
      " - 21s - loss: 1.0608 - acc: 0.7396\n",
      "Epoch 330/500\n",
      " - 21s - loss: 1.0483 - acc: 0.7432\n",
      "Epoch 331/500\n",
      " - 21s - loss: 1.0634 - acc: 0.7450\n",
      "Epoch 332/500\n",
      " - 21s - loss: 1.0579 - acc: 0.7405\n",
      "Epoch 333/500\n",
      " - 21s - loss: 1.0538 - acc: 0.7461\n",
      "Epoch 334/500\n",
      " - 21s - loss: 1.0531 - acc: 0.7434\n",
      "Epoch 335/500\n",
      " - 21s - loss: 1.0529 - acc: 0.7467\n",
      "Epoch 336/500\n",
      " - 21s - loss: 1.0525 - acc: 0.7370\n",
      "Epoch 337/500\n",
      " - 21s - loss: 1.0263 - acc: 0.7570\n",
      "Epoch 338/500\n",
      " - 21s - loss: 1.0401 - acc: 0.7471\n",
      "Epoch 339/500\n",
      " - 21s - loss: 1.0385 - acc: 0.7495\n",
      "Epoch 340/500\n",
      " - 21s - loss: 1.0349 - acc: 0.7531\n",
      "Epoch 341/500\n",
      " - 21s - loss: 1.0328 - acc: 0.7450\n",
      "Epoch 342/500\n",
      " - 21s - loss: 1.0397 - acc: 0.7480\n",
      "Epoch 343/500\n",
      " - 21s - loss: 1.0171 - acc: 0.7526\n",
      "Epoch 344/500\n",
      " - 21s - loss: 1.0210 - acc: 0.7513\n",
      "Epoch 345/500\n",
      " - 21s - loss: 1.0158 - acc: 0.7541\n",
      "Epoch 346/500\n",
      " - 21s - loss: 1.0233 - acc: 0.7567\n",
      "Epoch 347/500\n",
      " - 21s - loss: 1.0138 - acc: 0.7557\n",
      "Epoch 348/500\n",
      " - 21s - loss: 1.0020 - acc: 0.7525\n",
      "Epoch 349/500\n",
      " - 22s - loss: 0.9904 - acc: 0.7619\n",
      "Epoch 350/500\n",
      " - 21s - loss: 0.9986 - acc: 0.7537\n",
      "Epoch 351/500\n",
      " - 21s - loss: 0.9882 - acc: 0.7563\n",
      "Epoch 352/500\n",
      " - 21s - loss: 0.9822 - acc: 0.7643\n",
      "Epoch 353/500\n",
      " - 21s - loss: 0.9974 - acc: 0.7557\n",
      "Epoch 354/500\n",
      " - 21s - loss: 0.9893 - acc: 0.7613\n",
      "Epoch 355/500\n",
      " - 21s - loss: 0.9902 - acc: 0.7652\n",
      "Epoch 356/500\n",
      " - 21s - loss: 0.9816 - acc: 0.7607\n",
      "Epoch 357/500\n",
      " - 21s - loss: 0.9695 - acc: 0.7698\n",
      "Epoch 358/500\n",
      " - 21s - loss: 0.9851 - acc: 0.7609\n",
      "Epoch 359/500\n",
      " - 21s - loss: 0.9702 - acc: 0.7672\n",
      "Epoch 360/500\n",
      " - 21s - loss: 0.9706 - acc: 0.7654\n",
      "Epoch 361/500\n",
      " - 21s - loss: 0.9756 - acc: 0.7625\n",
      "Epoch 362/500\n",
      " - 21s - loss: 0.9708 - acc: 0.7617\n",
      "Epoch 363/500\n",
      " - 21s - loss: 0.9432 - acc: 0.7696\n",
      "Epoch 364/500\n",
      " - 21s - loss: 0.9541 - acc: 0.7684\n",
      "Epoch 365/500\n",
      " - 21s - loss: 0.9620 - acc: 0.7622\n",
      "Epoch 366/500\n",
      " - 21s - loss: 0.9481 - acc: 0.7688\n",
      "Epoch 367/500\n",
      " - 21s - loss: 0.9406 - acc: 0.7722\n",
      "Epoch 368/500\n",
      " - 21s - loss: 0.9348 - acc: 0.7717\n",
      "Epoch 369/500\n",
      " - 21s - loss: 0.9426 - acc: 0.7710\n",
      "Epoch 370/500\n",
      " - 21s - loss: 0.9453 - acc: 0.7720\n",
      "Epoch 371/500\n",
      " - 21s - loss: 0.9405 - acc: 0.7675\n",
      "Epoch 372/500\n",
      " - 21s - loss: 0.9202 - acc: 0.7772\n",
      "Epoch 373/500\n",
      " - 21s - loss: 0.9253 - acc: 0.7755\n",
      "Epoch 374/500\n",
      " - 21s - loss: 0.9244 - acc: 0.7762\n",
      "Epoch 375/500\n",
      " - 21s - loss: 0.9273 - acc: 0.7727\n",
      "Epoch 376/500\n",
      " - 21s - loss: 0.9340 - acc: 0.7739\n",
      "Epoch 377/500\n",
      " - 21s - loss: 0.9277 - acc: 0.7745\n",
      "Epoch 378/500\n",
      " - 21s - loss: 0.9270 - acc: 0.7758\n",
      "Epoch 379/500\n",
      " - 21s - loss: 0.9251 - acc: 0.7706\n",
      "Epoch 380/500\n",
      " - 21s - loss: 0.9126 - acc: 0.7763\n",
      "Epoch 381/500\n",
      " - 21s - loss: 0.9026 - acc: 0.7824\n",
      "Epoch 382/500\n",
      " - 21s - loss: 0.9061 - acc: 0.7795\n",
      "Epoch 383/500\n",
      " - 21s - loss: 0.8949 - acc: 0.7860\n",
      "Epoch 384/500\n",
      " - 21s - loss: 0.9203 - acc: 0.7765\n",
      "Epoch 385/500\n",
      " - 21s - loss: 0.8957 - acc: 0.7836\n",
      "Epoch 386/500\n",
      " - 21s - loss: 0.8994 - acc: 0.7781\n",
      "Epoch 387/500\n",
      " - 21s - loss: 0.8853 - acc: 0.7859\n",
      "Epoch 388/500\n",
      " - 21s - loss: 0.8948 - acc: 0.7821\n",
      "Epoch 389/500\n",
      " - 21s - loss: 0.9003 - acc: 0.7788\n",
      "Epoch 390/500\n",
      " - 21s - loss: 0.8918 - acc: 0.7842\n",
      "Epoch 391/500\n",
      " - 21s - loss: 0.8880 - acc: 0.7795\n",
      "Epoch 392/500\n",
      " - 21s - loss: 0.8793 - acc: 0.7824\n",
      "Epoch 393/500\n",
      " - 21s - loss: 0.8716 - acc: 0.7857\n",
      "Epoch 394/500\n",
      " - 21s - loss: 0.8765 - acc: 0.7853\n",
      "Epoch 395/500\n",
      " - 21s - loss: 0.8782 - acc: 0.7831\n",
      "Epoch 396/500\n",
      " - 21s - loss: 0.8838 - acc: 0.7758\n",
      "Epoch 397/500\n",
      " - 21s - loss: 0.8544 - acc: 0.7927\n",
      "Epoch 398/500\n",
      " - 21s - loss: 0.8614 - acc: 0.7888\n",
      "Epoch 399/500\n",
      " - 21s - loss: 0.8616 - acc: 0.7940\n",
      "Epoch 400/500\n",
      " - 21s - loss: 0.8634 - acc: 0.7869\n",
      "Epoch 401/500\n",
      " - 21s - loss: 0.8677 - acc: 0.7878\n",
      "Epoch 402/500\n",
      " - 21s - loss: 0.8592 - acc: 0.7905\n",
      "Epoch 403/500\n",
      " - 21s - loss: 0.8579 - acc: 0.7899\n",
      "Epoch 404/500\n",
      " - 21s - loss: 0.8484 - acc: 0.7898\n",
      "Epoch 405/500\n",
      " - 21s - loss: 0.8460 - acc: 0.7869\n",
      "Epoch 406/500\n",
      " - 21s - loss: 0.8455 - acc: 0.7930\n",
      "Epoch 407/500\n",
      " - 21s - loss: 0.8385 - acc: 0.7927\n",
      "Epoch 408/500\n",
      " - 21s - loss: 0.8473 - acc: 0.7909\n",
      "Epoch 409/500\n",
      " - 20s - loss: 0.8468 - acc: 0.7909\n",
      "Epoch 410/500\n",
      " - 20s - loss: 0.8369 - acc: 0.7950\n",
      "Epoch 411/500\n",
      " - 21s - loss: 0.8557 - acc: 0.7876\n",
      "Epoch 412/500\n",
      " - 21s - loss: 0.8378 - acc: 0.7862\n",
      "Epoch 413/500\n",
      " - 21s - loss: 0.8226 - acc: 0.7944\n",
      "Epoch 414/500\n",
      " - 20s - loss: 0.8291 - acc: 0.7924\n",
      "Epoch 415/500\n",
      " - 20s - loss: 0.8294 - acc: 0.7946\n",
      "Epoch 416/500\n",
      " - 20s - loss: 0.8244 - acc: 0.7963\n",
      "Epoch 417/500\n",
      " - 21s - loss: 0.8258 - acc: 0.7938\n",
      "Epoch 418/500\n",
      " - 21s - loss: 0.8298 - acc: 0.7933\n",
      "Epoch 419/500\n",
      " - 21s - loss: 0.8360 - acc: 0.7938\n",
      "Epoch 420/500\n",
      " - 21s - loss: 0.8246 - acc: 0.7983\n",
      "Epoch 421/500\n",
      " - 21s - loss: 0.8228 - acc: 0.7985\n",
      "Epoch 422/500\n",
      " - 21s - loss: 0.8175 - acc: 0.7923\n",
      "Epoch 423/500\n",
      " - 21s - loss: 0.8269 - acc: 0.7894\n",
      "Epoch 424/500\n",
      " - 21s - loss: 0.7935 - acc: 0.8028\n",
      "Epoch 425/500\n",
      " - 21s - loss: 0.8146 - acc: 0.7988\n",
      "Epoch 426/500\n",
      " - 21s - loss: 0.8026 - acc: 0.7959\n",
      "Epoch 427/500\n",
      " - 21s - loss: 0.8025 - acc: 0.7975\n",
      "Epoch 428/500\n",
      " - 21s - loss: 0.7771 - acc: 0.8031\n",
      "Epoch 429/500\n",
      " - 20s - loss: 0.7950 - acc: 0.8041\n",
      "Epoch 430/500\n",
      " - 21s - loss: 0.7956 - acc: 0.8037\n",
      "Epoch 431/500\n",
      " - 21s - loss: 0.7939 - acc: 0.7980\n",
      "Epoch 432/500\n",
      " - 21s - loss: 0.7871 - acc: 0.8073\n",
      "Epoch 433/500\n",
      " - 21s - loss: 0.7962 - acc: 0.8041\n",
      "Epoch 434/500\n",
      " - 20s - loss: 0.7892 - acc: 0.8070\n",
      "Epoch 435/500\n",
      " - 21s - loss: 0.7855 - acc: 0.8045\n",
      "Epoch 436/500\n",
      " - 21s - loss: 0.7920 - acc: 0.8066\n",
      "Epoch 437/500\n",
      " - 21s - loss: 0.7929 - acc: 0.8012\n",
      "Epoch 438/500\n",
      " - 21s - loss: 0.7894 - acc: 0.8014\n",
      "Epoch 439/500\n",
      " - 21s - loss: 0.7746 - acc: 0.8047\n",
      "Epoch 440/500\n",
      " - 21s - loss: 0.7852 - acc: 0.8028\n",
      "Epoch 441/500\n",
      " - 21s - loss: 0.7829 - acc: 0.8128\n",
      "Epoch 442/500\n",
      " - 21s - loss: 0.7748 - acc: 0.8095\n",
      "Epoch 443/500\n",
      " - 21s - loss: 0.7712 - acc: 0.8077\n",
      "Epoch 444/500\n",
      " - 20s - loss: 0.7695 - acc: 0.8053\n",
      "Epoch 445/500\n",
      " - 21s - loss: 0.7591 - acc: 0.8086\n",
      "Epoch 446/500\n",
      " - 21s - loss: 0.7628 - acc: 0.8129\n",
      "Epoch 447/500\n",
      " - 21s - loss: 0.7718 - acc: 0.8080\n",
      "Epoch 448/500\n",
      " - 21s - loss: 0.7584 - acc: 0.8035\n",
      "Epoch 449/500\n",
      " - 21s - loss: 0.7462 - acc: 0.8128\n",
      "Epoch 450/500\n",
      " - 21s - loss: 0.7582 - acc: 0.8128\n",
      "Epoch 451/500\n",
      " - 21s - loss: 0.7555 - acc: 0.8067\n",
      "Epoch 452/500\n",
      " - 21s - loss: 0.7511 - acc: 0.8154\n",
      "Epoch 453/500\n",
      " - 21s - loss: 0.7325 - acc: 0.8196\n",
      "Epoch 454/500\n",
      " - 21s - loss: 0.7376 - acc: 0.8121\n",
      "Epoch 455/500\n",
      " - 21s - loss: 0.7458 - acc: 0.8158\n",
      "Epoch 456/500\n",
      " - 21s - loss: 0.7465 - acc: 0.8128\n",
      "Epoch 457/500\n",
      " - 21s - loss: 0.7399 - acc: 0.8171\n",
      "Epoch 458/500\n",
      " - 21s - loss: 0.7383 - acc: 0.8113\n",
      "Epoch 459/500\n",
      " - 21s - loss: 0.7555 - acc: 0.8035\n",
      "Epoch 460/500\n",
      " - 21s - loss: 0.7420 - acc: 0.8125\n",
      "Epoch 461/500\n",
      " - 21s - loss: 0.7452 - acc: 0.8103\n",
      "Epoch 462/500\n",
      " - 21s - loss: 0.7398 - acc: 0.8100\n",
      "Epoch 463/500\n",
      " - 21s - loss: 0.7303 - acc: 0.8200\n",
      "Epoch 464/500\n",
      " - 21s - loss: 0.7373 - acc: 0.8112\n",
      "Epoch 465/500\n",
      " - 21s - loss: 0.7397 - acc: 0.8138\n",
      "Epoch 466/500\n",
      " - 21s - loss: 0.7265 - acc: 0.8189\n",
      "Epoch 467/500\n",
      " - 21s - loss: 0.7282 - acc: 0.8139\n",
      "Epoch 468/500\n",
      " - 21s - loss: 0.7229 - acc: 0.8171\n",
      "Epoch 469/500\n",
      " - 21s - loss: 0.7213 - acc: 0.8212\n",
      "Epoch 470/500\n",
      " - 21s - loss: 0.7294 - acc: 0.8139\n",
      "Epoch 471/500\n",
      " - 21s - loss: 0.7280 - acc: 0.8129\n",
      "Epoch 472/500\n",
      " - 25s - loss: 0.7281 - acc: 0.8177\n",
      "Epoch 473/500\n",
      " - 26s - loss: 0.7263 - acc: 0.8194\n",
      "Epoch 474/500\n",
      " - 25s - loss: 0.7083 - acc: 0.8202\n",
      "Epoch 475/500\n",
      " - 24s - loss: 0.7178 - acc: 0.8149\n",
      "Epoch 476/500\n",
      " - 25s - loss: 0.7133 - acc: 0.8213\n",
      "Epoch 477/500\n",
      " - 22s - loss: 0.6971 - acc: 0.8259\n",
      "Epoch 478/500\n",
      " - 24s - loss: 0.7137 - acc: 0.8226\n",
      "Epoch 479/500\n",
      " - 24s - loss: 0.6995 - acc: 0.8220\n",
      "Epoch 480/500\n",
      " - 25s - loss: 0.7012 - acc: 0.8274\n",
      "Epoch 481/500\n",
      " - 28s - loss: 0.6990 - acc: 0.8245\n",
      "Epoch 482/500\n",
      " - 27s - loss: 0.7057 - acc: 0.8248\n",
      "Epoch 483/500\n",
      " - 25s - loss: 0.7021 - acc: 0.8233\n",
      "Epoch 484/500\n",
      " - 26s - loss: 0.7058 - acc: 0.8200\n",
      "Epoch 485/500\n",
      " - 22s - loss: 0.7000 - acc: 0.8203\n",
      "Epoch 486/500\n",
      " - 21s - loss: 0.6993 - acc: 0.8219\n",
      "Epoch 487/500\n",
      " - 21s - loss: 0.7062 - acc: 0.8212\n",
      "Epoch 488/500\n",
      " - 21s - loss: 0.6864 - acc: 0.8256\n",
      "Epoch 489/500\n",
      " - 21s - loss: 0.6981 - acc: 0.8242\n"
     ]
    },
    {
     "name": "stdout",
     "output_type": "stream",
     "text": [
      "Epoch 490/500\n",
      " - 21s - loss: 0.7151 - acc: 0.8207\n",
      "Epoch 491/500\n",
      " - 21s - loss: 0.6911 - acc: 0.8269\n",
      "Epoch 492/500\n",
      " - 21s - loss: 0.6946 - acc: 0.8248\n",
      "Epoch 493/500\n",
      " - 21s - loss: 0.6880 - acc: 0.8282\n",
      "Epoch 494/500\n",
      " - 21s - loss: 0.6904 - acc: 0.8261\n",
      "Epoch 495/500\n",
      " - 21s - loss: 0.6751 - acc: 0.8269\n",
      "Epoch 496/500\n",
      " - 21s - loss: 0.6815 - acc: 0.8258\n",
      "Epoch 497/500\n",
      " - 21s - loss: 0.6686 - acc: 0.8306\n",
      "Epoch 498/500\n",
      " - 21s - loss: 0.6701 - acc: 0.8271\n",
      "Epoch 499/500\n",
      " - 21s - loss: 0.6915 - acc: 0.8225\n",
      "Epoch 500/500\n",
      " - 21s - loss: 0.6727 - acc: 0.8267\n",
      "CPU times: user 7h 21min 13s, sys: 1h 44min 43s, total: 9h 5min 56s\n",
      "Wall time: 2h 53min 37s\n"
     ]
    }
   ],
   "source": [
    "%%time\n",
    "hist = model.fit(X, Y, epochs=500, batch_size=800, verbose=2)"
   ]
  },
  {
   "cell_type": "code",
   "execution_count": 23,
   "metadata": {},
   "outputs": [],
   "source": [
    "import warnings\n",
    "warnings.filterwarnings(action='ignore')\n",
    "\n",
    "import matplotlib.pylab as plt\n",
    "import matplotlib as mpl\n",
    "import matplotlib.font_manager as fm\n",
    "import seaborn as sns\n",
    "import numpy as np\n",
    "\n",
    "sns.set_style(\"whitegrid\")\n",
    "mpl.rcParams['axes.unicode_minus'] = False\n",
    "plt.rcParams['font.size'] = 12\n",
    "\n",
    "path = \"/Library/Fonts/NanumGothic.otf\"\n",
    "font_name = fm.FontProperties(fname=path, size=20).get_name()\n",
    "\n",
    "plt.rc('font', family=font_name)\n",
    "fm._rebuild()"
   ]
  },
  {
   "cell_type": "code",
   "execution_count": 24,
   "metadata": {},
   "outputs": [
    {
     "data": {
      "image/png": "[encoded data removed]",
      "text/plain": [
       "<Figure size 432x288 with 1 Axes>"
      ]
     },
     "metadata": {
      "needs_background": "light"
     },
     "output_type": "display_data"
    }
   ],
   "source": [
    "plt.plot(hist.history['acc'])\n",
    "plt.show()"
   ]
  },
  {
   "cell_type": "code",
   "execution_count": 28,
   "metadata": {},
   "outputs": [],
   "source": [
    "model.save(\"rnn_text_gen.hdf5\")"
   ]
  },
  {
   "cell_type": "markdown",
   "metadata": {},
   "source": [
    "## Test"
   ]
  },
  {
   "cell_type": "code",
   "execution_count": 29,
   "metadata": {},
   "outputs": [],
   "source": [
    "from keras.models import load_model\n",
    "model = load_model(\"rnn_text_gen.hdf5\")"
   ]
  },
  {
   "cell_type": "code",
   "execution_count": 30,
   "metadata": {},
   "outputs": [
    {
     "data": {
      "text/plain": [
       "['대한민국', '의', '국민', '이', '되는', '요건', '은', '법률', '로', '정한', '다', '.']"
      ]
     },
     "execution_count": 30,
     "metadata": {},
     "output_type": "execute_result"
    }
   ],
   "source": [
    "word_list = '대한민국 의 국민 이 되는 요건 은 법률 로 정한 다 .'.split(\" \")\n",
    "word_list"
   ]
  },
  {
   "cell_type": "code",
   "execution_count": 31,
   "metadata": {},
   "outputs": [],
   "source": [
    "reverse_word_map = dict(map(reversed, tokenizer.word_index.items()))"
   ]
  },
  {
   "cell_type": "code",
   "execution_count": 38,
   "metadata": {},
   "outputs": [
    {
     "data": {
      "text/plain": [
       "1164"
      ]
     },
     "execution_count": 38,
     "metadata": {},
     "output_type": "execute_result"
    }
   ],
   "source": [
    "#tokenizer.word_index.items()  # dict_items\n",
    "len(reverse_word_map)"
   ]
  },
  {
   "cell_type": "code",
   "execution_count": 39,
   "metadata": {},
   "outputs": [
    {
     "data": {
      "text/plain": [
       "array([[  0,   0,   0,   0,   0,   0,   0,   0,   0,   0,   0,   0,   0,\n",
       "          0,   0,   0,   0,   0,   0,   0,   0,   0,   0,   0,   0,   0,\n",
       "          0,   0,   0,   0,   0,   0,   0,   0,   0,   0,   0,   0,   0,\n",
       "          0,   0,   0,   0,   0,   0,   0,   0,   0,   0,   0,   0,   0,\n",
       "          0,   0,   0,   0,   0,   0,   0,   0,   0,   0,   0,   0,   0,\n",
       "          0,   0,   0,   0,   0,   0,   0,   0,   0,   0,   0,   0,   0,\n",
       "          0,   0,   0,   0,   0,   0,   0,   0,   0,   0,   0,   0,   0,\n",
       "          0,   0,   0,   0,   0,   0,   0,   0,   0,   0,   0,   0,   0,\n",
       "          0,   0,   0,   0,   0,   0,   0,   0,   0,   0,   0,   0,   0,\n",
       "          0,   0,   0,   0,   0,   0,   0,   0,   0,   0,   0,   0,   0,\n",
       "          0,   0,   0,   0,   0,   0,   0,   0,   0,   0,   0,   0,   0,\n",
       "          0,   0,   0,   0,   0,   0,   0,   0,   0,   0,   0,   0,   0,\n",
       "          0,   0,   0,   0,   0,   0,   0,   0,   0,   0,   0,   0,   0,\n",
       "          0,   0,   0,   0,   0,   0,   0,   0,   0,   0,   0,   0,   0,\n",
       "          0,   0,   0, 102,   1]], dtype=int32)"
      ]
     },
     "execution_count": 39,
     "metadata": {},
     "output_type": "execute_result"
    }
   ],
   "source": [
    "x = sequence.pad_sequences([[tokenizer.word_index[w] for w in word_list[:2]]], maxlen=maxlen)\n",
    "x"
   ]
  },
  {
   "cell_type": "code",
   "execution_count": 40,
   "metadata": {},
   "outputs": [
    {
     "data": {
      "text/plain": [
       "array([1.6181289e-07, 6.1316392e-04, 2.3535850e-04, ..., 4.0190684e-05,\n",
       "       1.6508386e-07, 9.7588327e-06], dtype=float32)"
      ]
     },
     "execution_count": 40,
     "metadata": {},
     "output_type": "execute_result"
    }
   ],
   "source": [
    "p = model.predict(x)[0]\n",
    "p"
   ]
  },
  {
   "cell_type": "code",
   "execution_count": 42,
   "metadata": {},
   "outputs": [
    {
     "data": {
      "text/plain": [
       "array([440, 441,  22, ..., 451,  79, 862])"
      ]
     },
     "execution_count": 42,
     "metadata": {},
     "output_type": "execute_result"
    }
   ],
   "source": [
    "idx = np.flip(np.argsort(p), 0)  # np.flip : reverse the order of elements along the axis 0 : 정렬하고 순서 바꾸기\n",
    "idx"
   ]
  },
  {
   "cell_type": "code",
   "execution_count": 43,
   "metadata": {},
   "outputs": [
    {
     "data": {
      "text/plain": [
       "array([2.6736999e-01, 1.6050121e-01, 5.9015386e-02, ..., 2.8686997e-10,\n",
       "       2.8458977e-10, 1.2387076e-10], dtype=float32)"
      ]
     },
     "execution_count": 43,
     "metadata": {},
     "output_type": "execute_result"
    }
   ],
   "source": [
    "p[idx]"
   ]
  },
  {
   "cell_type": "code",
   "execution_count": 44,
   "metadata": {},
   "outputs": [
    {
     "name": "stdout",
     "output_type": "stream",
     "text": [
      "주권\n",
      "영토\n",
      "국민\n",
      "모든\n",
      "종목\n"
     ]
    }
   ],
   "source": [
    "for i in idx[:5]:\n",
    "    print(reverse_word_map[i])"
   ]
  },
  {
   "cell_type": "code",
   "execution_count": 45,
   "metadata": {},
   "outputs": [],
   "source": [
    "def predict_word(i, n=1):\n",
    "    x = sequence.pad_sequences([[tokenizer.word_index[w] for w in word_list[:i]]], maxlen=maxlen)\n",
    "    p = model.predict(x)[0]\n",
    "    idx = np.flip(np.argsort(p), 0)\n",
    "    for j in idx[:n]:\n",
    "        print('\"', \" \".join(word_list[:i]), '\"', reverse_word_map[j], \" (p={:4.2f}%)\".format(100 * p[j]))"
   ]
  },
  {
   "cell_type": "code",
   "execution_count": 46,
   "metadata": {},
   "outputs": [
    {
     "name": "stdout",
     "output_type": "stream",
     "text": [
      "\" 대한민국 \" 의  (p=48.06%)\n",
      "\" 대한민국 \" 은  (p=46.70%)\n",
      "\" 대한민국 \" 과  (p=1.25%)\n"
     ]
    }
   ],
   "source": [
    "predict_word(1, n=3)"
   ]
  },
  {
   "cell_type": "code",
   "execution_count": 47,
   "metadata": {},
   "outputs": [
    {
     "name": "stdout",
     "output_type": "stream",
     "text": [
      "\" 대한민국 의 \" 주권  (p=26.74%)\n",
      "\" 대한민국 의 \" 영토  (p=16.05%)\n",
      "\" 대한민국 의 \" 국민  (p=5.90%)\n"
     ]
    }
   ],
   "source": [
    "predict_word(2, n=3)"
   ]
  },
  {
   "cell_type": "code",
   "execution_count": 48,
   "metadata": {},
   "outputs": [
    {
     "name": "stdout",
     "output_type": "stream",
     "text": [
      "\" 대한민국 의 국민 \" 이  (p=37.99%)\n",
      "\" 대한민국 의 국민 \" 은  (p=29.38%)\n",
      "\" 대한민국 의 국민 \" 경제  (p=17.25%)\n"
     ]
    }
   ],
   "source": [
    "predict_word(3, n=3)"
   ]
  },
  {
   "cell_type": "code",
   "execution_count": 49,
   "metadata": {},
   "outputs": [
    {
     "name": "stdout",
     "output_type": "stream",
     "text": [
      "\" 대한민국 의 국민 이 \" 되는  (p=44.46%)\n",
      "\" 대한민국 의 국민 이 \" 헌법  (p=30.39%)\n",
      "\" 대한민국 의 국민 이 \" 생활  (p=5.49%)\n"
     ]
    }
   ],
   "source": [
    "predict_word(4, n=3)"
   ]
  },
  {
   "cell_type": "code",
   "execution_count": 50,
   "metadata": {},
   "outputs": [
    {
     "name": "stdout",
     "output_type": "stream",
     "text": [
      "\" 대한민국 의 국민 이 되는 \" 요건  (p=97.85%)\n",
      "\" 대한민국 의 국민 이 되는 \" 되는  (p=0.83%)\n",
      "\" 대한민국 의 국민 이 되는 \" 은  (p=0.25%)\n"
     ]
    }
   ],
   "source": [
    "predict_word(5, n=3)"
   ]
  },
  {
   "cell_type": "code",
   "execution_count": 52,
   "metadata": {},
   "outputs": [
    {
     "name": "stdout",
     "output_type": "stream",
     "text": [
      "\" 대한민국 의 국민 이 되는 요건 은 법률 로 \" 정  (p=99.59%)\n",
      "\" 대한민국 의 국민 이 되는 요건 은 법률 로 \" 그  (p=0.12%)\n",
      "\" 대한민국 의 국민 이 되는 요건 은 법률 로 \" 한다  (p=0.08%)\n"
     ]
    }
   ],
   "source": [
    "predict_word(9, n=3)"
   ]
  },
  {
   "cell_type": "code",
   "execution_count": 54,
   "metadata": {},
   "outputs": [],
   "source": [
    "def generate(w, n, seed=None):\n",
    "    if seed is not None:\n",
    "        np.random.seed(seed)\n",
    "    def _predict_word(sent):\n",
    "        x = sequence.pad_sequences([[tokenizer.word_index[w] for w in sent]], maxlen=maxlen)\n",
    "        p = model.predict(x)[0]\n",
    "        logp = np.log(p)\n",
    "        p = np.exp(logp) / np.sum(np.exp(logp))\n",
    "        p = p[1:]\n",
    "        return np.random.choice(list(tokenizer.word_index.keys()), p=p)\n",
    "    \n",
    "    sent = []\n",
    "    for i in range(n):\n",
    "        w = _predict_word(sent)\n",
    "        sent.append(w)\n",
    "        \n",
    "    return \" \".join(sent)"
   ]
  },
  {
   "cell_type": "code",
   "execution_count": 55,
   "metadata": {},
   "outputs": [
    {
     "data": {
      "text/plain": [
       "'국민 경제 의 발전 을 위 한 중요 정책 의'"
      ]
     },
     "execution_count": 55,
     "metadata": {},
     "output_type": "execute_result"
    }
   ],
   "source": [
    "generate(\"대한민국\", 10, seed=1)"
   ]
  },
  {
   "cell_type": "code",
   "execution_count": 56,
   "metadata": {},
   "outputs": [
    {
     "data": {
      "text/plain": [
       "'국민 의 목적 을 육성 하며 때 에는 법률 이'"
      ]
     },
     "execution_count": 56,
     "metadata": {},
     "output_type": "execute_result"
    }
   ],
   "source": [
    "generate(\"대한민국\", 10, seed=2)"
   ]
  },
  {
   "cell_type": "code",
   "execution_count": 57,
   "metadata": {},
   "outputs": [
    {
     "data": {
      "text/plain": [
       "'국민 경제 의 발전 을 위 한 조약 의 제정'"
      ]
     },
     "execution_count": 57,
     "metadata": {},
     "output_type": "execute_result"
    }
   ],
   "source": [
    "generate(\"대한민국\", 10, seed=3)"
   ]
  },
  {
   "cell_type": "code",
   "execution_count": 58,
   "metadata": {},
   "outputs": [
    {
     "data": {
      "text/plain": [
       "'감사원 은 세입 · 세 출의 결산 을 매년 검사'"
      ]
     },
     "execution_count": 58,
     "metadata": {},
     "output_type": "execute_result"
    }
   ],
   "source": [
    "generate(\"대한민국\", 10, seed=4)"
   ]
  },
  {
   "cell_type": "code",
   "execution_count": 59,
   "metadata": {},
   "outputs": [
    {
     "data": {
      "text/plain": [
       "'대통령 은 법률 이 정 하는 바 에 의하여 국가'"
      ]
     },
     "execution_count": 59,
     "metadata": {},
     "output_type": "execute_result"
    }
   ],
   "source": [
    "generate(\"대한민국\", 10, seed=5)"
   ]
  },
  {
   "cell_type": "code",
   "execution_count": 60,
   "metadata": {},
   "outputs": [
    {
     "data": {
      "text/plain": [
       "'국민 경제 의 발전 을 위 한 중요 정책 의'"
      ]
     },
     "execution_count": 60,
     "metadata": {},
     "output_type": "execute_result"
    }
   ],
   "source": [
    "generate(\"국민\", 10, seed=1)"
   ]
  },
  {
   "cell_type": "code",
   "execution_count": 61,
   "metadata": {},
   "outputs": [
    {
     "data": {
      "text/plain": [
       "'국민 의 목적 을 육성 하며 때 에는 법률 이'"
      ]
     },
     "execution_count": 61,
     "metadata": {},
     "output_type": "execute_result"
    }
   ],
   "source": [
    "generate(\"국민\", 10, seed=2)"
   ]
  },
  {
   "cell_type": "code",
   "execution_count": 62,
   "metadata": {},
   "outputs": [
    {
     "data": {
      "text/plain": [
       "'국민 경제 의 발전 을 위 한 중요 정책 의'"
      ]
     },
     "execution_count": 62,
     "metadata": {},
     "output_type": "execute_result"
    }
   ],
   "source": [
    "generate(\"세계\", 10, seed=1)"
   ]
  },
  {
   "cell_type": "code",
   "execution_count": null,
   "metadata": {},
   "outputs": [],
   "source": []
  }
 ],
 "metadata": {
  "kernelspec": {
   "display_name": "Python 3",
   "language": "python",
   "name": "python3"
  },
  "language_info": {
   "codemirror_mode": {
    "name": "ipython",
    "version": 3
   },
   "file_extension": ".py",
   "mimetype": "text/x-python",
   "name": "python",
   "nbconvert_exporter": "python",
   "pygments_lexer": "ipython3",
   "version": "3.7.3"
  }
 },
 "nbformat": 4,
 "nbformat_minor": 2
}
