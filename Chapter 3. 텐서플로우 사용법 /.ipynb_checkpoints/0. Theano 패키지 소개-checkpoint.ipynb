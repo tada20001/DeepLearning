{
 "cells": [
  {
   "cell_type": "markdown",
   "metadata": {},
   "source": [
    "Theano 패키지는 GPU를 지원하는 선형 대수 심볼 컴파일러(GPU-Supporting Symbolic Linear Algebra Compiler)이다. 심볼 컴파일러란 수치적인 미분, 선형대수 계산 뿐 아니라 symbolic expression을 통해 정의된 수식(주로 목적 함수)을 사람처럼 미분하거나 재정리하여 전체 계산에 대한 최적의 계산 경로를 찾아내는 소프트웨어를 말한다. \n",
    "\n",
    "수치 미분을 사용한 연산에 비해 정확도나 속도가 빠르기 때문에 대용량 선형 대수 계산이나 몬테카를로 시뮬레이션, 또는 딥러닝에 사용된다. Theano 패키지의 또다른 특징은 GPU와 CPU에 대해 동일한 파이썬 코드를 사용할 수 있다는 점이다."
   ]
  },
  {
   "cell_type": "markdown",
   "metadata": {},
   "source": [
    "## GPU\n",
    "\n",
    "**GPU는 GPGPU(General-Purpose computing on Graphics Processing Units: 범용 그래픽 연산 유니트)를 줄어서 쓰는 말이다.**\n",
    "\n",
    "그래픽 작업은 다음 그림에서 보듯 상당한 병렬 연산을 필요로 하기 때문에 일반 CPU와 달리 **성능이 낮은 다수의 코어를 동시에 사용할 수 있는 구조**를 가지고 있다. 이러한 구조는 단순한 계산을 반복해야 하는 몬테카를로 시뮬레이션이나 딥 러닝에서 상당한 효과를 볼 수 있다.\n",
    "\n",
    "[그림] CPU와 GPU 구조의 비교 : https://datascienceschool.net/upfiles/cd8c405de44e4ac8b39a0d3368a17b81.png"
   ]
  },
  {
   "cell_type": "markdown",
   "metadata": {},
   "source": [
    "## CUDA와 OpenCL\n",
    "\n",
    "GPU는 기본 구조와 하드웨어 명령어 체계가 일반적인 CPU와 다르기 때문에 별도의 라이브러리가 필요하다. \n",
    "\n",
    "**현재 많이 사용되는 GPU 연산용 라이브러리에는 nvidia 계열의 CUDA와 Apple, AMD, Intel 계열의 OpenCL 이 있다. 파이썬에서는 pyCUDA 패키지와 pyOpenCL 패키지를 사용할 수 있다.\n",
    "\n",
    "## Theano 기본 사용법\n",
    "Theano를 사용하기 위해서는 다음과 같은 과정을 거쳐야 한다.\n",
    "\n",
    "* 심볼변수 정의\n",
    "* 그래프 정의\n",
    "* 심볼함수 정의\n",
    "* 심볼함수 사용"
   ]
  },
  {
   "cell_type": "markdown",
   "metadata": {},
   "source": [
    "### 1. 심볼변수 정의\n",
    "\n",
    "Theano의 모든 변수는 심볼변수이므로 일반적으로 사용되는 변수와 혼동이 되지 않게 별도로 정의해야 한다.\n",
    "\n",
    "스칼라, 벡터, 행렬을 정의하기 위해 **theano.tensor.T** 서브패키지의 **dscalar, dvector, dmatrix** 명령을 사용하거나 이미 심볼로 정의된 변수의 연산을 통해 자동으로 정의된다. 명령어 앞에 붙은 **d**는 **double** 자료형을 나타낸다."
   ]
  },
  {
   "cell_type": "code",
   "execution_count": 1,
   "metadata": {},
   "outputs": [],
   "source": [
    "# MKL 라이브러리가 설치되어 있으면 다음 코드를 우선 실행한다.\n",
    "import os\n",
    "os.environ['MKL_THREADING_LAYER'] = 'GNU'\n",
    "\n",
    "import theano\n",
    "import theano.tensor as T"
   ]
  },
  {
   "cell_type": "code",
   "execution_count": 2,
   "metadata": {},
   "outputs": [
    {
     "data": {
      "text/plain": [
       "(theano.tensor.var.TensorVariable, theano.tensor.var.TensorVariable)"
      ]
     },
     "execution_count": 2,
     "metadata": {},
     "output_type": "execute_result"
    }
   ],
   "source": [
    "x1 = T.dscalar('x1')\n",
    "y1 = T.dscalar('y1')\n",
    "\n",
    "type(x1), type(y1)"
   ]
  },
  {
   "cell_type": "markdown",
   "metadata": {},
   "source": [
    "벡터와 행렬도 마찬가지 방법으로 정의한다."
   ]
  },
  {
   "cell_type": "code",
   "execution_count": 3,
   "metadata": {},
   "outputs": [],
   "source": [
    "x2 = T.dvector('x2')\n",
    "y2 = T.dvector('y2')\n",
    "\n",
    "x3 = T.dmatrix('x3')\n",
    "y3 = T.dmatrix('y3')"
   ]
  },
  {
   "cell_type": "code",
   "execution_count": 4,
   "metadata": {},
   "outputs": [
    {
     "data": {
      "text/plain": [
       "(theano.tensor.var.TensorVariable,\n",
       " theano.tensor.var.TensorVariable,\n",
       " theano.tensor.var.TensorVariable,\n",
       " theano.tensor.var.TensorVariable)"
      ]
     },
     "execution_count": 4,
     "metadata": {},
     "output_type": "execute_result"
    }
   ],
   "source": [
    "type(x2), type(y2), type(x3), type(y3)"
   ]
  },
  {
   "cell_type": "markdown",
   "metadata": {},
   "source": [
    "### 2. 그래프 정의\n",
    "\n",
    "이미 만들어진 심볼변수에 일반 사칙연산이나 Theano 수학 함수를 사용하여 다른 심볼변수를 만들 수 있다. **이렇게 만들어진 새로운 심볼 변수는 기존의 심볼변수와 연산관계를 가지는데 이러한 연산관계를 그래프(graph)라고 한다.**"
   ]
  },
  {
   "cell_type": "code",
   "execution_count": 5,
   "metadata": {},
   "outputs": [
    {
     "data": {
      "text/plain": [
       "theano.tensor.var.TensorVariable"
      ]
     },
     "execution_count": 5,
     "metadata": {},
     "output_type": "execute_result"
    }
   ],
   "source": [
    "z1 = x1 + y1\n",
    "type(z1)"
   ]
  },
  {
   "cell_type": "code",
   "execution_count": 6,
   "metadata": {},
   "outputs": [
    {
     "data": {
      "text/plain": [
       "theano.tensor.var.TensorVariable"
      ]
     },
     "execution_count": 6,
     "metadata": {},
     "output_type": "execute_result"
    }
   ],
   "source": [
    "u1 = T.exp(z1)\n",
    "type(u1)"
   ]
  },
  {
   "cell_type": "code",
   "execution_count": 7,
   "metadata": {},
   "outputs": [],
   "source": [
    "z2 = T.dot(x2, y2)\n",
    "z3 = T.sum(x3) + T.mean(y3)"
   ]
  },
  {
   "cell_type": "code",
   "execution_count": 8,
   "metadata": {},
   "outputs": [
    {
     "data": {
      "text/plain": [
       "(theano.tensor.var.TensorVariable, theano.tensor.var.TensorVariable)"
      ]
     },
     "execution_count": 8,
     "metadata": {},
     "output_type": "execute_result"
    }
   ],
   "source": [
    "type(z2), type(z3)"
   ]
  },
  {
   "cell_type": "markdown",
   "metadata": {},
   "source": [
    "### 3. 심볼 프린트 및 그래프 시각화\n",
    "\n",
    "Theano의 심볼변수의 내용을 살펴보기 위해서는 **theano.printing.pprint** 명령 또는 **theano.printing.pydotprint** 을 사용한다."
   ]
  },
  {
   "cell_type": "code",
   "execution_count": 9,
   "metadata": {},
   "outputs": [
    {
     "data": {
      "text/plain": [
       "'x1'"
      ]
     },
     "execution_count": 9,
     "metadata": {},
     "output_type": "execute_result"
    }
   ],
   "source": [
    "T.printing.pprint(x1)"
   ]
  },
  {
   "cell_type": "code",
   "execution_count": 10,
   "metadata": {},
   "outputs": [
    {
     "data": {
      "text/plain": [
       "'x2'"
      ]
     },
     "execution_count": 10,
     "metadata": {},
     "output_type": "execute_result"
    }
   ],
   "source": [
    "T.printing.pprint(x2)"
   ]
  },
  {
   "cell_type": "code",
   "execution_count": 11,
   "metadata": {},
   "outputs": [
    {
     "data": {
      "text/plain": [
       "'y1'"
      ]
     },
     "execution_count": 11,
     "metadata": {},
     "output_type": "execute_result"
    }
   ],
   "source": [
    "T.printing.pprint(y1)"
   ]
  },
  {
   "cell_type": "code",
   "execution_count": 12,
   "metadata": {},
   "outputs": [
    {
     "data": {
      "text/plain": [
       "'(x1 + y1)'"
      ]
     },
     "execution_count": 12,
     "metadata": {},
     "output_type": "execute_result"
    }
   ],
   "source": [
    "T.printing.pprint(z1)"
   ]
  },
  {
   "cell_type": "code",
   "execution_count": 13,
   "metadata": {},
   "outputs": [
    {
     "data": {
      "text/plain": [
       "'exp((x1 + y1))'"
      ]
     },
     "execution_count": 13,
     "metadata": {},
     "output_type": "execute_result"
    }
   ],
   "source": [
    "T.printing.pprint(u1)"
   ]
  },
  {
   "cell_type": "code",
   "execution_count": 14,
   "metadata": {},
   "outputs": [
    {
     "data": {
      "image/svg+xml": [
       "<svg height=\"204pt\" viewBox=\"0.00 0.00 482.00 204.00\" width=\"482pt\" xmlns=\"http://www.w3.org/2000/svg\" xmlns:xlink=\"http://www.w3.org/1999/xlink\">\n",
       "<g class=\"graph\" id=\"graph0\" transform=\"scale(1 1) rotate(0) translate(4 200)\">\n",
       "<title>G</title>\n",
       "<polygon fill=\"#ffffff\" points=\"-4,4 -4,-200 478,-200 478,4 -4,4\" stroke=\"transparent\"/>\n",
       "<!-- 120705995944 -->\n",
       "<g class=\"node\" id=\"node1\">\n",
       "<title>120705995944</title>\n",
       "<ellipse cx=\"237\" cy=\"-91\" fill=\"#ffaabb\" rx=\"110.4804\" ry=\"18\" stroke=\"#000000\"/>\n",
       "<text fill=\"#000000\" font-family=\"Times,serif\" font-size=\"14.00\" text-anchor=\"middle\" x=\"237\" y=\"-87.3\">Elemwise{add,no_inplace}</text>\n",
       "</g>\n",
       "<!-- 120705996112 -->\n",
       "<g class=\"node\" id=\"node4\">\n",
       "<title>120705996112</title>\n",
       "<polygon fill=\"#0000ff\" points=\"323,-36 151,-36 151,0 323,0 323,-36\" stroke=\"#000000\"/>\n",
       "<text fill=\"#000000\" font-family=\"Times,serif\" font-size=\"14.00\" text-anchor=\"middle\" x=\"237\" y=\"-14.3\">TensorType(float64, scalar)</text>\n",
       "</g>\n",
       "<!-- 120705995944&#45;&gt;120705996112 -->\n",
       "<g class=\"edge\" id=\"edge3\">\n",
       "<title>120705995944-&gt;120705996112</title>\n",
       "<path d=\"M237,-72.9551C237,-64.8828 237,-55.1764 237,-46.1817\" fill=\"none\" stroke=\"#000000\"/>\n",
       "<polygon fill=\"#000000\" points=\"240.5001,-46.0903 237,-36.0904 233.5001,-46.0904 240.5001,-46.0903\" stroke=\"#000000\"/>\n",
       "</g>\n",
       "<!-- 120705995664 -->\n",
       "<g class=\"node\" id=\"node2\">\n",
       "<title>120705995664</title>\n",
       "<polygon fill=\"#00ff00\" points=\"228,-196 0,-196 0,-160 228,-160 228,-196\" stroke=\"#000000\"/>\n",
       "<text fill=\"#000000\" font-family=\"Times,serif\" font-size=\"14.00\" text-anchor=\"middle\" x=\"114\" y=\"-174.3\">name=x1 TensorType(float64, scalar)</text>\n",
       "</g>\n",
       "<!-- 120705995664&#45;&gt;120705995944 -->\n",
       "<g class=\"edge\" id=\"edge1\">\n",
       "<title>120705995664-&gt;120705995944</title>\n",
       "<path d=\"M139.4857,-159.9735C158.0799,-146.8215 183.4559,-128.8727 203.6603,-114.5818\" fill=\"none\" stroke=\"#000000\"/>\n",
       "<polygon fill=\"#000000\" points=\"205.8248,-117.3378 211.9678,-108.7057 201.7825,-111.6229 205.8248,-117.3378\" stroke=\"#000000\"/>\n",
       "<text fill=\"#000000\" font-family=\"Times,serif\" font-size=\"14.00\" text-anchor=\"middle\" x=\"187\" y=\"-130.8\">0</text>\n",
       "</g>\n",
       "<!-- 120705995776 -->\n",
       "<g class=\"node\" id=\"node3\">\n",
       "<title>120705995776</title>\n",
       "<polygon fill=\"#00ff00\" points=\"474,-196 246,-196 246,-160 474,-160 474,-196\" stroke=\"#000000\"/>\n",
       "<text fill=\"#000000\" font-family=\"Times,serif\" font-size=\"14.00\" text-anchor=\"middle\" x=\"360\" y=\"-174.3\">name=y1 TensorType(float64, scalar)</text>\n",
       "</g>\n",
       "<!-- 120705995776&#45;&gt;120705995944 -->\n",
       "<g class=\"edge\" id=\"edge2\">\n",
       "<title>120705995776-&gt;120705995944</title>\n",
       "<path d=\"M334.5143,-159.9735C315.9201,-146.8215 290.5441,-128.8727 270.3397,-114.5818\" fill=\"none\" stroke=\"#000000\"/>\n",
       "<polygon fill=\"#000000\" points=\"272.2175,-111.6229 262.0322,-108.7057 268.1752,-117.3378 272.2175,-111.6229\" stroke=\"#000000\"/>\n",
       "<text fill=\"#000000\" font-family=\"Times,serif\" font-size=\"14.00\" text-anchor=\"middle\" x=\"310\" y=\"-130.8\">1</text>\n",
       "</g>\n",
       "</g>\n",
       "</svg>"
      ],
      "text/plain": [
       "<IPython.core.display.SVG object>"
      ]
     },
     "execution_count": 14,
     "metadata": {},
     "output_type": "execute_result"
    }
   ],
   "source": [
    "from IPython.display import SVG\n",
    "SVG(T.printing.pydotprint(z1, return_image=True, format='svg'))"
   ]
  },
  {
   "cell_type": "code",
   "execution_count": 15,
   "metadata": {},
   "outputs": [
    {
     "data": {
      "image/svg+xml": [
       "<svg height=\"291pt\" viewBox=\"0.00 0.00 482.00 291.00\" width=\"482pt\" xmlns=\"http://www.w3.org/2000/svg\" xmlns:xlink=\"http://www.w3.org/1999/xlink\">\n",
       "<g class=\"graph\" id=\"graph0\" transform=\"scale(1 1) rotate(0) translate(4 287)\">\n",
       "<title>G</title>\n",
       "<polygon fill=\"#ffffff\" points=\"-4,4 -4,-287 478,-287 478,4 -4,4\" stroke=\"transparent\"/>\n",
       "<!-- 120706496328 -->\n",
       "<g class=\"node\" id=\"node1\">\n",
       "<title>120706496328</title>\n",
       "<ellipse cx=\"237\" cy=\"-178\" fill=\"#ffaabb\" rx=\"110.4804\" ry=\"18\" stroke=\"#000000\"/>\n",
       "<text fill=\"#000000\" font-family=\"Times,serif\" font-size=\"14.00\" text-anchor=\"middle\" x=\"237\" y=\"-174.3\">Elemwise{add,no_inplace}</text>\n",
       "</g>\n",
       "<!-- 120706497392 -->\n",
       "<g class=\"node\" id=\"node4\">\n",
       "<title>120706497392</title>\n",
       "<ellipse cx=\"237\" cy=\"-91\" fill=\"#ffaabb\" rx=\"110.4804\" ry=\"18\" stroke=\"#000000\"/>\n",
       "<text fill=\"#000000\" font-family=\"Times,serif\" font-size=\"14.00\" text-anchor=\"middle\" x=\"237\" y=\"-87.3\">Elemwise{exp,no_inplace}</text>\n",
       "</g>\n",
       "<!-- 120706496328&#45;&gt;120706497392 -->\n",
       "<g class=\"edge\" id=\"edge3\">\n",
       "<title>120706496328-&gt;120706497392</title>\n",
       "<path d=\"M237,-159.9735C237,-148.1918 237,-132.5607 237,-119.1581\" fill=\"none\" stroke=\"#000000\"/>\n",
       "<polygon fill=\"#000000\" points=\"240.5001,-119.0033 237,-109.0034 233.5001,-119.0034 240.5001,-119.0033\" stroke=\"#000000\"/>\n",
       "<text fill=\"#000000\" font-family=\"Times,serif\" font-size=\"14.00\" text-anchor=\"middle\" x=\"315\" y=\"-130.8\">TensorType(float64, scalar)</text>\n",
       "</g>\n",
       "<!-- 120706496944 -->\n",
       "<g class=\"node\" id=\"node2\">\n",
       "<title>120706496944</title>\n",
       "<polygon fill=\"#00ff00\" points=\"228,-283 0,-283 0,-247 228,-247 228,-283\" stroke=\"#000000\"/>\n",
       "<text fill=\"#000000\" font-family=\"Times,serif\" font-size=\"14.00\" text-anchor=\"middle\" x=\"114\" y=\"-261.3\">name=x1 TensorType(float64, scalar)</text>\n",
       "</g>\n",
       "<!-- 120706496944&#45;&gt;120706496328 -->\n",
       "<g class=\"edge\" id=\"edge1\">\n",
       "<title>120706496944-&gt;120706496328</title>\n",
       "<path d=\"M139.4857,-246.9735C158.0799,-233.8215 183.4559,-215.8727 203.6603,-201.5818\" fill=\"none\" stroke=\"#000000\"/>\n",
       "<polygon fill=\"#000000\" points=\"205.8248,-204.3378 211.9678,-195.7057 201.7825,-198.6229 205.8248,-204.3378\" stroke=\"#000000\"/>\n",
       "<text fill=\"#000000\" font-family=\"Times,serif\" font-size=\"14.00\" text-anchor=\"middle\" x=\"187\" y=\"-217.8\">0</text>\n",
       "</g>\n",
       "<!-- 120706497000 -->\n",
       "<g class=\"node\" id=\"node3\">\n",
       "<title>120706497000</title>\n",
       "<polygon fill=\"#00ff00\" points=\"474,-283 246,-283 246,-247 474,-247 474,-283\" stroke=\"#000000\"/>\n",
       "<text fill=\"#000000\" font-family=\"Times,serif\" font-size=\"14.00\" text-anchor=\"middle\" x=\"360\" y=\"-261.3\">name=y1 TensorType(float64, scalar)</text>\n",
       "</g>\n",
       "<!-- 120706497000&#45;&gt;120706496328 -->\n",
       "<g class=\"edge\" id=\"edge2\">\n",
       "<title>120706497000-&gt;120706496328</title>\n",
       "<path d=\"M334.5143,-246.9735C315.9201,-233.8215 290.5441,-215.8727 270.3397,-201.5818\" fill=\"none\" stroke=\"#000000\"/>\n",
       "<polygon fill=\"#000000\" points=\"272.2175,-198.6229 262.0322,-195.7057 268.1752,-204.3378 272.2175,-198.6229\" stroke=\"#000000\"/>\n",
       "<text fill=\"#000000\" font-family=\"Times,serif\" font-size=\"14.00\" text-anchor=\"middle\" x=\"310\" y=\"-217.8\">1</text>\n",
       "</g>\n",
       "<!-- 120706497616 -->\n",
       "<g class=\"node\" id=\"node5\">\n",
       "<title>120706497616</title>\n",
       "<polygon fill=\"#0000ff\" points=\"323,-36 151,-36 151,0 323,0 323,-36\" stroke=\"#000000\"/>\n",
       "<text fill=\"#000000\" font-family=\"Times,serif\" font-size=\"14.00\" text-anchor=\"middle\" x=\"237\" y=\"-14.3\">TensorType(float64, scalar)</text>\n",
       "</g>\n",
       "<!-- 120706497392&#45;&gt;120706497616 -->\n",
       "<g class=\"edge\" id=\"edge4\">\n",
       "<title>120706497392-&gt;120706497616</title>\n",
       "<path d=\"M237,-72.9551C237,-64.8828 237,-55.1764 237,-46.1817\" fill=\"none\" stroke=\"#000000\"/>\n",
       "<polygon fill=\"#000000\" points=\"240.5001,-46.0903 237,-36.0904 233.5001,-46.0904 240.5001,-46.0903\" stroke=\"#000000\"/>\n",
       "</g>\n",
       "</g>\n",
       "</svg>"
      ],
      "text/plain": [
       "<IPython.core.display.SVG object>"
      ]
     },
     "execution_count": 15,
     "metadata": {},
     "output_type": "execute_result"
    }
   ],
   "source": [
    "SVG(T.printing.pydotprint(u1, return_image=True, format='svg'))"
   ]
  },
  {
   "cell_type": "markdown",
   "metadata": {},
   "source": [
    "### 3. 심볼 함수 및 사용\n",
    "\n",
    "심볼 함수는 **theano.function** 명령으로 정의하며 **입력 심볼변수와 출력 심볼변수를 지정**한다. **출력 심볼변수는 입력 심볼변수의 연산으로 정의되어 있어야 한다.** 처음 심볼 함수를 정의할 때는 GPU 또는 CPU에서 돌아갈 수 있도록 컴파일을 하기 때문에 시간이 다소 걸릴 수 있다."
   ]
  },
  {
   "cell_type": "code",
   "execution_count": 16,
   "metadata": {},
   "outputs": [
    {
     "name": "stdout",
     "output_type": "stream",
     "text": [
      "CPU times: user 185 ms, sys: 46 ms, total: 231 ms\n",
      "Wall time: 242 ms\n"
     ]
    }
   ],
   "source": [
    "%time f1 = theano.function(inputs=[x1, y1], outputs=z1)"
   ]
  },
  {
   "cell_type": "markdown",
   "metadata": {},
   "source": [
    "함수의 값을 계산하려면 일반 함수와 같이 사용하면 된다."
   ]
  },
  {
   "cell_type": "code",
   "execution_count": 17,
   "metadata": {},
   "outputs": [
    {
     "data": {
      "text/plain": [
       "array(3.)"
      ]
     },
     "execution_count": 17,
     "metadata": {},
     "output_type": "execute_result"
    }
   ],
   "source": [
    "f1(1, 2)"
   ]
  },
  {
   "cell_type": "markdown",
   "metadata": {},
   "source": [
    "벡터와 행렬도 마찬가지 방법으로 사용한다."
   ]
  },
  {
   "cell_type": "code",
   "execution_count": 18,
   "metadata": {},
   "outputs": [
    {
     "data": {
      "text/plain": [
       "array(11.)"
      ]
     },
     "execution_count": 18,
     "metadata": {},
     "output_type": "execute_result"
    }
   ],
   "source": [
    "f2 = theano.function([x2, y2], z2)  # z2 = T.dot(x2, y2). x2와 y2는 벡터\n",
    "f2([1, 2], [3, 4])  # 1*3 + 2*4 = 11"
   ]
  },
  {
   "cell_type": "code",
   "execution_count": 19,
   "metadata": {},
   "outputs": [
    {
     "data": {
      "text/plain": [
       "array(6.5)"
      ]
     },
     "execution_count": 19,
     "metadata": {},
     "output_type": "execute_result"
    }
   ],
   "source": [
    "f3 = theano.function([x3, y3], z3) # z3 = T.sum(x3) + T.mean(y3). x3, y3 은 행렬\n",
    "f3([[1], [2]], [[3], [4]])  # 3 + 3.5 = 6.5"
   ]
  },
  {
   "cell_type": "markdown",
   "metadata": {},
   "source": [
    "로지스틱 함수나 난수를 사용하는 함수는 다음과 같이 정의한다."
   ]
  },
  {
   "cell_type": "code",
   "execution_count": 20,
   "metadata": {},
   "outputs": [
    {
     "data": {
      "text/plain": [
       "array(0.73105858)"
      ]
     },
     "execution_count": 20,
     "metadata": {},
     "output_type": "execute_result"
    }
   ],
   "source": [
    "s1 = 1 / (1 + T.exp(-x1))  # 스칼라 입력\n",
    "logistic = theano.function([x1], s1)  # 출력은 심볼변수의 연산\n",
    "logistic(1)"
   ]
  },
  {
   "cell_type": "code",
   "execution_count": 21,
   "metadata": {},
   "outputs": [
    {
     "data": {
      "text/plain": [
       "array([0.5       , 0.73105858])"
      ]
     },
     "execution_count": 21,
     "metadata": {},
     "output_type": "execute_result"
    }
   ],
   "source": [
    "s2 = 1 / (1 + T.exp(-x2)) # 벡터 입력\n",
    "logistic2 = theano.function([x2], s2)\n",
    "logistic2([0, 1])"
   ]
  },
  {
   "cell_type": "markdown",
   "metadata": {},
   "source": [
    "난수 발생도 theano 의 **RandomStreams** 명령을 사용해야 한다."
   ]
  },
  {
   "cell_type": "code",
   "execution_count": 22,
   "metadata": {},
   "outputs": [
    {
     "data": {
      "text/plain": [
       "(array(0.48604732), array(0.68571232), array(0.98557605), array(0.19559641))"
      ]
     },
     "execution_count": 22,
     "metadata": {},
     "output_type": "execute_result"
    }
   ],
   "source": [
    "from theano.tensor.shared_randomstreams import RandomStreams\n",
    "\n",
    "srng = RandomStreams(0)\n",
    "rv_u = srng.uniform([]) # 유니폼 분포\n",
    "f_rv_u = theano.function([], rv_u)  # 입력이 없을 때에는 []\n",
    "f_rv_u(), f_rv_u(), f_rv_u(), f_rv_u()"
   ]
  },
  {
   "cell_type": "code",
   "execution_count": 23,
   "metadata": {},
   "outputs": [
    {
     "data": {
      "text/plain": [
       "array([0.53096416])"
      ]
     },
     "execution_count": 23,
     "metadata": {},
     "output_type": "execute_result"
    }
   ],
   "source": [
    "rv_u1 = srng.uniform([1]) # 유니폼 분포\n",
    "f_rv_u1 = theano.function([], rv_u1)\n",
    "f_rv_u1()"
   ]
  },
  {
   "cell_type": "markdown",
   "metadata": {},
   "source": [
    "## 변수 갱신\n",
    "\n",
    "심볼의 값을 갱신(update)하는 수식은 단순한 심볼 그래프로 표현할 수 없다. **갱신되는 값은 수식으로 연결되는 심볼이 아니라 단순한 메모리 상의 값이기 때문이다. 따라서 이러한 값들은 공유 메모리(shared memory)라는 곳에 저장한다.** \n",
    "\n",
    "공유 메모리에 저장할 심볼은 **shared** 라는 명령을 이용하여 만들고 **초기값**과 **심볼 이름**을 인수로 넣어 준다.\n",
    "\n",
    "공유 메모리의 값을 갱신하는 할 때 **심볼 그래프를 사용하지 않고 function 명령에서 직접 updates 인수를 사용해야 한다.**\n",
    "\n",
    "예를 들어 다음과 같은 수식을 생각하자.\n",
    "\n",
    "$$w_{k+1} = w_k + x$$\n",
    "\n",
    "이 값을 갱신하는 코드는 다음과 같다."
   ]
  },
  {
   "cell_type": "code",
   "execution_count": 24,
   "metadata": {},
   "outputs": [
    {
     "data": {
      "text/plain": [
       "array(0.58341167)"
      ]
     },
     "execution_count": 24,
     "metadata": {},
     "output_type": "execute_result"
    }
   ],
   "source": [
    "x = T.dscalar('x')\n",
    "y = x\n",
    "w = theano.shared(0.0, name='w') # 공유메모리에 저장할 심볼 w 만들기. 초기값 0.0, 심볼이름 w 설정\n",
    "\n",
    "update = theano.function([x], y, updates=[(w, w+x)])  # 입력변수를 x로 넣고, 출력변수를 y, w를 업데이트하기 위해 x를 더한 w 값 설정\n",
    "\n",
    "w.set_value(f_rv_u())  # 유니폼 분포의 스칼라 난수값 w 입력\n",
    "w.get_value()"
   ]
  },
  {
   "cell_type": "code",
   "execution_count": 25,
   "metadata": {},
   "outputs": [
    {
     "data": {
      "text/plain": [
       "array(1.58341167)"
      ]
     },
     "execution_count": 25,
     "metadata": {},
     "output_type": "execute_result"
    }
   ],
   "source": [
    "update(1)  # x 값 입력\n",
    "w.get_value()"
   ]
  },
  {
   "cell_type": "code",
   "execution_count": 26,
   "metadata": {},
   "outputs": [
    {
     "data": {
      "text/plain": [
       "array(3.58341167)"
      ]
     },
     "execution_count": 26,
     "metadata": {},
     "output_type": "execute_result"
    }
   ],
   "source": [
    "update(2) # w + 2\n",
    "w.get_value()"
   ]
  },
  {
   "cell_type": "code",
   "execution_count": 27,
   "metadata": {},
   "outputs": [
    {
     "data": {
      "text/plain": [
       "array(4.58341167)"
      ]
     },
     "execution_count": 27,
     "metadata": {},
     "output_type": "execute_result"
    }
   ],
   "source": [
    "update(1)\n",
    "w.get_value()"
   ]
  },
  {
   "cell_type": "markdown",
   "metadata": {},
   "source": [
    "## 그래프 최적화\n",
    "\n",
    "Theano는 빠른 함수 계산을 위한 그래프 최적화를 지원한다. 예를 들어 다음과 같은 함수는 제곱 연산을 사용하여 최적화 할 수 있다."
   ]
  },
  {
   "cell_type": "code",
   "execution_count": 28,
   "metadata": {},
   "outputs": [
    {
     "data": {
      "image/svg+xml": [
       "<svg height=\"188pt\" viewBox=\"0.00 0.00 410.96 188.00\" width=\"411pt\" xmlns=\"http://www.w3.org/2000/svg\" xmlns:xlink=\"http://www.w3.org/1999/xlink\">\n",
       "<g class=\"graph\" id=\"graph0\" transform=\"scale(1 1) rotate(0) translate(4 184)\">\n",
       "<title>G</title>\n",
       "<polygon fill=\"#ffffff\" points=\"-4,4 -4,-184 406.9642,-184 406.9642,4 -4,4\" stroke=\"transparent\"/>\n",
       "<!-- 120715384536 -->\n",
       "<g class=\"node\" id=\"node1\">\n",
       "<title>120715384536</title>\n",
       "<ellipse cx=\"201.4821\" cy=\"-90\" fill=\"#ffaabb\" rx=\"201.4642\" ry=\"18\" stroke=\"#000000\"/>\n",
       "<text fill=\"#000000\" font-family=\"Times,serif\" font-size=\"14.00\" text-anchor=\"middle\" x=\"201.4821\" y=\"-86.3\">Elemwise{Composite{(sqr(sqr(sqr(i0))) * sqr(i0))}}</text>\n",
       "</g>\n",
       "<!-- 120715384760 -->\n",
       "<g class=\"node\" id=\"node3\">\n",
       "<title>120715384760</title>\n",
       "<polygon fill=\"#0000ff\" points=\"288.4821,-36 114.4821,-36 114.4821,0 288.4821,0 288.4821,-36\" stroke=\"#000000\"/>\n",
       "<text fill=\"#000000\" font-family=\"Times,serif\" font-size=\"14.00\" text-anchor=\"middle\" x=\"201.4821\" y=\"-14.3\">TensorType(float64, vector)</text>\n",
       "</g>\n",
       "<!-- 120715384536&#45;&gt;120715384760 -->\n",
       "<g class=\"edge\" id=\"edge2\">\n",
       "<title>120715384536-&gt;120715384760</title>\n",
       "<path d=\"M201.4821,-71.8314C201.4821,-64.131 201.4821,-54.9743 201.4821,-46.4166\" fill=\"none\" stroke=\"#000000\"/>\n",
       "<polygon fill=\"#000000\" points=\"204.9822,-46.4132 201.4821,-36.4133 197.9822,-46.4133 204.9822,-46.4132\" stroke=\"#000000\"/>\n",
       "</g>\n",
       "<!-- 120706297584 -->\n",
       "<g class=\"node\" id=\"node2\">\n",
       "<title>120706297584</title>\n",
       "<polygon fill=\"#00ff00\" points=\"316.4821,-180 86.4821,-180 86.4821,-144 316.4821,-144 316.4821,-180\" stroke=\"#000000\"/>\n",
       "<text fill=\"#000000\" font-family=\"Times,serif\" font-size=\"14.00\" text-anchor=\"middle\" x=\"201.4821\" y=\"-158.3\">name=x1 TensorType(float64, vector)</text>\n",
       "</g>\n",
       "<!-- 120706297584&#45;&gt;120715384536 -->\n",
       "<g class=\"edge\" id=\"edge1\">\n",
       "<title>120706297584-&gt;120715384536</title>\n",
       "<path d=\"M201.4821,-143.8314C201.4821,-136.131 201.4821,-126.9743 201.4821,-118.4166\" fill=\"none\" stroke=\"#000000\"/>\n",
       "<polygon fill=\"#000000\" points=\"204.9822,-118.4132 201.4821,-108.4133 197.9822,-118.4133 204.9822,-118.4132\" stroke=\"#000000\"/>\n",
       "</g>\n",
       "</g>\n",
       "</svg>"
      ],
      "text/plain": [
       "<IPython.core.display.SVG object>"
      ]
     },
     "execution_count": 28,
     "metadata": {},
     "output_type": "execute_result"
    }
   ],
   "source": [
    "x1 = T.dvector('x1')  # 벡터 x1 정의\n",
    "y1 = x1 ** 10         # 연산 정의\n",
    "f1 = theano.function([x1], y1)\n",
    "\n",
    "SVG(theano.printing.pydotprint(f1, return_image=True, format='svg'))"
   ]
  },
  {
   "cell_type": "markdown",
   "metadata": {},
   "source": [
    "함수 실행 속도를 비교해 보면 다음과 같다."
   ]
  },
  {
   "cell_type": "code",
   "execution_count": 29,
   "metadata": {},
   "outputs": [
    {
     "name": "stdout",
     "output_type": "stream",
     "text": [
      "76.4 ms ± 1.12 ms per loop (mean ± std. dev. of 7 runs, 10 loops each)\n"
     ]
    }
   ],
   "source": [
    "import numpy as np\n",
    "x1 = np.ones(10000000)\n",
    "\n",
    "%timeit x1 ** 10"
   ]
  },
  {
   "cell_type": "code",
   "execution_count": 30,
   "metadata": {},
   "outputs": [
    {
     "name": "stdout",
     "output_type": "stream",
     "text": [
      "30.4 ms ± 728 µs per loop (mean ± std. dev. of 7 runs, 10 loops each)\n"
     ]
    }
   ],
   "source": [
    "%timeit f1(x1)"
   ]
  },
  {
   "cell_type": "markdown",
   "metadata": {},
   "source": [
    "## 미분\n",
    "\n",
    "심볼릭 연산의 가장 큰 장점은 빠르고 정확하게 미분값(gradient, Hessian 등)을 계산할 수 있다는 점이다. Theano 패키지는 **grad** 라는 명령을 사용하여 미분 관계식을 자동으로 구한다."
   ]
  },
  {
   "cell_type": "code",
   "execution_count": 31,
   "metadata": {},
   "outputs": [],
   "source": [
    "x1 = T.dscalar('x1')  # x1 심볼변수 정의\n",
    "y1 = x1 ** 2          # 심볼연산 정의\n",
    "gy1 = T.grad(y1, x1)  # 미분연산 정의. x1으로 y1을 미분\n",
    "fy1 = theano.function([x1], y1)  # 제곱 함수 정의\n",
    "fgy1 = theano.function([x1], gy1) # 미분 함수 정의"
   ]
  },
  {
   "cell_type": "code",
   "execution_count": 32,
   "metadata": {},
   "outputs": [
    {
     "data": {
      "image/svg+xml": [
       "<svg height=\"188pt\" viewBox=\"0.00 0.00 236.00 188.00\" width=\"236pt\" xmlns=\"http://www.w3.org/2000/svg\" xmlns:xlink=\"http://www.w3.org/1999/xlink\">\n",
       "<g class=\"graph\" id=\"graph0\" transform=\"scale(1 1) rotate(0) translate(4 184)\">\n",
       "<title>G</title>\n",
       "<polygon fill=\"#ffffff\" points=\"-4,4 -4,-184 232,-184 232,4 -4,4\" stroke=\"transparent\"/>\n",
       "<!-- 120706071968 -->\n",
       "<g class=\"node\" id=\"node1\">\n",
       "<title>120706071968</title>\n",
       "<ellipse cx=\"114\" cy=\"-90\" fill=\"#ffaabb\" rx=\"108.5808\" ry=\"18\" stroke=\"#000000\"/>\n",
       "<text fill=\"#000000\" font-family=\"Times,serif\" font-size=\"14.00\" text-anchor=\"middle\" x=\"114\" y=\"-86.3\">Elemwise{sqr,no_inplace}</text>\n",
       "</g>\n",
       "<!-- 120706071912 -->\n",
       "<g class=\"node\" id=\"node3\">\n",
       "<title>120706071912</title>\n",
       "<polygon fill=\"#0000ff\" points=\"200,-36 28,-36 28,0 200,0 200,-36\" stroke=\"#000000\"/>\n",
       "<text fill=\"#000000\" font-family=\"Times,serif\" font-size=\"14.00\" text-anchor=\"middle\" x=\"114\" y=\"-14.3\">TensorType(float64, scalar)</text>\n",
       "</g>\n",
       "<!-- 120706071968&#45;&gt;120706071912 -->\n",
       "<g class=\"edge\" id=\"edge2\">\n",
       "<title>120706071968-&gt;120706071912</title>\n",
       "<path d=\"M114,-71.8314C114,-64.131 114,-54.9743 114,-46.4166\" fill=\"none\" stroke=\"#000000\"/>\n",
       "<polygon fill=\"#000000\" points=\"117.5001,-46.4132 114,-36.4133 110.5001,-46.4133 117.5001,-46.4132\" stroke=\"#000000\"/>\n",
       "</g>\n",
       "<!-- 120706072080 -->\n",
       "<g class=\"node\" id=\"node2\">\n",
       "<title>120706072080</title>\n",
       "<polygon fill=\"#00ff00\" points=\"228,-180 0,-180 0,-144 228,-144 228,-180\" stroke=\"#000000\"/>\n",
       "<text fill=\"#000000\" font-family=\"Times,serif\" font-size=\"14.00\" text-anchor=\"middle\" x=\"114\" y=\"-158.3\">name=x1 TensorType(float64, scalar)</text>\n",
       "</g>\n",
       "<!-- 120706072080&#45;&gt;120706071968 -->\n",
       "<g class=\"edge\" id=\"edge1\">\n",
       "<title>120706072080-&gt;120706071968</title>\n",
       "<path d=\"M114,-143.8314C114,-136.131 114,-126.9743 114,-118.4166\" fill=\"none\" stroke=\"#000000\"/>\n",
       "<polygon fill=\"#000000\" points=\"117.5001,-118.4132 114,-108.4133 110.5001,-118.4133 117.5001,-118.4132\" stroke=\"#000000\"/>\n",
       "</g>\n",
       "</g>\n",
       "</svg>"
      ],
      "text/plain": [
       "<IPython.core.display.SVG object>"
      ]
     },
     "execution_count": 32,
     "metadata": {},
     "output_type": "execute_result"
    }
   ],
   "source": [
    "SVG(theano.printing.pydotprint(fy1.maker.fgraph.outputs[0], return_image=True, format='svg'))"
   ]
  },
  {
   "cell_type": "code",
   "execution_count": 33,
   "metadata": {},
   "outputs": [
    {
     "data": {
      "image/svg+xml": [
       "<svg height=\"204pt\" viewBox=\"0.00 0.00 472.00 204.00\" width=\"472pt\" xmlns=\"http://www.w3.org/2000/svg\" xmlns:xlink=\"http://www.w3.org/1999/xlink\">\n",
       "<g class=\"graph\" id=\"graph0\" transform=\"scale(1 1) rotate(0) translate(4 200)\">\n",
       "<title>G</title>\n",
       "<polygon fill=\"#ffffff\" points=\"-4,4 -4,-200 468,-200 468,4 -4,4\" stroke=\"transparent\"/>\n",
       "<!-- 120706569496 -->\n",
       "<g class=\"node\" id=\"node1\">\n",
       "<title>120706569496</title>\n",
       "<ellipse cx=\"229\" cy=\"-91\" fill=\"#ffaabb\" rx=\"111.5806\" ry=\"18\" stroke=\"#000000\"/>\n",
       "<text fill=\"#000000\" font-family=\"Times,serif\" font-size=\"14.00\" text-anchor=\"middle\" x=\"229\" y=\"-87.3\">Elemwise{mul,no_inplace}</text>\n",
       "</g>\n",
       "<!-- 120706569160 -->\n",
       "<g class=\"node\" id=\"node4\">\n",
       "<title>120706569160</title>\n",
       "<polygon fill=\"#0000ff\" points=\"315,-36 143,-36 143,0 315,0 315,-36\" stroke=\"#000000\"/>\n",
       "<text fill=\"#000000\" font-family=\"Times,serif\" font-size=\"14.00\" text-anchor=\"middle\" x=\"229\" y=\"-14.3\">TensorType(float64, scalar)</text>\n",
       "</g>\n",
       "<!-- 120706569496&#45;&gt;120706569160 -->\n",
       "<g class=\"edge\" id=\"edge3\">\n",
       "<title>120706569496-&gt;120706569160</title>\n",
       "<path d=\"M229,-72.9551C229,-64.8828 229,-55.1764 229,-46.1817\" fill=\"none\" stroke=\"#000000\"/>\n",
       "<polygon fill=\"#000000\" points=\"232.5001,-46.0903 229,-36.0904 225.5001,-46.0904 232.5001,-46.0903\" stroke=\"#000000\"/>\n",
       "</g>\n",
       "<!-- 120706569888 -->\n",
       "<g class=\"node\" id=\"node2\">\n",
       "<title>120706569888</title>\n",
       "<polygon fill=\"#00ff00\" points=\"218,-196 0,-196 0,-160 218,-160 218,-196\" stroke=\"#000000\"/>\n",
       "<text fill=\"#000000\" font-family=\"Times,serif\" font-size=\"14.00\" text-anchor=\"middle\" x=\"109\" y=\"-174.3\">val=2.0 TensorType(float64, scalar)</text>\n",
       "</g>\n",
       "<!-- 120706569888&#45;&gt;120706569496 -->\n",
       "<g class=\"edge\" id=\"edge1\">\n",
       "<title>120706569888-&gt;120706569496</title>\n",
       "<path d=\"M133.8641,-159.9735C152.0048,-146.8215 176.7618,-128.8727 196.4734,-114.5818\" fill=\"none\" stroke=\"#000000\"/>\n",
       "<polygon fill=\"#000000\" points=\"198.5366,-117.4091 204.5784,-108.7057 194.4278,-111.7418 198.5366,-117.4091\" stroke=\"#000000\"/>\n",
       "<text fill=\"#000000\" font-family=\"Times,serif\" font-size=\"14.00\" text-anchor=\"middle\" x=\"181\" y=\"-130.8\">0</text>\n",
       "</g>\n",
       "<!-- 120706570056 -->\n",
       "<g class=\"node\" id=\"node3\">\n",
       "<title>120706570056</title>\n",
       "<polygon fill=\"#00ff00\" points=\"464,-196 236,-196 236,-160 464,-160 464,-196\" stroke=\"#000000\"/>\n",
       "<text fill=\"#000000\" font-family=\"Times,serif\" font-size=\"14.00\" text-anchor=\"middle\" x=\"350\" y=\"-174.3\">name=x1 TensorType(float64, scalar)</text>\n",
       "</g>\n",
       "<!-- 120706570056&#45;&gt;120706569496 -->\n",
       "<g class=\"edge\" id=\"edge2\">\n",
       "<title>120706570056-&gt;120706569496</title>\n",
       "<path d=\"M324.9287,-159.9735C306.6368,-146.8215 281.6735,-128.8727 261.7976,-114.5818\" fill=\"none\" stroke=\"#000000\"/>\n",
       "<polygon fill=\"#000000\" points=\"263.7876,-111.7018 253.6252,-108.7057 259.7011,-117.3852 263.7876,-111.7018\" stroke=\"#000000\"/>\n",
       "<text fill=\"#000000\" font-family=\"Times,serif\" font-size=\"14.00\" text-anchor=\"middle\" x=\"301\" y=\"-130.8\">1</text>\n",
       "</g>\n",
       "</g>\n",
       "</svg>"
      ],
      "text/plain": [
       "<IPython.core.display.SVG object>"
      ]
     },
     "execution_count": 33,
     "metadata": {},
     "output_type": "execute_result"
    }
   ],
   "source": [
    "SVG(theano.printing.pydotprint(fgy1.maker.fgraph.outputs[0], return_image=True, format='svg'))"
   ]
  },
  {
   "cell_type": "code",
   "execution_count": 34,
   "metadata": {},
   "outputs": [
    {
     "data": {
      "image/svg+xml": [
       "<svg height=\"188pt\" viewBox=\"0.00 0.00 236.00 188.00\" width=\"236pt\" xmlns=\"http://www.w3.org/2000/svg\" xmlns:xlink=\"http://www.w3.org/1999/xlink\">\n",
       "<g class=\"graph\" id=\"graph0\" transform=\"scale(1 1) rotate(0) translate(4 184)\">\n",
       "<title>G</title>\n",
       "<polygon fill=\"#ffffff\" points=\"-4,4 -4,-184 232,-184 232,4 -4,4\" stroke=\"transparent\"/>\n",
       "<!-- 120878282960 -->\n",
       "<g class=\"node\" id=\"node1\">\n",
       "<title>120878282960</title>\n",
       "<ellipse cx=\"114\" cy=\"-90\" fill=\"#ffaabb\" rx=\"40.0939\" ry=\"18\" stroke=\"#000000\"/>\n",
       "<text fill=\"#000000\" font-family=\"Times,serif\" font-size=\"14.00\" text-anchor=\"middle\" x=\"114\" y=\"-86.3\">sigmoid</text>\n",
       "</g>\n",
       "<!-- 120878283128 -->\n",
       "<g class=\"node\" id=\"node3\">\n",
       "<title>120878283128</title>\n",
       "<polygon fill=\"#0000ff\" points=\"200,-36 28,-36 28,0 200,0 200,-36\" stroke=\"#000000\"/>\n",
       "<text fill=\"#000000\" font-family=\"Times,serif\" font-size=\"14.00\" text-anchor=\"middle\" x=\"114\" y=\"-14.3\">TensorType(float64, scalar)</text>\n",
       "</g>\n",
       "<!-- 120878282960&#45;&gt;120878283128 -->\n",
       "<g class=\"edge\" id=\"edge2\">\n",
       "<title>120878282960-&gt;120878283128</title>\n",
       "<path d=\"M114,-71.8314C114,-64.131 114,-54.9743 114,-46.4166\" fill=\"none\" stroke=\"#000000\"/>\n",
       "<polygon fill=\"#000000\" points=\"117.5001,-46.4132 114,-36.4133 110.5001,-46.4133 117.5001,-46.4132\" stroke=\"#000000\"/>\n",
       "</g>\n",
       "<!-- 120878229544 -->\n",
       "<g class=\"node\" id=\"node2\">\n",
       "<title>120878229544</title>\n",
       "<polygon fill=\"#00ff00\" points=\"228,-180 0,-180 0,-144 228,-144 228,-180\" stroke=\"#000000\"/>\n",
       "<text fill=\"#000000\" font-family=\"Times,serif\" font-size=\"14.00\" text-anchor=\"middle\" x=\"114\" y=\"-158.3\">name=x1 TensorType(float64, scalar)</text>\n",
       "</g>\n",
       "<!-- 120878229544&#45;&gt;120878282960 -->\n",
       "<g class=\"edge\" id=\"edge1\">\n",
       "<title>120878229544-&gt;120878282960</title>\n",
       "<path d=\"M114,-143.8314C114,-136.131 114,-126.9743 114,-118.4166\" fill=\"none\" stroke=\"#000000\"/>\n",
       "<polygon fill=\"#000000\" points=\"117.5001,-118.4132 114,-108.4133 110.5001,-118.4133 117.5001,-118.4132\" stroke=\"#000000\"/>\n",
       "</g>\n",
       "</g>\n",
       "</svg>"
      ],
      "text/plain": [
       "<IPython.core.display.SVG object>"
      ]
     },
     "execution_count": 34,
     "metadata": {},
     "output_type": "execute_result"
    }
   ],
   "source": [
    "x1 = T.dscalar('x1') # x1 심볼변수 정의\n",
    "s1 = 1 / (1 + T.exp(-x1))  # logistic 연산관계(그래프) 정의\n",
    "logistic = theano.function([x1], s1)  # 로지스틱 함수 정의\n",
    "gs1 = T.grad(s1, x1)  # 미분 연산관계(그래프) 정의\n",
    "dlogistic = theano.function([x1], gs1)  # 미분 함수 정의\n",
    "\n",
    "SVG(theano.printing.pydotprint(logistic, return_image=True, format='svg'))  # logistic 함수 그래프 시각화"
   ]
  },
  {
   "cell_type": "code",
   "execution_count": 35,
   "metadata": {},
   "outputs": [
    {
     "data": {
      "image/svg+xml": [
       "<svg height=\"188pt\" viewBox=\"0.00 0.00 537.05 188.00\" width=\"537pt\" xmlns=\"http://www.w3.org/2000/svg\" xmlns:xlink=\"http://www.w3.org/1999/xlink\">\n",
       "<g class=\"graph\" id=\"graph0\" transform=\"scale(1 1) rotate(0) translate(4 184)\">\n",
       "<title>G</title>\n",
       "<polygon fill=\"#ffffff\" points=\"-4,4 -4,-184 533.0531,-184 533.0531,4 -4,4\" stroke=\"transparent\"/>\n",
       "<!-- 120878360728 -->\n",
       "<g class=\"node\" id=\"node1\">\n",
       "<title>120878360728</title>\n",
       "<ellipse cx=\"264.5265\" cy=\"-90\" fill=\"#ffaabb\" rx=\"264.5531\" ry=\"18\" stroke=\"#000000\"/>\n",
       "<text fill=\"#000000\" font-family=\"Times,serif\" font-size=\"14.00\" text-anchor=\"middle\" x=\"264.5265\" y=\"-86.3\">Elemwise{Composite{(scalar_sigmoid((-i0)) * scalar_sigmoid(i0))}}</text>\n",
       "</g>\n",
       "<!-- 120878300576 -->\n",
       "<g class=\"node\" id=\"node3\">\n",
       "<title>120878300576</title>\n",
       "<polygon fill=\"#0000ff\" points=\"350.5265,-36 178.5265,-36 178.5265,0 350.5265,0 350.5265,-36\" stroke=\"#000000\"/>\n",
       "<text fill=\"#000000\" font-family=\"Times,serif\" font-size=\"14.00\" text-anchor=\"middle\" x=\"264.5265\" y=\"-14.3\">TensorType(float64, scalar)</text>\n",
       "</g>\n",
       "<!-- 120878360728&#45;&gt;120878300576 -->\n",
       "<g class=\"edge\" id=\"edge2\">\n",
       "<title>120878360728-&gt;120878300576</title>\n",
       "<path d=\"M264.5265,-71.8314C264.5265,-64.131 264.5265,-54.9743 264.5265,-46.4166\" fill=\"none\" stroke=\"#000000\"/>\n",
       "<polygon fill=\"#000000\" points=\"268.0266,-46.4132 264.5265,-36.4133 261.0266,-46.4133 268.0266,-46.4132\" stroke=\"#000000\"/>\n",
       "</g>\n",
       "<!-- 120878361232 -->\n",
       "<g class=\"node\" id=\"node2\">\n",
       "<title>120878361232</title>\n",
       "<polygon fill=\"#00ff00\" points=\"378.5265,-180 150.5265,-180 150.5265,-144 378.5265,-144 378.5265,-180\" stroke=\"#000000\"/>\n",
       "<text fill=\"#000000\" font-family=\"Times,serif\" font-size=\"14.00\" text-anchor=\"middle\" x=\"264.5265\" y=\"-158.3\">name=x1 TensorType(float64, scalar)</text>\n",
       "</g>\n",
       "<!-- 120878361232&#45;&gt;120878360728 -->\n",
       "<g class=\"edge\" id=\"edge1\">\n",
       "<title>120878361232-&gt;120878360728</title>\n",
       "<path d=\"M264.5265,-143.8314C264.5265,-136.131 264.5265,-126.9743 264.5265,-118.4166\" fill=\"none\" stroke=\"#000000\"/>\n",
       "<polygon fill=\"#000000\" points=\"268.0266,-118.4132 264.5265,-108.4133 261.0266,-118.4133 268.0266,-118.4132\" stroke=\"#000000\"/>\n",
       "</g>\n",
       "</g>\n",
       "</svg>"
      ],
      "text/plain": [
       "<IPython.core.display.SVG object>"
      ]
     },
     "execution_count": 35,
     "metadata": {},
     "output_type": "execute_result"
    }
   ],
   "source": [
    "SVG(theano.printing.pydotprint(dlogistic.maker.fgraph.outputs[0], return_image=True, format='svg')) # 미분함수 그래프 시각화"
   ]
  },
  {
   "cell_type": "code",
   "execution_count": 36,
   "metadata": {},
   "outputs": [],
   "source": [
    "import warnings\n",
    "warnings.filterwarnings(action='ignore')\n",
    "\n",
    "import matplotlib.pylab as plt\n",
    "import matplotlib as mpl\n",
    "import matplotlib.font_manager as fm\n",
    "import seaborn as sns\n",
    "import numpy as np\n",
    "\n",
    "sns.set_style(\"whitegrid\")\n",
    "mpl.rcParams['axes.unicode_minus'] = False\n",
    "plt.rcParams['font.size'] = 12\n",
    "\n",
    "path = \"/Library/Fonts/NanumGothic.otf\"\n",
    "font_name = fm.FontProperties(fname=path, size=20).get_name()\n",
    "\n",
    "plt.rc('font', family=font_name)\n",
    "fm._rebuild()"
   ]
  },
  {
   "cell_type": "code",
   "execution_count": 37,
   "metadata": {},
   "outputs": [
    {
     "data": {
      "image/png": "[encoded data removed]",
      "text/plain": [
       "<Figure size 432x288 with 1 Axes>"
      ]
     },
     "metadata": {
      "needs_background": "light"
     },
     "output_type": "display_data"
    }
   ],
   "source": [
    "xx = np.linspace(-5, 5, 100)\n",
    "y1 = np.hstack([logistic(xi) for xi in xx])\n",
    "y2 = np.hstack([dlogistic(xi) for xi in xx])\n",
    "plt.plot(xx, y1, label='로지스틱 함수')\n",
    "plt.plot(xx, y2, label='로지스틱 함수의 도함수')\n",
    "plt.xlabel('x')\n",
    "plt.title(\"로지스틱 함수와 도함수\")\n",
    "plt.legend(loc=0)\n",
    "plt.show()"
   ]
  },
  {
   "cell_type": "markdown",
   "metadata": {},
   "source": [
    "## 퍼셉트론 구현\n",
    "\n",
    "Theano를 사용하면 다음과 같이 퍼셉트론을 구현할 수 있다. 여기에서는 y값이 1 또는 -1 값을 가지고 활성화 함수는 **hyper tangent** 함수를 사용하였다. 오차 함수는 **perceptron 오차 함수**를 사용한다."
   ]
  },
  {
   "cell_type": "code",
   "execution_count": 38,
   "metadata": {},
   "outputs": [
    {
     "data": {
      "image/png": "[encoded data removed]",
      "text/plain": [
       "<Figure size 432x288 with 1 Axes>"
      ]
     },
     "metadata": {
      "needs_background": "light"
     },
     "output_type": "display_data"
    }
   ],
   "source": [
    "from sklearn.datasets import load_iris\n",
    "iris = load_iris()\n",
    "\n",
    "idx = np.in1d(iris.target, [0, 2])\n",
    "X_data = iris.data[idx, 0:2]\n",
    "y_data = iris.target[idx] - 1  # 1 또는 -1\n",
    "\n",
    "plt.scatter(X_data[y_data==-1, 0], X_data[y_data==-1, 1], label='setosa', c='r', marker='o', s=100, edgecolors='k')\n",
    "plt.scatter(X_data[y_data==1, 0], X_data[y_data==1, 1], label='virginica', c='b', marker='x', s=100, edgecolors='k')\n",
    "plt.xlabel(\"꽃받침 길이\")\n",
    "plt.ylabel(\"꽃받침 폭\")\n",
    "plt.legend()\n",
    "plt.title(\"붓꽃 데이터\")\n",
    "plt.show()"
   ]
  },
  {
   "cell_type": "markdown",
   "metadata": {},
   "source": [
    "출력을 **a**, 목적 함수를 **cost**, 목적 함수의 미분(그레디언트)을 **gradient**로 정의한다."
   ]
  },
  {
   "cell_type": "code",
   "execution_count": 39,
   "metadata": {},
   "outputs": [
    {
     "data": {
      "text/plain": [
       "(array([-4.16757847e-04, -5.62668272e-05]), array(-0.0021362))"
      ]
     },
     "execution_count": 39,
     "metadata": {},
     "output_type": "execute_result"
    }
   ],
   "source": [
    "X = T.matrix('X')  # 심볼변수 X 행렬 정의\n",
    "y = T.dvector('y') # 심볼변수 y 벡터 정의\n",
    "\n",
    "np.random.seed(2)\n",
    "w = theano.shared(0.001 * np.random.randn(2), name='w')  # 가중치 벡터는 업데이트되는 변수이므로 공유메모리 설정\n",
    "b = theano.shared(0.001 * np.random.randn(1)[0], name='b') # bias 변수 \n",
    "w.get_value(), b.get_value()"
   ]
  },
  {
   "cell_type": "code",
   "execution_count": 40,
   "metadata": {},
   "outputs": [],
   "source": [
    "z = T.tanh(T.dot(X, w) + b)  # 탄젠트 연산 관계(그래프) 설정 : 활성화 함수\n",
    "cost = T.sum(T.maximum(0, -y * z))  # cost 연산관계 설정\n",
    "\n",
    "gw, gb = T.grad(cost, [w, b])  # 비용함수 w, b에 대해 각각 미분\n",
    "mu = 1e-6\n",
    "train = theano.function([X, y], cost, updates=[(w, w-mu*gw), (b, b-mu*gb)])"
   ]
  },
  {
   "cell_type": "markdown",
   "metadata": {},
   "source": [
    "초기값에서 그레디언트 값을 계산하고 이를 이용하여 가중치를 갱신한다."
   ]
  },
  {
   "cell_type": "code",
   "execution_count": 41,
   "metadata": {},
   "outputs": [],
   "source": [
    "cost_history = []\n",
    "for i in range(50):\n",
    "    cost_history.append(train(X_data, y_data))"
   ]
  },
  {
   "cell_type": "code",
   "execution_count": 42,
   "metadata": {},
   "outputs": [
    {
     "data": {
      "image/png": "[encoded data removed]",
      "text/plain": [
       "<Figure size 432x288 with 1 Axes>"
      ]
     },
     "metadata": {
      "needs_background": "light"
     },
     "output_type": "display_data"
    }
   ],
   "source": [
    "plt.plot(cost_history)\n",
    "plt.xlabel(\"epoch\")\n",
    "plt.ylabel(\"비용함수\")\n",
    "plt.title(\"학습에 따른 비용함수 변화\")\n",
    "plt.show()"
   ]
  },
  {
   "cell_type": "code",
   "execution_count": 43,
   "metadata": {},
   "outputs": [
    {
     "data": {
      "text/plain": [
       "array([-1., -1., -1., -1., -1., -1., -1., -1., -1., -1., -1., -1., -1.,\n",
       "       -1., -1., -1., -1., -1., -1., -1., -1., -1., -1., -1., -1., -1.,\n",
       "       -1., -1., -1., -1., -1., -1., -1., -1., -1., -1., -1., -1., -1.,\n",
       "       -1., -1., -1., -1., -1., -1., -1., -1., -1., -1., -1.,  1.,  1.,\n",
       "        1.,  1.,  1.,  1.,  1.,  1.,  1.,  1.,  1.,  1.,  1.,  1.,  1.,\n",
       "        1.,  1.,  1.,  1.,  1.,  1.,  1.,  1.,  1.,  1.,  1.,  1.,  1.,\n",
       "        1.,  1.,  1.,  1.,  1.,  1.,  1.,  1.,  1.,  1.,  1.,  1.,  1.,\n",
       "        1.,  1.,  1.,  1.,  1.,  1.,  1.,  1.,  1.])"
      ]
     },
     "execution_count": 43,
     "metadata": {},
     "output_type": "execute_result"
    }
   ],
   "source": [
    "y_pred = T.sgn(z)  # -1 or 1로 바꾸는 연산관계 정의\n",
    "y_pred_func = theano.function([X], y_pred)  # predict 함수 정의\n",
    "y_pred = y_pred_func(X_data)\n",
    "y_pred"
   ]
  },
  {
   "cell_type": "code",
   "execution_count": 44,
   "metadata": {},
   "outputs": [
    {
     "data": {
      "text/plain": [
       "array([[50,  0],\n",
       "       [ 0, 50]])"
      ]
     },
     "execution_count": 44,
     "metadata": {},
     "output_type": "execute_result"
    }
   ],
   "source": [
    "from sklearn.metrics import confusion_matrix\n",
    "confusion_matrix(y_data, y_pred)"
   ]
  },
  {
   "cell_type": "markdown",
   "metadata": {},
   "source": [
    "### 연습 문제 1\n",
    "\n",
    "위 퍼셉트론 코드를 다음과 같이 고쳐라.\n",
    "\n",
    "* y값은 0과 1이라는 값만 가진다.\n",
    "* 활성화 함수는 로지스틱 함수를 사용한다.\n",
    "* 코스트 함수는 다음과 같은 오차 제곱 함수를 사용한다.\n",
    "\n",
    "$$C = \\sum_{i=1}^N (y - \\hat{y})^2$$"
   ]
  },
  {
   "cell_type": "code",
   "execution_count": 45,
   "metadata": {},
   "outputs": [
    {
     "data": {
      "text/plain": [
       "((100, 2), (100,))"
      ]
     },
     "execution_count": 45,
     "metadata": {},
     "output_type": "execute_result"
    }
   ],
   "source": [
    "X_data = iris.data[idx, 0:2]\n",
    "y_data = iris.target[idx] / 2\n",
    "X_data.shape, y_data.shape"
   ]
  },
  {
   "cell_type": "code",
   "execution_count": 53,
   "metadata": {},
   "outputs": [
    {
     "data": {
      "text/plain": [
       "(array([-4.16757847e-04, -5.62668272e-05]), array(-0.0021362))"
      ]
     },
     "execution_count": 53,
     "metadata": {},
     "output_type": "execute_result"
    }
   ],
   "source": [
    "X = T.dmatrix('X')  # 심볼변수 X 정의\n",
    "y = T.dvector('y')  # 심볼변수 y 정의\n",
    "np.random.seed(2)\n",
    "w = theano.shared(0.001 * np.random.randn(2), name='w')\n",
    "b = theano.shared(0.001 * np.random.randn(1)[0], name='b')\n",
    "w.get_value(), b.get_value()"
   ]
  },
  {
   "cell_type": "code",
   "execution_count": 54,
   "metadata": {},
   "outputs": [],
   "source": [
    "p_1 = 1 / ( 1 + T.exp(-T.dot(X, w) - b))  # 로지스틱 연산관계 정의\n",
    "prediction = p_1 > 0.5                         # the prediction thresholded\n",
    "xent = -y * T.log(p_1) - (1 - y) * T.log(1 - p_1) # Cross-entropy loss function\n",
    "cost = xent.mean() + 0.01 * (w ** 2).sum()    # The cost to minimize\n",
    "gw, gb = T.grad(cost, [w, b])\n",
    "mu = 0.1\n",
    "\n",
    "# compile\n",
    "train = theano.function([X, y], outputs=[prediction, xent], updates=[(w, w-mu*gw), (b, b-mu*gb)])\n",
    "predict = theano.function(inputs=[X], outputs=[prediction])"
   ]
  },
  {
   "cell_type": "code",
   "execution_count": 55,
   "metadata": {},
   "outputs": [
    {
     "name": "stdout",
     "output_type": "stream",
     "text": [
      "Final model:\n",
      "[ 0.56823654 -0.93222845]\n",
      "-0.17365402854062426\n",
      "target values for X_data:\n",
      " [0. 0. 0. 0. 0. 0. 0. 0. 0. 0. 0. 0. 0. 0. 0. 0. 0. 0. 0. 0. 0. 0. 0. 0.\n",
      " 0. 0. 0. 0. 0. 0. 0. 0. 0. 0. 0. 0. 0. 0. 0. 0. 0. 0. 0. 0. 0. 0. 0. 0.\n",
      " 0. 0. 1. 1. 1. 1. 1. 1. 1. 1. 1. 1. 1. 1. 1. 1. 1. 1. 1. 1. 1. 1. 1. 1.\n",
      " 1. 1. 1. 1. 1. 1. 1. 1. 1. 1. 1. 1. 1. 1. 1. 1. 1. 1. 1. 1. 1. 1. 1. 1.\n",
      " 1. 1. 1. 1.]\n",
      "prediction on X_data:\n",
      " [array([False, False, False, False, False, False, False, False, False,\n",
      "       False, False, False, False, False, False, False, False, False,\n",
      "       False, False, False, False, False, False, False, False, False,\n",
      "       False, False, False, False, False, False, False, False, False,\n",
      "       False, False, False, False, False,  True, False, False, False,\n",
      "       False, False, False, False, False,  True,  True,  True,  True,\n",
      "        True,  True,  True,  True,  True,  True,  True,  True,  True,\n",
      "        True,  True,  True,  True,  True,  True,  True,  True,  True,\n",
      "        True,  True,  True,  True,  True,  True,  True,  True,  True,\n",
      "        True,  True,  True,  True,  True,  True,  True,  True,  True,\n",
      "        True,  True,  True,  True,  True,  True,  True,  True,  True,\n",
      "        True])]\n"
     ]
    }
   ],
   "source": [
    "# train\n",
    "cost_history = []\n",
    "\n",
    "for i in range(50):\n",
    "    pred, err = train(X_data, y_data)\n",
    "    cost_history.append(err)\n",
    "print(\"Final model:\")\n",
    "print(w.get_value())\n",
    "print(b.get_value())\n",
    "print(\"target values for X_data:\\n\", y_data)\n",
    "print(\"prediction on X_data:\\n\", predict(X_data))"
   ]
  },
  {
   "cell_type": "code",
   "execution_count": 60,
   "metadata": {},
   "outputs": [
    {
     "data": {
      "text/plain": [
       "array([[49,  1],\n",
       "       [ 0, 50]])"
      ]
     },
     "execution_count": 60,
     "metadata": {},
     "output_type": "execute_result"
    }
   ],
   "source": [
    "confusion_matrix(y_data, predict(X_data)[0])"
   ]
  },
  {
   "cell_type": "code",
   "execution_count": 61,
   "metadata": {},
   "outputs": [
    {
     "data": {
      "text/plain": [
       "((100,), (100,))"
      ]
     },
     "execution_count": 61,
     "metadata": {},
     "output_type": "execute_result"
    }
   ],
   "source": [
    "y_data.shape, predict(X_data)[0].shape"
   ]
  },
  {
   "cell_type": "code",
   "execution_count": null,
   "metadata": {},
   "outputs": [],
   "source": []
  }
 ],
 "metadata": {
  "kernelspec": {
   "display_name": "Python 3",
   "language": "python",
   "name": "python3"
  },
  "language_info": {
   "codemirror_mode": {
    "name": "ipython",
    "version": 3
   },
   "file_extension": ".py",
   "mimetype": "text/x-python",
   "name": "python",
   "nbconvert_exporter": "python",
   "pygments_lexer": "ipython3",
   "version": "3.7.3"
  }
 },
 "nbformat": 4,
 "nbformat_minor": 2
}
