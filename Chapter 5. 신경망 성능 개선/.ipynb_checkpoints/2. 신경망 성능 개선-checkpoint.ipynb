{
 "cells": [
  {
   "cell_type": "markdown",
   "metadata": {},
   "source": [
    "신경망의 예측 성능 및 수렴 성능을 개선하기 위해서는 다음과 같은 추가적인 고려를 해야 한다.\n",
    "\n",
    "* 크로스 엔트로피(cross-entropy) 오차함수\n",
    "* hyper-tangent and ReLu 활성화 함수\n",
    "* 가중치 초기값 정규화(Weight normalizatio )\n",
    "* Drop-out 정규화(Regularization)\n",
    "* Softmax 출력\n",
    "* 배치 정규화(Batch Normalization)"
   ]
  },
  {
   "cell_type": "markdown",
   "metadata": {},
   "source": [
    "### 1. 크로스 엔트로피 오차함수\n",
    "\n",
    "크로스 엔트로피(Cross-Entropy) 형태의 오차함수를 사용하면 출력 레이어에서 활성화 함수의 도함수에 의한 영향을 제거할 수 있다.\n",
    "\n",
    "\\begin{eqnarray} \n",
    "  C = y \\log z^{(L)} + (1-y) \\log (1-z^{(L)})\n",
    "\\end{eqnarray}\n",
    "\n",
    "이 경우 출력 레이어의 가중치에 대한 미분값은 다음과 같아진다.\n",
    "\n",
    "\\begin{eqnarray}\n",
    "\\frac{\\partial C}{\\partial w_j^{(L)}} \n",
    "&=& \\left(\\frac{y }{z^{(L)}} - \\frac{(1-y)}{1-z^{(L)}} \\right) \\frac{\\partial z^{(L)}}{\\partial w_j^{(L)}} \\\\\n",
    "&=& \\left(\\frac{y}{\\sigma(a)} - \\frac{(1-y)}{1-\\sigma(a)} \\right)\\sigma'(a) z^{(l-1)}_j \\\\\n",
    "&=& \\frac{\\sigma'(a) }{\\sigma(a) (1-\\sigma(a))} (\\sigma(a)-y) z^{(l-1)}_j  \\\\\n",
    "&=& (\\sigma(a)-y) z^{(l-1)}_j \\\\ \n",
    "&=& (z^{(L)}-y) z^{(l-1)}_j \\\\ \n",
    "\\\\\n",
    "\\frac{\\partial C}{\\partial b^{(L)}} &=&  z^{(L)} - y\n",
    "\\end{eqnarray}"
   ]
  },
  {
   "cell_type": "markdown",
   "metadata": {},
   "source": [
    "### Keras 에서 크로스 엔트로피 사용¶\n",
    "Keras에서는 compile 메서드의 **loss 인수**를 설정하여 **크로스 엔트로피를 포함한 다양한 오차함수를 사용할 수 있다**. loss 인수에서 설정 가능한 값 중 몇 가지 예를 들면 다음과 같다.\n",
    "\n",
    "* mean_squared_error\n",
    "* mean_squared_logarithmic_error\n",
    "* mean_absolute_error\n",
    "* mean_absolute_percentage_error\n",
    "* binary_crossentropy\n",
    "* categorical_crossentropy"
   ]
  },
  {
   "cell_type": "code",
   "execution_count": 1,
   "metadata": {},
   "outputs": [],
   "source": [
    "import tensorflow as tf\n",
    "tf.logging.set_verbosity(tf.logging.ERROR)\n",
    "\n",
    "from keras.datasets import mnist\n",
    "from keras.utils import np_utils\n",
    "from keras.models import Sequential\n",
    "from keras.layers.core import Dense\n",
    "from keras.optimizers import SGD"
   ]
  },
  {
   "cell_type": "code",
   "execution_count": 2,
   "metadata": {},
   "outputs": [],
   "source": [
    "(X_train0, y_train0), (X_test0, y_test0) = mnist.load_data()\n",
    "\n",
    "X_train = X_train0.reshape(-1, 28*28).astype('float32') / 255.0\n",
    "X_test = X_test0.reshape(-1, 28*28).astype('float32') / 255.0\n",
    "Y_train = np_utils.to_categorical(y_train0, 10)\n",
    "Y_test = np_utils.to_categorical(y_test0, 10)\n",
    "\n",
    "import numpy as np\n",
    "np.random.seed(0)\n",
    "model0 = Sequential()\n",
    "model0.add(Dense(15, input_dim=28*28, activation='sigmoid'))\n",
    "model0.add(Dense(10, activation='sigmoid'))\n",
    "model0.compile(optimizer=SGD(lr=0.2), loss='mean_squared_error', metrics=['accuracy'])"
   ]
  },
  {
   "cell_type": "code",
   "execution_count": 3,
   "metadata": {},
   "outputs": [
    {
     "name": "stdout",
     "output_type": "stream",
     "text": [
      "CPU times: user 44.1 s, sys: 4.85 s, total: 48.9 s\n",
      "Wall time: 34.2 s\n"
     ]
    }
   ],
   "source": [
    "%%time\n",
    "hist0 = model0.fit(X_train, Y_train, epochs=30, batch_size=100, validation_data=(X_test, Y_test), verbose=0)"
   ]
  },
  {
   "cell_type": "code",
   "execution_count": 4,
   "metadata": {},
   "outputs": [],
   "source": [
    "np.random.seed(0)\n",
    "model1 = Sequential()\n",
    "model1.add(Dense(15, input_dim=28*28, activation='sigmoid'))\n",
    "model1.add(Dense(10, activation='sigmoid'))\n",
    "model1.compile(optimizer=SGD(lr=0.2), loss='categorical_crossentropy', metrics=['accuracy'])"
   ]
  },
  {
   "cell_type": "code",
   "execution_count": 6,
   "metadata": {},
   "outputs": [
    {
     "name": "stdout",
     "output_type": "stream",
     "text": [
      "CPU times: user 42.3 s, sys: 5.79 s, total: 48.1 s\n",
      "Wall time: 28.7 s\n"
     ]
    }
   ],
   "source": [
    "%%time\n",
    "hist1 = model1.fit(X_train, Y_train, epochs=30, batch_size=100, validation_data=(X_test, Y_test), verbose=0)"
   ]
  },
  {
   "cell_type": "code",
   "execution_count": 7,
   "metadata": {},
   "outputs": [],
   "source": [
    "import warnings\n",
    "warnings.filterwarnings(action='ignore')\n",
    "\n",
    "import matplotlib.pylab as plt\n",
    "import matplotlib as mpl\n",
    "import matplotlib.font_manager as fm\n",
    "import seaborn as sns\n",
    "import numpy as np\n",
    "\n",
    "sns.set_style(\"whitegrid\")\n",
    "mpl.rcParams['axes.unicode_minus'] = False\n",
    "plt.rcParams['font.size'] = 12\n",
    "\n",
    "path = \"/Library/Fonts/NanumGothic.otf\"\n",
    "font_name = fm.FontProperties(fname=path, size=20).get_name()\n",
    "\n",
    "plt.rc('font', family=font_name)\n",
    "fm._rebuild()"
   ]
  },
  {
   "cell_type": "code",
   "execution_count": 9,
   "metadata": {},
   "outputs": [
    {
     "data": {
      "image/png": "[encoded data removed]",
      "text/plain": [
       "<Figure size 432x288 with 1 Axes>"
      ]
     },
     "metadata": {
      "needs_background": "light"
     },
     "output_type": "display_data"
    }
   ],
   "source": [
    "plt.plot(hist0.history['val_acc'], ls=\":\", label=\"평균제곱오차\")\n",
    "plt.plot(hist1.history['val_acc'], label=\"크로스 엔트로피\")\n",
    "plt.legend()\n",
    "plt.title(\"오차함수에 따른 성능차이(정밀도 차이)\")\n",
    "plt.show()"
   ]
  },
  {
   "cell_type": "markdown",
   "metadata": {},
   "source": [
    "### 2. 하이퍼탄젠트 활성화 함수\n",
    "\n",
    "활성화 함수로 로지스틱 함수 대신 하이퍼탄젠트(Hypertangent)를 사용하면 도함수의 최댓값이 로지스틱 함수의 4배인 1이 되므로 그레디언트 감소 현상이 줄어든다.\n",
    "\n",
    "\\begin{eqnarray}\n",
    "  \\tanh(a) \\equiv \\frac{e^a-e^{-a}}{e^a+e^{-a}} = 2\\sigma(2a) - 1\n",
    "\\end{eqnarray}"
   ]
  },
  {
   "cell_type": "code",
   "execution_count": 10,
   "metadata": {},
   "outputs": [],
   "source": [
    "def tanh(x):\n",
    "    return np.tanh(x)\n",
    "\n",
    "def tanh_prime(x):\n",
    "    return 1 - np.tanh(x) ** 2"
   ]
  },
  {
   "cell_type": "code",
   "execution_count": 11,
   "metadata": {},
   "outputs": [
    {
     "data": {
      "image/png": "[encoded data removed]",
      "text/plain": [
       "<Figure size 432x288 with 1 Axes>"
      ]
     },
     "metadata": {
      "needs_background": "light"
     },
     "output_type": "display_data"
    }
   ],
   "source": [
    "xx = np.linspace(-10, 10, 1000)\n",
    "plt.plot(xx, tanh(xx), 'b:', label=\"tanh(a)\")\n",
    "plt.plot(xx, tanh_prime(xx), 'g-', label=\"derivative of tanh(a)\")\n",
    "plt.legend()\n",
    "plt.show()"
   ]
  },
  {
   "cell_type": "markdown",
   "metadata": {},
   "source": [
    "### 3. Rectified Linear Unit (ReLu) 활성화 함수\n",
    "\n",
    "가장 좋은 방법은 Rectified Linear Unit (ReLu) 활성화 함수를 사용하는 것이다. ReLu는 가중치 총합  𝑎 가 큰 경우에도 기울기(gradient)가 1로 유지되므로  𝑎 이 커도 그레디언트 감소 현상이 발생하지 않는다. CNN과 같이 레이어의 수가 많은 경우에 유용하다.\n",
    "\n",
    "\\begin{eqnarray}\n",
    "  \\max(0, a)\n",
    "\\end{eqnarray}\n",
    "\n",
    "𝑎 가 음수인 경우에도 기울기가 0이 되지 않도록 하는 Leaky ReLu도 사용한다.\n",
    "\n",
    "\\begin{eqnarray}\n",
    "  \\max(\\alpha a, a) \\;\\; (0 < \\alpha < 1)\n",
    "\\end{eqnarray}"
   ]
  },
  {
   "cell_type": "code",
   "execution_count": 12,
   "metadata": {},
   "outputs": [
    {
     "data": {
      "image/png": "[encoded data removed]",
      "text/plain": [
       "<Figure size 432x288 with 1 Axes>"
      ]
     },
     "metadata": {
      "needs_background": "light"
     },
     "output_type": "display_data"
    }
   ],
   "source": [
    "a = np.linspace(-5, 5, 100)\n",
    "relu = np.maximum(0, a)\n",
    "leakrelu = np.maximum(0.1 * a, a)\n",
    "plt.plot(a, relu, 'r-', label='Relu')\n",
    "plt.plot(a, leakrelu, 'g--', label='leak Relu ($\\\\alpha=0.1$)')\n",
    "plt.title(\"Relu and Leak Relu\")\n",
    "plt.legend()\n",
    "plt.show()"
   ]
  },
  {
   "cell_type": "markdown",
   "metadata": {},
   "source": [
    "Keras에서는 Dense 네트워크를 생성할 때 activation 인수의 값을 바꿀 수 있다.\n",
    "\n",
    "* sigmoid\n",
    "* tanh\n",
    "* relu"
   ]
  },
  {
   "cell_type": "code",
   "execution_count": 13,
   "metadata": {},
   "outputs": [],
   "source": [
    "np.random.seed(0)\n",
    "model2 = Sequential()\n",
    "model2.add(Dense(15, input_dim=28*28, activation='tanh'))\n",
    "model2.add(Dense(10, activation='sigmoid'))\n",
    "model2.compile(optimizer=SGD(lr=0.2), loss='mean_squared_error', metrics=['accuracy'])"
   ]
  },
  {
   "cell_type": "code",
   "execution_count": 15,
   "metadata": {},
   "outputs": [
    {
     "name": "stdout",
     "output_type": "stream",
     "text": [
      "CPU times: user 36.9 s, sys: 4.98 s, total: 41.9 s\n",
      "Wall time: 24.5 s\n"
     ]
    }
   ],
   "source": [
    "%%time\n",
    "hist2 = model2.fit(X_train, Y_train, validation_data=(X_test, Y_test), epochs=30, batch_size=100, verbose=0)"
   ]
  },
  {
   "cell_type": "code",
   "execution_count": 16,
   "metadata": {},
   "outputs": [],
   "source": [
    "np.random.seed(0)\n",
    "model3 = Sequential()\n",
    "model3.add(Dense(15, input_dim=28*28, activation='relu'))\n",
    "model3.add(Dense(10, activation='sigmoid'))\n",
    "model3.compile(optimizer=SGD(lr=0.2), loss='mean_squared_error', metrics=['accuracy'])"
   ]
  },
  {
   "cell_type": "code",
   "execution_count": 17,
   "metadata": {},
   "outputs": [
    {
     "name": "stdout",
     "output_type": "stream",
     "text": [
      "CPU times: user 41.8 s, sys: 5.06 s, total: 46.9 s\n",
      "Wall time: 31 s\n"
     ]
    }
   ],
   "source": [
    "%%time\n",
    "hist3 = model3.fit(X_train, Y_train, epochs=30, batch_size=100, validation_data=(X_test, Y_test), verbose=0)"
   ]
  },
  {
   "cell_type": "code",
   "execution_count": 18,
   "metadata": {},
   "outputs": [
    {
     "data": {
      "image/png": "[encoded data removed]",
      "text/plain": [
       "<Figure size 432x288 with 1 Axes>"
      ]
     },
     "metadata": {
      "needs_background": "light"
     },
     "output_type": "display_data"
    }
   ],
   "source": [
    "plt.plot(hist0.history['val_acc'], 'b:', label='logistic')\n",
    "plt.plot(hist2.history['val_acc'], 'g--', label='tanh')\n",
    "plt.plot(hist3.history['val_acc'], 'r-', label='relu')\n",
    "plt.legend()\n",
    "plt.show()"
   ]
  },
  {
   "cell_type": "markdown",
   "metadata": {},
   "source": [
    "성능이 tahn 가 가장 빠르게 높은 정밀도에 수렴된다."
   ]
  },
  {
   "cell_type": "markdown",
   "metadata": {},
   "source": [
    "### 4. 초기 가중치 정규화\n",
    "\n",
    "활성화값  𝑎 는 입력변수 벡터  𝑥 와 가중치 벡터  𝑤 의 내적이다.\n",
    "\n",
    "$$a = w^Tx$$\n",
    "\n",
    "가중치 벡터  𝑤 의 초기값은 가우시안 정규 분포 또는 유니폼 분포에 따라 무작위로 설정하는데\n",
    "\n",
    "정규분포 표본의 합의 표준편차는 표본 수의 제곱근에 비례하므로 입력변수 벡터  𝑥 의 차원이 증가하면 활성화값  𝑎  값의 표준편차(standard deviation)도 증가한다.\n",
    "\n",
    "$$\\text{std}(a) \\propto \\sqrt{n_{in}}$$\n",
    "\n",
    "예를 들어 1000개의 픽셀로 이루어진 이미지 입력을 사용하는 경우를 가정해 보자. 만약 이미지를 구성하는 픽셀의 절반 정도가 1(검은색)이라는 값을 가지고 나머지 절반 정도가 0(흰색)을 가진다면 활성화값  𝑎 는 500개의 가우시안 정규 분포 표본의 합이 된다. 약 22.4이다.\n",
    "\n",
    "$$\\sqrt{500} \\approx 22.4$$"
   ]
  },
  {
   "cell_type": "code",
   "execution_count": 22,
   "metadata": {},
   "outputs": [
    {
     "data": {
      "image/png": "[encoded data removed]",
      "text/plain": [
       "<Figure size 432x288 with 1 Axes>"
      ]
     },
     "metadata": {
      "needs_background": "light"
     },
     "output_type": "display_data"
    }
   ],
   "source": [
    "np.random.seed(0)\n",
    "sns.distplot(np.random.randn(500, 10000).sum(axis=0)) # shape=(500, 10000) 가우시안 분포\n",
    "plt.title(\"활성화 값의 분포\")\n",
    "plt.xlim(-100, 100)\n",
    "plt.show()"
   ]
  },
  {
   "cell_type": "markdown",
   "metadata": {},
   "source": [
    "**이렇게 표준 편차가 크면 수렴이 느려지기 때문에 입력 수에 따라 초기화 가중치의 표준편차를 감소하는 초기화 값 조정이 필요하다.** 2010년 Xavier Glorot는 반복 실험을 통해 다음과 같은 폭을 가진 유니폼 분포를 추천하였다.\n",
    "\n",
    "$$w \\sim \\text{uniform}(-\\text{limit},\\text{limit})$$\n",
    "\n",
    "$$\\text{limit} = \\sqrt{\\dfrac{6}{(n_{\\text{in}} + n_{\\text{out}})}}$$"
   ]
  },
  {
   "cell_type": "markdown",
   "metadata": {},
   "source": [
    "Keras에서는 **kernel_initializer** 인수로 가중치 초기화 방법을 바꿀 수 있다. 가능한 인수는 다음과 같은 것들이 있다.\n",
    "\n",
    "* random_uniform\n",
    "* random_normal\n",
    "* glorot_uniform\n",
    "* glorot_normal\n",
    "* lecun_uniform\n",
    "* lecun_normal"
   ]
  },
  {
   "cell_type": "code",
   "execution_count": 30,
   "metadata": {},
   "outputs": [],
   "source": [
    "np.random.seed(0)\n",
    "\n",
    "model4 = Sequential()\n",
    "model4.add(Dense(100, kernel_initializer='normal', activation='sigmoid', input_dim=28*28))\n",
    "model4.add(Dense(10, kernel_initializer='normal', activation='sigmoid'))\n",
    "model4.compile(optimizer=SGD(lr=0.2), loss='categorical_crossentropy', metrics=['accuracy'])"
   ]
  },
  {
   "cell_type": "code",
   "execution_count": 31,
   "metadata": {},
   "outputs": [
    {
     "name": "stdout",
     "output_type": "stream",
     "text": [
      "CPU times: user 1min 22s, sys: 7.51 s, total: 1min 29s\n",
      "Wall time: 45.1 s\n"
     ]
    }
   ],
   "source": [
    "%%time\n",
    "hist4 = model4.fit(X_train, Y_train, epochs=30, batch_size=100, validation_data=(X_test, Y_test), verbose=0)"
   ]
  },
  {
   "cell_type": "code",
   "execution_count": 32,
   "metadata": {},
   "outputs": [],
   "source": [
    "np.random.seed(0)\n",
    "model5 = Sequential()\n",
    "model5.add(Dense(100, kernel_initializer='glorot_uniform', input_dim=28*28, activation='sigmoid'))\n",
    "model5.add(Dense(10, kernel_initializer='glorot_uniform', activation='sigmoid'))\n",
    "model5.compile(optimizer=SGD(lr=0.2), loss='categorical_crossentropy', metrics=['accuracy'])"
   ]
  },
  {
   "cell_type": "code",
   "execution_count": 33,
   "metadata": {},
   "outputs": [
    {
     "name": "stdout",
     "output_type": "stream",
     "text": [
      "CPU times: user 1min 21s, sys: 7.52 s, total: 1min 29s\n",
      "Wall time: 44.2 s\n"
     ]
    }
   ],
   "source": [
    "%%time\n",
    "hist5 = model5.fit(X_train, Y_train, epochs=30, batch_size=100, validation_data=(X_test, Y_test), verbose=0)"
   ]
  },
  {
   "cell_type": "code",
   "execution_count": 34,
   "metadata": {},
   "outputs": [
    {
     "data": {
      "image/png": "[encoded data removed]",
      "text/plain": [
       "<Figure size 432x288 with 1 Axes>"
      ]
     },
     "metadata": {
      "needs_background": "light"
     },
     "output_type": "display_data"
    }
   ],
   "source": [
    "plt.plot(hist4.history['acc'], label='normal')\n",
    "plt.plot(hist5.history['acc'], label='glorot_uniform')\n",
    "plt.legend()\n",
    "plt.show()"
   ]
  },
  {
   "cell_type": "markdown",
   "metadata": {},
   "source": [
    "### 5. 과최적화 문제\n",
    "\n",
    "신경망 모형은 파라미터의 수가 다른 모형에 비해 많다. 이렇게 파라미터의 수가 많으면 과최적화 발생 가능성이 증가한다. 즉, 정확도가 나아지지 않거나 나빠져도 오차 함수는 계속 감소하는 현상이 발생한다."
   ]
  },
  {
   "cell_type": "code",
   "execution_count": 35,
   "metadata": {},
   "outputs": [],
   "source": [
    "np.random.seed(0)\n",
    "model6 = Sequential()\n",
    "model6.add(Dense(30, input_dim=28*28, activation='sigmoid'))\n",
    "model6.add(Dense(10, activation='sigmoid'))\n",
    "model6.compile(optimizer=SGD(lr=0.5), loss='categorical_crossentropy', metrics=['accuracy'])"
   ]
  },
  {
   "cell_type": "code",
   "execution_count": 36,
   "metadata": {},
   "outputs": [
    {
     "name": "stdout",
     "output_type": "stream",
     "text": [
      "CPU times: user 55.7 s, sys: 6.66 s, total: 1min 2s\n",
      "Wall time: 34.6 s\n"
     ]
    }
   ],
   "source": [
    "%%time\n",
    "hist6 = model6.fit(X_train, Y_train, epochs=30, batch_size=100, validation_data=(X_test, Y_test), verbose=0)"
   ]
  },
  {
   "cell_type": "code",
   "execution_count": 38,
   "metadata": {},
   "outputs": [
    {
     "data": {
      "image/png": "[encoded data removed]",
      "text/plain": [
       "<Figure size 432x288 with 2 Axes>"
      ]
     },
     "metadata": {
      "needs_background": "light"
     },
     "output_type": "display_data"
    }
   ],
   "source": [
    "plt.subplot(211)\n",
    "plt.plot(hist6.history['loss'], label='loss')\n",
    "plt.legend()\n",
    "plt.title('loss')\n",
    "plt.subplot(212)\n",
    "plt.plot(hist6.history['acc'], label='training accuracy')\n",
    "plt.plot(hist6.history['val_acc'], label='test accuracy')\n",
    "plt.legend()\n",
    "plt.title(\"accuracy\")\n",
    "plt.tight_layout()\n",
    "plt.show()"
   ]
  },
  {
   "cell_type": "markdown",
   "metadata": {},
   "source": [
    "test 정밀도가 트레이닝 정밀도가 낮다는 것은 과최적화의 문제이다."
   ]
  },
  {
   "cell_type": "markdown",
   "metadata": {},
   "source": [
    "### L1, L2 정규화 : 오차함수의 정규화(일반화)\n",
    "\n",
    "L1 정규화는 오차 함수에 가중치 행렬의 L1 놈을 추가하는 방법이다.\n",
    "\n",
    "$$C = - (y \\log z+(1-y) \\log(1-z)) + \\lambda \\sum_i |w_i|$$\n",
    "\n",
    "L2 정규화는 오차 함수에 가중치 행렬의 L2 놈을 추가한다.\n",
    "\n",
    "$$C = - (y \\log z+(1-y) \\log(1-z)) + \\lambda \\sum_i w_i^2$$\n",
    "\n",
    "Keras에서는 레이어 생성시에 kernel_regularizer 인수로 regularizers 서브패키지의 l1, l2 regularizer 객체를 넣어서 L1, L2 정규화를 구현한다."
   ]
  },
  {
   "cell_type": "code",
   "execution_count": 39,
   "metadata": {},
   "outputs": [],
   "source": [
    "from keras import regularizers\n",
    "\n",
    "np.random.seed(0)\n",
    "model7 = Sequential()\n",
    "model7.add(Dense(30, input_dim=28*28, kernel_regularizer=regularizers.l2(0.001), activation='sigmoid'))\n",
    "model7.add(Dense(10, activation='sigmoid'))\n",
    "model7.compile(optimizer=SGD(lr=0.5), loss='categorical_crossentropy', metrics=['accuracy'])"
   ]
  },
  {
   "cell_type": "code",
   "execution_count": 40,
   "metadata": {},
   "outputs": [
    {
     "name": "stdout",
     "output_type": "stream",
     "text": [
      "CPU times: user 57.6 s, sys: 7.09 s, total: 1min 4s\n",
      "Wall time: 35.5 s\n"
     ]
    }
   ],
   "source": [
    "%%time\n",
    "hist7 = model7.fit(X_train, Y_train, epochs=30, batch_size=100, validation_data=(X_test, Y_test), verbose=0)"
   ]
  },
  {
   "cell_type": "code",
   "execution_count": 42,
   "metadata": {},
   "outputs": [
    {
     "data": {
      "image/png": "[encoded data removed]",
      "text/plain": [
       "<Figure size 432x288 with 2 Axes>"
      ]
     },
     "metadata": {
      "needs_background": "light"
     },
     "output_type": "display_data"
    }
   ],
   "source": [
    "plt.subplot(211)\n",
    "plt.plot(hist7.history['loss'], label='loss')\n",
    "plt.legend()\n",
    "plt.title('loss')\n",
    "plt.subplot(212)\n",
    "plt.plot(hist7.history['acc'], label='training accuracy')\n",
    "plt.plot(hist7.history['val_acc'], label='test accuracy')\n",
    "plt.legend()\n",
    "plt.title('accuracy')\n",
    "plt.tight_layout()\n",
    "plt.show()"
   ]
  },
  {
   "cell_type": "markdown",
   "metadata": {},
   "source": [
    "트레인닝 성능과 테스트 성능이 비슷해졌다."
   ]
  },
  {
   "cell_type": "markdown",
   "metadata": {},
   "source": [
    "### Dropout 정규화\n",
    "\n",
    "Dropout 정규화 방법은 이러한 문제를 해결하기 위해 에포크 마다 임의의 은닉계층 뉴런의  𝑝 %를(보통 절반) dropout 하여 최적화 과정에 포함하지 않는 방법이다. 이 방법을 사용하면 가중치 값들이 특정한 뉴런에만 집중되는 것을 방지하여 정규화 효과를 가져다 준다.\n",
    "\n",
    "[그림] Dropout: https://datascienceschool.net/upfiles/88b2bf7f587a493d99c6f27c06731bf3.png\n",
    "\n",
    "테스트 시점에는 가중치에  𝑝 를 곱하여 스케일링한다.\n",
    "\n",
    "[그림] 트레이닝 / 테스트 시의 Dropout : https://datascienceschool.net/upfiles/49d909b76da1454f80592241633dbbcb.png"
   ]
  },
  {
   "cell_type": "code",
   "execution_count": 43,
   "metadata": {},
   "outputs": [],
   "source": [
    "from keras.layers import Dropout\n",
    "\n",
    "np.random.seed(0)\n",
    "model8 = Sequential()\n",
    "model8.add(Dense(30, input_dim=28*28, activation='sigmoid'))\n",
    "model8.add(Dropout(0.1)) # 0.1만 사용\n",
    "model8.add(Dense(10, activation='sigmoid'))\n",
    "model8.compile(optimizer=SGD(lr=0.5), loss='categorical_crossentropy', metrics=['accuracy'])"
   ]
  },
  {
   "cell_type": "code",
   "execution_count": 45,
   "metadata": {},
   "outputs": [
    {
     "name": "stdout",
     "output_type": "stream",
     "text": [
      "CPU times: user 1min, sys: 7.5 s, total: 1min 8s\n",
      "Wall time: 37.9 s\n"
     ]
    }
   ],
   "source": [
    "%%time\n",
    "hist8 = model8.fit(X_train, Y_train, epochs=30, batch_size=100, validation_data=(X_test, Y_test), verbose=0)"
   ]
  },
  {
   "cell_type": "code",
   "execution_count": 46,
   "metadata": {},
   "outputs": [
    {
     "data": {
      "image/png": "[encoded data removed]",
      "text/plain": [
       "<Figure size 432x288 with 2 Axes>"
      ]
     },
     "metadata": {
      "needs_background": "light"
     },
     "output_type": "display_data"
    }
   ],
   "source": [
    "plt.subplot(211)\n",
    "plt.plot(hist8.history['loss'], label='loss')\n",
    "plt.legend()\n",
    "plt.title('loss')\n",
    "plt.subplot(212)\n",
    "plt.plot(hist8.history['acc'], label='training accuracy')\n",
    "plt.plot(hist8.history['val_acc'], label='test accuracy')\n",
    "plt.legend()\n",
    "plt.title('accuracy')\n",
    "plt.tight_layout()\n",
    "plt.show()"
   ]
  },
  {
   "cell_type": "markdown",
   "metadata": {},
   "source": [
    "Dropout의 경우 test의 정밀도가 더 높다."
   ]
  },
  {
   "cell_type": "markdown",
   "metadata": {},
   "source": [
    "### 소프트맥스 출력\n",
    "\n",
    "소프트맥스(softmax) 함수는 입력과 출력이 다변수(multiple variable) 인 함수이다. 최고 출력의 위치를 변화하지 않으면서 츨력의 합이 1이 되도록 조정하기 때문에 출력에 확률론적 의미를 부여할 수 있다. 보통 신경망의 최종 출력단에 적용한다.\n",
    "\n",
    "\\begin{eqnarray} \n",
    "  y^L_j = \\frac{e^{a^L_j}}{\\sum_k e^{a^L_k}},\n",
    "\\end{eqnarray}\n",
    "\n",
    "\\begin{eqnarray}\n",
    "  \\sum_j y^L_j & = & \\frac{\\sum_j e^{a^L_j}}{\\sum_k e^{a^L_k}} = 1\n",
    "\\end{eqnarray}"
   ]
  },
  {
   "cell_type": "code",
   "execution_count": 47,
   "metadata": {},
   "outputs": [],
   "source": [
    "from ipywidgets import interactive\n",
    "from IPython.display import Audio, display"
   ]
  },
  {
   "cell_type": "code",
   "execution_count": 48,
   "metadata": {},
   "outputs": [
    {
     "data": {
      "application/vnd.jupyter.widget-view+json": {
       "model_id": "75df4760741f4c00a9c240c041e98f92",
       "version_major": 2,
       "version_minor": 0
      },
      "text/plain": [
       "interactive(children=(FloatSlider(value=0.0, description='z1', max=5.0, min=-3.0, step=0.01), FloatSlider(valu…"
      ]
     },
     "metadata": {},
     "output_type": "display_data"
    }
   ],
   "source": [
    "def softmax_plot(z1=0, z2=0, z3=0, z4=0):\n",
    "    exps = np.array([np.exp(z1), np.exp(z2), np.exp(z3), np.exp(z4)])\n",
    "    exp_sum = exps.sum()\n",
    "    plt.bar(range(len(exps)), exps/exp_sum, align='center') # 확률 p \n",
    "    plt.ylim(0, 1)\n",
    "    plt.xticks([])\n",
    "    \n",
    "    \n",
    "v = interactive(softmax_plot, z1=(-3, 5, 0.01), z2=(-3, 5, 0.01), z3=(-3, 5, 0.01), z4=(-3, 5, 0.01))\n",
    "display(v)"
   ]
  },
  {
   "cell_type": "markdown",
   "metadata": {},
   "source": [
    "**Keras에서 출력단의 소프트맥스 활성화 함수는 activation 인수의 값을 \"softmax\"로 지정하여 구현한다.**"
   ]
  },
  {
   "cell_type": "code",
   "execution_count": 49,
   "metadata": {},
   "outputs": [],
   "source": [
    "np.random.seed(0)\n",
    "model9 = Sequential()\n",
    "model9.add(Dense(15, input_dim=28*28, activation='sigmoid', kernel_initializer='glorot_uniform')) \n",
    "model9.add(Dense(10, activation='softmax', kernel_initializer='glorot_uniform'))\n",
    "model9.compile(optimizer=SGD(lr=0.2), loss='categorical_crossentropy', metrics=['accuracy'])"
   ]
  },
  {
   "cell_type": "code",
   "execution_count": 50,
   "metadata": {},
   "outputs": [
    {
     "name": "stdout",
     "output_type": "stream",
     "text": [
      "CPU times: user 1min 46s, sys: 17.4 s, total: 2min 4s\n",
      "Wall time: 1min 12s\n"
     ]
    }
   ],
   "source": [
    "%%time\n",
    "hist9 = model9.fit(X_train, Y_train, epochs=10, batch_size=10, verbose=0)"
   ]
  },
  {
   "cell_type": "code",
   "execution_count": 53,
   "metadata": {},
   "outputs": [
    {
     "data": {
      "image/png": "[encoded data removed]",
      "text/plain": [
       "<Figure size 432x288 with 2 Axes>"
      ]
     },
     "metadata": {
      "needs_background": "light"
     },
     "output_type": "display_data"
    }
   ],
   "source": [
    "k = 1\n",
    "y8 = model8.predict(X_test[k:k+1, :])[0]\n",
    "y9 = model9.predict(X_test[k:k+1, :])[0]\n",
    "\n",
    "plt.subplot(211)\n",
    "plt.bar(range(len(y8)), y8, align='center')\n",
    "plt.subplot(212)\n",
    "plt.bar(range(len(y9)), y9, align='center')\n",
    "plt.ylim(0, 0.8)\n",
    "plt.tight_layout()\n",
    "plt.show()"
   ]
  },
  {
   "cell_type": "code",
   "execution_count": 56,
   "metadata": {},
   "outputs": [
    {
     "data": {
      "text/plain": [
       "0.0027136158"
      ]
     },
     "execution_count": 56,
     "metadata": {},
     "output_type": "execute_result"
    }
   ],
   "source": [
    "y8.sum()"
   ]
  },
  {
   "cell_type": "code",
   "execution_count": 57,
   "metadata": {},
   "outputs": [
    {
     "data": {
      "text/plain": [
       "0.99999994"
      ]
     },
     "execution_count": 57,
     "metadata": {},
     "output_type": "execute_result"
    }
   ],
   "source": [
    "y9.sum()"
   ]
  },
  {
   "cell_type": "markdown",
   "metadata": {},
   "source": [
    "### 배치 정규화\n",
    "\n",
    "배치 정규화(Batch Normalization)은 미니배치 만큼의 트레이닝이 끝날 때마다  𝑎 의 평균과 분산을 계산해서 평균 0, 분산 1이 되도록 스케일링을 해주고 학습하는 파라미터  𝛾,𝛽  를 각각 곱하고 더해준다.\n",
    "\n",
    "[그림] 배치 정규화 : https://datascienceschool.net/upfiles/9da98154ea4044cea17a02fd5755cd57.png\n",
    "\n",
    "Keras에서 배치 정규화는 레이어 뒤에 BatchNormalization 객체를 추가하여 구현한다. 다만 이 경우에는 활성화 함수를 BatchNormalization 객체 뒤에 명시적으로 추가해야 한다."
   ]
  },
  {
   "cell_type": "code",
   "execution_count": 58,
   "metadata": {},
   "outputs": [],
   "source": [
    "from keras.layers import Activation, BatchNormalization\n",
    "\n",
    "np.random.seed(0)\n",
    "model10 = Sequential()\n",
    "model10.add(Dense(15, input_dim=28*28))\n",
    "model10.add(BatchNormalization())\n",
    "model10.add(Activation('sigmoid'))\n",
    "model10.add(Dense(10))\n",
    "model10.add(BatchNormalization())\n",
    "model10.add(Activation('sigmoid'))\n",
    "model10.compile(optimizer=SGD(lr=0.2), loss='mean_squared_error', metrics=['accuracy'])"
   ]
  },
  {
   "cell_type": "code",
   "execution_count": 59,
   "metadata": {},
   "outputs": [
    {
     "name": "stdout",
     "output_type": "stream",
     "text": [
      "CPU times: user 1min 10s, sys: 13.9 s, total: 1min 24s\n",
      "Wall time: 46.5 s\n"
     ]
    }
   ],
   "source": [
    "%%time\n",
    "hist10 = model10.fit(X_train, Y_train, epochs=30, batch_size=100, validation_data=(X_test, Y_test), verbose=0)"
   ]
  },
  {
   "cell_type": "code",
   "execution_count": 60,
   "metadata": {},
   "outputs": [
    {
     "data": {
      "image/png": "[encoded data removed]",
      "text/plain": [
       "<Figure size 432x288 with 1 Axes>"
      ]
     },
     "metadata": {
      "needs_background": "light"
     },
     "output_type": "display_data"
    }
   ],
   "source": [
    "plt.plot(hist0.history['val_acc'], ls=\":\", label='배치 정규화 하지 않은 경우')\n",
    "plt.plot(hist10.history['val_acc'], label=\"배치 정규화한 경우\")\n",
    "plt.legend()\n",
    "plt.show()"
   ]
  },
  {
   "cell_type": "markdown",
   "metadata": {},
   "source": [
    "배치 정규화한 경우 빠르게 성능이 높게 수렴한다."
   ]
  },
  {
   "cell_type": "code",
   "execution_count": null,
   "metadata": {},
   "outputs": [],
   "source": []
  }
 ],
 "metadata": {
  "kernelspec": {
   "display_name": "Python 3",
   "language": "python",
   "name": "python3"
  },
  "language_info": {
   "codemirror_mode": {
    "name": "ipython",
    "version": 3
   },
   "file_extension": ".py",
   "mimetype": "text/x-python",
   "name": "python",
   "nbconvert_exporter": "python",
   "pygments_lexer": "ipython3",
   "version": "3.7.3"
  }
 },
 "nbformat": 4,
 "nbformat_minor": 2
}
