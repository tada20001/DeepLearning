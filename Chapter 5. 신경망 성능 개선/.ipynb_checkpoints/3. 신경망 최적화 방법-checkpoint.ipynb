{
 "cells": [
  {
   "cell_type": "markdown",
   "metadata": {},
   "source": [
    "## 기본 Gradient 방법\n",
    "\n",
    "$$w_{k+1} = w_k - \\mu_k g(w_k) = w_k - v_k$$\n",
    "\n",
    "### 1. Decay\n",
    "* 스텝 사이즈를 감소시킨다\n",
    "\n",
    "$$\\mu_{k+1} = \\mu_{k} \\dfrac{1}{1 + \\text{decay}}$$\n",
    "\n",
    "[그림] Decay : https://datascienceschool.net/upfiles/9a3ba4fa93b14a398c5cf5929db6c34c.png"
   ]
  },
  {
   "cell_type": "markdown",
   "metadata": {},
   "source": [
    "### 2. Momentum\n",
    "\n",
    "* 진행하던 방향으로 계속 진행\n",
    "\n",
    "$$v_{k+1} = \\text{momentum} \\cdot v_k - \\mu_k g(w_k)$$\n",
    "\n",
    "[그림] Momentum : https://datascienceschool.net/upfiles/c9b98b7d3b2e43d89f94d2752aa20544.png"
   ]
  },
  {
   "cell_type": "markdown",
   "metadata": {},
   "source": [
    "### 3. Nesterov momentum\n",
    "Momentum 방식으로 이동한 후의 그레디언트를 이용\n",
    "\n",
    "$$v_{k+1} = \\text{momentum} \\cdot v_k - \\mu_k g(w_k + \\text{momentum} \\cdot v_k)$$\n",
    "\n",
    "[그림] Nesterov momentum : https://datascienceschool.net/upfiles/7c07536ef8df4ef89701563afc50958d.png"
   ]
  },
  {
   "cell_type": "markdown",
   "metadata": {},
   "source": [
    "### 4. Adagrad\n",
    "\n",
    "* Adaptive gradient 방법\n",
    "* 많이 이동한 가중치는 적게 변화\n",
    "\n",
    "$$G_{k+1} = G_k + g^2$$\n",
    "\n",
    "$$w_{k+1} = w_k - \\dfrac{\\mu_k}{\\sqrt{G_k + \\epsilon}} g(w_k)$$\n",
    "\n",
    "[그림] Adagrad: https://datascienceschool.net/upfiles/e2ea51859d9c4d7aa733ef8ccb4bc31f.png"
   ]
  },
  {
   "cell_type": "markdown",
   "metadata": {},
   "source": [
    "### 5. RMSProp\n",
    "\n",
    "* 누적 변화를 지수 평균으로 계산\n",
    "\n",
    "$$G_{k+1} = \\gamma G_k + (1 - \\gamma) g^2$$\n",
    "\n",
    "$$w_{k+1} = w_k - \\dfrac{\\mu_k}{\\sqrt{G_k + \\epsilon}} g(w_k)$$\n",
    "\n",
    "[그림] RMSProp : https://datascienceschool.net/upfiles/42aaeb439f92442092325fc41f4acdb5.png "
   ]
  },
  {
   "cell_type": "markdown",
   "metadata": {},
   "source": [
    "### 6. AdaDelta\n",
    "\n",
    "* 스텝 사이즈도 가중치의 누적 변화에 따라 감소\n",
    "\n",
    "$$G_{k+1} = \\gamma G_k + (1 - \\gamma) g^2$$\n",
    "\n",
    "$$\\mu_{k+1} = \\gamma \\mu_k + (1 - \\gamma) \\Delta_k^2$$\n",
    "\n",
    "$$\\Delta_k = \\dfrac{\\sqrt{\\mu_k + \\epsilon}}{\\sqrt{G_k + \\epsilon}} g(w_k)$$\n",
    "\n",
    "$$w_{k+1} = w_k - \\Delta_k$$\n",
    "\n",
    "[그림] AdaDelta : https://datascienceschool.net/upfiles/0e4cbad34cce44fa8a3e5581f631dbfd.png"
   ]
  },
  {
   "cell_type": "markdown",
   "metadata": {},
   "source": [
    "### 7. Adam\n",
    "\n",
    "* Adaptive momentum 방법"
   ]
  },
  {
   "cell_type": "code",
   "execution_count": null,
   "metadata": {},
   "outputs": [],
   "source": []
  }
 ],
 "metadata": {
  "kernelspec": {
   "display_name": "Python 3",
   "language": "python",
   "name": "python3"
  },
  "language_info": {
   "codemirror_mode": {
    "name": "ipython",
    "version": 3
   },
   "file_extension": ".py",
   "mimetype": "text/x-python",
   "name": "python",
   "nbconvert_exporter": "python",
   "pygments_lexer": "ipython3",
   "version": "3.7.3"
  }
 },
 "nbformat": 4,
 "nbformat_minor": 2
}
